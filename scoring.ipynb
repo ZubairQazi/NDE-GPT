{
 "cells": [
  {
   "cell_type": "code",
   "execution_count": 2,
   "metadata": {},
   "outputs": [
    {
     "name": "stderr",
     "output_type": "stream",
     "text": [
      "/Users/zubairqazi/miniconda3/envs/nde_gpt/lib/python3.10/site-packages/pydantic/_internal/_config.py:321: UserWarning: Valid config keys have changed in V2:\n",
      "* 'underscore_attrs_are_private' has been removed\n",
      "  warnings.warn(message, UserWarning)\n"
     ]
    }
   ],
   "source": [
    "import pandas as pd \n",
    "import numpy as np  \n",
    "import matplotlib.pyplot as plt\n",
    "import text2term\n",
    "\n",
    "import ast\n",
    "import csv\n",
    "\n",
    "from collections import Counter, deque"
   ]
  },
  {
   "cell_type": "code",
   "execution_count": 14,
   "metadata": {},
   "outputs": [],
   "source": [
    "dataset = pd.read_csv('datasets/staging_test_set.csv').rename(columns={'EDAM Topics': 'Old EDAM Topics'})"
   ]
  },
  {
   "cell_type": "code",
   "execution_count": 15,
   "metadata": {},
   "outputs": [
    {
     "data": {
      "text/html": [
       "<div>\n",
       "<style scoped>\n",
       "    .dataframe tbody tr th:only-of-type {\n",
       "        vertical-align: middle;\n",
       "    }\n",
       "\n",
       "    .dataframe tbody tr th {\n",
       "        vertical-align: top;\n",
       "    }\n",
       "\n",
       "    .dataframe thead th {\n",
       "        text-align: right;\n",
       "    }\n",
       "</style>\n",
       "<table border=\"1\" class=\"dataframe\">\n",
       "  <thead>\n",
       "    <tr style=\"text-align: right;\">\n",
       "      <th></th>\n",
       "      <th>PMID</th>\n",
       "      <th>Description</th>\n",
       "      <th>Abstract</th>\n",
       "      <th>MeSH Terms</th>\n",
       "      <th>Filtered MeSH Terms</th>\n",
       "      <th>Old EDAM Topics</th>\n",
       "    </tr>\n",
       "  </thead>\n",
       "  <tbody>\n",
       "    <tr>\n",
       "      <th>0</th>\n",
       "      <td>18270564</td>\n",
       "      <td>Comparative expression analysis on Plasmodium ...</td>\n",
       "      <td>A fundamental problem in systems biology and w...</td>\n",
       "      <td>['*Gene Expression Profiling', '*Genome, Proto...</td>\n",
       "      <td>['Animals', 'Computational Biology', 'Gene Exp...</td>\n",
       "      <td>['Zoology', 'Computational biology', 'Immunoin...</td>\n",
       "    </tr>\n",
       "    <tr>\n",
       "      <th>1</th>\n",
       "      <td>31959989</td>\n",
       "      <td>The BONUS study that was conducted during regu...</td>\n",
       "      <td>Most infants with cystic fibrosis (CF) have pa...</td>\n",
       "      <td>['Body Size', 'Case-Control Studies', 'Cystic ...</td>\n",
       "      <td>['Body Size', 'Case-Control Studies', 'Cystic ...</td>\n",
       "      <td>['DNA', 'Human biology', 'DNA mutation', 'Sequ...</td>\n",
       "    </tr>\n",
       "    <tr>\n",
       "      <th>2</th>\n",
       "      <td>31296739</td>\n",
       "      <td>Thirty-six members of a birth cohort with cons...</td>\n",
       "      <td>Characterizing the organization of the human g...</td>\n",
       "      <td>['*Diet', '*Germ-Free Life', 'Animals', 'Bacte...</td>\n",
       "      <td>['Animal', 'Animals', 'Bacteria', 'Bangladesh'...</td>\n",
       "      <td>['Zoology', 'Human biology', 'Genetics', 'Micr...</td>\n",
       "    </tr>\n",
       "    <tr>\n",
       "      <th>3</th>\n",
       "      <td>29884786</td>\n",
       "      <td>The microbiome of 2684 fecal specimens collect...</td>\n",
       "      <td>The human gut microbiota plays a vital role in...</td>\n",
       "      <td>['*Gastrointestinal Microbiome', 'Bacteria/cla...</td>\n",
       "      <td>['Bacteria', 'Bifidobacterium', 'Feces', 'Fema...</td>\n",
       "      <td>['Human biology', 'Chemistry', 'Biochemistry',...</td>\n",
       "    </tr>\n",
       "    <tr>\n",
       "      <th>4</th>\n",
       "      <td>22699609</td>\n",
       "      <td>This HMP production phase includes untargeted ...</td>\n",
       "      <td>Studies of the human microbiome have revealed ...</td>\n",
       "      <td>['*Biodiversity', '*Health', '*Metagenome', 'A...</td>\n",
       "      <td>['Adolescent', 'Adult', 'Bacteria', 'Biodivers...</td>\n",
       "      <td>['Biodiversity', 'Biomedical science', 'Medica...</td>\n",
       "    </tr>\n",
       "  </tbody>\n",
       "</table>\n",
       "</div>"
      ],
      "text/plain": [
       "       PMID                                        Description  \\\n",
       "0  18270564  Comparative expression analysis on Plasmodium ...   \n",
       "1  31959989  The BONUS study that was conducted during regu...   \n",
       "2  31296739  Thirty-six members of a birth cohort with cons...   \n",
       "3  29884786  The microbiome of 2684 fecal specimens collect...   \n",
       "4  22699609  This HMP production phase includes untargeted ...   \n",
       "\n",
       "                                            Abstract  \\\n",
       "0  A fundamental problem in systems biology and w...   \n",
       "1  Most infants with cystic fibrosis (CF) have pa...   \n",
       "2  Characterizing the organization of the human g...   \n",
       "3  The human gut microbiota plays a vital role in...   \n",
       "4  Studies of the human microbiome have revealed ...   \n",
       "\n",
       "                                          MeSH Terms  \\\n",
       "0  ['*Gene Expression Profiling', '*Genome, Proto...   \n",
       "1  ['Body Size', 'Case-Control Studies', 'Cystic ...   \n",
       "2  ['*Diet', '*Germ-Free Life', 'Animals', 'Bacte...   \n",
       "3  ['*Gastrointestinal Microbiome', 'Bacteria/cla...   \n",
       "4  ['*Biodiversity', '*Health', '*Metagenome', 'A...   \n",
       "\n",
       "                                 Filtered MeSH Terms  \\\n",
       "0  ['Animals', 'Computational Biology', 'Gene Exp...   \n",
       "1  ['Body Size', 'Case-Control Studies', 'Cystic ...   \n",
       "2  ['Animal', 'Animals', 'Bacteria', 'Bangladesh'...   \n",
       "3  ['Bacteria', 'Bifidobacterium', 'Feces', 'Fema...   \n",
       "4  ['Adolescent', 'Adult', 'Bacteria', 'Biodivers...   \n",
       "\n",
       "                                     Old EDAM Topics  \n",
       "0  ['Zoology', 'Computational biology', 'Immunoin...  \n",
       "1  ['DNA', 'Human biology', 'DNA mutation', 'Sequ...  \n",
       "2  ['Zoology', 'Human biology', 'Genetics', 'Micr...  \n",
       "3  ['Human biology', 'Chemistry', 'Biochemistry',...  \n",
       "4  ['Biodiversity', 'Biomedical science', 'Medica...  "
      ]
     },
     "execution_count": 15,
     "metadata": {},
     "output_type": "execute_result"
    }
   ],
   "source": [
    "dataset.head()"
   ]
  },
  {
   "cell_type": "code",
   "execution_count": 16,
   "metadata": {},
   "outputs": [],
   "source": [
    "def convert_list(string):\n",
    "    try:\n",
    "        return ast.literal_eval(string)\n",
    "    except:\n",
    "        return None\n",
    "\n",
    "dataset['MeSH Terms'] = dataset['MeSH Terms'].apply(convert_list)"
   ]
  },
  {
   "cell_type": "code",
   "execution_count": 17,
   "metadata": {},
   "outputs": [],
   "source": [
    "# Drop empty MeSH\n",
    "dataset = dataset[~dataset['MeSH Terms'].isna()]"
   ]
  },
  {
   "cell_type": "code",
   "execution_count": 18,
   "metadata": {},
   "outputs": [
    {
     "data": {
      "text/plain": [
       "3033"
      ]
     },
     "execution_count": 18,
     "metadata": {},
     "output_type": "execute_result"
    }
   ],
   "source": [
    "def has_slash_or_comma(lst):\n",
    "    return any('/' in string or ',' in string for string in lst)\n",
    "\n",
    "def has_forward_slash_or_comma(df, column_name):\n",
    "    return df[column_name].apply(has_slash_or_comma)\n",
    "\n",
    "has_forward_slash_or_comma(dataset, 'MeSH Terms').sum()"
   ]
  },
  {
   "cell_type": "code",
   "execution_count": 21,
   "metadata": {},
   "outputs": [
    {
     "ename": "TypeError",
     "evalue": "map() takes no keyword arguments",
     "output_type": "error",
     "traceback": [
      "\u001b[0;31m---------------------------------------------------------------------------\u001b[0m",
      "\u001b[0;31mTypeError\u001b[0m                                 Traceback (most recent call last)",
      "Cell \u001b[0;32mIn[21], line 14\u001b[0m\n\u001b[1;32m     11\u001b[0m             new_list\u001b[38;5;241m.\u001b[39mappend(filtered_str)\n\u001b[1;32m     12\u001b[0m     \u001b[38;5;28;01mreturn\u001b[39;00m np\u001b[38;5;241m.\u001b[39munique(new_list)\u001b[38;5;241m.\u001b[39mtolist()\n\u001b[0;32m---> 14\u001b[0m dataset[\u001b[38;5;124m'\u001b[39m\u001b[38;5;124mFiltered MeSH Terms\u001b[39m\u001b[38;5;124m'\u001b[39m] \u001b[38;5;241m=\u001b[39m \u001b[43mdataset\u001b[49m\u001b[43m[\u001b[49m\u001b[38;5;124;43m'\u001b[39;49m\u001b[38;5;124;43mMeSH Terms\u001b[39;49m\u001b[38;5;124;43m'\u001b[39;49m\u001b[43m]\u001b[49m\u001b[38;5;241;43m.\u001b[39;49m\u001b[43mapply\u001b[49m\u001b[43m(\u001b[49m\u001b[43msplit_strings\u001b[49m\u001b[43m)\u001b[49m\n",
      "File \u001b[0;32m~/miniconda3/envs/nde_gpt/lib/python3.10/site-packages/pandas/core/series.py:4764\u001b[0m, in \u001b[0;36mSeries.apply\u001b[0;34m(self, func, convert_dtype, args, by_row, **kwargs)\u001b[0m\n\u001b[1;32m   4629\u001b[0m \u001b[38;5;28;01mdef\u001b[39;00m \u001b[38;5;21mapply\u001b[39m(\n\u001b[1;32m   4630\u001b[0m     \u001b[38;5;28mself\u001b[39m,\n\u001b[1;32m   4631\u001b[0m     func: AggFuncType,\n\u001b[0;32m   (...)\u001b[0m\n\u001b[1;32m   4636\u001b[0m     \u001b[38;5;241m*\u001b[39m\u001b[38;5;241m*\u001b[39mkwargs,\n\u001b[1;32m   4637\u001b[0m ) \u001b[38;5;241m-\u001b[39m\u001b[38;5;241m>\u001b[39m DataFrame \u001b[38;5;241m|\u001b[39m Series:\n\u001b[1;32m   4638\u001b[0m \u001b[38;5;250m    \u001b[39m\u001b[38;5;124;03m\"\"\"\u001b[39;00m\n\u001b[1;32m   4639\u001b[0m \u001b[38;5;124;03m    Invoke function on values of Series.\u001b[39;00m\n\u001b[1;32m   4640\u001b[0m \n\u001b[0;32m   (...)\u001b[0m\n\u001b[1;32m   4755\u001b[0m \u001b[38;5;124;03m    dtype: float64\u001b[39;00m\n\u001b[1;32m   4756\u001b[0m \u001b[38;5;124;03m    \"\"\"\u001b[39;00m\n\u001b[1;32m   4757\u001b[0m     \u001b[38;5;28;01mreturn\u001b[39;00m \u001b[43mSeriesApply\u001b[49m\u001b[43m(\u001b[49m\n\u001b[1;32m   4758\u001b[0m \u001b[43m        \u001b[49m\u001b[38;5;28;43mself\u001b[39;49m\u001b[43m,\u001b[49m\n\u001b[1;32m   4759\u001b[0m \u001b[43m        \u001b[49m\u001b[43mfunc\u001b[49m\u001b[43m,\u001b[49m\n\u001b[1;32m   4760\u001b[0m \u001b[43m        \u001b[49m\u001b[43mconvert_dtype\u001b[49m\u001b[38;5;241;43m=\u001b[39;49m\u001b[43mconvert_dtype\u001b[49m\u001b[43m,\u001b[49m\n\u001b[1;32m   4761\u001b[0m \u001b[43m        \u001b[49m\u001b[43mby_row\u001b[49m\u001b[38;5;241;43m=\u001b[39;49m\u001b[43mby_row\u001b[49m\u001b[43m,\u001b[49m\n\u001b[1;32m   4762\u001b[0m \u001b[43m        \u001b[49m\u001b[43margs\u001b[49m\u001b[38;5;241;43m=\u001b[39;49m\u001b[43margs\u001b[49m\u001b[43m,\u001b[49m\n\u001b[1;32m   4763\u001b[0m \u001b[43m        \u001b[49m\u001b[43mkwargs\u001b[49m\u001b[38;5;241;43m=\u001b[39;49m\u001b[43mkwargs\u001b[49m\u001b[43m,\u001b[49m\n\u001b[0;32m-> 4764\u001b[0m \u001b[43m    \u001b[49m\u001b[43m)\u001b[49m\u001b[38;5;241;43m.\u001b[39;49m\u001b[43mapply\u001b[49m\u001b[43m(\u001b[49m\u001b[43m)\u001b[49m\n",
      "File \u001b[0;32m~/miniconda3/envs/nde_gpt/lib/python3.10/site-packages/pandas/core/apply.py:1209\u001b[0m, in \u001b[0;36mSeriesApply.apply\u001b[0;34m(self)\u001b[0m\n\u001b[1;32m   1206\u001b[0m     \u001b[38;5;28;01mreturn\u001b[39;00m \u001b[38;5;28mself\u001b[39m\u001b[38;5;241m.\u001b[39mapply_compat()\n\u001b[1;32m   1208\u001b[0m \u001b[38;5;66;03m# self.func is Callable\u001b[39;00m\n\u001b[0;32m-> 1209\u001b[0m \u001b[38;5;28;01mreturn\u001b[39;00m \u001b[38;5;28;43mself\u001b[39;49m\u001b[38;5;241;43m.\u001b[39;49m\u001b[43mapply_standard\u001b[49m\u001b[43m(\u001b[49m\u001b[43m)\u001b[49m\n",
      "File \u001b[0;32m~/miniconda3/envs/nde_gpt/lib/python3.10/site-packages/pandas/core/apply.py:1289\u001b[0m, in \u001b[0;36mSeriesApply.apply_standard\u001b[0;34m(self)\u001b[0m\n\u001b[1;32m   1283\u001b[0m \u001b[38;5;66;03m# row-wise access\u001b[39;00m\n\u001b[1;32m   1284\u001b[0m \u001b[38;5;66;03m# apply doesn't have a `na_action` keyword and for backward compat reasons\u001b[39;00m\n\u001b[1;32m   1285\u001b[0m \u001b[38;5;66;03m# we need to give `na_action=\"ignore\"` for categorical data.\u001b[39;00m\n\u001b[1;32m   1286\u001b[0m \u001b[38;5;66;03m# TODO: remove the `na_action=\"ignore\"` when that default has been changed in\u001b[39;00m\n\u001b[1;32m   1287\u001b[0m \u001b[38;5;66;03m#  Categorical (GH51645).\u001b[39;00m\n\u001b[1;32m   1288\u001b[0m action \u001b[38;5;241m=\u001b[39m \u001b[38;5;124m\"\u001b[39m\u001b[38;5;124mignore\u001b[39m\u001b[38;5;124m\"\u001b[39m \u001b[38;5;28;01mif\u001b[39;00m \u001b[38;5;28misinstance\u001b[39m(obj\u001b[38;5;241m.\u001b[39mdtype, CategoricalDtype) \u001b[38;5;28;01melse\u001b[39;00m \u001b[38;5;28;01mNone\u001b[39;00m\n\u001b[0;32m-> 1289\u001b[0m mapped \u001b[38;5;241m=\u001b[39m \u001b[43mobj\u001b[49m\u001b[38;5;241;43m.\u001b[39;49m\u001b[43m_map_values\u001b[49m\u001b[43m(\u001b[49m\n\u001b[1;32m   1290\u001b[0m \u001b[43m    \u001b[49m\u001b[43mmapper\u001b[49m\u001b[38;5;241;43m=\u001b[39;49m\u001b[43mcurried\u001b[49m\u001b[43m,\u001b[49m\u001b[43m \u001b[49m\u001b[43mna_action\u001b[49m\u001b[38;5;241;43m=\u001b[39;49m\u001b[43maction\u001b[49m\u001b[43m,\u001b[49m\u001b[43m \u001b[49m\u001b[43mconvert\u001b[49m\u001b[38;5;241;43m=\u001b[39;49m\u001b[38;5;28;43mself\u001b[39;49m\u001b[38;5;241;43m.\u001b[39;49m\u001b[43mconvert_dtype\u001b[49m\n\u001b[1;32m   1291\u001b[0m \u001b[43m\u001b[49m\u001b[43m)\u001b[49m\n\u001b[1;32m   1293\u001b[0m \u001b[38;5;28;01mif\u001b[39;00m \u001b[38;5;28mlen\u001b[39m(mapped) \u001b[38;5;129;01mand\u001b[39;00m \u001b[38;5;28misinstance\u001b[39m(mapped[\u001b[38;5;241m0\u001b[39m], ABCSeries):\n\u001b[1;32m   1294\u001b[0m     \u001b[38;5;66;03m# GH#43986 Need to do list(mapped) in order to get treated as nested\u001b[39;00m\n\u001b[1;32m   1295\u001b[0m     \u001b[38;5;66;03m#  See also GH#25959 regarding EA support\u001b[39;00m\n\u001b[1;32m   1296\u001b[0m     \u001b[38;5;28;01mreturn\u001b[39;00m obj\u001b[38;5;241m.\u001b[39m_constructor_expanddim(\u001b[38;5;28mlist\u001b[39m(mapped), index\u001b[38;5;241m=\u001b[39mobj\u001b[38;5;241m.\u001b[39mindex)\n",
      "File \u001b[0;32m~/miniconda3/envs/nde_gpt/lib/python3.10/site-packages/pandas/core/base.py:921\u001b[0m, in \u001b[0;36mIndexOpsMixin._map_values\u001b[0;34m(self, mapper, na_action, convert)\u001b[0m\n\u001b[1;32m    918\u001b[0m \u001b[38;5;28;01mif\u001b[39;00m \u001b[38;5;28misinstance\u001b[39m(arr, ExtensionArray):\n\u001b[1;32m    919\u001b[0m     \u001b[38;5;28;01mreturn\u001b[39;00m arr\u001b[38;5;241m.\u001b[39mmap(mapper, na_action\u001b[38;5;241m=\u001b[39mna_action)\n\u001b[0;32m--> 921\u001b[0m \u001b[38;5;28;01mreturn\u001b[39;00m \u001b[43malgorithms\u001b[49m\u001b[38;5;241;43m.\u001b[39;49m\u001b[43mmap_array\u001b[49m\u001b[43m(\u001b[49m\u001b[43marr\u001b[49m\u001b[43m,\u001b[49m\u001b[43m \u001b[49m\u001b[43mmapper\u001b[49m\u001b[43m,\u001b[49m\u001b[43m \u001b[49m\u001b[43mna_action\u001b[49m\u001b[38;5;241;43m=\u001b[39;49m\u001b[43mna_action\u001b[49m\u001b[43m,\u001b[49m\u001b[43m \u001b[49m\u001b[43mconvert\u001b[49m\u001b[38;5;241;43m=\u001b[39;49m\u001b[43mconvert\u001b[49m\u001b[43m)\u001b[49m\n",
      "File \u001b[0;32m~/miniconda3/envs/nde_gpt/lib/python3.10/site-packages/pandas/core/algorithms.py:1814\u001b[0m, in \u001b[0;36mmap_array\u001b[0;34m(arr, mapper, na_action, convert)\u001b[0m\n\u001b[1;32m   1812\u001b[0m values \u001b[38;5;241m=\u001b[39m arr\u001b[38;5;241m.\u001b[39mastype(\u001b[38;5;28mobject\u001b[39m, copy\u001b[38;5;241m=\u001b[39m\u001b[38;5;28;01mFalse\u001b[39;00m)\n\u001b[1;32m   1813\u001b[0m \u001b[38;5;28;01mif\u001b[39;00m na_action \u001b[38;5;129;01mis\u001b[39;00m \u001b[38;5;28;01mNone\u001b[39;00m:\n\u001b[0;32m-> 1814\u001b[0m     \u001b[38;5;28;01mreturn\u001b[39;00m \u001b[43mlib\u001b[49m\u001b[38;5;241;43m.\u001b[39;49m\u001b[43mmap_infer\u001b[49m\u001b[43m(\u001b[49m\u001b[43mvalues\u001b[49m\u001b[43m,\u001b[49m\u001b[43m \u001b[49m\u001b[43mmapper\u001b[49m\u001b[43m,\u001b[49m\u001b[43m \u001b[49m\u001b[43mconvert\u001b[49m\u001b[38;5;241;43m=\u001b[39;49m\u001b[43mconvert\u001b[49m\u001b[43m)\u001b[49m\n\u001b[1;32m   1815\u001b[0m \u001b[38;5;28;01melse\u001b[39;00m:\n\u001b[1;32m   1816\u001b[0m     \u001b[38;5;28;01mreturn\u001b[39;00m lib\u001b[38;5;241m.\u001b[39mmap_infer_mask(\n\u001b[1;32m   1817\u001b[0m         values, mapper, mask\u001b[38;5;241m=\u001b[39misna(values)\u001b[38;5;241m.\u001b[39mview(np\u001b[38;5;241m.\u001b[39muint8), convert\u001b[38;5;241m=\u001b[39mconvert\n\u001b[1;32m   1818\u001b[0m     )\n",
      "File \u001b[0;32mlib.pyx:2926\u001b[0m, in \u001b[0;36mpandas._libs.lib.map_infer\u001b[0;34m()\u001b[0m\n",
      "Cell \u001b[0;32mIn[21], line 9\u001b[0m, in \u001b[0;36msplit_strings\u001b[0;34m(lst)\u001b[0m\n\u001b[1;32m      6\u001b[0m     new_list\u001b[38;5;241m.\u001b[39mextend([\u001b[38;5;28mstr\u001b[39m\u001b[38;5;241m.\u001b[39mstrip() \u001b[38;5;28;01mfor\u001b[39;00m \u001b[38;5;28mstr\u001b[39m \u001b[38;5;129;01min\u001b[39;00m filtered_str\u001b[38;5;241m.\u001b[39msplit(\u001b[38;5;124m'\u001b[39m\u001b[38;5;124m/\u001b[39m\u001b[38;5;124m'\u001b[39m)])\n\u001b[1;32m      7\u001b[0m \u001b[38;5;28;01melif\u001b[39;00m \u001b[38;5;124m'\u001b[39m\u001b[38;5;124m,\u001b[39m\u001b[38;5;124m'\u001b[39m \u001b[38;5;129;01min\u001b[39;00m filtered_str:\n\u001b[1;32m      8\u001b[0m     \u001b[38;5;66;03m# new_list.extend([str.strip() for str in filtered_str.split(',')])\u001b[39;00m\n\u001b[0;32m----> 9\u001b[0m     new_list\u001b[38;5;241m.\u001b[39mextend(\u001b[38;5;28;43mmap\u001b[39;49m\u001b[43m(\u001b[49m\u001b[38;5;28;43mstr\u001b[39;49m\u001b[38;5;241;43m.\u001b[39;49m\u001b[43mstrip\u001b[49m\u001b[43m,\u001b[49m\u001b[43m \u001b[49m\u001b[38;5;28;43mnext\u001b[39;49m\u001b[43m(\u001b[49m\u001b[43mcsv\u001b[49m\u001b[38;5;241;43m.\u001b[39;49m\u001b[43mreader\u001b[49m\u001b[43m(\u001b[49m\u001b[43m[\u001b[49m\u001b[43mstring\u001b[49m\u001b[43m]\u001b[49m\u001b[43m)\u001b[49m\u001b[43m)\u001b[49m\u001b[43m,\u001b[49m\u001b[43m \u001b[49m\u001b[43mskipinitialspace\u001b[49m\u001b[38;5;241;43m=\u001b[39;49m\u001b[38;5;28;43;01mTrue\u001b[39;49;00m\u001b[43m)\u001b[49m)\n\u001b[1;32m     10\u001b[0m \u001b[38;5;28;01melse\u001b[39;00m:\n\u001b[1;32m     11\u001b[0m     new_list\u001b[38;5;241m.\u001b[39mappend(filtered_str)\n",
      "\u001b[0;31mTypeError\u001b[0m: map() takes no keyword arguments"
     ]
    }
   ],
   "source": [
    "def split_strings(lst):\n",
    "    new_list = []\n",
    "    for string in lst:\n",
    "        filtered_str = string.replace('*', '')\n",
    "        if '/' in filtered_str:\n",
    "            new_list.extend([str.strip() for str in filtered_str.split('/')])\n",
    "        elif ',' in filtered_str:\n",
    "            # new_list.extend([str.strip() for str in filtered_str.split(',')])\n",
    "            new_list.extend(map(str.strip, next(csv.reader([string])), skipinitialspace=True))\n",
    "        else:\n",
    "            new_list.append(filtered_str)\n",
    "    return np.unique(new_list).tolist()\n",
    "\n",
    "dataset['Filtered MeSH Terms'] = dataset['MeSH Terms'].apply(split_strings)"
   ]
  },
  {
   "cell_type": "code",
   "execution_count": null,
   "metadata": {},
   "outputs": [],
   "source": [
    "dataset['Filtered MeSH Terms']"
   ]
  },
  {
   "cell_type": "code",
   "execution_count": null,
   "metadata": {},
   "outputs": [],
   "source": [
    "def flatten_lists(df, column_name):\n",
    "    return [item for sublist in df[column_name] for item in sublist]\n",
    "\n",
    "all_mesh_terms = flatten_lists(dataset, 'Filtered MeSH Terms')"
   ]
  },
  {
   "cell_type": "code",
   "execution_count": null,
   "metadata": {},
   "outputs": [],
   "source": [
    "mesh_term_freqs = Counter(all_mesh_terms)\n",
    "unique_mesh_terms = set(all_mesh_terms)"
   ]
  },
  {
   "cell_type": "code",
   "execution_count": null,
   "metadata": {},
   "outputs": [],
   "source": [
    "min_frequency = min(mesh_term_freqs.values())\n",
    "strings_with_min_frequency = [string for string, frequency in mesh_term_freqs.items() if frequency == min_frequency]\n",
    "\n",
    "print('Minimum frequency:', min_frequency)\n",
    "print('Terms with min frequency:', len(strings_with_min_frequency), '/', len(unique_mesh_terms))"
   ]
  },
  {
   "cell_type": "code",
   "execution_count": null,
   "metadata": {},
   "outputs": [],
   "source": [
    "## text2term scores\n",
    "\n",
    "edam_ontology = text2term.cache_ontology(\"https://data.bioontology.org/ontologies/EDAM/submissions/44/download?apikey=8b5b7825-538d-40e0-9e9e-5ab9274a9aeb\", \"EDAM\")"
   ]
  },
  {
   "cell_type": "code",
   "execution_count": null,
   "metadata": {},
   "outputs": [],
   "source": [
    "mapped_terms = text2term.map_terms(list(unique_mesh_terms), \"EDAM\", use_cache=True)"
   ]
  },
  {
   "cell_type": "code",
   "execution_count": null,
   "metadata": {},
   "outputs": [],
   "source": [
    "mapped_terms = mapped_terms[mapped_terms['Mapped Term IRI'].str.contains('topic')]\n",
    "mapped_terms"
   ]
  },
  {
   "cell_type": "code",
   "execution_count": null,
   "metadata": {},
   "outputs": [],
   "source": [
    "mapped_terms[mapped_terms['Mapped Term Label'] == 'Animal study']"
   ]
  },
  {
   "cell_type": "code",
   "execution_count": null,
   "metadata": {},
   "outputs": [],
   "source": [
    "plt.hist(mapped_terms['Mapping Score'].values, bins='auto', edgecolor='black', alpha=0.7)\n",
    "\n",
    "plt.xlabel('Mapping Score')\n",
    "plt.ylabel('Frequency')\n",
    "\n",
    "plt.axvline(np.mean(mapped_terms['Mapping Score'].values), color='red')\n",
    "plt.axvline(np.median(mapped_terms['Mapping Score'].values), color='orange')"
   ]
  },
  {
   "cell_type": "code",
   "execution_count": null,
   "metadata": {},
   "outputs": [],
   "source": [
    "# threshold = np.mean(mapped_terms['Mapping Score'].values)\n",
    "threshold = 0.7\n",
    "\n",
    "def map_mesh_to_edam(mesh_terms):\n",
    "    # mapping = text2term.map_terms(mesh_terms, \"EDAM\", use_cache=True)\n",
    "    try:\n",
    "         filtered_mapping = text2term.map_terms(mesh_terms, \"EDAM\", use_cache=True)\n",
    "        # filtered_mapping = text2term.map_terms([term for term in mesh_terms if mesh_term_freqs[term] > 1], \"EDAM\", use_cache=True)\n",
    "    except:\n",
    "        return None\n",
    "\n",
    "    # Only consider mappings over threshold\n",
    "    filtered_terms = filtered_mapping[filtered_mapping['Mapping Score'] > threshold]\n",
    "\n",
    "    return filtered_terms['Mapped Term Label'].unique().tolist()\n",
    "\n",
    "dataset['New EDAM Topics'] = dataset['Filtered MeSH Terms'].apply(map_mesh_to_edam)"
   ]
  },
  {
   "cell_type": "code",
   "execution_count": null,
   "metadata": {},
   "outputs": [],
   "source": [
    "# Drop rows with no mapped terms\n",
    "dataset = dataset[~dataset['New EDAM Topics'].isna()]"
   ]
  },
  {
   "cell_type": "code",
   "execution_count": 26,
   "metadata": {},
   "outputs": [
    {
     "ename": "KeyError",
     "evalue": "'New EDAM Topics'",
     "output_type": "error",
     "traceback": [
      "\u001b[0;31m---------------------------------------------------------------------------\u001b[0m",
      "\u001b[0;31mKeyError\u001b[0m                                  Traceback (most recent call last)",
      "File \u001b[0;32m~/miniconda3/envs/nde_gpt/lib/python3.10/site-packages/pandas/core/indexes/base.py:3791\u001b[0m, in \u001b[0;36mIndex.get_loc\u001b[0;34m(self, key)\u001b[0m\n\u001b[1;32m   3790\u001b[0m \u001b[38;5;28;01mtry\u001b[39;00m:\n\u001b[0;32m-> 3791\u001b[0m     \u001b[38;5;28;01mreturn\u001b[39;00m \u001b[38;5;28;43mself\u001b[39;49m\u001b[38;5;241;43m.\u001b[39;49m\u001b[43m_engine\u001b[49m\u001b[38;5;241;43m.\u001b[39;49m\u001b[43mget_loc\u001b[49m\u001b[43m(\u001b[49m\u001b[43mcasted_key\u001b[49m\u001b[43m)\u001b[49m\n\u001b[1;32m   3792\u001b[0m \u001b[38;5;28;01mexcept\u001b[39;00m \u001b[38;5;167;01mKeyError\u001b[39;00m \u001b[38;5;28;01mas\u001b[39;00m err:\n",
      "File \u001b[0;32mindex.pyx:152\u001b[0m, in \u001b[0;36mpandas._libs.index.IndexEngine.get_loc\u001b[0;34m()\u001b[0m\n",
      "File \u001b[0;32mindex.pyx:181\u001b[0m, in \u001b[0;36mpandas._libs.index.IndexEngine.get_loc\u001b[0;34m()\u001b[0m\n",
      "File \u001b[0;32mpandas/_libs/hashtable_class_helper.pxi:7080\u001b[0m, in \u001b[0;36mpandas._libs.hashtable.PyObjectHashTable.get_item\u001b[0;34m()\u001b[0m\n",
      "File \u001b[0;32mpandas/_libs/hashtable_class_helper.pxi:7088\u001b[0m, in \u001b[0;36mpandas._libs.hashtable.PyObjectHashTable.get_item\u001b[0;34m()\u001b[0m\n",
      "\u001b[0;31mKeyError\u001b[0m: 'New EDAM Topics'",
      "\nThe above exception was the direct cause of the following exception:\n",
      "\u001b[0;31mKeyError\u001b[0m                                  Traceback (most recent call last)",
      "Cell \u001b[0;32mIn[26], line 7\u001b[0m\n\u001b[1;32m      3\u001b[0m     full_edam_topics \u001b[38;5;241m=\u001b[39m edam_file\u001b[38;5;241m.\u001b[39mreadlines()\n\u001b[1;32m      5\u001b[0m full_edam_topics \u001b[38;5;241m=\u001b[39m [topic\u001b[38;5;241m.\u001b[39mstrip() \u001b[38;5;28;01mfor\u001b[39;00m topic \u001b[38;5;129;01min\u001b[39;00m full_edam_topics]\n\u001b[0;32m----> 7\u001b[0m dataset[\u001b[38;5;124m'\u001b[39m\u001b[38;5;124mNew EDAM Topics\u001b[39m\u001b[38;5;124m'\u001b[39m] \u001b[38;5;241m=\u001b[39m \u001b[43mdataset\u001b[49m\u001b[43m[\u001b[49m\u001b[38;5;124;43m'\u001b[39;49m\u001b[38;5;124;43mNew EDAM Topics\u001b[39;49m\u001b[38;5;124;43m'\u001b[39;49m\u001b[43m]\u001b[49m\u001b[38;5;241m.\u001b[39mapply(\u001b[38;5;28;01mlambda\u001b[39;00m x: [item \u001b[38;5;28;01mfor\u001b[39;00m item \u001b[38;5;129;01min\u001b[39;00m x \u001b[38;5;28;01mif\u001b[39;00m item \u001b[38;5;129;01min\u001b[39;00m full_edam_topics])\n",
      "File \u001b[0;32m~/miniconda3/envs/nde_gpt/lib/python3.10/site-packages/pandas/core/frame.py:3893\u001b[0m, in \u001b[0;36mDataFrame.__getitem__\u001b[0;34m(self, key)\u001b[0m\n\u001b[1;32m   3891\u001b[0m \u001b[38;5;28;01mif\u001b[39;00m \u001b[38;5;28mself\u001b[39m\u001b[38;5;241m.\u001b[39mcolumns\u001b[38;5;241m.\u001b[39mnlevels \u001b[38;5;241m>\u001b[39m \u001b[38;5;241m1\u001b[39m:\n\u001b[1;32m   3892\u001b[0m     \u001b[38;5;28;01mreturn\u001b[39;00m \u001b[38;5;28mself\u001b[39m\u001b[38;5;241m.\u001b[39m_getitem_multilevel(key)\n\u001b[0;32m-> 3893\u001b[0m indexer \u001b[38;5;241m=\u001b[39m \u001b[38;5;28;43mself\u001b[39;49m\u001b[38;5;241;43m.\u001b[39;49m\u001b[43mcolumns\u001b[49m\u001b[38;5;241;43m.\u001b[39;49m\u001b[43mget_loc\u001b[49m\u001b[43m(\u001b[49m\u001b[43mkey\u001b[49m\u001b[43m)\u001b[49m\n\u001b[1;32m   3894\u001b[0m \u001b[38;5;28;01mif\u001b[39;00m is_integer(indexer):\n\u001b[1;32m   3895\u001b[0m     indexer \u001b[38;5;241m=\u001b[39m [indexer]\n",
      "File \u001b[0;32m~/miniconda3/envs/nde_gpt/lib/python3.10/site-packages/pandas/core/indexes/base.py:3798\u001b[0m, in \u001b[0;36mIndex.get_loc\u001b[0;34m(self, key)\u001b[0m\n\u001b[1;32m   3793\u001b[0m     \u001b[38;5;28;01mif\u001b[39;00m \u001b[38;5;28misinstance\u001b[39m(casted_key, \u001b[38;5;28mslice\u001b[39m) \u001b[38;5;129;01mor\u001b[39;00m (\n\u001b[1;32m   3794\u001b[0m         \u001b[38;5;28misinstance\u001b[39m(casted_key, abc\u001b[38;5;241m.\u001b[39mIterable)\n\u001b[1;32m   3795\u001b[0m         \u001b[38;5;129;01mand\u001b[39;00m \u001b[38;5;28many\u001b[39m(\u001b[38;5;28misinstance\u001b[39m(x, \u001b[38;5;28mslice\u001b[39m) \u001b[38;5;28;01mfor\u001b[39;00m x \u001b[38;5;129;01min\u001b[39;00m casted_key)\n\u001b[1;32m   3796\u001b[0m     ):\n\u001b[1;32m   3797\u001b[0m         \u001b[38;5;28;01mraise\u001b[39;00m InvalidIndexError(key)\n\u001b[0;32m-> 3798\u001b[0m     \u001b[38;5;28;01mraise\u001b[39;00m \u001b[38;5;167;01mKeyError\u001b[39;00m(key) \u001b[38;5;28;01mfrom\u001b[39;00m \u001b[38;5;21;01merr\u001b[39;00m\n\u001b[1;32m   3799\u001b[0m \u001b[38;5;28;01mexcept\u001b[39;00m \u001b[38;5;167;01mTypeError\u001b[39;00m:\n\u001b[1;32m   3800\u001b[0m     \u001b[38;5;66;03m# If we have a listlike key, _check_indexing_error will raise\u001b[39;00m\n\u001b[1;32m   3801\u001b[0m     \u001b[38;5;66;03m#  InvalidIndexError. Otherwise we fall through and re-raise\u001b[39;00m\n\u001b[1;32m   3802\u001b[0m     \u001b[38;5;66;03m#  the TypeError.\u001b[39;00m\n\u001b[1;32m   3803\u001b[0m     \u001b[38;5;28mself\u001b[39m\u001b[38;5;241m.\u001b[39m_check_indexing_error(key)\n",
      "\u001b[0;31mKeyError\u001b[0m: 'New EDAM Topics'"
     ]
    }
   ],
   "source": [
    "# Remove any EDAM not in the list\n",
    "with open(input(\"Enter EDAM topics file:\"), 'r') as edam_file:\n",
    "    full_edam_topics = edam_file.readlines()\n",
    "\n",
    "full_edam_topics = [topic.strip() for topic in full_edam_topics]\n",
    "\n",
    "dataset['New EDAM Topics'] = dataset['New EDAM Topics'].apply(lambda x: [item for item in x if item in full_edam_topics])"
   ]
  },
  {
   "cell_type": "code",
   "execution_count": null,
   "metadata": {},
   "outputs": [],
   "source": [
    "# Compare old and new (dataset vs outputs.csv)\n",
    "\n",
    "gpt_output = pd.read_csv('outputs.csv')"
   ]
  },
  {
   "cell_type": "code",
   "execution_count": null,
   "metadata": {},
   "outputs": [],
   "source": [
    "def get_new_edam(abstract):\n",
    "    # topics = dataset.loc[dataset['Abstract'] == abstract, 'New EDAM Topics'].values\n",
    "    # return topics[0] if len(topics[0]) > 0 else None\n",
    "\n",
    "    matching_rows = dataset.loc[dataset['Abstract'] == abstract, 'New EDAM Topics']\n",
    "    \n",
    "    if not matching_rows.empty:\n",
    "        return matching_rows.iloc[0]\n",
    "    else:\n",
    "        return None\n",
    "\n",
    "print(get_new_edam(gpt_output.iloc[0]['Abstract']))\n",
    "print(gpt_output['Ground Truth'].iloc[0])"
   ]
  },
  {
   "cell_type": "code",
   "execution_count": null,
   "metadata": {},
   "outputs": [],
   "source": [
    "gpt_output.rename(columns={'Ground Truth': 'Old Ground Truth'}, inplace=True)"
   ]
  },
  {
   "cell_type": "code",
   "execution_count": null,
   "metadata": {},
   "outputs": [],
   "source": [
    "gpt_output['New Ground Truth'] = gpt_output['Abstract'].apply(get_new_edam)"
   ]
  },
  {
   "cell_type": "code",
   "execution_count": null,
   "metadata": {},
   "outputs": [],
   "source": [
    "# Drop any rows without mappings\n",
    "gpt_output = gpt_output[~gpt_output['New Ground Truth'].isna()]"
   ]
  },
  {
   "cell_type": "code",
   "execution_count": null,
   "metadata": {},
   "outputs": [],
   "source": [
    "# Get MeSH Terms\n",
    "\n",
    "def get_mesh_terms(abstract):\n",
    "    matching_rows = dataset.loc[dataset['Abstract'] == abstract, 'MeSH Terms']\n",
    "    \n",
    "    if not matching_rows.empty:\n",
    "        return matching_rows.iloc[0]\n",
    "    else:\n",
    "        return None"
   ]
  },
  {
   "cell_type": "code",
   "execution_count": null,
   "metadata": {},
   "outputs": [],
   "source": [
    "gpt_output['MeSH Terms'] = gpt_output['Abstract'].apply(get_mesh_terms)\n",
    "# Drop any rows without mappings\n",
    "gpt_output = gpt_output[~gpt_output['MeSH Terms'].isna()]"
   ]
  },
  {
   "cell_type": "code",
   "execution_count": null,
   "metadata": {},
   "outputs": [],
   "source": [
    "gpt_output = gpt_output[['Model', 'Abstract', 'MeSH Terms', 'Old Ground Truth', 'New Ground Truth', 'Predictions', 'Prioritized Predictions']]\n",
    "gpt_output.to_csv(input(\"Enter file name: \"), index=False)"
   ]
  },
  {
   "cell_type": "code",
   "execution_count": null,
   "metadata": {},
   "outputs": [],
   "source": [
    "# Compare old terms with new terms\n",
    "from IPython.display import HTML\n",
    "\n",
    "for idx, row in gpt_output.sample(n=5).iterrows():\n",
    "    display('Abstract:', HTML(f\"<p style='overflow-x: auto'>{row['Abstract']}</p>\"))\n",
    "    # print('Abstract:', row['Abstract'].replace('.', '.\\n'))\n",
    "    print('Old:', row['Old Ground Truth'])\n",
    "    print('New:', ', '.join(row['New Ground Truth']))\n",
    "    print('GPT:', row['Predictions'], '\\n')"
   ]
  },
  {
   "cell_type": "code",
   "execution_count": null,
   "metadata": {},
   "outputs": [],
   "source": [
    "# Get PMIDs\n",
    "\n",
    "def get_pmids(abstract):\n",
    "    matching_rows = dataset.loc[dataset['Abstract'] == abstract, 'PMID']\n",
    "    \n",
    "    if not matching_rows.empty:\n",
    "        return matching_rows.iloc[0]\n",
    "    else:\n",
    "        return None"
   ]
  },
  {
   "cell_type": "code",
   "execution_count": null,
   "metadata": {},
   "outputs": [],
   "source": [
    "pmids = gpt_output['Abstract'].apply(get_pmids)\n",
    "# Drop any rows without mappings\n",
    "pmids = pmids[~pmids.isna()]"
   ]
  },
  {
   "cell_type": "code",
   "execution_count": null,
   "metadata": {},
   "outputs": [],
   "source": [
    "pmids.to_csv('pmids.csv', index=False)"
   ]
  },
  {
   "cell_type": "markdown",
   "metadata": {},
   "source": [
    "## Testing for discrepancy in MeSH terms\n",
    "\n",
    "There seems to be a disrepancy between the returned xml data and text data"
   ]
  },
  {
   "cell_type": "code",
   "execution_count": null,
   "metadata": {},
   "outputs": [],
   "source": [
    "from Bio import Entrez, Medline\n",
    "\n",
    "Entrez.email = \"zqazi@scripps.edu\"\n",
    "\n",
    "handle = Entrez.efetch(db=\"pubmed\", id=21406103, retmode=\"xml\")"
   ]
  },
  {
   "cell_type": "code",
   "execution_count": null,
   "metadata": {},
   "outputs": [],
   "source": [
    "article_data = Entrez.read(handle)\n",
    "handle.close()\n"
   ]
  },
  {
   "cell_type": "code",
   "execution_count": null,
   "metadata": {},
   "outputs": [],
   "source": [
    "mesh_terms = []\n",
    "if \"PubmedArticle\" in article_data:\n",
    "    for article in article_data[\"PubmedArticle\"]:\n",
    "        if \"MeshHeadingList\" in article[\"MedlineCitation\"]:\n",
    "            mesh_headings = article[\"MedlineCitation\"][\"MeshHeadingList\"]\n",
    "            for heading in mesh_headings:\n",
    "                descriptor_name = heading[\"DescriptorName\"]\n",
    "                mesh_terms.append(str(descriptor_name))\n",
    "\n",
    "mesh_terms"
   ]
  },
  {
   "cell_type": "code",
   "execution_count": null,
   "metadata": {},
   "outputs": [],
   "source": [
    "handle = Entrez.efetch(db=\"pubmed\", id=21406103, rettype='medline', retmode=\"text\")\n",
    "article_data = Medline.parse(handle)"
   ]
  },
  {
   "cell_type": "code",
   "execution_count": null,
   "metadata": {},
   "outputs": [],
   "source": [
    "for record in article_data:\n",
    "    mesh = record.get('MH', '?')\n",
    "    abstract = record.get('AB', '?')\n",
    "\n",
    "print(mesh)\n",
    "print(abstract)"
   ]
  },
  {
   "cell_type": "code",
   "execution_count": null,
   "metadata": {},
   "outputs": [],
   "source": [
    "# Get fixed mesh terms\n",
    "\n",
    "def get_fixed_mesh_terms(pmid):\n",
    "    handle = Entrez.efetch(db=\"pubmed\", id=pmid, rettype='medline', retmode=\"text\")\n",
    "    article_data = Medline.parse(handle)\n",
    "\n",
    "    for record in article_data:\n",
    "        mesh_terms = record.get('MH', None)\n",
    "\n",
    "    return mesh_terms\n"
   ]
  },
  {
   "cell_type": "code",
   "execution_count": null,
   "metadata": {},
   "outputs": [],
   "source": [
    "output = dataset['PMID'].apply(get_fixed_mesh_terms)"
   ]
  },
  {
   "cell_type": "code",
   "execution_count": null,
   "metadata": {},
   "outputs": [],
   "source": [
    "dataset['MeSH Terms'] = output"
   ]
  },
  {
   "cell_type": "code",
   "execution_count": null,
   "metadata": {},
   "outputs": [],
   "source": [
    "other_data = pd.read_csv('datasets/staging_test_set.csv')"
   ]
  },
  {
   "cell_type": "code",
   "execution_count": null,
   "metadata": {},
   "outputs": [],
   "source": [
    "other_data['MeSH Terms'] = output"
   ]
  },
  {
   "cell_type": "markdown",
   "metadata": {},
   "source": [
    "## Jaccard Similarity"
   ]
  },
  {
   "cell_type": "code",
   "execution_count": 97,
   "metadata": {},
   "outputs": [],
   "source": [
    "gpt_output = pd.read_csv('new_updated_outputs.csv')"
   ]
  },
  {
   "cell_type": "code",
   "execution_count": 98,
   "metadata": {},
   "outputs": [],
   "source": [
    "# Remove any EDAM not in the list\n",
    "with open('EDAM/edam_topics.txt') as edam_file:\n",
    "    full_edam_topics = edam_file.readlines()\n",
    "\n",
    "full_edam_topics = [topic.strip() for topic in full_edam_topics]"
   ]
  },
  {
   "cell_type": "code",
   "execution_count": 99,
   "metadata": {},
   "outputs": [],
   "source": [
    "gpt_output['New Ground Truth'] = gpt_output['New Ground Truth'].apply(lambda str: set(ast.literal_eval(str)))\n",
    "# gpt_output['Predictions'] = gpt_output['Predictions'].apply(lambda str: set(str.split(', ')))\n",
    "gpt_output['Predictions'] = gpt_output['Predictions'].apply(lambda str: set(ast.literal_eval(str)))"
   ]
  },
  {
   "cell_type": "code",
   "execution_count": 100,
   "metadata": {},
   "outputs": [],
   "source": [
    "gpt_output['Hallucinations'] = gpt_output['Predictions'].apply(lambda preds: set([pred.replace('.', '') for pred in preds if pred.replace('.', '') not in full_edam_topics]))"
   ]
  },
  {
   "cell_type": "code",
   "execution_count": 101,
   "metadata": {},
   "outputs": [],
   "source": [
    "# gpt_output['New Ground Truth'] = gpt_output['New Ground Truth'].apply(lambda x: set([term.replace('Zoology', 'Animal Study').replace('Drug metabolism', 'Endocrinology and Metabolism') for term in x]))\n",
    "\n",
    "# Remove Hallucinated Topics and misplaced punctuation\n",
    "gpt_output['Predictions'] = gpt_output['Predictions'].apply(lambda preds: set([pred.replace('.', '') for pred in preds if pred.replace('.', '') in full_edam_topics]))\n",
    "gpt_output['Predictions'] = gpt_output.apply(lambda row: set([topic for topic in row['Predictions'] if topic not in row['Hallucinations']]), axis=1)"
   ]
  },
  {
   "cell_type": "code",
   "execution_count": 103,
   "metadata": {},
   "outputs": [],
   "source": [
    "def jaccard_similarity(row):\n",
    "    set1, set2 = row['New Ground Truth'], row['Predictions']\n",
    "    intersection = len(set1.intersection(set2))\n",
    "    union = len(set1.union(set2))\n",
    "     \n",
    "    return intersection / union"
   ]
  },
  {
   "cell_type": "code",
   "execution_count": 104,
   "metadata": {},
   "outputs": [],
   "source": [
    "gpt_output['Jaccard Similarity'] = gpt_output.apply(jaccard_similarity, axis=1)"
   ]
  },
  {
   "cell_type": "code",
   "execution_count": 105,
   "metadata": {},
   "outputs": [
    {
     "data": {
      "text/plain": [
       "Model\n",
       "ft:gpt-3.5-turbo-0613:personal::8SAHvdnS    Axes(0.125,0.11;0.775x0.77)\n",
       "ft:gpt-3.5-turbo-0613:personal::8SD8i1on    Axes(0.125,0.11;0.775x0.77)\n",
       "ft:gpt-3.5-turbo-1106:personal::8SDAGTmv    Axes(0.125,0.11;0.775x0.77)\n",
       "gpt-3.5-turbo                               Axes(0.125,0.11;0.775x0.77)\n",
       "gpt-4                                       Axes(0.125,0.11;0.775x0.77)\n",
       "Name: Jaccard Similarity, dtype: object"
      ]
     },
     "execution_count": 105,
     "metadata": {},
     "output_type": "execute_result"
    },
    {
     "data": {
      "image/png": "[encoded data removed]",
      "text/plain": [
       "<Figure size 640x480 with 1 Axes>"
      ]
     },
     "metadata": {},
     "output_type": "display_data"
    }
   ],
   "source": [
    "fig, ax = plt.subplots()\n",
    "\n",
    "gpt_output.groupby('Model')['Jaccard Similarity'].plot(kind='hist', alpha=0.8, legend=True, edgecolor='black', ax=ax)"
   ]
  },
  {
   "cell_type": "code",
   "execution_count": 106,
   "metadata": {},
   "outputs": [
    {
     "data": {
      "image/png": "[encoded data removed]",
      "text/plain": [
       "<Figure size 600x2000 with 5 Axes>"
      ]
     },
     "metadata": {},
     "output_type": "display_data"
    }
   ],
   "source": [
    "unique_labels = gpt_output['Model'].unique()\n",
    "\n",
    "fig, axs = plt.subplots(len(unique_labels), 1, figsize=(6, 4 * len(unique_labels)), sharex=True)\n",
    "\n",
    "colors = ['blue', 'orange', 'green', 'red', 'purple']\n",
    "# Plot histograms for each label\n",
    "for i, label in enumerate(unique_labels):\n",
    "    subset = gpt_output[gpt_output['Model'] == label]\n",
    "    axs[i].hist(subset['Jaccard Similarity'], bins=10, alpha=0.7, edgecolor='black', label=label, color=colors[i])\n",
    "    axs[i].set_title(f'Histogram for Model {label}')\n",
    "    axs[i].set_xlabel('Jaccard Similarity')\n",
    "    axs[i].set_ylabel('Frequency')\n",
    "    axs[i].legend()"
   ]
  },
  {
   "cell_type": "markdown",
   "metadata": {},
   "source": [
    "## Gather more model metrics\n",
    "\n",
    "Precision, Recall, Jaccard Similarity"
   ]
  },
  {
   "cell_type": "code",
   "execution_count": 107,
   "metadata": {},
   "outputs": [
    {
     "name": "stdout",
     "output_type": "stream",
     "text": [
      "Precision: [0.125, 0.16666666666666666, 0.13333333333333333, 0.3333333333333333, 0.2, 0.25, 0.3, 0.2222222222222222, 0.2222222222222222, 0.125, 0.3333333333333333, 0.08333333333333333, 0.125, 0.2, 0.2857142857142857, 0.16666666666666666, 0.5, 0.0, 0.4, 0.4, 0.3333333333333333, 0.25, 0.2857142857142857, 0.2857142857142857, 0.25, 0.14285714285714285, 0.25, 0.1875, 0.5, 0.3, 0.25, 0.2, 0.2222222222222222, 0.2222222222222222, 0.25, 0.375, 0.3076923076923077, 0.125, 0.2, 0.2857142857142857, 0.2, 0.3125, 0.3333333333333333, 0.6, 0.2, 0.2222222222222222, 0.25, 0.14285714285714285, 0.2857142857142857, 0.25, 0.125, 0.4166666666666667, 0.25, 0.3333333333333333, 0.3, 0.25, 0.0, 0.3333333333333333, 0.1111111111111111, 0.125, 0.2222222222222222, 0.23076923076923078, 0.25, 0.2, 0.14285714285714285, 0.0, 0.125, 0.0, 0.4, 0.6, 0.3333333333333333, 0.3333333333333333, 0.14285714285714285, 0.14285714285714285, 0.2857142857142857, 0.0, 0.25, 0.13333333333333333, 0.2, 0.4, 0.0, 0.14285714285714285, 0.3333333333333333, 0.25, 0, 0.2222222222222222, 0.5714285714285714, 0.25, 0.4, 0, 0.6666666666666666, 0.16666666666666666, 0.5, 0.4, 0.4, 0.0, 0.5, 0.0, 0.2, 0.2, 0.047619047619047616, 0.2962962962962963, 0.05714285714285714, 0.07407407407407407, 0.04225352112676056, 0.05714285714285714, 0.061068702290076333, 0.21875, 0.09090909090909091, 0.14285714285714285, 0.14583333333333334, 0.0759493670886076, 0.17391304347826086, 0.058823529411764705, 0.05084745762711865, 0.2222222222222222, 0.10344827586206896, 0.04081632653061224, 0, 0.056818181818181816, 0.02702702702702703, 0.16, 0.0, 0.12121212121212122, 0.050359712230215826]\n",
      "Recall: [0.3333333333333333, 0.18181818181818182, 0.2857142857142857, 0.5, 0.4, 0.16666666666666666, 0.25, 0.18181818181818182, 0.6666666666666666, 0.2, 0.375, 0.1, 0.125, 0.3333333333333333, 0.2857142857142857, 0.2, 0.8888888888888888, 0.0, 0.4, 0.3333333333333333, 0.6, 0.14285714285714285, 0.5, 0.5, 0.2222222222222222, 0.3333333333333333, 0.2727272727272727, 0.42857142857142855, 0.75, 0.6, 0.16666666666666666, 0.16666666666666666, 0.18181818181818182, 0.6666666666666666, 0.4, 0.375, 0.4, 0.125, 0.3333333333333333, 0.2857142857142857, 0.2, 0.5555555555555556, 0.3333333333333333, 0.6, 0.16666666666666666, 0.4, 0.14285714285714285, 0.25, 0.5, 0.2222222222222222, 0.3333333333333333, 0.45454545454545453, 0.5714285714285714, 0.5, 0.6, 0.16666666666666666, 0.0, 0.2727272727272727, 0.3333333333333333, 0.2, 0.25, 0.3, 0.25, 0.3333333333333333, 0.14285714285714285, 0.0, 0.2222222222222222, 0.0, 0.4, 0.5, 0.6, 0.14285714285714285, 0.25, 0.25, 0.2222222222222222, 0.0, 0.2727272727272727, 0.2857142857142857, 0.25, 0.4, 0.0, 0.08333333333333333, 0.2727272727272727, 0.3333333333333333, 0.0, 0.25, 0.4, 0.25, 0.6666666666666666, 0.0, 0.4, 0.2222222222222222, 0.3333333333333333, 0.4, 0.3333333333333333, 0.0, 0.2857142857142857, 0.0, 0.125, 0.1111111111111111, 0.6666666666666666, 0.7272727272727273, 0.8571428571428571, 1.0, 0.6, 0.6666666666666666, 0.6666666666666666, 0.6363636363636364, 0.6666666666666666, 0.8, 0.875, 0.6, 0.5, 0.6666666666666666, 0.42857142857142855, 0.8, 0.6666666666666666, 0.6666666666666666, 0.0, 0.8333333333333334, 0.4, 0.5714285714285714, 0.0, 0.5, 0.7777777777777778]\n"
     ]
    }
   ],
   "source": [
    "def calculate_precision_recall_per_row(ground_truth, predictions):\n",
    "    precision_per_row = []\n",
    "    recall_per_row = []\n",
    "\n",
    "    for truth_labels, predicted_labels in zip(ground_truth, predictions):\n",
    "\n",
    "        true_positives = len(truth_labels.intersection(predicted_labels))\n",
    "        false_positives = len(predicted_labels - truth_labels)\n",
    "        false_negatives = len(truth_labels - predicted_labels)\n",
    "\n",
    "        precision = true_positives / (true_positives + false_positives) if (true_positives + false_positives) != 0 else 0\n",
    "        recall = true_positives / (true_positives + false_negatives) if (true_positives + false_negatives) != 0 else 0\n",
    "\n",
    "        precision_per_row.append(precision)\n",
    "        recall_per_row.append(recall)\n",
    "\n",
    "    return precision_per_row, recall_per_row\n",
    "\n",
    "\n",
    "precision, recall = calculate_precision_recall_per_row(gpt_output['New Ground Truth'], gpt_output['Predictions'])\n",
    "\n",
    "print(f'Precision: {precision}')\n",
    "print(f'Recall: {recall}')"
   ]
  },
  {
   "cell_type": "code",
   "execution_count": 108,
   "metadata": {},
   "outputs": [],
   "source": [
    "gpt_output['Precision'] = precision\n",
    "gpt_output['Recall'] = recall"
   ]
  },
  {
   "cell_type": "markdown",
   "metadata": {},
   "source": [
    "## Added terms & Subtracted terms\n",
    "\n",
    "Added terms and subtracted terms for each model against gpt3.5 and ground truth"
   ]
  },
  {
   "cell_type": "code",
   "execution_count": 109,
   "metadata": {},
   "outputs": [],
   "source": [
    "# Against ground truth\n",
    "def find_added_missing_labels(ground_truth, predictions):\n",
    "    added_labels_per_row = []\n",
    "    missing_labels_per_row = []\n",
    "\n",
    "    for truth_labels, predicted_labels in zip(ground_truth, predictions):\n",
    "\n",
    "        added_labels = predicted_labels - truth_labels\n",
    "        missing_labels = truth_labels - predicted_labels\n",
    "\n",
    "        added_labels_per_row.append(added_labels)\n",
    "        missing_labels_per_row.append(missing_labels)\n",
    "\n",
    "    return added_labels_per_row, missing_labels_per_row\n",
    "\n",
    "added_labels_per_row, missing_labels_per_row = find_added_missing_labels(gpt_output['New Ground Truth'], gpt_output['Predictions'])"
   ]
  },
  {
   "cell_type": "code",
   "execution_count": 110,
   "metadata": {},
   "outputs": [],
   "source": [
    "gpt_output['Added Labels (Predictions against New Ground Truth)'] = added_labels_per_row\n",
    "gpt_output['Missing Labels (Predictions against New Ground Truth)'] = missing_labels_per_row"
   ]
  },
  {
   "cell_type": "code",
   "execution_count": 111,
   "metadata": {},
   "outputs": [],
   "source": [
    "# Set the reference model name you want to compare others against\n",
    "reference_model_name = 'gpt-3.5-turbo'\n",
    "\n",
    "added_labels, missing_labels = [], []\n",
    "gpt3_preds = gpt_output[gpt_output['Model'] == reference_model_name]['Predictions']\n",
    "\n",
    "for name, group in gpt_output.groupby('Model'):\n",
    "    if name == reference_model_name:\n",
    "        added_labels.extend(['N/A'] * 25)\n",
    "        missing_labels.extend(['N/A'] * 25)\n",
    "        continue\n",
    "    \n",
    "    added_labels_per_row, missing_labels_per_row = find_added_missing_labels(gpt3_preds, group['Predictions'])\n",
    "    \n",
    "    added_labels.extend(added_labels_per_row)\n",
    "    missing_labels.extend(missing_labels_per_row)\n"
   ]
  },
  {
   "cell_type": "code",
   "execution_count": 112,
   "metadata": {},
   "outputs": [],
   "source": [
    "gpt_output['Added Labels (Predictions against GPT-3.5)'] = added_labels\n",
    "gpt_output['Missing Labels (Predictions against GPT-3.5)'] = missing_labels"
   ]
  },
  {
   "cell_type": "code",
   "execution_count": 113,
   "metadata": {},
   "outputs": [],
   "source": [
    "# Remove any EDAM not in the list\n",
    "with open('EDAM/edam_topics.txt', 'r') as edam_file:\n",
    "    full_edam_topics = edam_file.readlines()\n",
    "\n",
    "full_edam_topics = [topic.strip().replace('\\\"', '') for topic in full_edam_topics]"
   ]
  },
  {
   "cell_type": "code",
   "execution_count": 114,
   "metadata": {},
   "outputs": [],
   "source": [
    "# Gather average values \n",
    "\n",
    "def get_average_metrics(dataset, average_metrics: dict, column_name):\n",
    "    for name, group in dataset.groupby('Model'):\n",
    "        average_metrics[name] = group[column_name].mean()"
   ]
  },
  {
   "cell_type": "code",
   "execution_count": 115,
   "metadata": {},
   "outputs": [],
   "source": [
    "average_jaccard = dict()\n",
    "average_precision = dict()\n",
    "average_recall = dict()\n",
    "\n",
    "get_average_metrics(gpt_output, average_jaccard, 'Jaccard Similarity')\n",
    "get_average_metrics(gpt_output, average_precision, 'Precision')\n",
    "get_average_metrics(gpt_output, average_recall, 'Recall')"
   ]
  },
  {
   "cell_type": "code",
   "execution_count": 116,
   "metadata": {},
   "outputs": [
    {
     "name": "stdout",
     "output_type": "stream",
     "text": [
      "{'ft:gpt-3.5-turbo-0613:personal::8SAHvdnS': 0.14539003846245735, 'ft:gpt-3.5-turbo-0613:personal::8SD8i1on': 0.17692454913507544, 'ft:gpt-3.5-turbo-1106:personal::8SDAGTmv': 0.15975781150394153, 'gpt-3.5-turbo': 0.13936825094410235, 'gpt-4': 0.08875226457346834} \n",
      "\n",
      "{'ft:gpt-3.5-turbo-0613:personal::8SAHvdnS': 0.22613553113553114, 'ft:gpt-3.5-turbo-0613:personal::8SD8i1on': 0.2645934065934066, 'ft:gpt-3.5-turbo-1106:personal::8SDAGTmv': 0.23906349206349206, 'gpt-3.5-turbo': 0.24746031746031744, 'gpt-4': 0.0950153674919895} \n",
      "\n",
      "{'ft:gpt-3.5-turbo-0613:personal::8SAHvdnS': 0.2918210678210678, 'ft:gpt-3.5-turbo-0613:personal::8SD8i1on': 0.3542453102453102, 'ft:gpt-3.5-turbo-1106:personal::8SDAGTmv': 0.32689466089466085, 'gpt-3.5-turbo': 0.227008658008658, 'gpt-4': 0.6229422799422799} \n",
      "\n"
     ]
    }
   ],
   "source": [
    "print(average_jaccard, '\\n')\n",
    "print(average_precision, '\\n')\n",
    "print(average_recall, '\\n')"
   ]
  },
  {
   "cell_type": "code",
   "execution_count": 117,
   "metadata": {},
   "outputs": [],
   "source": [
    "gpt_output.to_csv('filtered_outputs_w_metrics.csv', index=False)"
   ]
  },
  {
   "cell_type": "markdown",
   "metadata": {},
   "source": [
    "## New Scoring Technique"
   ]
  },
  {
   "cell_type": "markdown",
   "metadata": {},
   "source": [
    "1. Calculate J-similarity, precision, recall and then remove the terms in common\n",
    "\n",
    "2. Check if a prediction term is within the same tree as a ground truth term\n",
    "\n",
    "3. If two terms are within the same tree:\n",
    "\n",
    "- Treat the two terms as a match\n",
    "- Determine which term is closer to the root ([http://edamontology.org/topic\\_0003](http://edamontology.org/topic_0003))\n",
    "  - Calculate a weight to apply depending on how close the closest term is to the root (Weight 1)\n",
    "    - If closest term is one step away from root it should have a lower score than a closest term that is 2 steps away. This is to lower the weight of excessively generic terms (use: 1-(1/(# of steps to closest term))\n",
    "  - Calculate a weight to apply depending on the number of steps between the two 'matching' terms (Weight 2)\n",
    "    - If the closest term to root is the ground truth term, use: (1/(# of steps between the terms))\n",
    "    - If the closest term to root is the prediction term, use: -(1/(# of steps between the terms)): It is negative only to ensure we will later be able to inspect the directionality\n",
    "- The overall weight should be a combination of the two, for example:\n",
    "- Overall weight = Weight 1 + ABS(Weight 2)\n",
    "- Weighted similarity: Add the overall weight for all matches, then add the j-sim (since we previously removed exact matches)\n",
    "\n",
    "**Adjusting for prediction number biases:**\n",
    "\n",
    "- The weighted similarity will be advantageous to ChatGPT 4 due to its tendency to dump every relevant term\n",
    "- To account for that, we can penalize it for making excessive guesses by multiplying the weighted similarity against the ratio of (# of gold standard terms)/(# of predicted terms).\n",
    "\n",
    "**Evaluating whether the prediction has a tendency to be more specific or less specific than the gold standard**\n",
    "\n",
    "- Broadness evaluation: (# of positive Weight 2 values)/(# of negative Weight 2 values)\n",
    "- If broadness evaluation is \\>1, LLM model predictions are more specific than Ground truth/gold standard terms\n",
    "  - If broadness evaluation is \\<1, LLM model predictions are less specific than ground truth/gold standard terms"
   ]
  },
  {
   "cell_type": "code",
   "execution_count": 118,
   "metadata": {},
   "outputs": [],
   "source": [
    "import pandas as pd\n",
    "\n",
    "edam_data = pd.read_csv(\"EDAM/EDAM.csv\")\n",
    "edam_data = edam_data[edam_data['Class ID'].str.startswith(\"http://edamontology.org/topic_\")].sort_values(by='Preferred Label')"
   ]
  },
  {
   "cell_type": "code",
   "execution_count": 119,
   "metadata": {},
   "outputs": [
    {
     "data": {
      "text/html": [
       "<div>\n",
       "<style scoped>\n",
       "    .dataframe tbody tr th:only-of-type {\n",
       "        vertical-align: middle;\n",
       "    }\n",
       "\n",
       "    .dataframe tbody tr th {\n",
       "        vertical-align: top;\n",
       "    }\n",
       "\n",
       "    .dataframe thead th {\n",
       "        text-align: right;\n",
       "    }\n",
       "</style>\n",
       "<table border=\"1\" class=\"dataframe\">\n",
       "  <thead>\n",
       "    <tr style=\"text-align: right;\">\n",
       "      <th></th>\n",
       "      <th>Class ID</th>\n",
       "      <th>Preferred Label</th>\n",
       "      <th>Parents</th>\n",
       "    </tr>\n",
       "  </thead>\n",
       "  <tbody>\n",
       "    <tr>\n",
       "      <th>2996</th>\n",
       "      <td>http://edamontology.org/topic_3521</td>\n",
       "      <td>2D PAGE experiment</td>\n",
       "      <td>http://www.w3.org/2002/07/owl#DeprecatedClass</td>\n",
       "    </tr>\n",
       "    <tr>\n",
       "      <th>3002</th>\n",
       "      <td>http://edamontology.org/topic_0174</td>\n",
       "      <td>Ab initio structure prediction</td>\n",
       "      <td>http://www.w3.org/2002/07/owl#DeprecatedClass</td>\n",
       "    </tr>\n",
       "    <tr>\n",
       "      <th>3329</th>\n",
       "      <td>http://edamontology.org/topic_0083</td>\n",
       "      <td>Alignment</td>\n",
       "      <td>http://www.w3.org/2002/07/owl#DeprecatedClass</td>\n",
       "    </tr>\n",
       "    <tr>\n",
       "      <th>1690</th>\n",
       "      <td>http://edamontology.org/topic_0786</td>\n",
       "      <td>Arabidopsis</td>\n",
       "      <td>http://www.w3.org/2002/07/owl#DeprecatedClass</td>\n",
       "    </tr>\n",
       "    <tr>\n",
       "      <th>2435</th>\n",
       "      <td>http://edamontology.org/topic_3075</td>\n",
       "      <td>Biological system modelling</td>\n",
       "      <td>http://www.w3.org/2002/07/owl#DeprecatedClass</td>\n",
       "    </tr>\n",
       "  </tbody>\n",
       "</table>\n",
       "</div>"
      ],
      "text/plain": [
       "                                Class ID                 Preferred Label  \\\n",
       "2996  http://edamontology.org/topic_3521              2D PAGE experiment   \n",
       "3002  http://edamontology.org/topic_0174  Ab initio structure prediction   \n",
       "3329  http://edamontology.org/topic_0083                       Alignment   \n",
       "1690  http://edamontology.org/topic_0786                     Arabidopsis   \n",
       "2435  http://edamontology.org/topic_3075     Biological system modelling   \n",
       "\n",
       "                                            Parents  \n",
       "2996  http://www.w3.org/2002/07/owl#DeprecatedClass  \n",
       "3002  http://www.w3.org/2002/07/owl#DeprecatedClass  \n",
       "3329  http://www.w3.org/2002/07/owl#DeprecatedClass  \n",
       "1690  http://www.w3.org/2002/07/owl#DeprecatedClass  \n",
       "2435  http://www.w3.org/2002/07/owl#DeprecatedClass  "
      ]
     },
     "execution_count": 119,
     "metadata": {},
     "output_type": "execute_result"
    }
   ],
   "source": [
    "edam_data[~edam_data['Parents'].str.contains(\"http://edamontology.org/topic_\")].head()[['Class ID', 'Preferred Label', 'Parents']]"
   ]
  },
  {
   "cell_type": "code",
   "execution_count": 120,
   "metadata": {},
   "outputs": [],
   "source": [
    "edam_data = edam_data[edam_data['Parents'].str.contains(\"http://edamontology.org/topic_\")]"
   ]
  },
  {
   "cell_type": "code",
   "execution_count": 121,
   "metadata": {},
   "outputs": [],
   "source": [
    "edam_data['Parents #'] = edam_data['Parents'].str.extractall(r'topic_(\\d+)').groupby(level=0).agg(lambda parents: parents.tolist())\n",
    "edam_data['Topic #'] = edam_data['Class ID'].apply(lambda url: url.split('topic_')[1])"
   ]
  },
  {
   "cell_type": "code",
   "execution_count": 122,
   "metadata": {},
   "outputs": [],
   "source": [
    "plabel_topic_dict = dict(zip(edam_data['Preferred Label'], edam_data['Topic #']))"
   ]
  },
  {
   "cell_type": "code",
   "execution_count": 123,
   "metadata": {},
   "outputs": [],
   "source": [
    "from collections import defaultdict\n",
    "\n",
    "topic_dict = defaultdict(list)\n",
    "\n",
    "for index, row in edam_data.iterrows():\n",
    "    topic = row['Topic #']\n",
    "    parents = row['Parents #']\n",
    "    \n",
    "    topic_dict[topic].extend(parents)"
   ]
  },
  {
   "cell_type": "code",
   "execution_count": 124,
   "metadata": {},
   "outputs": [
    {
     "name": "stdout",
     "output_type": "stream",
     "text": [
      "2\n"
     ]
    }
   ],
   "source": [
    "def shortest_distance(topic_dict, topic, verbose=False):\n",
    "    \n",
    "    queue = [(topic, 0, [topic])]\n",
    "    visited = set()\n",
    "    \n",
    "    while queue:\n",
    "        current_topic, distance, path = queue.pop(0)\n",
    "        \n",
    "        if current_topic == '0003':\n",
    "            if verbose:\n",
    "                print('Path to root: ', path)\n",
    "            return distance\n",
    "        \n",
    "        visited.add(current_topic)\n",
    "        \n",
    "        if current_topic in topic_dict:\n",
    "            parents = topic_dict[current_topic]\n",
    "            \n",
    "            for parent in parents:\n",
    "                if parent not in visited:\n",
    "                    queue.append((parent, distance + 1, path + [parent]))\n",
    "    \n",
    "    return -1  # If the root topic is not found\n",
    "\n",
    "dist = shortest_distance(topic_dict, '4030')\n",
    "\n",
    "print(dist)\n"
   ]
  },
  {
   "cell_type": "code",
   "execution_count": 125,
   "metadata": {},
   "outputs": [
    {
     "name": "stdout",
     "output_type": "stream",
     "text": [
      "\n",
      "4019: ['3070', '3344', '3307', '0610', '3303', '3391', '3810', '3292', '3360', '3306', '3297', '2229', '3369', '3064', '3299', '3573', '3053', '2815', '3387', '3301', '0621', '3047', '0780', '1317', '3895', '2259', '0781', '3500', '4030', '3398', '3368', '3912', '3576', '3939', '4030', '3895', '3065', '3945', '3298', '0084', '0637', '3944', '3293', '3295', '3912', '0625', '3574', '3930', '3321', '3056', '3173', '4037', '3974', '3945', '3298', '3055', '3959', '0623', '0203', '0114', '0199', '2830', '0204', '3941', '3320', '0749', '3308', '3941', '4027', '0659', '3512', '0798', '2533', '2885', '3175', '3958', '4013', '3697', '4038', '0611', '0593', '3448', '0122', '2828', '4017', '3067', '0804', '3386', '3376', '3304', '3390', '3302', '0202', '3395', '3277', '3930', '3948', '2830', '3679', '3374', '3373', '3336', '3375', '3379', '3393', '3394', '3377', '3966', '3343', '0209', '3378', '2840', '0208', '3337', '3340', '3341', '3339', '3338', '3892', '1775', '3321', '0602', '0077', '0084', '0078', '0080', '0160', '0081', '0176', '0085', '3959', '0623', '0203', '0114', '0199', '2830', '0204', '3941', '3320', '0749', '3308', '3941', '4027', '0659', '3512', '0798', '2533', '2885', '3175', '3958', '0128', '0654', '3511', '0097', '0099', '3125', '2533', '3176', '2885', '3127', '3175', '0749', '3958', '3125', '0749', '0659', '3512', '3320', '3944', '3293', '0821', '0623', '0820', '0108', '0128', '0123', '3510', '2814', '0749', '2830', '0601', '0140', '3120', '3534', '3538', '0130', '0736', '3542', '0166', '3944', '0102', '4038', '3293', '0194', '0632', '0196', '0157', '3511', '3510', '3125', '0749', '3534', '0152', '0153', '0097', '2814', '0154', '0082', '3538', '0130', '0736', '3542', '0166', '0176', '2275', '3050', '4020', '3174', '3697', '4038', '3400', '3402', '3335', '3423', '3403', '3405', '3404', '3406', '3407', '3409', '3410', '3399', '3411', '3408', '3412', '3415', '3416', '3334', '2640', '3417', '3418', '3401', '0634', '3577', '3300', '3419', '3305', '3420', '3322', '3421', '3396', '2840', '3342', '3414', '3575', '3422', '3397', '3324', '3325', '4013', '4016', '4014', '3388', '3955', '0622', '3967', '3172', '3945', '4021', '3298', '0121', '0797', '3173', '0085', '0199', '3174', '3943', '0208', '0194', '3796', '3922', '0122', '3308', '2533', '2885', '3175', '3958', '3941', '4027']\n",
      "3314: ['3370', '3292', '4020', '3332', '3336', '3371', '4030', '3343', '0209', '3369', '0209']\n",
      "3316: ['3332', '3473', '0092', '3474', '0218', '3372']\n",
      "3071: ['3077', '3365', '3571', '3345', '3366', '3572', '4011', '3263', '0219', '4012', '0769']\n",
      "3855: ['4020', '0610', '3050', '4020', '3174', '3697', '4038']\n",
      "3678: ['3679', '3517', '3379']\n",
      "0605: ['0091', '2258', '3489', '3948', '0607', '3063', '0089', '3931']\n",
      "3361: ['3940', '3934', '3516', '3382', '3656', '3518', '3519', '3957', '3520', '3523', '3168', '3524', '3383', '3954', '4016', '4014', '0611', '3385', '3444', '3384', '0593', '3448', '3452', '2828', '4017', '3179', '3169', '3674', '3794', '3169', '3676', '3923', '3837', '3170', '4028', '3673']\n",
      "3068: ['0218']\n",
      "3315: ['3569', '3570', '2269']\n",
      "4010: ['4012']\n",
      "3318: ['4029', '3306', '4020', '4030']\n"
     ]
    }
   ],
   "source": [
    "parent_topic = '0003'\n",
    "subtree_dict = {}\n",
    "\n",
    "for topic, parents in topic_dict.items():\n",
    "    if parent_topic in parents:\n",
    "        subtree_dict[topic] = []\n",
    "\n",
    "def get_children_topics(parent_id):\n",
    "    # children_ids = edam_data[edam_data['Parents'].str.contains(parent_id)]['Class ID'].apply(lambda url: url.split('topic_')[1]).to_list()\n",
    "    children_ids = edam_data[edam_data['Parents #'].apply(\\\n",
    "        lambda parent_ids: parent_id in parent_ids)]['Topic #'].to_list()\n",
    "    \n",
    "    if not len(children_ids):\n",
    "        return []\n",
    "    \n",
    "    # print(parent_id, children_ids)\n",
    "    \n",
    "    grandchildren = []\n",
    "    for child_id in children_ids:\n",
    "        grandchildren.append(get_children_topics(child_id))\n",
    "    \n",
    "    children_ids.append(grandchildren)\n",
    "    return children_ids\n",
    "\n",
    "for parent_topic in subtree_dict.keys():\n",
    "    subtree_dict[parent_topic] = get_children_topics(parent_topic)\n",
    "# We technically also have the topics which we removed from the EDAM list (laboratory techniques, etc.) but they are inconsequential here.\n",
    "\n",
    "def flatten_list(nested_list):\n",
    "    flattened = []\n",
    "    for item in nested_list:\n",
    "        if isinstance(item, list):\n",
    "            flattened.extend(flatten_list(item))\n",
    "        else:\n",
    "            flattened.append(item)\n",
    "    return flattened\n",
    "\n",
    "# Flatten each value in the dictionary\n",
    "subtree_dict = {key: flatten_list(value) for key, value in subtree_dict.items()}\n",
    "\n",
    "# Print the flattened dictionary\n",
    "print()\n",
    "for key, value in subtree_dict.items():\n",
    "    print(f\"{key}: {value}\")"
   ]
  },
  {
   "cell_type": "code",
   "execution_count": 126,
   "metadata": {},
   "outputs": [
    {
     "data": {
      "text/plain": [
       "{'4029': ['3318'],\n",
       " '3810': ['4019'],\n",
       " '3400': ['4019'],\n",
       " '3402': ['4019'],\n",
       " '3370': ['3314'],\n",
       " '3067': ['4019'],\n",
       " '3679': ['4019', '3678'],\n",
       " '4013': ['4019'],\n",
       " '3569': ['3315'],\n",
       " '3337': ['4019'],\n",
       " '3292': ['4019', '3314'],\n",
       " '3050': ['4019', '3855'],\n",
       " '3398': ['4019'],\n",
       " '3383': ['3361'],\n",
       " '0091': ['0605'],\n",
       " '3070': ['4019'],\n",
       " '3360': ['4019'],\n",
       " '3368': ['4019'],\n",
       " '3344': ['4019'],\n",
       " '3892': ['4019'],\n",
       " '3306': ['4019', '3318'],\n",
       " '4019': [],\n",
       " '3297': ['4019'],\n",
       " '3374': ['4019'],\n",
       " '0152': ['4019'],\n",
       " '4020': ['4019', '3314', '3855', '3318'],\n",
       " '3335': ['4019'],\n",
       " '2229': ['4019'],\n",
       " '3340': ['4019'],\n",
       " '3179': ['3361'],\n",
       " '3169': ['3361'],\n",
       " '3369': ['4019', '3314'],\n",
       " '2258': ['0605'],\n",
       " '3314': [],\n",
       " '3931': ['0605'],\n",
       " '3940': ['3361'],\n",
       " '3944': ['4019'],\n",
       " '3341': ['4019'],\n",
       " '0797': ['4019'],\n",
       " '3423': ['4019'],\n",
       " '3343': ['4019', '3314'],\n",
       " '3307': ['4019'],\n",
       " '3332': ['3314', '3316'],\n",
       " '3316': [],\n",
       " '3958': ['4019'],\n",
       " '3403': ['4019'],\n",
       " '4017': ['4019', '3361'],\n",
       " '3959': ['4019'],\n",
       " '3934': ['3361'],\n",
       " '0654': ['4019'],\n",
       " '3125': ['4019'],\n",
       " '2533': ['4019'],\n",
       " '3176': ['4019'],\n",
       " '2885': ['4019'],\n",
       " '3127': ['4019'],\n",
       " '3077': ['3071'],\n",
       " '3365': ['3071'],\n",
       " '3571': ['3071'],\n",
       " '3345': ['3071'],\n",
       " '3366': ['3071'],\n",
       " '3071': [],\n",
       " '3473': ['3316'],\n",
       " '3572': ['3071'],\n",
       " '4011': ['3071'],\n",
       " '3263': ['3071'],\n",
       " '0219': ['3071'],\n",
       " '0092': ['3316'],\n",
       " '3489': ['0605'],\n",
       " '3405': ['4019'],\n",
       " '3404': ['4019'],\n",
       " '3064': ['4019'],\n",
       " '3373': ['4019'],\n",
       " '3336': ['4019', '3314'],\n",
       " '3375': ['4019'],\n",
       " '3406': ['4019'],\n",
       " '3954': ['3361'],\n",
       " '0610': ['4019', '3855'],\n",
       " '4016': ['4019', '3361'],\n",
       " '4014': ['4019', '3361'],\n",
       " '0611': ['4019', '3361'],\n",
       " '3065': ['4019'],\n",
       " '3407': ['4019'],\n",
       " '3855': [],\n",
       " '0821': ['4019'],\n",
       " '3295': ['4019'],\n",
       " '3173': ['4019'],\n",
       " '3974': ['4019'],\n",
       " '3299': ['4019'],\n",
       " '3676': ['3361'],\n",
       " '3678': [],\n",
       " '4012': ['3071', '4010'],\n",
       " '3955': ['4019'],\n",
       " '3573': ['4019'],\n",
       " '1775': ['4019'],\n",
       " '0085': ['4019'],\n",
       " '0659': ['4019'],\n",
       " '3517': ['3678'],\n",
       " '3409': ['4019'],\n",
       " '3410': ['4019'],\n",
       " '0623': ['4019'],\n",
       " '0203': ['4019'],\n",
       " '0204': ['4019'],\n",
       " '0114': ['4019'],\n",
       " '3512': ['4019'],\n",
       " '3912': ['4019'],\n",
       " '0199': ['4019'],\n",
       " '3053': ['4019'],\n",
       " '3923': ['3361'],\n",
       " '4037': ['4019'],\n",
       " '0622': ['4019'],\n",
       " '0625': ['4019'],\n",
       " '3516': ['3361'],\n",
       " '3399': ['4019'],\n",
       " '3411': ['4019'],\n",
       " '3408': ['4019'],\n",
       " '3412': ['4019'],\n",
       " '2815': ['4019'],\n",
       " '3574': ['4019'],\n",
       " '3382': ['3361'],\n",
       " '3930': ['4019'],\n",
       " '3948': ['4019', '0605'],\n",
       " '0804': ['4019'],\n",
       " '3967': ['4019'],\n",
       " '3656': ['3361'],\n",
       " '2830': ['4019'],\n",
       " '3324': ['4019'],\n",
       " '0605': [],\n",
       " '3386': ['4019'],\n",
       " '0607': ['0605'],\n",
       " '3361': [],\n",
       " '3385': ['3361'],\n",
       " '0153': ['4019'],\n",
       " '3068': [],\n",
       " '3444': ['3361'],\n",
       " '3474': ['3316'],\n",
       " '0102': ['4019'],\n",
       " '3387': ['4019'],\n",
       " '3315': [],\n",
       " '3576': ['4019'],\n",
       " '3384': ['3361'],\n",
       " '3063': ['0605'],\n",
       " '3415': ['4019'],\n",
       " '0209': ['4019', '3314'],\n",
       " '3303': ['4019'],\n",
       " '3376': ['4019'],\n",
       " '0820': ['4019'],\n",
       " '4038': ['4019', '3855'],\n",
       " '3939': ['4019'],\n",
       " '3172': ['4019'],\n",
       " '3837': ['3361'],\n",
       " '3174': ['4019', '3855'],\n",
       " '3941': ['4019'],\n",
       " '3674': ['3361'],\n",
       " '3518': ['3361'],\n",
       " '3339': ['4019'],\n",
       " '3697': ['4019', '3855'],\n",
       " '3301': ['4019'],\n",
       " '4030': ['4019', '3314', '3318'],\n",
       " '0798': ['4019'],\n",
       " '0621': ['4019'],\n",
       " '3047': ['4019'],\n",
       " '0176': ['4019'],\n",
       " '3945': ['4019'],\n",
       " '3321': ['4019'],\n",
       " '0602': ['4019'],\n",
       " '3388': ['4019'],\n",
       " '2275': ['4019'],\n",
       " '3338': ['4019'],\n",
       " '4021': ['4019'],\n",
       " '3416': ['4019'],\n",
       " '0593': ['4019', '3361'],\n",
       " '0218': ['3316', '3068'],\n",
       " '3304': ['4019'],\n",
       " '3334': ['4019'],\n",
       " '3448': ['4019', '3361'],\n",
       " '3511': ['4019'],\n",
       " '0097': ['4019'],\n",
       " '0077': ['4019'],\n",
       " '3390': ['4019'],\n",
       " '3391': ['4019'],\n",
       " '2640': ['4019'],\n",
       " '0089': ['0605'],\n",
       " '4010': [],\n",
       " '3417': ['4019'],\n",
       " '3519': ['3361'],\n",
       " '3418': ['4019'],\n",
       " '3401': ['4019'],\n",
       " '3943': ['4019'],\n",
       " '3302': ['4019'],\n",
       " '0634': ['4019'],\n",
       " '3577': ['4019'],\n",
       " '0208': ['4019'],\n",
       " '0202': ['4019'],\n",
       " '3378': ['4019'],\n",
       " '3298': ['4019'],\n",
       " '3293': ['4019'],\n",
       " '0194': ['4019'],\n",
       " '0084': ['4019'],\n",
       " '3318': [],\n",
       " '3300': ['4019'],\n",
       " '0780': ['4019'],\n",
       " '3056': ['4019'],\n",
       " '3796': ['4019'],\n",
       " '3379': ['4019', '3678'],\n",
       " '0632': ['4019'],\n",
       " '3534': ['4019'],\n",
       " '3538': ['4019'],\n",
       " '0108': ['4019'],\n",
       " '0130': ['4019'],\n",
       " '0736': ['4019'],\n",
       " '3957': ['3361'],\n",
       " '0128': ['4019'],\n",
       " '0601': ['4019'],\n",
       " '0123': ['4019'],\n",
       " '3542': ['4019'],\n",
       " '3510': ['4019'],\n",
       " '0166': ['4019'],\n",
       " '2814': ['4019'],\n",
       " '0140': ['4019'],\n",
       " '3120': ['4019'],\n",
       " '0078': ['4019'],\n",
       " '3922': ['4019'],\n",
       " '0121': ['4019'],\n",
       " '3520': ['3361'],\n",
       " '3419': ['4019'],\n",
       " '3305': ['4019'],\n",
       " '3570': ['3315'],\n",
       " '3393': ['4019'],\n",
       " '3055': ['4019'],\n",
       " '0099': ['4019'],\n",
       " '3794': ['3361'],\n",
       " '3320': ['4019'],\n",
       " '3170': ['3361'],\n",
       " '3523': ['3361'],\n",
       " '3325': ['4019'],\n",
       " '3395': ['4019'],\n",
       " '3394': ['4019'],\n",
       " '3420': ['4019'],\n",
       " '3322': ['4019'],\n",
       " '4027': ['4019'],\n",
       " '3377': ['4019'],\n",
       " '3277': ['4019'],\n",
       " '0080': ['4019'],\n",
       " '0196': ['4019'],\n",
       " '0157': ['4019'],\n",
       " '0160': ['4019'],\n",
       " '3168': ['3361'],\n",
       " '3524': ['3361'],\n",
       " '4028': ['3361'],\n",
       " '0154': ['4019'],\n",
       " '3372': ['3316'],\n",
       " '2269': ['3315'],\n",
       " '1317': ['4019'],\n",
       " '0122': ['4019'],\n",
       " '3175': ['4019'],\n",
       " '0081': ['4019'],\n",
       " '0082': ['4019'],\n",
       " '3421': ['4019'],\n",
       " '3895': ['4019'],\n",
       " '3371': ['3314'],\n",
       " '2259': ['4019'],\n",
       " '3396': ['4019'],\n",
       " '0637': ['4019'],\n",
       " '3452': ['3361'],\n",
       " '2840': ['4019'],\n",
       " '0749': ['4019'],\n",
       " '3308': ['4019'],\n",
       " '3342': ['4019'],\n",
       " '3414': ['4019'],\n",
       " '3575': ['4019'],\n",
       " '3422': ['4019'],\n",
       " '3966': ['4019'],\n",
       " '3397': ['4019'],\n",
       " '0781': ['4019'],\n",
       " '3673': ['3361'],\n",
       " '0769': ['3071'],\n",
       " '2828': ['4019', '3361'],\n",
       " '3500': ['4019']}"
      ]
     },
     "execution_count": 126,
     "metadata": {},
     "output_type": "execute_result"
    }
   ],
   "source": [
    "topic_subtree_dict = {}\n",
    "\n",
    "for index, row in edam_data.iterrows():\n",
    "    topic = row['Topic #']\n",
    "    subtrees = []\n",
    "    \n",
    "    for subtree, topics in subtree_dict.items():\n",
    "        if topic in topics:\n",
    "            subtrees.append(subtree)\n",
    "    \n",
    "    topic_subtree_dict[topic] = subtrees\n",
    "\n",
    "topic_subtree_dict"
   ]
  },
  {
   "cell_type": "code",
   "execution_count": 127,
   "metadata": {},
   "outputs": [
    {
     "data": {
      "text/html": [
       "<div>\n",
       "<style scoped>\n",
       "    .dataframe tbody tr th:only-of-type {\n",
       "        vertical-align: middle;\n",
       "    }\n",
       "\n",
       "    .dataframe tbody tr th {\n",
       "        vertical-align: top;\n",
       "    }\n",
       "\n",
       "    .dataframe thead th {\n",
       "        text-align: right;\n",
       "    }\n",
       "</style>\n",
       "<table border=\"1\" class=\"dataframe\">\n",
       "  <thead>\n",
       "    <tr style=\"text-align: right;\">\n",
       "      <th></th>\n",
       "      <th>Model</th>\n",
       "      <th>Abstract</th>\n",
       "      <th>Ground Truth</th>\n",
       "      <th>Predictions</th>\n",
       "      <th>Jaccard Similarity</th>\n",
       "      <th>Precision</th>\n",
       "      <th>Recall</th>\n",
       "    </tr>\n",
       "  </thead>\n",
       "  <tbody>\n",
       "    <tr>\n",
       "      <th>0</th>\n",
       "      <td>ft:gpt-3.5-turbo-1106:personal::8SDAGTmv</td>\n",
       "      <td>While microarray experiments generate volumino...</td>\n",
       "      <td>{Zoology, Computational biology, Genetics}</td>\n",
       "      <td>{Gene regulation, Laboratory animal science, Z...</td>\n",
       "      <td>0.100000</td>\n",
       "      <td>0.125000</td>\n",
       "      <td>0.333333</td>\n",
       "    </tr>\n",
       "    <tr>\n",
       "      <th>1</th>\n",
       "      <td>ft:gpt-3.5-turbo-1106:personal::8SDAGTmv</td>\n",
       "      <td>Pea powdery mildew (PM) is an important fungal...</td>\n",
       "      <td>{Gene regulation, Proteins, Transcriptomics, S...</td>\n",
       "      <td>{Plant biology, Proteins, Transcriptomics, Hum...</td>\n",
       "      <td>0.095238</td>\n",
       "      <td>0.166667</td>\n",
       "      <td>0.181818</td>\n",
       "    </tr>\n",
       "    <tr>\n",
       "      <th>2</th>\n",
       "      <td>ft:gpt-3.5-turbo-1106:personal::8SDAGTmv</td>\n",
       "      <td>Differentiation proceeds along a continuum of ...</td>\n",
       "      <td>{Genotype and phenotype, Gene regulation, Sequ...</td>\n",
       "      <td>{Systems medicine, Gene regulation, Laboratory...</td>\n",
       "      <td>0.100000</td>\n",
       "      <td>0.133333</td>\n",
       "      <td>0.285714</td>\n",
       "    </tr>\n",
       "    <tr>\n",
       "      <th>3</th>\n",
       "      <td>ft:gpt-3.5-turbo-1106:personal::8SDAGTmv</td>\n",
       "      <td>The annual migration of a bird can involve tho...</td>\n",
       "      <td>{Zoology, Transcriptomics, Gene expression, Ge...</td>\n",
       "      <td>{Laboratory animal science, Neurology, Zoology...</td>\n",
       "      <td>0.250000</td>\n",
       "      <td>0.333333</td>\n",
       "      <td>0.500000</td>\n",
       "    </tr>\n",
       "    <tr>\n",
       "      <th>4</th>\n",
       "      <td>ft:gpt-3.5-turbo-1106:personal::8SDAGTmv</td>\n",
       "      <td>The utilization of methane, a potent greenhous...</td>\n",
       "      <td>{Pharmacology, Proteins, Drug metabolism, Gene...</td>\n",
       "      <td>{Gene regulation, Microbial ecology, Gene expr...</td>\n",
       "      <td>0.153846</td>\n",
       "      <td>0.200000</td>\n",
       "      <td>0.400000</td>\n",
       "    </tr>\n",
       "  </tbody>\n",
       "</table>\n",
       "</div>"
      ],
      "text/plain": [
       "                                      Model  \\\n",
       "0  ft:gpt-3.5-turbo-1106:personal::8SDAGTmv   \n",
       "1  ft:gpt-3.5-turbo-1106:personal::8SDAGTmv   \n",
       "2  ft:gpt-3.5-turbo-1106:personal::8SDAGTmv   \n",
       "3  ft:gpt-3.5-turbo-1106:personal::8SDAGTmv   \n",
       "4  ft:gpt-3.5-turbo-1106:personal::8SDAGTmv   \n",
       "\n",
       "                                            Abstract  \\\n",
       "0  While microarray experiments generate volumino...   \n",
       "1  Pea powdery mildew (PM) is an important fungal...   \n",
       "2  Differentiation proceeds along a continuum of ...   \n",
       "3  The annual migration of a bird can involve tho...   \n",
       "4  The utilization of methane, a potent greenhous...   \n",
       "\n",
       "                                        Ground Truth  \\\n",
       "0         {Zoology, Computational biology, Genetics}   \n",
       "1  {Gene regulation, Proteins, Transcriptomics, S...   \n",
       "2  {Genotype and phenotype, Gene regulation, Sequ...   \n",
       "3  {Zoology, Transcriptomics, Gene expression, Ge...   \n",
       "4  {Pharmacology, Proteins, Drug metabolism, Gene...   \n",
       "\n",
       "                                         Predictions  Jaccard Similarity  \\\n",
       "0  {Gene regulation, Laboratory animal science, Z...            0.100000   \n",
       "1  {Plant biology, Proteins, Transcriptomics, Hum...            0.095238   \n",
       "2  {Systems medicine, Gene regulation, Laboratory...            0.100000   \n",
       "3  {Laboratory animal science, Neurology, Zoology...            0.250000   \n",
       "4  {Gene regulation, Microbial ecology, Gene expr...            0.153846   \n",
       "\n",
       "   Precision    Recall  \n",
       "0   0.125000  0.333333  \n",
       "1   0.166667  0.181818  \n",
       "2   0.133333  0.285714  \n",
       "3   0.333333  0.500000  \n",
       "4   0.200000  0.400000  "
      ]
     },
     "execution_count": 127,
     "metadata": {},
     "output_type": "execute_result"
    }
   ],
   "source": [
    "data = gpt_output.drop(['Old Ground Truth', 'MeSH Terms'], axis=1).iloc[:, :-5]\n",
    "data.rename(columns={'New Ground Truth': 'Ground Truth'}, inplace=True)\n",
    "data.head()"
   ]
  },
  {
   "cell_type": "code",
   "execution_count": 128,
   "metadata": {},
   "outputs": [],
   "source": [
    "ground_truths = data['Ground Truth']\n",
    "predictions = data['Predictions']\n",
    "\n",
    "exclusive_ground_truths = []\n",
    "exclusive_predictions = []\n",
    "\n",
    "for ground_truth, prediction in zip(ground_truths, predictions):\n",
    "    exclusive_ground_truths.append(set([label for label in ground_truth if label not in prediction]))\n",
    "    exclusive_predictions.append(set([label for label in prediction if label not in ground_truth]))"
   ]
  },
  {
   "cell_type": "code",
   "execution_count": 129,
   "metadata": {},
   "outputs": [],
   "source": [
    "data['Exclusive Ground Truth'] = exclusive_ground_truths\n",
    "data['Exclusive Predictions'] = exclusive_predictions"
   ]
  },
  {
   "cell_type": "code",
   "execution_count": 130,
   "metadata": {},
   "outputs": [
    {
     "data": {
      "text/plain": [
       "defaultdict(list,\n",
       "            {'4029': ['4029', '3318', '0003'],\n",
       "             '3810': ['3810', '3070', '4019', '0003'],\n",
       "             '3400': ['3400', '3303', '4019', '0003'],\n",
       "             '3402': ['3402', '3303', '4019', '0003'],\n",
       "             '3370': ['3370', '3314', '0003'],\n",
       "             '3067': ['3067', '3344', '4019', '0003'],\n",
       "             '3679': ['3679', '3678', '0003'],\n",
       "             '4013': ['4013', '3301', '3070', '4019', '0003'],\n",
       "             '3569': ['3569', '3315', '0003'],\n",
       "             '3337': ['3337', '3277', '3344', '4019', '0003'],\n",
       "             '3292': ['3292', '3314', '0003'],\n",
       "             '3050': ['3050', '0610', '4019', '0003'],\n",
       "             '3398': ['3398', '3297', '3070', '4019', '0003'],\n",
       "             '3383': ['3383', '3382', '3361', '0003'],\n",
       "             '0091': ['0091', '0605', '0003'],\n",
       "             '3070': ['3070', '4019', '0003'],\n",
       "             '3360': ['3360', '3070', '4019', '0003'],\n",
       "             '3368': ['3368', '3297', '3070', '4019', '0003'],\n",
       "             '3344': ['3344', '4019', '0003'],\n",
       "             '3892': ['3892', '3307', '4019', '0003'],\n",
       "             '3306': ['3306', '3318', '0003'],\n",
       "             '4019': ['4019', '0003'],\n",
       "             '3297': ['3297', '3070', '4019', '0003'],\n",
       "             '3374': ['3374', '3376', '3344', '4019', '0003'],\n",
       "             '0152': ['0152', '0081', '3307', '4019', '0003'],\n",
       "             '4020': ['4020', '3855', '0003'],\n",
       "             '3335': ['3335', '3303', '4019', '0003'],\n",
       "             '2229': ['2229', '3070', '4019', '0003'],\n",
       "             '3340': ['3340', '3277', '3344', '4019', '0003'],\n",
       "             '3179': ['3179', '3656', '3361', '0003'],\n",
       "             '3169': ['3169', '3168', '3361', '0003'],\n",
       "             '3369': ['3369', '3371', '3314', '0003'],\n",
       "             '2258': ['2258', '0605', '0003'],\n",
       "             '3314': ['3314', '0003'],\n",
       "             '3931': ['3931', '2258', '0605', '0003'],\n",
       "             '3940': ['3940', '3361', '0003'],\n",
       "             '3944': ['3944', '0084', '3307', '4019', '0003'],\n",
       "             '3341': ['3341', '3277', '3344', '4019', '0003'],\n",
       "             '0797': ['0797', '0622', '3391', '4019', '0003'],\n",
       "             '3423': ['3423', '3303', '4019', '0003'],\n",
       "             '3343': ['3343', '3336', '3314', '0003'],\n",
       "             '3307': ['3307', '4019', '0003'],\n",
       "             '3332': ['3332', '3316', '0003'],\n",
       "             '3316': ['3316', '0003'],\n",
       "             '3958': ['3958', '3175', '0654', '0077', '3307', '4019', '0003'],\n",
       "             '3403': ['3403', '3303', '4019', '0003'],\n",
       "             '4017': ['4017', '0611', '3382', '3361', '0003'],\n",
       "             '3959': ['3959', '3321', '3307', '4019', '0003'],\n",
       "             '3934': ['3934', '3361', '0003'],\n",
       "             '0654': ['0654', '0077', '3307', '4019', '0003'],\n",
       "             '3125': ['3125', '3511', '0160', '3307', '4019', '0003'],\n",
       "             '2533': ['2533', '0654', '0077', '3307', '4019', '0003'],\n",
       "             '3176': ['3176', '0654', '0077', '3307', '4019', '0003'],\n",
       "             '2885': ['2885', '0654', '0077', '3307', '4019', '0003'],\n",
       "             '3127': ['3127', '0654', '0077', '3307', '4019', '0003'],\n",
       "             '3077': ['3077', '3071', '0003'],\n",
       "             '3365': ['3365', '3071', '0003'],\n",
       "             '3571': ['3571', '3071', '0003'],\n",
       "             '3345': ['3345', '3071', '0003'],\n",
       "             '3366': ['3366', '3071', '0003'],\n",
       "             '3071': ['3071', '0003'],\n",
       "             '3473': ['3473', '3316', '0003'],\n",
       "             '3572': ['3572', '3071', '0003'],\n",
       "             '4011': ['4011', '3071', '0003'],\n",
       "             '3263': ['3263', '3071', '0003'],\n",
       "             '0219': ['0219', '3071', '0003'],\n",
       "             '0092': ['0092', '3316', '0003'],\n",
       "             '3489': ['3489', '0605', '0003'],\n",
       "             '3405': ['3405', '3303', '4019', '0003'],\n",
       "             '3404': ['3404', '3303', '4019', '0003'],\n",
       "             '3064': ['3064', '3070', '4019', '0003'],\n",
       "             '3373': ['3373', '3376', '3344', '4019', '0003'],\n",
       "             '3336': ['3336', '3314', '0003'],\n",
       "             '3375': ['3375', '3376', '3344', '4019', '0003'],\n",
       "             '3406': ['3406', '3303', '4019', '0003'],\n",
       "             '3954': ['3954', '3382', '3361', '0003'],\n",
       "             '0610': ['0610', '4019', '0003'],\n",
       "             '4016': ['4016', '3382', '3361', '0003'],\n",
       "             '4014': ['4014', '3382', '3361', '0003'],\n",
       "             '0611': ['0611', '3382', '3361', '0003'],\n",
       "             '3065': ['3065', '3064', '3070', '4019', '0003'],\n",
       "             '3407': ['3407', '3303', '4019', '0003'],\n",
       "             '3855': ['3855', '0003'],\n",
       "             '0821': ['0821', '0078', '3307', '4019', '0003'],\n",
       "             '3295': ['3295', '3053', '3070', '4019', '0003'],\n",
       "             '3173': ['3173', '0622', '3391', '4019', '0003'],\n",
       "             '3974': ['3974', '0625', '3053', '3070', '4019', '0003'],\n",
       "             '3299': ['3299', '3070', '4019', '0003'],\n",
       "             '3676': ['3676', '3168', '3361', '0003'],\n",
       "             '3678': ['3678', '0003'],\n",
       "             '4012': ['4012', '3071', '0003'],\n",
       "             '3955': ['3955', '3391', '4019', '0003'],\n",
       "             '3573': ['3573', '3070', '4019', '0003'],\n",
       "             '1775': ['1775', '3307', '4019', '0003'],\n",
       "             '0085': ['0085', '0622', '3391', '4019', '0003'],\n",
       "             '0659': ['0659', '0114', '3321', '3307', '4019', '0003'],\n",
       "             '3517': ['3517', '3678', '0003'],\n",
       "             '3409': ['3409', '3303', '4019', '0003'],\n",
       "             '3410': ['3410', '3303', '4019', '0003'],\n",
       "             '0623': ['0623', '3321', '3307', '4019', '0003'],\n",
       "             '0203': ['0203', '3321', '3307', '4019', '0003'],\n",
       "             '0204': ['0204', '0203', '3321', '3307', '4019', '0003'],\n",
       "             '0114': ['0114', '3321', '3307', '4019', '0003'],\n",
       "             '3512': ['3512', '0114', '3321', '3307', '4019', '0003'],\n",
       "             '3912': ['3912', '3053', '3070', '4019', '0003'],\n",
       "             '0199': ['0199', '0622', '3391', '4019', '0003'],\n",
       "             '3053': ['3053', '3070', '4019', '0003'],\n",
       "             '3923': ['3923', '3168', '3361', '0003'],\n",
       "             '4037': ['4037', '3295', '3053', '3070', '4019', '0003'],\n",
       "             '0622': ['0622', '3391', '4019', '0003'],\n",
       "             '0625': ['0625', '3053', '3070', '4019', '0003'],\n",
       "             '3516': ['3516', '3361', '0003'],\n",
       "             '3399': ['3399', '3303', '4019', '0003'],\n",
       "             '3411': ['3411', '3303', '4019', '0003'],\n",
       "             '3408': ['3408', '3303', '4019', '0003'],\n",
       "             '3412': ['3412', '3303', '4019', '0003'],\n",
       "             '2815': ['2815', '3070', '4019', '0003'],\n",
       "             '3574': ['3574', '3053', '3070', '4019', '0003'],\n",
       "             '3382': ['3382', '3361', '0003'],\n",
       "             '3930': ['3930', '3053', '3070', '4019', '0003'],\n",
       "             '3948': ['3948', '0605', '0003'],\n",
       "             '0804': ['0804', '3344', '4019', '0003'],\n",
       "             '3967': ['3967', '3391', '4019', '0003'],\n",
       "             '3656': ['3656', '3361', '0003'],\n",
       "             '2830': ['2830', '0804', '3344', '4019', '0003'],\n",
       "             '3324': ['3324', '0634', '3303', '4019', '0003'],\n",
       "             '0605': ['0605', '0003'],\n",
       "             '3386': ['3386', '3344', '4019', '0003'],\n",
       "             '0607': ['0607', '0605', '0003'],\n",
       "             '3361': ['3361', '0003'],\n",
       "             '3385': ['3385', '3382', '3361', '0003'],\n",
       "             '0153': ['0153', '0081', '3307', '4019', '0003'],\n",
       "             '3068': ['3068', '0003'],\n",
       "             '3444': ['3444', '3382', '3361', '0003'],\n",
       "             '3474': ['3474', '3316', '0003'],\n",
       "             '0102': ['0102', '0080', '3307', '4019', '0003'],\n",
       "             '3387': ['3387', '3070', '4019', '0003'],\n",
       "             '3315': ['3315', '0003'],\n",
       "             '3576': ['3576', '3297', '3070', '4019', '0003'],\n",
       "             '3384': ['3384', '3382', '3361', '0003'],\n",
       "             '3063': ['3063', '0605', '0003'],\n",
       "             '3415': ['3415', '3303', '4019', '0003'],\n",
       "             '0209': ['0209', '3336', '3314', '0003'],\n",
       "             '3303': ['3303', '4019', '0003'],\n",
       "             '3376': ['3376', '3344', '4019', '0003'],\n",
       "             '0820': ['0820', '0078', '3307', '4019', '0003'],\n",
       "             '4038': ['4038', '3697', '0610', '4019', '0003'],\n",
       "             '3939': ['3939', '3297', '3070', '4019', '0003'],\n",
       "             '3172': ['3172', '3391', '4019', '0003'],\n",
       "             '3837': ['3837', '3168', '3361', '0003'],\n",
       "             '3174': ['3174', '0610', '4019', '0003'],\n",
       "             '3941': ['3941', '3308', '0622', '3391', '4019', '0003'],\n",
       "             '3674': ['3674', '3656', '3361', '0003'],\n",
       "             '3518': ['3518', '3361', '0003'],\n",
       "             '3339': ['3339', '3277', '3344', '4019', '0003'],\n",
       "             '3697': ['3697', '0610', '4019', '0003'],\n",
       "             '3301': ['3301', '3070', '4019', '0003'],\n",
       "             '4030': ['4030', '3318', '0003'],\n",
       "             '0798': ['0798', '0114', '3321', '3307', '4019', '0003'],\n",
       "             '0621': ['0621', '3070', '4019', '0003'],\n",
       "             '3047': ['3047', '3070', '4019', '0003'],\n",
       "             '0176': ['0176', '3892', '3307', '4019', '0003'],\n",
       "             '3945': ['3945', '3391', '4019', '0003'],\n",
       "             '3321': ['3321', '3307', '4019', '0003'],\n",
       "             '0602': ['0602', '3307', '4019', '0003'],\n",
       "             '3388': ['3388', '3342', '3303', '4019', '0003'],\n",
       "             '2275': ['2275', '0082', '0081', '3307', '4019', '0003'],\n",
       "             '3338': ['3338', '3277', '3344', '4019', '0003'],\n",
       "             '4021': ['4021', '3391', '4019', '0003'],\n",
       "             '3416': ['3416', '3303', '4019', '0003'],\n",
       "             '0593': ['0593', '3382', '3361', '0003'],\n",
       "             '0218': ['0218', '3068', '0003'],\n",
       "             '3304': ['3304', '3344', '4019', '0003'],\n",
       "             '3334': ['3334', '3303', '4019', '0003'],\n",
       "             '3448': ['3448', '3382', '3361', '0003'],\n",
       "             '3511': ['3511', '0160', '3307', '4019', '0003'],\n",
       "             '0097': ['0097', '0077', '3307', '4019', '0003'],\n",
       "             '0077': ['0077', '3307', '4019', '0003'],\n",
       "             '3390': ['3390', '3344', '4019', '0003'],\n",
       "             '3391': ['3391', '4019', '0003'],\n",
       "             '2640': ['2640', '3303', '4019', '0003'],\n",
       "             '0089': ['0089', '0605', '0003'],\n",
       "             '4010': ['4010', '0003'],\n",
       "             '3417': ['3417', '3303', '4019', '0003'],\n",
       "             '3519': ['3519', '3361', '0003'],\n",
       "             '3418': ['3418', '3303', '4019', '0003'],\n",
       "             '3401': ['3401', '3303', '4019', '0003'],\n",
       "             '3943': ['3943', '0622', '3391', '4019', '0003'],\n",
       "             '3302': ['3302', '3344', '4019', '0003'],\n",
       "             '0634': ['0634', '3303', '4019', '0003'],\n",
       "             '3577': ['3577', '3303', '4019', '0003'],\n",
       "             '0208': ['0208', '0622', '3391', '4019', '0003'],\n",
       "             '0202': ['0202', '3344', '4019', '0003'],\n",
       "             '3378': ['3378', '3377', '3376', '3344', '4019', '0003'],\n",
       "             '3298': ['3298', '3391', '4019', '0003'],\n",
       "             '3293': ['3293', '0084', '3307', '4019', '0003'],\n",
       "             '0194': ['0194', '0622', '3391', '4019', '0003'],\n",
       "             '0084': ['0084', '3307', '4019', '0003'],\n",
       "             '3318': ['3318', '0003'],\n",
       "             '3300': ['3300', '3303', '4019', '0003'],\n",
       "             '0780': ['0780', '3070', '4019', '0003'],\n",
       "             '3056': ['3056', '3053', '3070', '4019', '0003'],\n",
       "             '3796': ['3796', '0622', '3391', '4019', '0003'],\n",
       "             '3379': ['3379', '3678', '0003'],\n",
       "             '0632': ['0632', '0080', '3307', '4019', '0003'],\n",
       "             '3534': ['3534', '3510', '0160', '3307', '4019', '0003'],\n",
       "             '3538': ['3538', '2814', '0081', '3307', '4019', '0003'],\n",
       "             '0108': ['0108', '0078', '3307', '4019', '0003'],\n",
       "             '0130': ['0130', '2814', '0081', '3307', '4019', '0003'],\n",
       "             '0736': ['0736', '2814', '0081', '3307', '4019', '0003'],\n",
       "             '3957': ['3957', '3361', '0003'],\n",
       "             '0128': ['0128', '0602', '3307', '4019', '0003'],\n",
       "             '0601': ['0601', '0108', '0078', '3307', '4019', '0003'],\n",
       "             '0123': ['0123', '0078', '3307', '4019', '0003'],\n",
       "             '3542': ['3542', '2814', '0081', '3307', '4019', '0003'],\n",
       "             '3510': ['3510', '0160', '3307', '4019', '0003'],\n",
       "             '0166': ['0166', '2814', '0081', '3307', '4019', '0003'],\n",
       "             '2814': ['2814', '0081', '3307', '4019', '0003'],\n",
       "             '0140': ['0140', '0108', '0078', '3307', '4019', '0003'],\n",
       "             '3120': ['3120', '0108', '0078', '3307', '4019', '0003'],\n",
       "             '0078': ['0078', '3307', '4019', '0003'],\n",
       "             '3922': ['3922', '0622', '3391', '4019', '0003'],\n",
       "             '0121': ['0121', '3391', '4019', '0003'],\n",
       "             '3520': ['3520', '3361', '0003'],\n",
       "             '3419': ['3419', '3303', '4019', '0003'],\n",
       "             '3305': ['3305', '3303', '4019', '0003'],\n",
       "             '3570': ['3570', '3315', '0003'],\n",
       "             '3393': ['3393', '3376', '3344', '4019', '0003'],\n",
       "             '3055': ['3055', '0625', '3053', '3070', '4019', '0003'],\n",
       "             '0099': ['0099', '0077', '3307', '4019', '0003'],\n",
       "             '3794': ['3794', '3656', '3361', '0003'],\n",
       "             '3320': ['3320', '0203', '3321', '3307', '4019', '0003'],\n",
       "             '3170': ['3170', '3168', '3361', '0003'],\n",
       "             '3523': ['3523', '3361', '0003'],\n",
       "             '3325': ['3325', '0634', '3303', '4019', '0003'],\n",
       "             '3395': ['3395', '3344', '4019', '0003'],\n",
       "             '3394': ['3394', '3376', '3344', '4019', '0003'],\n",
       "             '3420': ['3420', '3303', '4019', '0003'],\n",
       "             '3322': ['3322', '3303', '4019', '0003'],\n",
       "             '4027': ['4027', '3308', '0622', '3391', '4019', '0003'],\n",
       "             '3377': ['3377', '3376', '3344', '4019', '0003'],\n",
       "             '3277': ['3277', '3344', '4019', '0003'],\n",
       "             '0080': ['0080', '3307', '4019', '0003'],\n",
       "             '0196': ['0196', '0080', '3307', '4019', '0003'],\n",
       "             '0157': ['0157', '0080', '3307', '4019', '0003'],\n",
       "             '0160': ['0160', '3307', '4019', '0003'],\n",
       "             '3168': ['3168', '3361', '0003'],\n",
       "             '3524': ['3524', '3361', '0003'],\n",
       "             '4028': ['4028', '3168', '3361', '0003'],\n",
       "             '0154': ['0154', '0081', '3307', '4019', '0003'],\n",
       "             '3372': ['3372', '3316', '0003'],\n",
       "             '2269': ['2269', '3315', '0003'],\n",
       "             '1317': ['1317', '3070', '4019', '0003'],\n",
       "             '0122': ['0122', '0622', '3391', '4019', '0003'],\n",
       "             '3175': ['3175', '0654', '0077', '3307', '4019', '0003'],\n",
       "             '0081': ['0081', '3307', '4019', '0003'],\n",
       "             '0082': ['0082', '0081', '3307', '4019', '0003'],\n",
       "             '3421': ['3421', '3303', '4019', '0003'],\n",
       "             '3895': ['3895', '3070', '4019', '0003'],\n",
       "             '3371': ['3371', '3314', '0003'],\n",
       "             '2259': ['2259', '3070', '4019', '0003'],\n",
       "             '3396': ['3396', '3303', '4019', '0003'],\n",
       "             '0637': ['0637', '3299', '3070', '4019', '0003'],\n",
       "             '3452': ['3452', '3382', '3361', '0003'],\n",
       "             '2840': ['2840', '3303', '4019', '0003'],\n",
       "             '0749': ['0749', '0078', '3307', '4019', '0003'],\n",
       "             '3308': ['3308', '0622', '3391', '4019', '0003'],\n",
       "             '3342': ['3342', '3303', '4019', '0003'],\n",
       "             '3414': ['3414', '3303', '4019', '0003'],\n",
       "             '3575': ['3575', '3303', '4019', '0003'],\n",
       "             '3422': ['3422', '3303', '4019', '0003'],\n",
       "             '3966': ['3966', '3376', '3344', '4019', '0003'],\n",
       "             '3397': ['3397', '3303', '4019', '0003'],\n",
       "             '0781': ['0781', '3070', '4019', '0003'],\n",
       "             '3673': ['3673', '3168', '3361', '0003'],\n",
       "             '0769': ['0769', '3071', '0003'],\n",
       "             '2828': ['2828', '3382', '3361', '0003'],\n",
       "             '3500': ['3500', '3070', '4019', '0003']})"
      ]
     },
     "execution_count": 130,
     "metadata": {},
     "output_type": "execute_result"
    }
   ],
   "source": [
    "def shortest_path(topic_dict, topic):\n",
    "    \n",
    "    queue = [(topic, 0, [topic])]\n",
    "    visited = set()\n",
    "    \n",
    "    while queue:\n",
    "        current_topic, distance, path = queue.pop(0)\n",
    "        \n",
    "        if current_topic == '0003':\n",
    "            return path\n",
    "        \n",
    "        visited.add(current_topic)\n",
    "        \n",
    "        if current_topic in topic_dict:\n",
    "            parents = topic_dict[current_topic]\n",
    "            \n",
    "            for parent in parents:\n",
    "                if parent not in visited:\n",
    "                    queue.append((parent, distance + 1, path + [parent]))\n",
    "    \n",
    "    return []  # If the root topic is not found\n",
    "\n",
    "shortest_paths = defaultdict(list)\n",
    "\n",
    "for topic in topic_subtree_dict.keys():\n",
    "    shortest_paths[topic] = shortest_path(topic_dict, topic)\n",
    "\n",
    "shortest_paths"
   ]
  },
  {
   "cell_type": "code",
   "execution_count": 185,
   "metadata": {},
   "outputs": [],
   "source": [
    "# Calculate weights for each row\n",
    "def calculate_weights(tree, term1, term2, paths=shortest_paths):\n",
    "\n",
    "    # Weight 1: Distance from root\n",
    "    steps_to_term1 = shortest_distance(tree, term1)\n",
    "    steps_to_term2 = shortest_distance(tree, term2)\n",
    "\n",
    "    # determine the steps between the two terms\n",
    "    def steps_between_terms(paths, topic1, topic2):\n",
    "        path1 = paths[topic1]\n",
    "        path2 = paths[topic2]\n",
    "\n",
    "        index1 = index2 = 0\n",
    "\n",
    "        for i, (n1, n2) in enumerate(zip(path1, path2)):\n",
    "            if n1 != n2:\n",
    "                break\n",
    "\n",
    "            index1 = i + 1\n",
    "            index2 = i + 1\n",
    "\n",
    "        return len(path1) - index1 + len(path2) - index2\n",
    "\n",
    "    steps_between = steps_between_terms(paths, term1, term2)\n",
    "\n",
    "    # Assuming term1 is ground truth and term2 is prediction\n",
    "    if steps_to_term1 < steps_to_term2:\n",
    "        weight1 = 1 - (1 / steps_to_term1)\n",
    "        weight2 = (1 / steps_between)\n",
    "    else:\n",
    "        weight1 = 1 - (1 / steps_to_term2)\n",
    "        weight2 = -1 / steps_between\n",
    "    \n",
    "    weight = weight1 + abs(weight2)\n",
    "\n",
    "    return weight, (weight1, weight2)\n",
    "\n",
    "for idx, row in data.iterrows():\n",
    "    ground_truth = row['Exclusive Ground Truth']\n",
    "    prediction = row['Exclusive Predictions']\n",
    "\n",
    "    weights = []\n",
    "    num_positive_w2 = num_negative_w2 = 0\n",
    "    for truth_label in ground_truth:\n",
    "        for pred_label in prediction:\n",
    "            truth_topic, pred_topic = plabel_topic_dict[truth_label], plabel_topic_dict[pred_label]\n",
    "            # If labels are not in the same subtree\n",
    "            if not set(topic_subtree_dict[pred_topic]) & set(topic_subtree_dict[truth_topic]):\n",
    "                continue\n",
    "            total_weight, (w1, w2) = calculate_weights(topic_dict, truth_topic, pred_topic)\n",
    "            weights.append(total_weight)\n",
    "\n",
    "            if w2 >= 0:\n",
    "                num_positive_w2 += 1\n",
    "            elif w2 < 0:\n",
    "                num_negative_w2 += 1\n",
    "    \n",
    "    data.loc[idx, 'Weight'] = sum(weights) + row['Jaccard Similarity']\n",
    "    # data.loc[idx, 'Broadness Score'] = num_positive_w2 / (num_positive_w2 + num_negative_w2\n",
    "    try:\n",
    "        data.loc[idx, 'Broadness Score'] = num_positive_w2 / (num_negative_w2)\n",
    "    except:\n",
    "        data.loc[idx, 'Broadness Score'] = 0"
   ]
  },
  {
   "cell_type": "code",
   "execution_count": 186,
   "metadata": {},
   "outputs": [],
   "source": [
    "# Adjust weights for prediction number bias\n",
    "\n",
    "data['Adjusted Weights'] = data['Weight'] * (data['Ground Truth'].apply(len) / data['Predictions'].apply(len))"
   ]
  },
  {
   "cell_type": "code",
   "execution_count": 187,
   "metadata": {},
   "outputs": [],
   "source": [
    "data.to_csv('updated_scoring_results.csv', index=False)"
   ]
  },
  {
   "cell_type": "code",
   "execution_count": null,
   "metadata": {},
   "outputs": [],
   "source": []
  }
 ],
 "metadata": {
  "kernelspec": {
   "display_name": "nde_gpt",
   "language": "python",
   "name": "python3"
  },
  "language_info": {
   "codemirror_mode": {
    "name": "ipython",
    "version": 3
   },
   "file_extension": ".py",
   "mimetype": "text/x-python",
   "name": "python",
   "nbconvert_exporter": "python",
   "pygments_lexer": "ipython3",
   "version": "3.10.13"
  }
 },
 "nbformat": 4,
 "nbformat_minor": 2
}
