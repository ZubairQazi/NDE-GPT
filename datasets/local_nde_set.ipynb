{
 "cells": [
  {
   "cell_type": "code",
   "execution_count": 2,
   "metadata": {},
   "outputs": [],
   "source": [
    "import pandas as pd\n",
    "import ijson\n",
    "\n",
    "import ast\n",
    "import os\n"
   ]
  },
  {
   "cell_type": "code",
   "execution_count": 4,
   "metadata": {},
   "outputs": [],
   "source": [
    "filename = \"nde_hub.nde_all_prod_20240214_b9kgi6tc.json\"\n",
    "data = []\n",
    "\n",
    "with open(filename, 'r') as file:\n",
    "    objects = ijson.items(file, 'item')\n",
    "    for obj in objects:\n",
    "        data.append(obj)"
   ]
  },
  {
   "cell_type": "code",
   "execution_count": 3,
   "metadata": {},
   "outputs": [],
   "source": [
    "prod_data = pd.DataFrame(data)"
   ]
  },
  {
   "cell_type": "code",
   "execution_count": 4,
   "metadata": {},
   "outputs": [],
   "source": [
    "prod_data.rename(columns={'name': 'Name', 'description': 'Description', 'date': 'Date', 'url':'URL', 'abstract': 'Abstract'}, inplace=True)\n"
   ]
  },
  {
   "cell_type": "code",
   "execution_count": 5,
   "metadata": {},
   "outputs": [
    {
     "data": {
      "text/html": [
       "<div>\n",
       "<style scoped>\n",
       "    .dataframe tbody tr th:only-of-type {\n",
       "        vertical-align: middle;\n",
       "    }\n",
       "\n",
       "    .dataframe tbody tr th {\n",
       "        vertical-align: top;\n",
       "    }\n",
       "\n",
       "    .dataframe thead th {\n",
       "        text-align: right;\n",
       "    }\n",
       "</style>\n",
       "<table border=\"1\" class=\"dataframe\">\n",
       "  <thead>\n",
       "    <tr style=\"text-align: right;\">\n",
       "      <th></th>\n",
       "      <th>_id</th>\n",
       "      <th>Date</th>\n",
       "      <th>Description</th>\n",
       "      <th>includedInDataCatalog</th>\n",
       "      <th>Name</th>\n",
       "      <th>URL</th>\n",
       "      <th>Abstract</th>\n",
       "    </tr>\n",
       "  </thead>\n",
       "  <tbody>\n",
       "    <tr>\n",
       "      <th>0</th>\n",
       "      <td>VIVLI_00082385-f73e-472b-bf66-81f800e35b11</td>\n",
       "      <td>2022-07-07</td>\n",
       "      <td>The study will evaluate the immune response an...</td>\n",
       "      <td>{'name': 'Vivli'}</td>\n",
       "      <td>Dataset from An Open, Phase IV Study on the Im...</td>\n",
       "      <td>https://doi.org/10.25934/00000403</td>\n",
       "      <td>NaN</td>\n",
       "    </tr>\n",
       "    <tr>\n",
       "      <th>1</th>\n",
       "      <td>VIVLI_0021f33a-7957-4fdc-b17b-c44697a1e4a4</td>\n",
       "      <td>2023-10-23</td>\n",
       "      <td>This is a multicenter, randomized, open-label,...</td>\n",
       "      <td>{'name': 'Vivli'}</td>\n",
       "      <td>Dataset from A Multicenter, Randomized, Open-l...</td>\n",
       "      <td>https://doi.org/10.25934/PR00008329</td>\n",
       "      <td>NaN</td>\n",
       "    </tr>\n",
       "    <tr>\n",
       "      <th>2</th>\n",
       "      <td>VIVLI_002af971-d0f3-46f7-bf23-3e0ff3458224</td>\n",
       "      <td>2022-07-05</td>\n",
       "      <td>This study will assess the efficacy and safety...</td>\n",
       "      <td>{'name': 'Vivli'}</td>\n",
       "      <td>Dataset from An Open Label Study to Assess the...</td>\n",
       "      <td>https://doi.org/10.25934/00005745</td>\n",
       "      <td>NaN</td>\n",
       "    </tr>\n",
       "    <tr>\n",
       "      <th>3</th>\n",
       "      <td>VIVLI_002bf970-2a5b-4dee-a2ef-1e78e269f132</td>\n",
       "      <td>2023-10-19</td>\n",
       "      <td>The purpose of this study is to determine if L...</td>\n",
       "      <td>{'name': 'Vivli'}</td>\n",
       "      <td>Dataset from The Impact of LY2189265 Versus Me...</td>\n",
       "      <td>https://doi.org/10.25934/00004482</td>\n",
       "      <td>NaN</td>\n",
       "    </tr>\n",
       "    <tr>\n",
       "      <th>4</th>\n",
       "      <td>VIVLI_0034e4ad-87f6-4bf8-b4e6-08840cf8b5b4</td>\n",
       "      <td>2022-07-07</td>\n",
       "      <td>GSK2982772 is a first-in-class, highly selecti...</td>\n",
       "      <td>{'name': 'Vivli'}</td>\n",
       "      <td>Dataset from A Three Part, Non-randomized, Ope...</td>\n",
       "      <td>https://doi.org/10.25934/00007333</td>\n",
       "      <td>NaN</td>\n",
       "    </tr>\n",
       "  </tbody>\n",
       "</table>\n",
       "</div>"
      ],
      "text/plain": [
       "                                          _id        Date  \\\n",
       "0  VIVLI_00082385-f73e-472b-bf66-81f800e35b11  2022-07-07   \n",
       "1  VIVLI_0021f33a-7957-4fdc-b17b-c44697a1e4a4  2023-10-23   \n",
       "2  VIVLI_002af971-d0f3-46f7-bf23-3e0ff3458224  2022-07-05   \n",
       "3  VIVLI_002bf970-2a5b-4dee-a2ef-1e78e269f132  2023-10-19   \n",
       "4  VIVLI_0034e4ad-87f6-4bf8-b4e6-08840cf8b5b4  2022-07-07   \n",
       "\n",
       "                                         Description includedInDataCatalog  \\\n",
       "0  The study will evaluate the immune response an...     {'name': 'Vivli'}   \n",
       "1  This is a multicenter, randomized, open-label,...     {'name': 'Vivli'}   \n",
       "2  This study will assess the efficacy and safety...     {'name': 'Vivli'}   \n",
       "3  The purpose of this study is to determine if L...     {'name': 'Vivli'}   \n",
       "4  GSK2982772 is a first-in-class, highly selecti...     {'name': 'Vivli'}   \n",
       "\n",
       "                                                Name  \\\n",
       "0  Dataset from An Open, Phase IV Study on the Im...   \n",
       "1  Dataset from A Multicenter, Randomized, Open-l...   \n",
       "2  Dataset from An Open Label Study to Assess the...   \n",
       "3  Dataset from The Impact of LY2189265 Versus Me...   \n",
       "4  Dataset from A Three Part, Non-randomized, Ope...   \n",
       "\n",
       "                                   URL Abstract  \n",
       "0    https://doi.org/10.25934/00000403      NaN  \n",
       "1  https://doi.org/10.25934/PR00008329      NaN  \n",
       "2    https://doi.org/10.25934/00005745      NaN  \n",
       "3    https://doi.org/10.25934/00004482      NaN  \n",
       "4    https://doi.org/10.25934/00007333      NaN  "
      ]
     },
     "execution_count": 5,
     "metadata": {},
     "output_type": "execute_result"
    }
   ],
   "source": [
    "prod_data.head()"
   ]
  },
  {
   "cell_type": "code",
   "execution_count": 6,
   "metadata": {},
   "outputs": [],
   "source": [
    "def convert_dict_to_list(x):\n",
    "    if isinstance(x, list):\n",
    "        return x[0]['name']\n",
    "    else:\n",
    "        return x['name']\n",
    "\n",
    "\n",
    "prod_data['includedInDataCatalog'] = prod_data['includedInDataCatalog'].apply(convert_dict_to_list)"
   ]
  },
  {
   "cell_type": "code",
   "execution_count": 7,
   "metadata": {},
   "outputs": [
    {
     "name": "stderr",
     "output_type": "stream",
     "text": [
      "/var/folders/2s/m_y5ncrj7wv6_6bqg4l26hq00000gn/T/ipykernel_6569/273406391.py:3: MarkupResemblesLocatorWarning: The input looks more like a filename than markup. You may want to open this file and pass the filehandle into Beautiful Soup.\n",
      "  prod_data['Description'] = prod_data['Description'].fillna('').apply(lambda x: BeautifulSoup(x, 'html.parser').get_text())\n",
      "/var/folders/2s/m_y5ncrj7wv6_6bqg4l26hq00000gn/T/ipykernel_6569/273406391.py:3: MarkupResemblesLocatorWarning: The input looks more like a URL than markup. You may want to use an HTTP client like requests to get the document behind the URL, and feed that document to Beautiful Soup.\n",
      "  prod_data['Description'] = prod_data['Description'].fillna('').apply(lambda x: BeautifulSoup(x, 'html.parser').get_text())\n"
     ]
    }
   ],
   "source": [
    "from bs4 import BeautifulSoup\n",
    "\n",
    "prod_data['Description'] = prod_data['Description'].fillna('').apply(lambda x: BeautifulSoup(x, 'html.parser').get_text())"
   ]
  },
  {
   "cell_type": "code",
   "execution_count": 8,
   "metadata": {},
   "outputs": [],
   "source": [
    "grouped_dataframes = prod_data.groupby('includedInDataCatalog')\n",
    "\n",
    "dataframes = []\n",
    "for group, data in grouped_dataframes:\n",
    "    data['includedInDataCatalog'] = group\n",
    "    dataframes.append(data)\n"
   ]
  },
  {
   "cell_type": "code",
   "execution_count": 9,
   "metadata": {},
   "outputs": [
    {
     "name": "stdout",
     "output_type": "stream",
     "text": [
      "Dataset Name: AccessClinicalData@NIAID            Number of Items: 7                    Memory usage: 0.03 MB\n",
      "Dataset Name: ClinEpiDB                           Number of Items: 50                   Memory usage: 0.48 MB\n",
      "Dataset Name: Data Discovery Engine               Number of Items: 368                  Memory usage: 0.35 MB\n",
      "Dataset Name: Dryad Digital Repository            Number of Items: 54208                Memory usage: 206.08 MB\n",
      "Dataset Name: Harvard Dataverse                   Number of Items: 80975                Memory usage: 78.15 MB\n",
      "Dataset Name: HuBMAP                              Number of Items: 1948                 Memory usage: 1.14 MB\n",
      "Dataset Name: ImmPort                             Number of Items: 721                  Memory usage: 1.29 MB\n",
      "Dataset Name: LINCS                               Number of Items: 345                  Memory usage: 0.39 MB\n",
      "Dataset Name: Mendeley                            Number of Items: 53828                Memory usage: 64.80 MB\n",
      "Dataset Name: NCBI GEO                            Number of Items: 210928               Memory usage: 376.81 MB\n",
      "Dataset Name: NCBI SRA                            Number of Items: 339001               Memory usage: 330.19 MB\n",
      "Dataset Name: Omics Discovery Index (OmicsDI)     Number of Items: 1802736              Memory usage: 2964.76 MB\n",
      "Dataset Name: Qiita                               Number of Items: 703                  Memory usage: 1.23 MB\n",
      "Dataset Name: ReframeDB                           Number of Items: 139                  Memory usage: 0.65 MB\n",
      "Dataset Name: VDJServer                           Number of Items: 65                   Memory usage: 0.13 MB\n",
      "Dataset Name: VEuPathDB                           Number of Items: 3005                 Memory usage: 2.04 MB\n",
      "Dataset Name: Vivli                               Number of Items: 7210                 Memory usage: 7.56 MB\n",
      "Dataset Name: Zenodo                              Number of Items: 208043               Memory usage: 356.01 MB\n",
      "\n",
      "Total Number of Datasets:  18\n",
      "Total Number of Items:  2764280\n"
     ]
    }
   ],
   "source": [
    "for df in dataframes:\n",
    "    dataset_name = df['includedInDataCatalog'].values[0]\n",
    "    dataset_length = len(df)\n",
    "    memory_usage_bytes = df.memory_usage(deep=True).sum()\n",
    "    memory_usage_gb = memory_usage_bytes / (1024 * 1024)\n",
    "    print(f\"Dataset Name: {dataset_name:<35} Number of Items: {dataset_length:<20} Memory usage: {memory_usage_gb:.2f} MB\")\n",
    "    \n",
    "\n",
    "print(\"\\nTotal Number of Datasets: \", len(dataframes))\n",
    "print(\"Total Number of Items: \", len(prod_data))"
   ]
  },
  {
   "cell_type": "code",
   "execution_count": 10,
   "metadata": {},
   "outputs": [],
   "source": [
    "directory = \"nde_prod\"\n",
    "if not os.path.exists(directory):\n",
    "    os.makedirs(directory)\n",
    "\n",
    "for i, df in enumerate(dataframes):\n",
    "    dataset_name = df['includedInDataCatalog'].unique()[0]\n",
    "    filename = f\"{directory}/{dataset_name}.csv\"\n",
    "    df.to_csv(filename, index=False, lineterminator='\\n')\n"
   ]
  },
  {
   "cell_type": "code",
   "execution_count": 11,
   "metadata": {},
   "outputs": [
    {
     "name": "stdout",
     "output_type": "stream",
     "text": [
      "Dataset Name: HuBMAP                              Number of Items: 1948                 Memory usage: 1.08 MB\n",
      "Dataset Name: VEuPathDB                           Number of Items: 3005                 Memory usage: 1.95 MB\n",
      "Dataset Name: ImmPort                             Number of Items: 721                  Memory usage: 1.28 MB\n",
      "Dataset Name: NCBI SRA                            Number of Items: 339001               Memory usage: 319.13 MB\n",
      "Dataset Name: Harvard Dataverse                   Number of Items: 80975                Memory usage: 75.65 MB\n",
      "Dataset Name: ReframeDB                           Number of Items: 139                  Memory usage: 0.64 MB\n",
      "Dataset Name: Qiita                               Number of Items: 703                  Memory usage: 1.19 MB\n",
      "Dataset Name: Vivli                               Number of Items: 7210                 Memory usage: 7.30 MB\n",
      "Dataset Name: VDJServer                           Number of Items: 65                   Memory usage: 0.13 MB\n",
      "Dataset Name: Data Discovery Engine               Number of Items: 368                  Memory usage: 0.34 MB\n",
      "Dataset Name: Omics Discovery Index (OmicsDI)     Number of Items: 1802736              Memory usage: 2868.46 MB\n",
      "Dataset Name: LINCS                               Number of Items: 345                  Memory usage: 0.38 MB\n",
      "Dataset Name: ClinEpiDB                           Number of Items: 50                   Memory usage: 0.48 MB\n",
      "Dataset Name: Dryad Digital Repository            Number of Items: 54208                Memory usage: 204.43 MB\n",
      "Dataset Name: NCBI GEO                            Number of Items: 210928               Memory usage: 370.38 MB\n",
      "Dataset Name: Zenodo                              Number of Items: 208043               Memory usage: 349.66 MB\n",
      "Dataset Name: AccessClinicalData@NIAID            Number of Items: 7                    Memory usage: 0.03 MB\n",
      "Dataset Name: Mendeley                            Number of Items: 53828                Memory usage: 63.15 MB\n",
      "\n",
      "Total Number of Datasets:  18\n",
      "Total Number of Items:  2764280\n"
     ]
    }
   ],
   "source": [
    "## Confirming correct number of samples\n",
    "\n",
    "directory = \"nde_prod\"\n",
    "dfs = []\n",
    "\n",
    "for filename in os.listdir(directory):\n",
    "    if filename.endswith(\".csv\"):\n",
    "        filepath = os.path.join(directory, filename)\n",
    "        df = pd.read_csv(filepath, lineterminator='\\n')\n",
    "        dfs.append(df)\n",
    "\n",
    "for df in dfs:\n",
    "    dataset_name = df['includedInDataCatalog'].values[0]\n",
    "    dataset_length = len(df)\n",
    "    memory_usage_bytes = df.memory_usage(deep=True).sum()\n",
    "    memory_usage_gb = memory_usage_bytes / (1024 * 1024)\n",
    "    print(f\"Dataset Name: {dataset_name:<35} Number of Items: {dataset_length:<20} Memory usage: {memory_usage_gb:.2f} MB\")\n",
    "\n",
    "print(\"\\nTotal Number of Datasets: \", len(dfs))\n",
    "total_items = sum(len(df) for df in dfs)\n",
    "print(\"Total Number of Items: \", total_items)\n"
   ]
  },
  {
   "cell_type": "code",
   "execution_count": 39,
   "metadata": {},
   "outputs": [
    {
     "name": "stdout",
     "output_type": "stream",
     "text": [
      "------------------------SORTED------------------------\n",
      "Dataset Name: AccessClinicalData@NIAID            Number of Items: 7                    Memory usage: 0.03 MB\n",
      "Dataset Name: ClinEpiDB                           Number of Items: 50                   Memory usage: 0.48 MB\n",
      "Dataset Name: VDJServer                           Number of Items: 65                   Memory usage: 0.13 MB\n",
      "Dataset Name: ReframeDB                           Number of Items: 139                  Memory usage: 0.64 MB\n",
      "Dataset Name: LINCS                               Number of Items: 345                  Memory usage: 0.38 MB\n",
      "Dataset Name: Data Discovery Engine               Number of Items: 368                  Memory usage: 0.34 MB\n",
      "Dataset Name: Qiita                               Number of Items: 703                  Memory usage: 1.19 MB\n",
      "Dataset Name: ImmPort                             Number of Items: 721                  Memory usage: 1.28 MB\n",
      "Dataset Name: HuBMAP                              Number of Items: 1948                 Memory usage: 1.08 MB\n",
      "Dataset Name: VEuPathDB                           Number of Items: 3005                 Memory usage: 1.95 MB\n",
      "Dataset Name: Vivli                               Number of Items: 7210                 Memory usage: 7.30 MB\n",
      "Dataset Name: Mendeley                            Number of Items: 53828                Memory usage: 63.15 MB\n",
      "Dataset Name: Dryad Digital Repository            Number of Items: 54208                Memory usage: 204.43 MB\n",
      "Dataset Name: Harvard Dataverse                   Number of Items: 80975                Memory usage: 75.65 MB\n",
      "Dataset Name: Zenodo                              Number of Items: 208043               Memory usage: 349.66 MB\n",
      "Dataset Name: NCBI GEO                            Number of Items: 210928               Memory usage: 370.38 MB\n",
      "Dataset Name: NCBI SRA                            Number of Items: 339001               Memory usage: 319.13 MB\n",
      "Dataset Name: Omics Discovery Index (OmicsDI)     Number of Items: 1802736              Memory usage: 2868.46 MB\n"
     ]
    }
   ],
   "source": [
    "sorted_dfs = sorted(dfs, key=lambda df: len(df))\n",
    "print(\"------------------------SORTED------------------------\")\n",
    "for df in sorted_dfs:\n",
    "    dataset_name = df['includedInDataCatalog'].values[0]\n",
    "    dataset_length = len(df)\n",
    "    memory_usage_bytes = df.memory_usage(deep=True).sum()\n",
    "    memory_usage_gb = memory_usage_bytes / (1024 * 1024)\n",
    "    print(f\"Dataset Name: {dataset_name:<35} Number of Items: {dataset_length:<20} Memory usage: {memory_usage_gb:.2f} MB\")"
   ]
  },
  {
   "cell_type": "markdown",
   "metadata": {},
   "source": [
    "## Data Repository Samples"
   ]
  },
  {
   "cell_type": "code",
   "execution_count": 25,
   "metadata": {},
   "outputs": [
    {
     "name": "stdout",
     "output_type": "stream",
     "text": [
      "AccessClinicalData@NIAID 7 7\n",
      "ClinEpiDB 50 5\n",
      "Data Discovery Engine 368 25\n",
      "Dryad Digital Repository 54208 25\n",
      "Harvard Dataverse 80975 25\n",
      "HuBMAP 1948 25\n",
      "ImmPort 721 25\n",
      "LINCS 345 25\n",
      "Mendeley 53828 25\n",
      "NCBI GEO 210928 25\n",
      "NCBI SRA 339001 25\n",
      "Omics Discovery Index (OmicsDI) 1802736 25\n",
      "Qiita 703 25\n",
      "ReframeDB 139 13\n",
      "VDJServer 65 6\n",
      "VEuPathDB 3005 25\n",
      "Vivli 7210 25\n",
      "Zenodo 208043 25\n"
     ]
    }
   ],
   "source": [
    "sampled_dataframes = []\n",
    "\n",
    "for df in dataframes:\n",
    "    sample_size = min(int(len(df) * 0.1), 25)\n",
    "    if sample_size == 0:\n",
    "        sampled_df = df\n",
    "    else:\n",
    "        sampled_df = df.sample(n=sample_size)\n",
    "    print(df['includedInDataCatalog'].values[0], df.shape[0], sampled_df.shape[0])\n",
    "    sampled_dataframes.append(sampled_df)\n",
    "\n",
    "combined_df = pd.concat(sampled_dataframes).reset_index(drop=True)[['includedInDataCatalog', 'Name', 'Description']]\n",
    "combined_df.rename(columns={'includedInDataCatalog': 'Data Repository'}, inplace=True)\n"
   ]
  },
  {
   "cell_type": "code",
   "execution_count": 29,
   "metadata": {},
   "outputs": [],
   "source": [
    "combined_df.to_csv('sampled_data.csv', index=False, lineterminator='\\n')"
   ]
  }
 ],
 "metadata": {
  "kernelspec": {
   "display_name": "nde_gpt",
   "language": "python",
   "name": "python3"
  },
  "language_info": {
   "codemirror_mode": {
    "name": "ipython",
    "version": 3
   },
   "file_extension": ".py",
   "mimetype": "text/x-python",
   "name": "python",
   "nbconvert_exporter": "python",
   "pygments_lexer": "ipython3",
   "version": "3.10.12"
  }
 },
 "nbformat": 4,
 "nbformat_minor": 2
}
