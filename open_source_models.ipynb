{
 "cells": [
  {
   "cell_type": "code",
   "execution_count": 46,
   "metadata": {},
   "outputs": [],
   "source": [
    "from transformers import AutoTokenizer, AutoModelForCausalLM, BitsAndBytesConfig, LlamaForCausalLM\n",
    "import torch\n",
    "from torch.utils.data import TensorDataset, DataLoader, RandomSampler, SequentialSampler\n",
    "from sklearn.model_selection import train_test_split\n",
    "\n",
    "import json\n",
    "import pandas as pd\n",
    "import ast\n",
    "from bs4 import BeautifulSoup\n",
    "import os, contextlib, io\n",
    "from tqdm.notebook import tqdm\n",
    "import csv\n"
   ]
  },
  {
   "cell_type": "code",
   "execution_count": 2,
   "metadata": {},
   "outputs": [],
   "source": [
    "dataset = pd.read_csv('datasets/staging_test_set.csv')\n",
    "\n",
    "dataset['EDAM Topics'] = dataset['EDAM Topics'].apply(ast.literal_eval)\n",
    "\n",
    "dataset['Abstract'] = dataset['Abstract'].apply(lambda x: BeautifulSoup(x, 'html.parser').get_text())"
   ]
  },
  {
   "cell_type": "code",
   "execution_count": 3,
   "metadata": {},
   "outputs": [],
   "source": [
    "with open('templates/open_source_template.txt', 'r') as template_file:\n",
    "    template = template_file.read()"
   ]
  },
  {
   "cell_type": "code",
   "execution_count": 4,
   "metadata": {},
   "outputs": [],
   "source": [
    "with open('EDAM/edam_topics.txt', 'r') as edam_file:\n",
    "    full_edam_topics = edam_file.readlines()\n",
    "\n",
    "full_edam_topics = [topic.strip() for topic in full_edam_topics]"
   ]
  },
  {
   "cell_type": "code",
   "execution_count": 5,
   "metadata": {},
   "outputs": [],
   "source": [
    "# Add EDAM topics to prompt template\n",
    "\n",
    "formatted_topics = \"\\n\".join(full_edam_topics)\n",
    "template = template.replace(\"<topics>\", formatted_topics)\n"
   ]
  },
  {
   "cell_type": "code",
   "execution_count": 6,
   "metadata": {},
   "outputs": [],
   "source": [
    "with open(\"config.json\", \"r\") as config_file:\n",
    "    config = json.load(config_file)"
   ]
  },
  {
   "cell_type": "code",
   "execution_count": 7,
   "metadata": {},
   "outputs": [],
   "source": [
    "# API key from HuggingFace\n",
    "hf_token = config['api_keys']['huggingface']"
   ]
  },
  {
   "cell_type": "code",
   "execution_count": 12,
   "metadata": {},
   "outputs": [
    {
     "data": {
      "text/plain": [
       "device(type='cuda')"
      ]
     },
     "execution_count": 12,
     "metadata": {},
     "output_type": "execute_result"
    }
   ],
   "source": [
    "device = torch.device(\"cuda\" if torch.cuda.is_available() else \"cpu\")\n",
    "device"
   ]
  },
  {
   "cell_type": "code",
   "execution_count": null,
   "metadata": {},
   "outputs": [],
   "source": [
    "model_storage_path = '/nvme/models'"
   ]
  },
  {
   "cell_type": "markdown",
   "metadata": {},
   "source": [
    "## Testing Open Source Models\n",
    "\n",
    "No need to run every cell, just the cells regarding the model you want to load. "
   ]
  },
  {
   "cell_type": "markdown",
   "metadata": {},
   "source": [
    "### Meditron 7b"
   ]
  },
  {
   "cell_type": "code",
   "execution_count": null,
   "metadata": {},
   "outputs": [],
   "source": [
    "# Check if model is already downloaded\n",
    "\n",
    "folder_path = f\"{model_storage_path}/meditron-7b-model\"\n",
    "\n",
    "if os.path.exists(folder_path):\n",
    "    print(\"The model is already downloaded. Loading from\", folder_path)\n",
    "    tokenizer = AutoTokenizer.from_pretrained(f\"{model_storage_path}/meditron-7b-tokenizer\")\n",
    "    model = AutoModelForCausalLM.from_pretrained(f\"{model_storage_path}/meditron-7b-model\", device_map='auto')\n",
    "else:\n",
    "    tokenizer = AutoTokenizer.from_pretrained(\"epfl-llm/meditron-7b\", token=hf_token)\n",
    "    tokenizer.save_pretrained(f\"{model_storage_path}/meditron-7b-tokenizer\", from_pt=True)\n",
    "\n",
    "    model = AutoModelForCausalLM.from_pretrained(\"epfl-llm/meditron-7b\", from_tf=True, device_map='auto')\n",
    "    model.save_pretrained(f\"{model_storage_path}/meditron-7b-model\")"
   ]
  },
  {
   "cell_type": "markdown",
   "metadata": {},
   "source": [
    "### Meditron 70b"
   ]
  },
  {
   "cell_type": "code",
   "execution_count": null,
   "metadata": {},
   "outputs": [],
   "source": [
    "folder_path = f\"{model_storage_path}/meditron-70b-model\"\n",
    "\n",
    "if os.path.exists(folder_path):\n",
    "    print(\"The model is already downloaded. Loading from\", folder_path)\n",
    "    tokenizer = AutoTokenizer.from_pretrained(f\"{model_storage_path}/meditron-70b-tokenizer\")\n",
    "    model = AutoModelForCausalLM.from_pretrained(f\"{model_storage_path}/meditron-70b-model\", device_map='auto', load_in_4bit=True, bnb_4bit_compute_dtype=torch.float16)\n",
    "else:\n",
    "    tokenizer = AutoTokenizer.from_pretrained(\"epfl-llm/meditron-70b\", token=hf_token)\n",
    "    tokenizer.save_pretrained(f\"{model_storage_path}/meditron-70b-tokenizer\", from_pt=True)\n",
    "\n",
    "    model = AutoModelForCausalLM.from_pretrained(\"epfl-llm/meditron-70b\", from_tf=True, device_map='auto', load_in_4bit=True, bnb_4bit_compute_dtype=torch.float16)\n",
    "    model.save_pretrained(f\"{model_storage_path}/meditron-70b-model\")"
   ]
  },
  {
   "cell_type": "markdown",
   "metadata": {},
   "source": [
    "### Mixtral 8x7b"
   ]
  },
  {
   "cell_type": "code",
   "execution_count": 8,
   "metadata": {},
   "outputs": [
    {
     "name": "stdout",
     "output_type": "stream",
     "text": [
      "The model is already downloaded. Loading from /nvme/models/mixtral-8x7b-model\n"
     ]
    },
    {
     "data": {
      "application/vnd.jupyter.widget-view+json": {
       "model_id": "9e0ab53c80e44f999c346b1b5d561cc5",
       "version_major": 2,
       "version_minor": 0
      },
      "text/plain": [
       "Loading checkpoint shards:   0%|          | 0/39 [00:00<?, ?it/s]"
      ]
     },
     "metadata": {},
     "output_type": "display_data"
    }
   ],
   "source": [
    "folder_path = f\"{model_storage_path}/mixtral-8x7b-model\"\n",
    "\n",
    "if os.path.exists(folder_path):\n",
    "    print(\"The model is already downloaded. Loading from\", folder_path)\n",
    "    tokenizer = AutoTokenizer.from_pretrained(f\"{model_storage_path}/mixtral-8x7b-tokenizer\")\n",
    "    model = AutoModelForCausalLM.from_pretrained(f\"{model_storage_path}/mixtral-8x7b-model\", device_map=\"auto\", load_in_4bit=True, bnb_4bit_compute_dtype=torch.float16)\n",
    "else:\n",
    "    tokenizer = AutoTokenizer.from_pretrained(\"mistralai/Mixtral-8x7B-Instruct-v0.1\", token=hf_token)\n",
    "    tokenizer.save_pretrained(f\"{model_storage_path}/mixtral-8x7b-tokenizer\", from_pt=True)\n",
    "\n",
    "    model = AutoModelForCausalLM.from_pretrained(\"mistralai/Mixtral-8x7B-Instruct-v0.1\", token=hf_token, device_map=\"auto\", load_in_4bit=True)\n",
    "    model.save_pretrained(f\"{model_storage_path}/mixtral-8x7b-model\", from_pt=True)"
   ]
  },
  {
   "cell_type": "markdown",
   "metadata": {},
   "source": [
    "### ClinicalGPT"
   ]
  },
  {
   "cell_type": "code",
   "execution_count": null,
   "metadata": {},
   "outputs": [],
   "source": [
    "folder_path = f\"{model_storage_path}/clinicalgpt-model\"\n",
    "\n",
    "if os.path.exists(folder_path):\n",
    "    print(\"The model is already downloaded. Loading from\", folder_path)\n",
    "    tokenizer = AutoTokenizer.from_pretrained(f\"{model_storage_path}/clinicalgpt-tokenizer\")\n",
    "    model = AutoModelForCausalLM.from_pretrained(f\"{model_storage_path}/clinicalgpt-model\", device_map=\"auto\", load_in_4bit=True, bnb_4bit_compute_dtype=torch.float16)\n",
    "else:\n",
    "    tokenizer = AutoTokenizer.from_pretrained(\"medicalai/ClinicalGPT-base-zh\", token=hf_token)\n",
    "    tokenizer.save_pretrained(f\"{model_storage_path}/clinicalgpt-tokenizer\", from_pt=True)\n",
    "\n",
    "    model = AutoModelForCausalLM.from_pretrained(\"medicalai/ClinicalGPT-base-zh\", token=hf_token, device_map=\"auto\", load_in_4bit=True, bnb_4bit_compute_dtype=torch.float16)\n",
    "    model.save_pretrained(f\"{model_storage_path}/clinicalgpt-model\", from_pt=True)"
   ]
  },
  {
   "cell_type": "code",
   "execution_count": null,
   "metadata": {},
   "outputs": [],
   "source": [
    "# Only compatible with some models. See https://huggingface.co/docs/transformers/perf_infer_gpu_one\n",
    "\n",
    "# model = model.to_bettertransformer()"
   ]
  },
  {
   "cell_type": "markdown",
   "metadata": {},
   "source": [
    "## Test Sample\n",
    "\n",
    "Test the model on a single sample."
   ]
  },
  {
   "cell_type": "code",
   "execution_count": 17,
   "metadata": {},
   "outputs": [
    {
     "data": {
      "text/html": [
       "<div>\n",
       "<style scoped>\n",
       "    .dataframe tbody tr th:only-of-type {\n",
       "        vertical-align: middle;\n",
       "    }\n",
       "\n",
       "    .dataframe tbody tr th {\n",
       "        vertical-align: top;\n",
       "    }\n",
       "\n",
       "    .dataframe thead th {\n",
       "        text-align: right;\n",
       "    }\n",
       "</style>\n",
       "<table border=\"1\" class=\"dataframe\">\n",
       "  <thead>\n",
       "    <tr style=\"text-align: right;\">\n",
       "      <th></th>\n",
       "      <th>PMID</th>\n",
       "      <th>Description</th>\n",
       "      <th>Abstract</th>\n",
       "      <th>MeSH Terms</th>\n",
       "      <th>Filtered MeSH Terms</th>\n",
       "      <th>EDAM Topics</th>\n",
       "    </tr>\n",
       "  </thead>\n",
       "  <tbody>\n",
       "    <tr>\n",
       "      <th>1815</th>\n",
       "      <td>24711662</td>\n",
       "      <td>C1013G/CXCR4 variant has been inserted into BC...</td>\n",
       "      <td>The C-X-C chemokine receptor type 4 (CXCR4) pl...</td>\n",
       "      <td>['*Drug Resistance, Neoplasm', '*Mutation, Mis...</td>\n",
       "      <td>['Animals', 'Cell Proliferation', 'Disease-Fre...</td>\n",
       "      <td>[Zoology, Human biology, DNA mutation, Genetic...</td>\n",
       "    </tr>\n",
       "  </tbody>\n",
       "</table>\n",
       "</div>"
      ],
      "text/plain": [
       "          PMID                                        Description  \\\n",
       "1815  24711662  C1013G/CXCR4 variant has been inserted into BC...   \n",
       "\n",
       "                                               Abstract  \\\n",
       "1815  The C-X-C chemokine receptor type 4 (CXCR4) pl...   \n",
       "\n",
       "                                             MeSH Terms  \\\n",
       "1815  ['*Drug Resistance, Neoplasm', '*Mutation, Mis...   \n",
       "\n",
       "                                    Filtered MeSH Terms  \\\n",
       "1815  ['Animals', 'Cell Proliferation', 'Disease-Fre...   \n",
       "\n",
       "                                            EDAM Topics  \n",
       "1815  [Zoology, Human biology, DNA mutation, Genetic...  "
      ]
     },
     "execution_count": 17,
     "metadata": {},
     "output_type": "execute_result"
    }
   ],
   "source": [
    "random_sample = dataset.sample(n=1)\n",
    "random_sample"
   ]
  },
  {
   "cell_type": "code",
   "execution_count": 18,
   "metadata": {},
   "outputs": [
    {
     "data": {
      "text/plain": [
       "'An abstract associated with a scientific dataset is quoted below:\\n\\n\"The C-X-C chemokine receptor type 4 (CXCR4) plays a crucial role in modulating cell trafficking in hematopoietic stem cells and clonal B cells. We screened 418 patients with B-cell lymphoproliferative disorders and described the presence of the C1013G/CXCR4 warts, hypogammaglobulinemia, infections, and myelokathexis-associated mutation in 28.2% (37/131) of patients with lymphoplasmacytic lymphoma (Waldenstrom macroglobulinemia [WM]), being either absent or present in only 7% of other B-cell lymphomas. In vivo functional characterization demonstrates its activating role in WM cells, as demonstrated by significant tumor proliferation and dissemination to extramedullary organs, leading to disease progression and decreased survival. The use of a monoclonal antibody anti-CXCR4 led to significant tumor reduction in a C1013G/CXCR4 WM model, whereas drug resistance was observed in mutated WM cells exposed to Bruton\\'s tyrosine kinase, mammalian target of rapamycin, and phosphatidylinositol 3-kinase inhibitors, but not proteasome inhibitors. These findings demonstrate that C1013G/CXCR4 is an activating mutation in WM and support its role as a critical regulator of WM molecular pathogenesis and as an important therapeutic target.\"\\n\\nSelect the 7 most relevant topic categories from the list. Provide your answers as a comma-separated list. Ensure your answers exactly match one of the provided categories below. Do not include categories that are not listed.\\n\\nAcoustics\\nAgricultural science\\n\"Allergy, clinical immunology and immunotherapeutics\"\\nAnaesthesiology\\nAnalytical chemistry\\nAnatomy\\nAnimal study\\nAntimicrobial Resistance\\nBiobank\\nBiochemistry\\nBiodiversity\\nBioengineering\\nBioinformatics\\nBiology\\nBiomarkers\\nBiomaterials\\nBiomedical science\\nBiomolecular simulation\\nBiophysics\\nBiosciences\\nBiotechnology\\nBiotherapeutics\\nCarbohydrates\\nCarbon cycle\\nCardiology\\nCell biology\\nCell culture collection\\nChemical biology\\nCheminformatics\\nChemistry\\nChemometrics\\nCladistics\\nClone library\\nComparative genomics\\nComplementary medicine\\nCompound libraries and screening\\nComputational biology\\nComputational chemistry\\nComputer science\\nCopy number variation\\nCritical care medicine\\nCryogenic electron microscopy\\nCytogenetics\\nDNA\\nDNA binding sites\\nDNA mutation\\nDNA packaging\\nDNA polymorphism\\nDNA replication and recombination\\nData acquisition\\n\"Data architecture, analysis and design\"\\nData governance\\nData identity and mapping\\nData integration and warehousing\\nData management\\nData mining\\nData quality management\\nData rescue\\nData security\\n\"Data submission, annotation, and curation\"\\nData visualisation\\nDatabase management\\nDentistry\\nDermatology\\nDevelopmental biology\\nDrug development\\nDrug discovery\\nDrug metabolism\\n\"Ear, nose and throat medicine\"\\nEcology\\nElectrocardiography\\nElectroencephalography\\nElectron microscopy\\nEmbryology\\nEndocrinology and metabolism\\nEnvironmental sciences\\nEnzymes\\nEpigenetics\\nEpigenomics\\nEpistasis\\nEvolutionary biology\\nFAIR data\\nFluxomics\\nFreshwater biology\\nFunction analysis\\nFunctional genomics\\n\"Functional, regulatory and non-coding RNA\"\\nGastroenterology\\nGender medicine\\nGene and protein families\\nGene expression\\nGene regulation\\nGene structure\\nGene transcripts\\nGenetic engineering\\nGenetic variation\\nGenetics\\nGenomic imprinting\\nGenomics\\nGenotype and phenotype\\nGeriatric medicine\\nGynaecology and obstetrics\\nHaematology\\nHepatic and biliary medicine\\nHuman biology\\nHuman genetics\\nImmunogenetics\\nImmunoinformatics\\nImmunology\\nImmunomics\\nImmunoproteins and antigens\\nInfectious disease\\nInformatics\\nLaboratory animal science\\nLaboratory information management\\nLipids\\nMachine learning\\nMapping\\nMarine biology\\nMedical biotechnology\\nMedical informatics\\nMedical toxicology\\nMedicinal chemistry\\nMedicine\\nMedicines research and development\\nMembrane and lipoproteins\\nMetabarcoding\\nMetabolic engineering\\nMetabolomics\\nMetagenomics\\nMetatranscriptomics\\nMicrobial collection\\nMicrobial ecology\\nMicrobiology\\nMicrofluidics\\nMobile genetic elements\\nModel organisms\\nMolecular biology\\nMolecular dynamics\\nMolecular evolution\\nMolecular genetics\\n\"Molecular interactions, pathways and networks\"\\nMolecular medicine\\nMolecular modelling\\nMouse clinic\\nMultiomics\\nMusculoskeletal medicine\\nNMR\\nNatural language processing\\nNeurobiology\\nNeurology\\nNeutron diffraction\\n\"Nucleic acid sites, features and motifs\"\\nNucleic acid structure analysis\\nNucleic acids\\nNutritional science\\nOmics\\nOncology\\nOntology and terminology\\nOpen science\\nOphthalmology\\nPaediatrics\\nPain medicine\\nPaleogenomics\\nParasitology\\nPathology\\nPersonalised medicine\\nPharmacogenomics\\nPharmacology\\nPharmacovigilance\\nPhenomics\\nPhylogenetics\\nPhylogenomics\\nPhylogeny\\nPhysics\\nPhysiology\\nPlant biology\\nPopulation genetics\\nPopulation genomics\\nPreclinical and clinical studies\\nProbes and primers\\nProtein binding sites\\nProtein disordered structure\\nProtein expression\\n\"Protein folding, stability and design\"\\nProtein folds and structural domains\\nProtein interactions\\nProtein modifications\\nProtein properties\\nProtein secondary structure\\n\"Protein sites, features and motifs\"\\nProtein structural motifs and surfaces\\nProtein structure analysis\\nProtein targeting and localisation\\nProtein variants\\nProteins\\nProteogenomics\\nProteomics\\nPsychiatry\\nPublic health and epidemiology\\nQuality affairs\\nQuantitative genetics\\nRNA\\nRNA splicing\\nRare diseases\\nRegenerative medicine\\nRegulatory affairs\\nReproductive health\\nRespiratory medicine\\nRibosome Profiling\\nSafety sciences\\nSample collections\\nSequence analysis\\nSequence assembly\\n\"Sequence composition, complexity and repeats\"\\n\"Sequence sites, features and motifs\"\\nSmall molecules\\nSoftware engineering\\nStructural biology\\nStructural genomics\\nStructural variation\\nStructure analysis\\nStructure prediction\\nSurgery\\nSynthetic biology\\nSynthetic chemistry\\nSystems biology\\nSystems medicine\\nTaxonomy\\nToxicology\\nTranscription factors and regulatory sites\\nTranscriptomics\\nTranslational medicine\\nTrauma medicine\\nTropical medicine\\nUrology and nephrology\\nVaccinology\\nVeterinary medicine\\nVirology\\nWorkflows\\nX-ray diffraction\\nZoology\\n\\nPlease refrain from providing explanations. Take a moment and answer to the best of your ability.\\n\\n==ANSWER==\\n'"
      ]
     },
     "execution_count": 18,
     "metadata": {},
     "output_type": "execute_result"
    }
   ],
   "source": [
    "prompt = template.replace('<abstract>', random_sample['Abstract'].values[0])\n",
    "\n",
    "## Output 10 topics if there are less than 10 topics\n",
    "# num_terms = len(random_sample['EDAM Topics'].values[0]) if len(random_sample['EDAM Topics'].values[0]) > 10 else 10\n",
    "\n",
    "num_terms = len(random_sample['EDAM Topics'].values[0])\n",
    "prompt = prompt.replace('<num_terms>', str(num_terms))\n",
    "\n",
    "prompt\n"
   ]
  },
  {
   "cell_type": "code",
   "execution_count": 19,
   "metadata": {},
   "outputs": [
    {
     "data": {
      "text/plain": [
       "{'input_ids': tensor([[    1,  1094, 11576,  ...,   725,   585,    13]], device='cuda:0'), 'attention_mask': tensor([[1, 1, 1,  ..., 1, 1, 1]], device='cuda:0')}"
      ]
     },
     "execution_count": 19,
     "metadata": {},
     "output_type": "execute_result"
    }
   ],
   "source": [
    "model_inputs = tokenizer(prompt, return_tensors=\"pt\").to(device)\n",
    "model_inputs"
   ]
  },
  {
   "cell_type": "code",
   "execution_count": 20,
   "metadata": {},
   "outputs": [
    {
     "name": "stderr",
     "output_type": "stream",
     "text": [
      "Setting `pad_token_id` to `eos_token_id`:2 for open-end generation.\n"
     ]
    }
   ],
   "source": [
    "generated_ids = model.generate(**model_inputs, max_new_tokens=2500, do_sample=True, pad_token_id=tokenizer.eos_token_id)"
   ]
  },
  {
   "cell_type": "code",
   "execution_count": 21,
   "metadata": {},
   "outputs": [
    {
     "data": {
      "text/plain": [
       "'An abstract associated with a scientific dataset is quoted below:\\n\\n\"The C-X-C chemokine receptor type 4 (CXCR4) plays a crucial role in modulating cell trafficking in hematopoietic stem cells and clonal B cells. We screened 418 patients with B-cell lymphoproliferative disorders and described the presence of the C1013G/CXCR4 warts, hypogammaglobulinemia, infections, and myelokathexis-associated mutation in 28.2% (37/131) of patients with lymphoplasmacytic lymphoma (Waldenstrom macroglobulinemia [WM]), being either absent or present in only 7% of other B-cell lymphomas. In vivo functional characterization demonstrates its activating role in WM cells, as demonstrated by significant tumor proliferation and dissemination to extramedullary organs, leading to disease progression and decreased survival. The use of a monoclonal antibody anti-CXCR4 led to significant tumor reduction in a C1013G/CXCR4 WM model, whereas drug resistance was observed in mutated WM cells exposed to Bruton\\'s tyrosine kinase, mammalian target of rapamycin, and phosphatidylinositol 3-kinase inhibitors, but not proteasome inhibitors. These findings demonstrate that C1013G/CXCR4 is an activating mutation in WM and support its role as a critical regulator of WM molecular pathogenesis and as an important therapeutic target.\"\\n\\nSelect the 7 most relevant topic categories from the list. Provide your answers as a comma-separated list. Ensure your answers exactly match one of the provided categories below. Do not include categories that are not listed.\\n\\nAcoustics\\nAgricultural science\\n\"Allergy, clinical immunology and immunotherapeutics\"\\nAnaesthesiology\\nAnalytical chemistry\\nAnatomy\\nAnimal study\\nAntimicrobial Resistance\\nBiobank\\nBiochemistry\\nBiodiversity\\nBioengineering\\nBioinformatics\\nBiology\\nBiomarkers\\nBiomaterials\\nBiomedical science\\nBiomolecular simulation\\nBiophysics\\nBiosciences\\nBiotechnology\\nBiotherapeutics\\nCarbohydrates\\nCarbon cycle\\nCardiology\\nCell biology\\nCell culture collection\\nChemical biology\\nCheminformatics\\nChemistry\\nChemometrics\\nCladistics\\nClone library\\nComparative genomics\\nComplementary medicine\\nCompound libraries and screening\\nComputational biology\\nComputational chemistry\\nComputer science\\nCopy number variation\\nCritical care medicine\\nCryogenic electron microscopy\\nCytogenetics\\nDNA\\nDNA binding sites\\nDNA mutation\\nDNA packaging\\nDNA polymorphism\\nDNA replication and recombination\\nData acquisition\\n\"Data architecture, analysis and design\"\\nData governance\\nData identity and mapping\\nData integration and warehousing\\nData management\\nData mining\\nData quality management\\nData rescue\\nData security\\n\"Data submission, annotation, and curation\"\\nData visualisation\\nDatabase management\\nDentistry\\nDermatology\\nDevelopmental biology\\nDrug development\\nDrug discovery\\nDrug metabolism\\n\"Ear, nose and throat medicine\"\\nEcology\\nElectrocardiography\\nElectroencephalography\\nElectron microscopy\\nEmbryology\\nEndocrinology and metabolism\\nEnvironmental sciences\\nEnzymes\\nEpigenetics\\nEpigenomics\\nEpistasis\\nEvolutionary biology\\nFAIR data\\nFluxomics\\nFreshwater biology\\nFunction analysis\\nFunctional genomics\\n\"Functional, regulatory and non-coding RNA\"\\nGastroenterology\\nGender medicine\\nGene and protein families\\nGene expression\\nGene regulation\\nGene structure\\nGene transcripts\\nGenetic engineering\\nGenetic variation\\nGenetics\\nGenomic imprinting\\nGenomics\\nGenotype and phenotype\\nGeriatric medicine\\nGynaecology and obstetrics\\nHaematology\\nHepatic and biliary medicine\\nHuman biology\\nHuman genetics\\nImmunogenetics\\nImmunoinformatics\\nImmunology\\nImmunomics\\nImmunoproteins and antigens\\nInfectious disease\\nInformatics\\nLaboratory animal science\\nLaboratory information management\\nLipids\\nMachine learning\\nMapping\\nMarine biology\\nMedical biotechnology\\nMedical informatics\\nMedical toxicology\\nMedicinal chemistry\\nMedicine\\nMedicines research and development\\nMembrane and lipoproteins\\nMetabarcoding\\nMetabolic engineering\\nMetabolomics\\nMetagenomics\\nMetatranscriptomics\\nMicrobial collection\\nMicrobial ecology\\nMicrobiology\\nMicrofluidics\\nMobile genetic elements\\nModel organisms\\nMolecular biology\\nMolecular dynamics\\nMolecular evolution\\nMolecular genetics\\n\"Molecular interactions, pathways and networks\"\\nMolecular medicine\\nMolecular modelling\\nMouse clinic\\nMultiomics\\nMusculoskeletal medicine\\nNMR\\nNatural language processing\\nNeurobiology\\nNeurology\\nNeutron diffraction\\n\"Nucleic acid sites, features and motifs\"\\nNucleic acid structure analysis\\nNucleic acids\\nNutritional science\\nOmics\\nOncology\\nOntology and terminology\\nOpen science\\nOphthalmology\\nPaediatrics\\nPain medicine\\nPaleogenomics\\nParasitology\\nPathology\\nPersonalised medicine\\nPharmacogenomics\\nPharmacology\\nPharmacovigilance\\nPhenomics\\nPhylogenetics\\nPhylogenomics\\nPhylogeny\\nPhysics\\nPhysiology\\nPlant biology\\nPopulation genetics\\nPopulation genomics\\nPreclinical and clinical studies\\nProbes and primers\\nProtein binding sites\\nProtein disordered structure\\nProtein expression\\n\"Protein folding, stability and design\"\\nProtein folds and structural domains\\nProtein interactions\\nProtein modifications\\nProtein properties\\nProtein secondary structure\\n\"Protein sites, features and motifs\"\\nProtein structural motifs and surfaces\\nProtein structure analysis\\nProtein targeting and localisation\\nProtein variants\\nProteins\\nProteogenomics\\nProteomics\\nPsychiatry\\nPublic health and epidemiology\\nQuality affairs\\nQuantitative genetics\\nRNA\\nRNA splicing\\nRare diseases\\nRegenerative medicine\\nRegulatory affairs\\nReproductive health\\nRespiratory medicine\\nRibosome Profiling\\nSafety sciences\\nSample collections\\nSequence analysis\\nSequence assembly\\n\"Sequence composition, complexity and repeats\"\\n\"Sequence sites, features and motifs\"\\nSmall molecules\\nSoftware engineering\\nStructural biology\\nStructural genomics\\nStructural variation\\nStructure analysis\\nStructure prediction\\nSurgery\\nSynthetic biology\\nSynthetic chemistry\\nSystems biology\\nSystems medicine\\nTaxonomy\\nToxicology\\nTranscription factors and regulatory sites\\nTranscriptomics\\nTranslational medicine\\nTrauma medicine\\nTropical medicine\\nUrology and nephrology\\nVaccinology\\nVeterinary medicine\\nVirology\\nWorkflows\\nX-ray diffraction\\nZoology\\n\\nPlease refrain from providing explanations. Take a moment and answer to the best of your ability.\\n\\n==ANSWER==\\n\\nAllergy, clinical immunology and immunotherapeutics, Biochemistry, Biomedical science, Biomolecular simulation, Biophysics, Cancer biology, Genetics, Genomics, Molecular biology, Medical genetics.'"
      ]
     },
     "execution_count": 21,
     "metadata": {},
     "output_type": "execute_result"
    }
   ],
   "source": [
    "output = tokenizer.batch_decode(generated_ids, skip_special_tokens=True)[0]\n",
    "output"
   ]
  },
  {
   "cell_type": "code",
   "execution_count": 22,
   "metadata": {},
   "outputs": [
    {
     "data": {
      "text/plain": [
       "'Allergy, clinical immunology and immunotherapeutics, Biochemistry, Biomedical science, Biomolecular simulation, Biophysics, Cancer biology, Genetics, Genomics, Molecular biology, Medical genetics.'"
      ]
     },
     "execution_count": 22,
     "metadata": {},
     "output_type": "execute_result"
    }
   ],
   "source": [
    "parsed_output = output.split('\\n')[-1]\n",
    "parsed_output"
   ]
  },
  {
   "cell_type": "code",
   "execution_count": 32,
   "metadata": {},
   "outputs": [
    {
     "name": "stdout",
     "output_type": "stream",
     "text": [
      "Abstract: Understanding gene regulation requires knowledge of changes in transcription factor (TF) activities. Simultaneous direct measurement of numerous TF activities is currently impossible. Nevertheless, statistical approaches to infer TF activities have yielded non-trivial and verifiable predictions for individual TFs. Here, global statistical modelling identifies changes in TF activities from transcript profiles of Escherichia coli growing in stable (fixed oxygen availabilities) and dynamic (changing oxygen availability) environments. A core oxygen-responsive TF network, supplemented by additional TFs acting under specific conditions, was identified. The activities of the cytoplasmic oxygen-responsive TF, FNR, and the membrane-bound terminal oxidases implied that, even on the scale of the bacterial cell, spatial effects significantly influence oxygen-sensing. Several transcripts exhibited asymmetrical patterns of abundance in aerobic to anaerobic and anaerobic to aerobic transitions. One of these transcripts, ndh, encodes a major component of the aerobic respiratory chain and is regulated by oxygen-responsive TFs ArcA and FNR. Kinetic modelling indicated that ArcA and FNR behaviour could not explain the ndh transcript profile, leading to the identification of another TF, PdhR, as the source of the asymmetry. Thus, this approach illustrates how systematic examination of regulatory responses in stable and dynamic environments yields new mechanistic insights into adaptive processes.\n",
      "Model Output: Bioinformatics, Biology, Biomedical science, Genetics\n",
      "\n",
      "Abstract: Resolution of acute and chronic viral infections requires activation of innate cells to initiate and maintain adaptive immune responses. Here we report that infection with acute Armstrong (ARM) or chronic Clone 13 (C13) strains of lymphocytic choriomeningitis virus (LCMV) led to two distinct phases of innate immune response. During the first 72 hr of infection, dendritic cells upregulated activation markers and stimulated antiviral CD8(+) T cells, independent of viral strain. Seven days after infection, there was an increase in Ly6C(hi) monocytic and Gr-1(hi) neutrophilic cells in lymphoid organs and blood. This expansion in cell numbers was enhanced and sustained in C13 infection, whereas it occurred only transiently with ARM infection. These cells resembled myeloid-derived suppressor cells and potently suppressed T cell proliferation. The reduction of monocytic cells in Ccr2(-/-) mice or after Gr-1 antibody depletion enhanced antiviral T cell function. Thus, innate cells have an important immunomodulatory role throughout chronic infection.\n",
      "Model Output: Immunology, Virology, Medical biotechnology, Medical informatics, Medicines research and development, Oncology, Genomics, Medical genetics, Microbiology, Molecular biology\n",
      "\n",
      "Abstract: Epigenetic therapy is emerging as a potential therapy for solid tumors. To investigate its mechanism of action, we performed integrative expression and methylation analysis of 63 cancer cell lines (breast, colorectal, and ovarian) after treatment with the DNA methyltransferase inhibitor 5-azacitidine (AZA). Gene Set Enrichment Analysis demonstrated significant enrichment for immunomodulatory pathways in all three cancers (14.4-31.3%) including interferon signaling, antigen processing and presentation, and cytokines/chemokines. Strong upregulation of cancer testis antigens was also observed. An AZA IMmune gene set (AIMs) derived from the union of these immunomodulatory pathway genes classified primary tumors from all three types, into \"high\" and \"low\" AIM gene expression subsets in tumor expression data from both TCGA and GEO. Samples from selected patient biopsies showed upregulation of AIM genes after treatment with epigenetic therapy. These results point to a broad immune stimulatory role for DNA demethylating drugs in multiple cancers.\n",
      "Model Output: Data mining\n",
      "\n",
      "Abstract: The whole genome sequence of Rhodopirellula baltica SH1(T), published nearly 10years ago, already revealed a high amount of sulfatase genes. So far, little is known about the diversity and potential functions mediated by sulfatases in Planctomycetes. We combined in vivo and in silico techniques to gain insights into the ecophysiology of planktomycetal sulfatases. Comparative genomics of nine recently sequenced Rhodopirellula strains detected 1120 open reading frames annotated as sulfatases (Enzyme Commission number (EC) 3.1.6.*). These were clustered into 173 groups of orthologous and paralogous genes. To analyze the functional aspects, 708 sulfatase protein sequences from these strains were aligned with 67 sulfatase reference sequences of reviewed functionality. Our analysis yielded 22 major similarity clusters, but only five of these clusters contained Rhodopirellula sequences homologous to reference sequences, indicating a surprisingly high diversity. Exemplarily, R. baltica SH1(T) was grown on different sulfated polysaccharides, chondroitin sulfate, lambda-carrageenan and fucoidan. Subsequent gene expression analyses using whole genome microarrays revealed distinct sulfatase expression profiles based on substrates tested. This might be indicative for a high structural diversity of sulfated polysaccharides as potential substrates. The pattern of sulfatases in individual planctomycete species may reflect ecological niche adaptation.\n",
      "Model Output: Bacteriology, Biodiversity, Bioinformatics, Comparative genomics, Genetics, Genomics, Medical biotechnology, Microbiology, Sequence analysis\n",
      "\n",
      "Abstract: The health impacts of endocrine-disrupting chemicals (EDCs) remain debated, and their tissue and molecular targets are poorly understood. In this study, we leveraged systems biology approaches to assess the target tissues, molecular pathways, and gene regulatory networks associated with prenatal exposure to the model EDC bisphenol A (BPA). Prenatal BPA exposure at 5 mg/kg/d, a dose below most reported no-observed-adverse-effect levels, led to tens to thousands of transcriptomic and methylomic alterations in the adipose, hypothalamus, and liver tissues in male offspring in mice, with cross-tissue perturbations in lipid metabolism as well as tissue-specific alterations in histone subunits, glucose metabolism, and extracellular matrix. Network modeling prioritized main molecular targets of BPA, including Pparg, Hnf4a, Esr1, Srebf1, and Fasn as well as numerous less studied targets such as Cyp51 and long noncoding RNAs across tissues, Fa2h in hypothalamus, and Nfya in adipose tissue. Lastly, integrative analyses identified the association of BPA molecular signatures with cardiometabolic phenotypes in mouse and human. Our multitissue, multiomics investigation provides strong evidence that BPA perturbs diverse molecular networks in central and peripheral tissues and offers insights into the molecular targets that link BPA to human cardiometabolic disorders.\n",
      "Model Output: \"Bioinformatics\", \"Data mining\", \"Omics\", \"Molecular interactions, pathways and networks\".\n",
      "\n",
      "Abstract: BACKGROUND: The Affymetrix GeneChip(R) system is a commonly used platform for microarray analysis but the technology is inherently expensive. Unfortunately, changes in experimental planning and execution, such as the unavailability of previously anticipated samples or a shift in research focus, may render significant numbers of pre-purchased GeneChip(R) microarrays unprocessed before their manufacturer's expiration dates. Researchers and microarray core facilities wonder whether expired microarrays are still useful for gene expression analysis. In addition, it was not clear whether the two human reference RNA samples established by the MAQC project in 2005 still maintained their transcriptome integrity over a period of four years. Experiments were conducted to answer these questions. RESULTS: Microarray data were generated in 2009 in three replicates for each of the two MAQC samples with either expired Affymetrix U133A or unexpired U133Plus2 microarrays. These results were compared with data obtained in 2005 on the U133Plus2 microarray. The percentage of overlap between the lists of differentially expressed genes (DEGs) from U133Plus2 microarray data generated in 2009 and in 2005 was 97.44%. While there was some degree of fold change compression in the expired U133A microarrays, the percentage of overlap between the lists of DEGs from the expired and unexpired microarrays was as high as 96.99%. Moreover, the microarray data generated using the expired U133A microarrays in 2009 were highly concordant with microarray and TaqMan(R) data generated by the MAQC project in 2005. CONCLUSIONS: Our results demonstrated that microarray data generated using U133A microarrays, which were more than four years past the manufacturer's expiration date, were highly specific and consistent with those from unexpired microarrays in identifying DEGs despite some appreciable fold change compression and decrease in sensitivity. Our data also suggested that the MAQC reference RNA samples, stored at -80 degrees C, were stable over a time frame of at least four years.\n",
      "Model Output: Computer science\n",
      "\n",
      "Abstract: Enterococcus faecalis V583 was grown in a glucose-limited chemostat at three different growth rates (0.05, 0.15, and 0.4 h(-)(1)). The fermentation pattern changed with growth rate, from a mostly homolactic profile at a high growth rate to a fermentation dominated by formate, acetate, and ethanol production at a low growth rate. A number of amino acids were consumed at the lower growth rates but not by fast-growing cells. The change in metabolic profile was caused mainly by decreased flux through lactate dehydrogenase. The transcription of ldh-1, encoding the principal lactate dehydrogenase, showed very strong growth rate dependence and differed by three orders of magnitude between the highest and the lowest growth rates. Despite the increase in ldh-1 transcript, the content of the Ldh-1 protein was the same under all conditions. Using microarrays and quantitative PCR, the levels of 227 gene transcripts were found to be affected by the growth rate, and 56 differentially expressed proteins were found by proteomic analyses. Few genes or proteins showed a growth rate-dependent increase or decrease in expression across the whole range of conditions, and many showed a maximum or minimum at the middle growth rate (i.e., 0.15 h(-)(1)). For many gene products, a discrepancy between transcriptomic and proteomic data were seen, indicating posttranscriptional regulation of expression.\n",
      "Model Output: Biochemistry, Biology, Biotechnology, Cell biology, Gene expression, Gene regulation, Genetics, Genomics, Metabolomics, Proteomics\n",
      "\n",
      "Abstract: Acaricide-inducible differential gene expression was studied in larvae of Rhipicephalus (Boophilus) microplus using a microarray-based approach. The acaricides used were: coumaphos, permethrin, ivermectin, and amitraz. The microarrays contained over 13 000 probes, having been derived from a previously described R. microplus gene index (BmiGI Version 2; Wang et al., 2007). Relative quantitative reverse transcriptase-PCR, real time PCR, and serial analysis of gene expression data was used to verify microarray data. Among the differentially expressed genes with informative annotation were legumain, glutathione S-transferase, and a putative salivary gland-associated protein.\n",
      "Model Output: \"Animal study\", \"Gene expression\", \"Genetics\", \"Genomics\", \"Molecular genetics\"\n",
      "\n",
      "Abstract: Phagocytosis of human cells is a crucial activity for the virulence of the human parasite Entamoeba histolytica. This protozoan invades and destroys the intestine by killing and phagocytosing epithelial cells, erythrocytes and cells from the immune system. In this study, we used magnetic beads covered with proteins from human serum as a model system to study the early events involved in phagocytosis by E. histolytica. We validated the system showing that the beads uptake triggered the activation of the actin-myosin cytoskeleton and involved a PI3-kinase as previously described for erythrophagocytosis. We purified early phagosomes from wild-type (WT) amoeba and from parasites that overproduced myosin IB (MyoIB+), the unique unconventional myosin of E. histolytica. The MyoIB+ cells exhibit a slower and more synchronized uptake process than the WT strain. Proteomic analysis by liquid chromatography and tandem mass spectroscopy (LC-MS/MS) of the WT and MyoIB+ phagosomes allowed us to identify, for the first time, molecular actors involved in the early step of the uptake process. These include proteins involved in cytoskeleton activity, signalling, endocytosis, lytic activity and cell surface proteins. Interestingly, the proteins that we found specifically recruited on the phagosomes from the MyoIB+ strain were previously described in other eukarytotic cells, as involved in the regulation of cortical F-actin dynamics, such as alpha-actinin and formins. This proteomics approach allows a step further towards the understanding of the molecular mechanisms involved in phagocytosis in E. histolytica that revealed some interesting differences compared with phagocytosis in macrophages or Dictyostelium discoideum, and allowed to identify putative candidates for proteins linked to myosin IB activity during the phagocytic process.\n",
      "Model Output: Bioinformatics, Biology, Genetics, Genomics, Medical biotechnology, Medicine, Molecular biology, Proteomics, Systems biology, Virology\n",
      "\n",
      "Abstract: Current methods for whole-genome mapping of protein-DNA interactions, performed by coupling chromatin immunoprecipitation with high-throughput sequencing (ChIP-seq), require large amounts of starting materials, which precludes their application to rare cell types. Here we combine a high-sensitivity ChIP assay with a new library preparation procedure to map histone modifications in as few as 10,000 cells. We used the technique to characterize mouse hematopoietic progenitors and thereby gain insight into their developmental program.\n",
      "Model Output: Bioinformatics, Biology, Biomedical science, Genetic engineering, Genetics\n",
      "\n"
     ]
    }
   ],
   "source": [
    "def test_subset(num_tests, seed=42):\n",
    "    random_samples = dataset.sample(n=num_tests, random_state=seed)\n",
    "    \n",
    "    for _, random_sample in random_samples.iterrows():\n",
    "\n",
    "        prompt = template.replace('<abstract>', random_sample['Abstract'])\n",
    "        num_terms = len(random_sample['EDAM Topics'])\n",
    "        prompt = prompt.replace('<num_terms>', str(num_terms))\n",
    "\n",
    "        model_inputs = tokenizer(prompt, return_tensors=\"pt\").to(device)\n",
    "        generated_ids = model.generate(**model_inputs, max_new_tokens=2500, do_sample=True, pad_token_id=tokenizer.eos_token_id)\n",
    "        output = tokenizer.batch_decode(generated_ids, skip_special_tokens=True)[0]\n",
    "        parsed_output = output.split('\\n')[-1]\n",
    "\n",
    "        print(\"Abstract:\", random_sample['Abstract'])\n",
    "        print(\"Model Output:\", parsed_output)\n",
    "        print()\n",
    "\n",
    "test_subset(10)"
   ]
  },
  {
   "cell_type": "markdown",
   "metadata": {},
   "source": [
    "## Gather comparison data"
   ]
  },
  {
   "cell_type": "markdown",
   "metadata": {},
   "source": [
    "Get results to compare with the other GPT models"
   ]
  },
  {
   "cell_type": "code",
   "execution_count": 44,
   "metadata": {},
   "outputs": [],
   "source": [
    "test_data = pd.read_csv('outputs/raw_model_outputs.csv').iloc[:25][['Abstract', 'Ground Truth']]\n",
    "test_data['Ground Truth'] = test_data['Ground Truth'].apply(ast.literal_eval)"
   ]
  },
  {
   "cell_type": "code",
   "execution_count": 45,
   "metadata": {},
   "outputs": [
    {
     "data": {
      "application/vnd.jupyter.widget-view+json": {
       "model_id": "c1926631824e46a59d3dd76a31fea60b",
       "version_major": 2,
       "version_minor": 0
      },
      "text/plain": [
       "  0%|          | 0/25 [00:00<?, ?it/s]"
      ]
     },
     "metadata": {},
     "output_type": "display_data"
    }
   ],
   "source": [
    "\n",
    "def get_model_outputs(data, template, tokenizer, model, device):\n",
    "    outputs = []\n",
    "    for _, row in tqdm(data.iterrows(), total=data.shape[0]):\n",
    "        abstract = row['Abstract']\n",
    "        ground_truth = row['Ground Truth']\n",
    "\n",
    "        prompt = template.replace('<abstract>', abstract)\n",
    "        prompt = prompt.replace('<num_terms>', str(len(ground_truth)))\n",
    "\n",
    "        model_inputs = tokenizer(prompt, return_tensors=\"pt\").to(device)\n",
    "        generated_ids = model.generate(**model_inputs, max_new_tokens=2500, do_sample=True, pad_token_id=tokenizer.eos_token_id)\n",
    "        output = tokenizer.batch_decode(generated_ids, skip_special_tokens=True)[0]\n",
    "        parsed_output = output.split('\\n')[-1]\n",
    "\n",
    "        outputs.append(parsed_output)\n",
    "\n",
    "    return outputs\n",
    "\n",
    "model_out = get_model_outputs(test_data, template, tokenizer, model, device)"
   ]
  },
  {
   "cell_type": "code",
   "execution_count": 59,
   "metadata": {},
   "outputs": [
    {
     "data": {
      "text/html": [
       "<div>\n",
       "<style scoped>\n",
       "    .dataframe tbody tr th:only-of-type {\n",
       "        vertical-align: middle;\n",
       "    }\n",
       "\n",
       "    .dataframe tbody tr th {\n",
       "        vertical-align: top;\n",
       "    }\n",
       "\n",
       "    .dataframe thead th {\n",
       "        text-align: right;\n",
       "    }\n",
       "</style>\n",
       "<table border=\"1\" class=\"dataframe\">\n",
       "  <thead>\n",
       "    <tr style=\"text-align: right;\">\n",
       "      <th></th>\n",
       "      <th>Model</th>\n",
       "      <th>Abstract</th>\n",
       "      <th>Ground Truth</th>\n",
       "      <th>Predictions</th>\n",
       "    </tr>\n",
       "  </thead>\n",
       "  <tbody>\n",
       "    <tr>\n",
       "      <th>0</th>\n",
       "      <td>mixtral-8x7b-model</td>\n",
       "      <td>While microarray experiments generate volumino...</td>\n",
       "      <td>{Zoology, Genetics, Computational biology}</td>\n",
       "      <td>{Biology, Bioinformatics, Genetics}</td>\n",
       "    </tr>\n",
       "    <tr>\n",
       "      <th>1</th>\n",
       "      <td>mixtral-8x7b-model</td>\n",
       "      <td>Pea powdery mildew (PM) is an important fungal...</td>\n",
       "      <td>{Proteins, Genetics, Drug metabolism, Gene reg...</td>\n",
       "      <td>{Genetics, Agricultural science, Genomics, Mol...</td>\n",
       "    </tr>\n",
       "    <tr>\n",
       "      <th>2</th>\n",
       "      <td>mixtral-8x7b-model</td>\n",
       "      <td>Differentiation proceeds along a continuum of ...</td>\n",
       "      <td>{Zoology, Sequence assembly, Genetics, Drug me...</td>\n",
       "      <td>{Cell biology, Genetics, Genomics, Gene regula...</td>\n",
       "    </tr>\n",
       "    <tr>\n",
       "      <th>3</th>\n",
       "      <td>mixtral-8x7b-model</td>\n",
       "      <td>The annual migration of a bird can involve tho...</td>\n",
       "      <td>{Zoology, Gene expression, Transcriptomics, Ge...</td>\n",
       "      <td>{Biology, Animal study, Biochemistry}</td>\n",
       "    </tr>\n",
       "    <tr>\n",
       "      <th>4</th>\n",
       "      <td>mixtral-8x7b-model</td>\n",
       "      <td>The utilization of methane, a potent greenhous...</td>\n",
       "      <td>{Proteins, Drug metabolism, Gene expression, P...</td>\n",
       "      <td>{Biosciences, Genetics, Biotechnology, Gene ex...</td>\n",
       "    </tr>\n",
       "    <tr>\n",
       "      <th>5</th>\n",
       "      <td>mixtral-8x7b-model</td>\n",
       "      <td>We designed and constructed a genome-wide micr...</td>\n",
       "      <td>{Zoology, Genetics, Drug metabolism, Medicinal...</td>\n",
       "      <td>{Genetics, Genomics, Molecular biology, Animal...</td>\n",
       "    </tr>\n",
       "    <tr>\n",
       "      <th>6</th>\n",
       "      <td>mixtral-8x7b-model</td>\n",
       "      <td>Influenza A viruses (IAVs) quickly adapt to ne...</td>\n",
       "      <td>{Zoology, Proteins, Genetics, Drug metabolism,...</td>\n",
       "      <td>{Computational chemistry, Translational resear...</td>\n",
       "    </tr>\n",
       "    <tr>\n",
       "      <th>7</th>\n",
       "      <td>mixtral-8x7b-model</td>\n",
       "      <td>Activating mutations in JAK1 have been reporte...</td>\n",
       "      <td>{Zoology, Immunoinformatics, DNA mutation, Gen...</td>\n",
       "      <td>{Neurology/central nervous system, Biotherapeu...</td>\n",
       "    </tr>\n",
       "    <tr>\n",
       "      <th>8</th>\n",
       "      <td>mixtral-8x7b-model</td>\n",
       "      <td>DNA recombination is required for effective se...</td>\n",
       "      <td>{Zoology, DNA replication and recombination, G...</td>\n",
       "      <td>{Bioinformatics, Genetics, Genomics}</td>\n",
       "    </tr>\n",
       "    <tr>\n",
       "      <th>9</th>\n",
       "      <td>mixtral-8x7b-model</td>\n",
       "      <td>Newborns are frequently affected by mucocutane...</td>\n",
       "      <td>{Genetics, Drug metabolism, Immunogenetics, Hu...</td>\n",
       "      <td>{\"Data quality management\", \"Data management\",...</td>\n",
       "    </tr>\n",
       "    <tr>\n",
       "      <th>10</th>\n",
       "      <td>mixtral-8x7b-model</td>\n",
       "      <td>Glioblastoma stem cells (GSCs) are implicated ...</td>\n",
       "      <td>{Epigenomics, Genetics, Genomics, Drug metabol...</td>\n",
       "      <td>{Genetics, Oncology, Data analysis, Biotechnol...</td>\n",
       "    </tr>\n",
       "    <tr>\n",
       "      <th>11</th>\n",
       "      <td>mixtral-8x7b-model</td>\n",
       "      <td>Genetic variations affecting neural tube closu...</td>\n",
       "      <td>{Zoology, DNA mutation, RNA, Genetics, Gene re...</td>\n",
       "      <td>{Neurology, Biochemistry, Evolutionary biology...</td>\n",
       "    </tr>\n",
       "    <tr>\n",
       "      <th>12</th>\n",
       "      <td>mixtral-8x7b-model</td>\n",
       "      <td>Yin and yang 1 (YY1) is a well-known zinc-fing...</td>\n",
       "      <td>{Genetics, Drug metabolism, Medicinal chemistr...</td>\n",
       "      <td>{Genetics, Biomolecular simulation, Genomics, ...</td>\n",
       "    </tr>\n",
       "    <tr>\n",
       "      <th>13</th>\n",
       "      <td>mixtral-8x7b-model</td>\n",
       "      <td>Duck enteritis virus (DEV) is an important her...</td>\n",
       "      <td>{Zoology, Virology, Genetics}</td>\n",
       "      <td>{\"Bioinformatics\", Animal study, \"Biology\"}</td>\n",
       "    </tr>\n",
       "    <tr>\n",
       "      <th>14</th>\n",
       "      <td>mixtral-8x7b-model</td>\n",
       "      <td>Candida parapsilosis is a pathogenic fungus th...</td>\n",
       "      <td>{Zoology, Proteins, Genetics, Drug metabolism,...</td>\n",
       "      <td>{Clinical (Immunology)}</td>\n",
       "    </tr>\n",
       "    <tr>\n",
       "      <th>15</th>\n",
       "      <td>mixtral-8x7b-model</td>\n",
       "      <td>Dissipation kinetics of mesotrione, a new trik...</td>\n",
       "      <td>{Drug metabolism, Microbiology, Microbial ecol...</td>\n",
       "      <td>{Genetics, Agricultural science, Biology, Micr...</td>\n",
       "    </tr>\n",
       "    <tr>\n",
       "      <th>16</th>\n",
       "      <td>mixtral-8x7b-model</td>\n",
       "      <td>Many cellular models aimed at elucidating canc...</td>\n",
       "      <td>{Zoology, DNA mutation, Genetics, Drug metabol...</td>\n",
       "      <td>{Computational chemistry, Molecular biology, C...</td>\n",
       "    </tr>\n",
       "    <tr>\n",
       "      <th>17</th>\n",
       "      <td>mixtral-8x7b-model</td>\n",
       "      <td>Chocolate Pots hot springs (CP) is a unique, c...</td>\n",
       "      <td>{Microbiology, Sequence analysis, Drug metabol...</td>\n",
       "      <td>{Bioinformatics, \"Genomics\", \"Biotechnology\"}</td>\n",
       "    </tr>\n",
       "    <tr>\n",
       "      <th>18</th>\n",
       "      <td>mixtral-8x7b-model</td>\n",
       "      <td>Because microRNAs (miRNAs) have been associate...</td>\n",
       "      <td>{Genetics, RNA, Drug metabolism, Human biology...</td>\n",
       "      <td>{Biosciences, Biomolecular simulation, Biotech...</td>\n",
       "    </tr>\n",
       "    <tr>\n",
       "      <th>19</th>\n",
       "      <td>mixtral-8x7b-model</td>\n",
       "      <td>In the malaria parasite Plasmodium falciparum,...</td>\n",
       "      <td>{Proteins, Genetics, Drug metabolism, Gene reg...</td>\n",
       "      <td>{Genetics, Genomics, Molecular biology, Biolog...</td>\n",
       "    </tr>\n",
       "    <tr>\n",
       "      <th>20</th>\n",
       "      <td>mixtral-8x7b-model</td>\n",
       "      <td>Diagnostic and prognostic evaluation of chroni...</td>\n",
       "      <td>{Drug metabolism, Gene regulation, Physiology,...</td>\n",
       "      <td>{Genetics, haematology, Biochemistry, Biology,...</td>\n",
       "    </tr>\n",
       "    <tr>\n",
       "      <th>21</th>\n",
       "      <td>mixtral-8x7b-model</td>\n",
       "      <td>CTCF is a key insulator-binding protein, and m...</td>\n",
       "      <td>{Genetics, DNA binding sites, Drug metabolism,...</td>\n",
       "      <td>{Cell biology, Genetics, Genomics, Gene regula...</td>\n",
       "    </tr>\n",
       "    <tr>\n",
       "      <th>22</th>\n",
       "      <td>mixtral-8x7b-model</td>\n",
       "      <td>Adipocytes arise from the commitment and diffe...</td>\n",
       "      <td>{Zoology, Biomarkers, Protein binding sites, D...</td>\n",
       "      <td>{\"Cell biology\", Animal study, \"Genetics\", \"Bi...</td>\n",
       "    </tr>\n",
       "    <tr>\n",
       "      <th>23</th>\n",
       "      <td>mixtral-8x7b-model</td>\n",
       "      <td>Tumor suppressive microRNA (miR)-150 inhibits ...</td>\n",
       "      <td>{Zoology, Genetics, Drug metabolism, Gene regu...</td>\n",
       "      <td>{\"Biomedical science\", \"Sequence analysis\", \"P...</td>\n",
       "    </tr>\n",
       "    <tr>\n",
       "      <th>24</th>\n",
       "      <td>mixtral-8x7b-model</td>\n",
       "      <td>Bacterial genes that change in expression upon...</td>\n",
       "      <td>{Genetics, Drug metabolism, Gene regulation, M...</td>\n",
       "      <td>{Genetics, Genomics, Molecular biology, Bioche...</td>\n",
       "    </tr>\n",
       "  </tbody>\n",
       "</table>\n",
       "</div>"
      ],
      "text/plain": [
       "                 Model                                           Abstract  \\\n",
       "0   mixtral-8x7b-model  While microarray experiments generate volumino...   \n",
       "1   mixtral-8x7b-model  Pea powdery mildew (PM) is an important fungal...   \n",
       "2   mixtral-8x7b-model  Differentiation proceeds along a continuum of ...   \n",
       "3   mixtral-8x7b-model  The annual migration of a bird can involve tho...   \n",
       "4   mixtral-8x7b-model  The utilization of methane, a potent greenhous...   \n",
       "5   mixtral-8x7b-model  We designed and constructed a genome-wide micr...   \n",
       "6   mixtral-8x7b-model  Influenza A viruses (IAVs) quickly adapt to ne...   \n",
       "7   mixtral-8x7b-model  Activating mutations in JAK1 have been reporte...   \n",
       "8   mixtral-8x7b-model  DNA recombination is required for effective se...   \n",
       "9   mixtral-8x7b-model  Newborns are frequently affected by mucocutane...   \n",
       "10  mixtral-8x7b-model  Glioblastoma stem cells (GSCs) are implicated ...   \n",
       "11  mixtral-8x7b-model  Genetic variations affecting neural tube closu...   \n",
       "12  mixtral-8x7b-model  Yin and yang 1 (YY1) is a well-known zinc-fing...   \n",
       "13  mixtral-8x7b-model  Duck enteritis virus (DEV) is an important her...   \n",
       "14  mixtral-8x7b-model  Candida parapsilosis is a pathogenic fungus th...   \n",
       "15  mixtral-8x7b-model  Dissipation kinetics of mesotrione, a new trik...   \n",
       "16  mixtral-8x7b-model  Many cellular models aimed at elucidating canc...   \n",
       "17  mixtral-8x7b-model  Chocolate Pots hot springs (CP) is a unique, c...   \n",
       "18  mixtral-8x7b-model  Because microRNAs (miRNAs) have been associate...   \n",
       "19  mixtral-8x7b-model  In the malaria parasite Plasmodium falciparum,...   \n",
       "20  mixtral-8x7b-model  Diagnostic and prognostic evaluation of chroni...   \n",
       "21  mixtral-8x7b-model  CTCF is a key insulator-binding protein, and m...   \n",
       "22  mixtral-8x7b-model  Adipocytes arise from the commitment and diffe...   \n",
       "23  mixtral-8x7b-model  Tumor suppressive microRNA (miR)-150 inhibits ...   \n",
       "24  mixtral-8x7b-model  Bacterial genes that change in expression upon...   \n",
       "\n",
       "                                         Ground Truth  \\\n",
       "0          {Zoology, Genetics, Computational biology}   \n",
       "1   {Proteins, Genetics, Drug metabolism, Gene reg...   \n",
       "2   {Zoology, Sequence assembly, Genetics, Drug me...   \n",
       "3   {Zoology, Gene expression, Transcriptomics, Ge...   \n",
       "4   {Proteins, Drug metabolism, Gene expression, P...   \n",
       "5   {Zoology, Genetics, Drug metabolism, Medicinal...   \n",
       "6   {Zoology, Proteins, Genetics, Drug metabolism,...   \n",
       "7   {Zoology, Immunoinformatics, DNA mutation, Gen...   \n",
       "8   {Zoology, DNA replication and recombination, G...   \n",
       "9   {Genetics, Drug metabolism, Immunogenetics, Hu...   \n",
       "10  {Epigenomics, Genetics, Genomics, Drug metabol...   \n",
       "11  {Zoology, DNA mutation, RNA, Genetics, Gene re...   \n",
       "12  {Genetics, Drug metabolism, Medicinal chemistr...   \n",
       "13                      {Zoology, Virology, Genetics}   \n",
       "14  {Zoology, Proteins, Genetics, Drug metabolism,...   \n",
       "15  {Drug metabolism, Microbiology, Microbial ecol...   \n",
       "16  {Zoology, DNA mutation, Genetics, Drug metabol...   \n",
       "17  {Microbiology, Sequence analysis, Drug metabol...   \n",
       "18  {Genetics, RNA, Drug metabolism, Human biology...   \n",
       "19  {Proteins, Genetics, Drug metabolism, Gene reg...   \n",
       "20  {Drug metabolism, Gene regulation, Physiology,...   \n",
       "21  {Genetics, DNA binding sites, Drug metabolism,...   \n",
       "22  {Zoology, Biomarkers, Protein binding sites, D...   \n",
       "23  {Zoology, Genetics, Drug metabolism, Gene regu...   \n",
       "24  {Genetics, Drug metabolism, Gene regulation, M...   \n",
       "\n",
       "                                          Predictions  \n",
       "0                 {Biology, Bioinformatics, Genetics}  \n",
       "1   {Genetics, Agricultural science, Genomics, Mol...  \n",
       "2   {Cell biology, Genetics, Genomics, Gene regula...  \n",
       "3               {Biology, Animal study, Biochemistry}  \n",
       "4   {Biosciences, Genetics, Biotechnology, Gene ex...  \n",
       "5   {Genetics, Genomics, Molecular biology, Animal...  \n",
       "6   {Computational chemistry, Translational resear...  \n",
       "7   {Neurology/central nervous system, Biotherapeu...  \n",
       "8                {Bioinformatics, Genetics, Genomics}  \n",
       "9   {\"Data quality management\", \"Data management\",...  \n",
       "10  {Genetics, Oncology, Data analysis, Biotechnol...  \n",
       "11  {Neurology, Biochemistry, Evolutionary biology...  \n",
       "12  {Genetics, Biomolecular simulation, Genomics, ...  \n",
       "13        {\"Bioinformatics\", Animal study, \"Biology\"}  \n",
       "14                            {Clinical (Immunology)}  \n",
       "15  {Genetics, Agricultural science, Biology, Micr...  \n",
       "16  {Computational chemistry, Molecular biology, C...  \n",
       "17      {Bioinformatics, \"Genomics\", \"Biotechnology\"}  \n",
       "18  {Biosciences, Biomolecular simulation, Biotech...  \n",
       "19  {Genetics, Genomics, Molecular biology, Biolog...  \n",
       "20  {Genetics, haematology, Biochemistry, Biology,...  \n",
       "21  {Cell biology, Genetics, Genomics, Gene regula...  \n",
       "22  {\"Cell biology\", Animal study, \"Genetics\", \"Bi...  \n",
       "23  {\"Biomedical science\", \"Sequence analysis\", \"P...  \n",
       "24  {Genetics, Genomics, Molecular biology, Bioche...  "
      ]
     },
     "execution_count": 59,
     "metadata": {},
     "output_type": "execute_result"
    }
   ],
   "source": [
    "test_data['Predictions'] = model_out\n",
    "test_data['Predictions'] = test_data['Predictions'].apply(lambda x: set(map(str.strip, next(csv.reader([x])))))\n",
    "\n",
    "test_data['Model'] = [model.name_or_path.split('/')[-1]] * len(test_data)\n",
    "test_data = test_data[['Model', 'Abstract', 'Ground Truth', 'Predictions']]\n",
    "test_data"
   ]
  },
  {
   "cell_type": "code",
   "execution_count": 61,
   "metadata": {},
   "outputs": [
    {
     "data": {
      "text/html": [
       "<div>\n",
       "<style scoped>\n",
       "    .dataframe tbody tr th:only-of-type {\n",
       "        vertical-align: middle;\n",
       "    }\n",
       "\n",
       "    .dataframe tbody tr th {\n",
       "        vertical-align: top;\n",
       "    }\n",
       "\n",
       "    .dataframe thead th {\n",
       "        text-align: right;\n",
       "    }\n",
       "</style>\n",
       "<table border=\"1\" class=\"dataframe\">\n",
       "  <thead>\n",
       "    <tr style=\"text-align: right;\">\n",
       "      <th></th>\n",
       "      <th>Model</th>\n",
       "      <th>Abstract</th>\n",
       "      <th>Ground Truth</th>\n",
       "      <th>Predictions</th>\n",
       "    </tr>\n",
       "  </thead>\n",
       "  <tbody>\n",
       "    <tr>\n",
       "      <th>0</th>\n",
       "      <td>mixtral-8x7b-model</td>\n",
       "      <td>While microarray experiments generate volumino...</td>\n",
       "      <td>{Zoology, Genetics, Computational biology}</td>\n",
       "      <td>{Biology, Bioinformatics, Genetics}</td>\n",
       "    </tr>\n",
       "    <tr>\n",
       "      <th>1</th>\n",
       "      <td>mixtral-8x7b-model</td>\n",
       "      <td>Pea powdery mildew (PM) is an important fungal...</td>\n",
       "      <td>{Proteins, Genetics, Drug metabolism, Gene reg...</td>\n",
       "      <td>{Genetics, Agricultural science, Genomics, Mol...</td>\n",
       "    </tr>\n",
       "    <tr>\n",
       "      <th>2</th>\n",
       "      <td>mixtral-8x7b-model</td>\n",
       "      <td>Differentiation proceeds along a continuum of ...</td>\n",
       "      <td>{Zoology, Sequence assembly, Genetics, Drug me...</td>\n",
       "      <td>{Cell biology, Genetics, Genomics, Gene regula...</td>\n",
       "    </tr>\n",
       "    <tr>\n",
       "      <th>3</th>\n",
       "      <td>mixtral-8x7b-model</td>\n",
       "      <td>The annual migration of a bird can involve tho...</td>\n",
       "      <td>{Zoology, Gene expression, Transcriptomics, Ge...</td>\n",
       "      <td>{Biology, Animal study, Biochemistry}</td>\n",
       "    </tr>\n",
       "    <tr>\n",
       "      <th>4</th>\n",
       "      <td>mixtral-8x7b-model</td>\n",
       "      <td>The utilization of methane, a potent greenhous...</td>\n",
       "      <td>{Proteins, Drug metabolism, Gene expression, P...</td>\n",
       "      <td>{Biosciences, Genetics, Biotechnology, Gene ex...</td>\n",
       "    </tr>\n",
       "    <tr>\n",
       "      <th>5</th>\n",
       "      <td>mixtral-8x7b-model</td>\n",
       "      <td>We designed and constructed a genome-wide micr...</td>\n",
       "      <td>{Zoology, Genetics, Drug metabolism, Medicinal...</td>\n",
       "      <td>{Genetics, Genomics, Molecular biology, Animal...</td>\n",
       "    </tr>\n",
       "    <tr>\n",
       "      <th>6</th>\n",
       "      <td>mixtral-8x7b-model</td>\n",
       "      <td>Influenza A viruses (IAVs) quickly adapt to ne...</td>\n",
       "      <td>{Zoology, Proteins, Genetics, Drug metabolism,...</td>\n",
       "      <td>{Computational chemistry, Translational resear...</td>\n",
       "    </tr>\n",
       "    <tr>\n",
       "      <th>7</th>\n",
       "      <td>mixtral-8x7b-model</td>\n",
       "      <td>Activating mutations in JAK1 have been reporte...</td>\n",
       "      <td>{Zoology, Immunoinformatics, DNA mutation, Gen...</td>\n",
       "      <td>{Neurology/central nervous system, Biotherapeu...</td>\n",
       "    </tr>\n",
       "    <tr>\n",
       "      <th>8</th>\n",
       "      <td>mixtral-8x7b-model</td>\n",
       "      <td>DNA recombination is required for effective se...</td>\n",
       "      <td>{Zoology, DNA replication and recombination, G...</td>\n",
       "      <td>{Bioinformatics, Genetics, Genomics}</td>\n",
       "    </tr>\n",
       "    <tr>\n",
       "      <th>9</th>\n",
       "      <td>mixtral-8x7b-model</td>\n",
       "      <td>Newborns are frequently affected by mucocutane...</td>\n",
       "      <td>{Genetics, Drug metabolism, Immunogenetics, Hu...</td>\n",
       "      <td>{\"Data quality management\", \"Data management\",...</td>\n",
       "    </tr>\n",
       "    <tr>\n",
       "      <th>10</th>\n",
       "      <td>mixtral-8x7b-model</td>\n",
       "      <td>Glioblastoma stem cells (GSCs) are implicated ...</td>\n",
       "      <td>{Epigenomics, Genetics, Genomics, Drug metabol...</td>\n",
       "      <td>{Genetics, Oncology, Data analysis, Biotechnol...</td>\n",
       "    </tr>\n",
       "    <tr>\n",
       "      <th>11</th>\n",
       "      <td>mixtral-8x7b-model</td>\n",
       "      <td>Genetic variations affecting neural tube closu...</td>\n",
       "      <td>{Zoology, DNA mutation, RNA, Genetics, Gene re...</td>\n",
       "      <td>{Neurology, Biochemistry, Evolutionary biology...</td>\n",
       "    </tr>\n",
       "    <tr>\n",
       "      <th>12</th>\n",
       "      <td>mixtral-8x7b-model</td>\n",
       "      <td>Yin and yang 1 (YY1) is a well-known zinc-fing...</td>\n",
       "      <td>{Genetics, Drug metabolism, Medicinal chemistr...</td>\n",
       "      <td>{Genetics, Biomolecular simulation, Genomics, ...</td>\n",
       "    </tr>\n",
       "    <tr>\n",
       "      <th>13</th>\n",
       "      <td>mixtral-8x7b-model</td>\n",
       "      <td>Duck enteritis virus (DEV) is an important her...</td>\n",
       "      <td>{Zoology, Virology, Genetics}</td>\n",
       "      <td>{\"Bioinformatics\", Animal study, \"Biology\"}</td>\n",
       "    </tr>\n",
       "    <tr>\n",
       "      <th>14</th>\n",
       "      <td>mixtral-8x7b-model</td>\n",
       "      <td>Candida parapsilosis is a pathogenic fungus th...</td>\n",
       "      <td>{Zoology, Proteins, Genetics, Drug metabolism,...</td>\n",
       "      <td>{Clinical (Immunology)}</td>\n",
       "    </tr>\n",
       "    <tr>\n",
       "      <th>15</th>\n",
       "      <td>mixtral-8x7b-model</td>\n",
       "      <td>Dissipation kinetics of mesotrione, a new trik...</td>\n",
       "      <td>{Drug metabolism, Microbiology, Microbial ecol...</td>\n",
       "      <td>{Genetics, Agricultural science, Biology, Micr...</td>\n",
       "    </tr>\n",
       "    <tr>\n",
       "      <th>16</th>\n",
       "      <td>mixtral-8x7b-model</td>\n",
       "      <td>Many cellular models aimed at elucidating canc...</td>\n",
       "      <td>{Zoology, DNA mutation, Genetics, Drug metabol...</td>\n",
       "      <td>{Computational chemistry, Molecular biology, C...</td>\n",
       "    </tr>\n",
       "    <tr>\n",
       "      <th>17</th>\n",
       "      <td>mixtral-8x7b-model</td>\n",
       "      <td>Chocolate Pots hot springs (CP) is a unique, c...</td>\n",
       "      <td>{Microbiology, Sequence analysis, Drug metabol...</td>\n",
       "      <td>{Bioinformatics, \"Genomics\", \"Biotechnology\"}</td>\n",
       "    </tr>\n",
       "    <tr>\n",
       "      <th>18</th>\n",
       "      <td>mixtral-8x7b-model</td>\n",
       "      <td>Because microRNAs (miRNAs) have been associate...</td>\n",
       "      <td>{Genetics, RNA, Drug metabolism, Human biology...</td>\n",
       "      <td>{Biosciences, Biomolecular simulation, Biotech...</td>\n",
       "    </tr>\n",
       "    <tr>\n",
       "      <th>19</th>\n",
       "      <td>mixtral-8x7b-model</td>\n",
       "      <td>In the malaria parasite Plasmodium falciparum,...</td>\n",
       "      <td>{Proteins, Genetics, Drug metabolism, Gene reg...</td>\n",
       "      <td>{Genetics, Genomics, Molecular biology, Biolog...</td>\n",
       "    </tr>\n",
       "    <tr>\n",
       "      <th>20</th>\n",
       "      <td>mixtral-8x7b-model</td>\n",
       "      <td>Diagnostic and prognostic evaluation of chroni...</td>\n",
       "      <td>{Drug metabolism, Gene regulation, Physiology,...</td>\n",
       "      <td>{Genetics, haematology, Biochemistry, Biology,...</td>\n",
       "    </tr>\n",
       "    <tr>\n",
       "      <th>21</th>\n",
       "      <td>mixtral-8x7b-model</td>\n",
       "      <td>CTCF is a key insulator-binding protein, and m...</td>\n",
       "      <td>{Genetics, DNA binding sites, Drug metabolism,...</td>\n",
       "      <td>{Cell biology, Genetics, Genomics, Gene regula...</td>\n",
       "    </tr>\n",
       "    <tr>\n",
       "      <th>22</th>\n",
       "      <td>mixtral-8x7b-model</td>\n",
       "      <td>Adipocytes arise from the commitment and diffe...</td>\n",
       "      <td>{Zoology, Biomarkers, Protein binding sites, D...</td>\n",
       "      <td>{\"Cell biology\", Animal study, \"Genetics\", \"Bi...</td>\n",
       "    </tr>\n",
       "    <tr>\n",
       "      <th>23</th>\n",
       "      <td>mixtral-8x7b-model</td>\n",
       "      <td>Tumor suppressive microRNA (miR)-150 inhibits ...</td>\n",
       "      <td>{Zoology, Genetics, Drug metabolism, Gene regu...</td>\n",
       "      <td>{\"Biomedical science\", \"Sequence analysis\", \"P...</td>\n",
       "    </tr>\n",
       "    <tr>\n",
       "      <th>24</th>\n",
       "      <td>mixtral-8x7b-model</td>\n",
       "      <td>Bacterial genes that change in expression upon...</td>\n",
       "      <td>{Genetics, Drug metabolism, Gene regulation, M...</td>\n",
       "      <td>{Genetics, Genomics, Molecular biology, Bioche...</td>\n",
       "    </tr>\n",
       "  </tbody>\n",
       "</table>\n",
       "</div>"
      ],
      "text/plain": [
       "                 Model                                           Abstract  \\\n",
       "0   mixtral-8x7b-model  While microarray experiments generate volumino...   \n",
       "1   mixtral-8x7b-model  Pea powdery mildew (PM) is an important fungal...   \n",
       "2   mixtral-8x7b-model  Differentiation proceeds along a continuum of ...   \n",
       "3   mixtral-8x7b-model  The annual migration of a bird can involve tho...   \n",
       "4   mixtral-8x7b-model  The utilization of methane, a potent greenhous...   \n",
       "5   mixtral-8x7b-model  We designed and constructed a genome-wide micr...   \n",
       "6   mixtral-8x7b-model  Influenza A viruses (IAVs) quickly adapt to ne...   \n",
       "7   mixtral-8x7b-model  Activating mutations in JAK1 have been reporte...   \n",
       "8   mixtral-8x7b-model  DNA recombination is required for effective se...   \n",
       "9   mixtral-8x7b-model  Newborns are frequently affected by mucocutane...   \n",
       "10  mixtral-8x7b-model  Glioblastoma stem cells (GSCs) are implicated ...   \n",
       "11  mixtral-8x7b-model  Genetic variations affecting neural tube closu...   \n",
       "12  mixtral-8x7b-model  Yin and yang 1 (YY1) is a well-known zinc-fing...   \n",
       "13  mixtral-8x7b-model  Duck enteritis virus (DEV) is an important her...   \n",
       "14  mixtral-8x7b-model  Candida parapsilosis is a pathogenic fungus th...   \n",
       "15  mixtral-8x7b-model  Dissipation kinetics of mesotrione, a new trik...   \n",
       "16  mixtral-8x7b-model  Many cellular models aimed at elucidating canc...   \n",
       "17  mixtral-8x7b-model  Chocolate Pots hot springs (CP) is a unique, c...   \n",
       "18  mixtral-8x7b-model  Because microRNAs (miRNAs) have been associate...   \n",
       "19  mixtral-8x7b-model  In the malaria parasite Plasmodium falciparum,...   \n",
       "20  mixtral-8x7b-model  Diagnostic and prognostic evaluation of chroni...   \n",
       "21  mixtral-8x7b-model  CTCF is a key insulator-binding protein, and m...   \n",
       "22  mixtral-8x7b-model  Adipocytes arise from the commitment and diffe...   \n",
       "23  mixtral-8x7b-model  Tumor suppressive microRNA (miR)-150 inhibits ...   \n",
       "24  mixtral-8x7b-model  Bacterial genes that change in expression upon...   \n",
       "\n",
       "                                         Ground Truth  \\\n",
       "0          {Zoology, Genetics, Computational biology}   \n",
       "1   {Proteins, Genetics, Drug metabolism, Gene reg...   \n",
       "2   {Zoology, Sequence assembly, Genetics, Drug me...   \n",
       "3   {Zoology, Gene expression, Transcriptomics, Ge...   \n",
       "4   {Proteins, Drug metabolism, Gene expression, P...   \n",
       "5   {Zoology, Genetics, Drug metabolism, Medicinal...   \n",
       "6   {Zoology, Proteins, Genetics, Drug metabolism,...   \n",
       "7   {Zoology, Immunoinformatics, DNA mutation, Gen...   \n",
       "8   {Zoology, DNA replication and recombination, G...   \n",
       "9   {Genetics, Drug metabolism, Immunogenetics, Hu...   \n",
       "10  {Epigenomics, Genetics, Genomics, Drug metabol...   \n",
       "11  {Zoology, DNA mutation, RNA, Genetics, Gene re...   \n",
       "12  {Genetics, Drug metabolism, Medicinal chemistr...   \n",
       "13                      {Zoology, Virology, Genetics}   \n",
       "14  {Zoology, Proteins, Genetics, Drug metabolism,...   \n",
       "15  {Drug metabolism, Microbiology, Microbial ecol...   \n",
       "16  {Zoology, DNA mutation, Genetics, Drug metabol...   \n",
       "17  {Microbiology, Sequence analysis, Drug metabol...   \n",
       "18  {Genetics, RNA, Drug metabolism, Human biology...   \n",
       "19  {Proteins, Genetics, Drug metabolism, Gene reg...   \n",
       "20  {Drug metabolism, Gene regulation, Physiology,...   \n",
       "21  {Genetics, DNA binding sites, Drug metabolism,...   \n",
       "22  {Zoology, Biomarkers, Protein binding sites, D...   \n",
       "23  {Zoology, Genetics, Drug metabolism, Gene regu...   \n",
       "24  {Genetics, Drug metabolism, Gene regulation, M...   \n",
       "\n",
       "                                          Predictions  \n",
       "0                 {Biology, Bioinformatics, Genetics}  \n",
       "1   {Genetics, Agricultural science, Genomics, Mol...  \n",
       "2   {Cell biology, Genetics, Genomics, Gene regula...  \n",
       "3               {Biology, Animal study, Biochemistry}  \n",
       "4   {Biosciences, Genetics, Biotechnology, Gene ex...  \n",
       "5   {Genetics, Genomics, Molecular biology, Animal...  \n",
       "6   {Computational chemistry, Translational resear...  \n",
       "7   {Neurology/central nervous system, Biotherapeu...  \n",
       "8                {Bioinformatics, Genetics, Genomics}  \n",
       "9   {\"Data quality management\", \"Data management\",...  \n",
       "10  {Genetics, Oncology, Data analysis, Biotechnol...  \n",
       "11  {Neurology, Biochemistry, Evolutionary biology...  \n",
       "12  {Genetics, Biomolecular simulation, Genomics, ...  \n",
       "13        {\"Bioinformatics\", Animal study, \"Biology\"}  \n",
       "14                            {Clinical (Immunology)}  \n",
       "15  {Genetics, Agricultural science, Biology, Micr...  \n",
       "16  {Computational chemistry, Molecular biology, C...  \n",
       "17      {Bioinformatics, \"Genomics\", \"Biotechnology\"}  \n",
       "18  {Biosciences, Biomolecular simulation, Biotech...  \n",
       "19  {Genetics, Genomics, Molecular biology, Biolog...  \n",
       "20  {Genetics, haematology, Biochemistry, Biology,...  \n",
       "21  {Cell biology, Genetics, Genomics, Gene regula...  \n",
       "22  {\"Cell biology\", Animal study, \"Genetics\", \"Bi...  \n",
       "23  {\"Biomedical science\", \"Sequence analysis\", \"P...  \n",
       "24  {Genetics, Genomics, Molecular biology, Bioche...  "
      ]
     },
     "execution_count": 61,
     "metadata": {},
     "output_type": "execute_result"
    }
   ],
   "source": [
    "# Add model outputs to raw_model_outputs.csv\n",
    "\n",
    "raw_model_outputs = pd.read_csv('outputs/raw_model_outputs.csv')\n",
    "\n",
    "concatenated_df = pd.concat([raw_model_outputs, test_data], axis=0)\n",
    "concatenated_df[125:]"
   ]
  },
  {
   "cell_type": "code",
   "execution_count": 62,
   "metadata": {},
   "outputs": [],
   "source": [
    "concatenated_df.to_csv('outputs/raw_model_outputs.csv', index=False)"
   ]
  }
 ],
 "metadata": {
  "kernelspec": {
   "display_name": "nde_gpt",
   "language": "python",
   "name": "python3"
  },
  "language_info": {
   "codemirror_mode": {
    "name": "ipython",
    "version": 3
   },
   "file_extension": ".py",
   "mimetype": "text/x-python",
   "name": "python",
   "nbconvert_exporter": "python",
   "pygments_lexer": "ipython3",
   "version": "3.10.12"
  }
 },
 "nbformat": 4,
 "nbformat_minor": 2
}
