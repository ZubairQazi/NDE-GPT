{
 "cells": [
  {
   "cell_type": "code",
   "execution_count": 6,
   "metadata": {},
   "outputs": [],
   "source": [
    "from transformers import AutoTokenizer, AutoModelForCausalLM, BitsAndBytesConfig\n",
    "\n",
    "import json\n",
    "\n",
    "import pandas as pd\n",
    "\n",
    "import torch\n",
    "from torch.utils.data import TensorDataset, DataLoader, RandomSampler, SequentialSampler\n",
    "from sklearn.model_selection import train_test_split"
   ]
  },
  {
   "cell_type": "code",
   "execution_count": 7,
   "metadata": {},
   "outputs": [],
   "source": [
    "dataset = pd.read_csv('datasets/staging_test_set.csv')"
   ]
  },
  {
   "cell_type": "code",
   "execution_count": 8,
   "metadata": {},
   "outputs": [],
   "source": [
    "with open('templates/prompt_template.txt', 'r') as template_file:\n",
    "    template = template_file.read()"
   ]
  },
  {
   "cell_type": "code",
   "execution_count": 9,
   "metadata": {},
   "outputs": [],
   "source": [
    "with open('EDAM/edam_topics.txt', 'r') as edam_file:\n",
    "    full_edam_topics = edam_file.readlines()\n",
    "\n",
    "full_edam_topics = [topic.strip() for topic in full_edam_topics]"
   ]
  },
  {
   "cell_type": "code",
   "execution_count": 10,
   "metadata": {},
   "outputs": [],
   "source": [
    "# Add EDAM topics to prompt template\n",
    "\n",
    "formatted_topics = \"\\n\".join(full_edam_topics)\n",
    "template = template.replace(\"<topics>\", formatted_topics)\n"
   ]
  },
  {
   "cell_type": "markdown",
   "metadata": {},
   "source": [
    "## Testing Meditron 7b \n",
    "\n",
    "Note: You need a lot of RAM for this"
   ]
  },
  {
   "cell_type": "code",
   "execution_count": 11,
   "metadata": {},
   "outputs": [],
   "source": [
    "with open(\"config.json\", \"r\") as config_file:\n",
    "    config = json.load(config_file)"
   ]
  },
  {
   "cell_type": "code",
   "execution_count": 12,
   "metadata": {},
   "outputs": [],
   "source": [
    "hf_token = config['api_keys']['huggingface']"
   ]
  },
  {
   "cell_type": "code",
   "execution_count": null,
   "metadata": {},
   "outputs": [],
   "source": [
    "# tokenizer = AutoTokenizer.from_pretrained(\"epfl-llm/meditron-7b\", token=hf_token)\n",
    "\n",
    "tokenizer = AutoTokenizer.from_pretrained(\"./meditron-7b-tokenizer\")"
   ]
  },
  {
   "cell_type": "code",
   "execution_count": null,
   "metadata": {},
   "outputs": [],
   "source": [
    "# tokenizer = AutoTokenizer.from_pretrained(\"epfl-llm/meditron-70b\", token=hf_token)\n",
    "# model = AutoModelForCausalLM.from_pretrained(\"epfl-llm/meditron-7b\", token=hf_token)\n",
    "\n",
    "device = torch.device(\"mps\" if torch.backends.mps.is_available() else \"cpu\")\n",
    "# device = torch.device(\"cuda\" if torch.cuda.is_available() else \"cpu\")\n",
    "\n",
    "model = AutoModelForCausalLM.from_pretrained(\"./meditron-7b-model\")\n",
    "model"
   ]
  },
  {
   "cell_type": "code",
   "execution_count": null,
   "metadata": {},
   "outputs": [],
   "source": [
    "model = model.to_bettertransformer()"
   ]
  },
  {
   "cell_type": "code",
   "execution_count": null,
   "metadata": {},
   "outputs": [],
   "source": [
    "# model.save_pretrained(\"meditron-7b-model\", from_pt=True)\n",
    "# tokenizer.save_pretrained(\"meditron-7b-tokenizer\", from_pt=True)"
   ]
  },
  {
   "cell_type": "code",
   "execution_count": 13,
   "metadata": {},
   "outputs": [
    {
     "data": {
      "text/html": [
       "<div>\n",
       "<style scoped>\n",
       "    .dataframe tbody tr th:only-of-type {\n",
       "        vertical-align: middle;\n",
       "    }\n",
       "\n",
       "    .dataframe tbody tr th {\n",
       "        vertical-align: top;\n",
       "    }\n",
       "\n",
       "    .dataframe thead th {\n",
       "        text-align: right;\n",
       "    }\n",
       "</style>\n",
       "<table border=\"1\" class=\"dataframe\">\n",
       "  <thead>\n",
       "    <tr style=\"text-align: right;\">\n",
       "      <th></th>\n",
       "      <th>PMID</th>\n",
       "      <th>Description</th>\n",
       "      <th>Abstract</th>\n",
       "      <th>MeSH Terms</th>\n",
       "      <th>Filtered MeSH Terms</th>\n",
       "      <th>EDAM Topics</th>\n",
       "    </tr>\n",
       "  </thead>\n",
       "  <tbody>\n",
       "    <tr>\n",
       "      <th>70</th>\n",
       "      <td>19043404</td>\n",
       "      <td>The human distal gut harbours a vast ensemble ...</td>\n",
       "      <td>The human distal gut harbours a vast ensemble ...</td>\n",
       "      <td>['Adult', 'Africa/ethnology', 'Biodiversity', ...</td>\n",
       "      <td>['Adult', 'Africa', 'Biodiversity', 'Dizygotic...</td>\n",
       "      <td>['Biodiversity', 'Genotype and phenotype', 'Hu...</td>\n",
       "    </tr>\n",
       "  </tbody>\n",
       "</table>\n",
       "</div>"
      ],
      "text/plain": [
       "        PMID                                        Description  \\\n",
       "70  19043404  The human distal gut harbours a vast ensemble ...   \n",
       "\n",
       "                                             Abstract  \\\n",
       "70  The human distal gut harbours a vast ensemble ...   \n",
       "\n",
       "                                           MeSH Terms  \\\n",
       "70  ['Adult', 'Africa/ethnology', 'Biodiversity', ...   \n",
       "\n",
       "                                  Filtered MeSH Terms  \\\n",
       "70  ['Adult', 'Africa', 'Biodiversity', 'Dizygotic...   \n",
       "\n",
       "                                          EDAM Topics  \n",
       "70  ['Biodiversity', 'Genotype and phenotype', 'Hu...  "
      ]
     },
     "execution_count": 13,
     "metadata": {},
     "output_type": "execute_result"
    }
   ],
   "source": [
    "random_sample = dataset.sample(n=1)\n",
    "random_sample"
   ]
  },
  {
   "cell_type": "code",
   "execution_count": 14,
   "metadata": {},
   "outputs": [
    {
     "data": {
      "text/plain": [
       "'An abstract associated with a scientific dataset is quoted below:\\n\\n\"The human distal gut harbours a vast ensemble of microbes (the microbiota) that provide important metabolic capabilities, including the ability to extract energy from otherwise indigestible dietary polysaccharides. Studies of a few unrelated, healthy adults have revealed substantial diversity in their gut communities, as measured by sequencing 16S rRNA genes, yet how this diversity relates to function and to the rest of the genes in the collective genomes of the microbiota (the gut microbiome) remains obscure. Studies of lean and obese mice suggest that the gut microbiota affects energy balance by influencing the efficiency of calorie harvest from the diet, and how this harvested energy is used and stored. Here we characterize the faecal microbial communities of adult female monozygotic and dizygotic twin pairs concordant for leanness or obesity, and their mothers, to address how host genotype, environmental exposure and host adiposity influence the gut microbiome. Analysis of 154 individuals yielded 9,920 near full-length and 1,937,461 partial bacterial 16S rRNA sequences, plus 2.14 gigabases from their microbiomes. The results reveal that the human gut microbiome is shared among family members, but that each person\\'s gut microbial community varies in the specific bacterial lineages present, with a comparable degree of co-variation between adult monozygotic and dizygotic twin pairs. However, there was a wide array of shared microbial genes among sampled individuals, comprising an extensive, identifiable \\'core microbiome\\' at the gene, rather than at the organismal lineage, level. Obesity is associated with phylum-level changes in the microbiota, reduced bacterial diversity and altered representation of bacterial genes and metabolic pathways. These results demonstrate that a diversity of organismal assemblages can nonetheless yield a core microbiome at a functional level, and that deviations from this core are associated with different physiological states (obese compared with lean).\"\\n\\nSelect the <num_terms> most-relevant topic categories from the list. Provide your answers as a comma-separated list. Ensure your answers exactly match one of the provided categories below. Do not include categories that are not listed.\\n\\nAcoustics\\nAgricultural science\\n\"Allergy, clinical immunology and immunotherapeutics\"\\nAnaesthesiology\\nAnalytical chemistry\\nAnatomy\\nAnimal study\\nAntimicrobial Resistance\\nBiobank\\nBiochemistry\\nBiodiversity\\nBioengineering\\nBioinformatics\\nBiology\\nBiomarkers\\nBiomaterials\\nBiomedical science\\nBiomolecular simulation\\nBiophysics\\nBiosciences\\nBiotechnology\\nBiotherapeutics\\nCarbohydrates\\nCarbon cycle\\nCardiology\\nCell biology\\nCell culture collection\\nChemical biology\\nCheminformatics\\nChemistry\\nChemometrics\\nCladistics\\nClone library\\nComparative genomics\\nComplementary medicine\\nCompound libraries and screening\\nComputational biology\\nComputational chemistry\\nComputer science\\nCopy number variation\\nCritical care medicine\\nCryogenic electron microscopy\\nCytogenetics\\nDNA\\nDNA binding sites\\nDNA mutation\\nDNA packaging\\nDNA polymorphism\\nDNA replication and recombination\\nData acquisition\\n\"Data architecture, analysis and design\"\\nData governance\\nData identity and mapping\\nData integration and warehousing\\nData management\\nData mining\\nData quality management\\nData rescue\\nData security\\n\"Data submission, annotation, and curation\"\\nData visualisation\\nDatabase management\\nDentistry\\nDermatology\\nDevelopmental biology\\nDrug development\\nDrug discovery\\nDrug metabolism\\n\"Ear, nose and throat medicine\"\\nEcology\\nElectrocardiography\\nElectroencephalography\\nElectron microscopy\\nEmbryology\\nEndocrinology and metabolism\\nEnvironmental sciences\\nEnzymes\\nEpigenetics\\nEpigenomics\\nEpistasis\\nEvolutionary biology\\nFAIR data\\nFluxomics\\nFreshwater biology\\nFunction analysis\\nFunctional genomics\\n\"Functional, regulatory and non-coding RNA\"\\nGastroenterology\\nGender medicine\\nGene and protein families\\nGene expression\\nGene regulation\\nGene structure\\nGene transcripts\\nGenetic engineering\\nGenetic variation\\nGenetics\\nGenomic imprinting\\nGenomics\\nGenotype and phenotype\\nGeriatric medicine\\nGynaecology and obstetrics\\nHaematology\\nHepatic and biliary medicine\\nHuman biology\\nHuman genetics\\nImmunogenetics\\nImmunoinformatics\\nImmunology\\nImmunomics\\nImmunoproteins and antigens\\nInfectious disease\\nInformatics\\nLaboratory animal science\\nLaboratory information management\\nLipids\\nMachine learning\\nMapping\\nMarine biology\\nMedical biotechnology\\nMedical informatics\\nMedical toxicology\\nMedicinal chemistry\\nMedicine\\nMedicines research and development\\nMembrane and lipoproteins\\nMetabarcoding\\nMetabolic engineering\\nMetabolomics\\nMetagenomics\\nMetatranscriptomics\\nMicrobial collection\\nMicrobial ecology\\nMicrobiology\\nMicrofluidics\\nMobile genetic elements\\nModel organisms\\nMolecular biology\\nMolecular dynamics\\nMolecular evolution\\nMolecular genetics\\n\"Molecular interactions, pathways and networks\"\\nMolecular medicine\\nMolecular modelling\\nMouse clinic\\nMultiomics\\nMusculoskeletal medicine\\nNMR\\nNatural language processing\\nNeurobiology\\nNeurology\\nNeutron diffraction\\n\"Nucleic acid sites, features and motifs\"\\nNucleic acid structure analysis\\nNucleic acids\\nNutritional science\\nOmics\\nOncology\\nOntology and terminology\\nOpen science\\nOphthalmology\\nPaediatrics\\nPain medicine\\nPaleogenomics\\nParasitology\\nPathology\\nPersonalised medicine\\nPharmacogenomics\\nPharmacology\\nPharmacovigilance\\nPhenomics\\nPhylogenetics\\nPhylogenomics\\nPhylogeny\\nPhysics\\nPhysiology\\nPlant biology\\nPopulation genetics\\nPopulation genomics\\nPreclinical and clinical studies\\nProbes and primers\\nProtein binding sites\\nProtein disordered structure\\nProtein expression\\n\"Protein folding, stability and design\"\\nProtein folds and structural domains\\nProtein interactions\\nProtein modifications\\nProtein properties\\nProtein secondary structure\\n\"Protein sites, features and motifs\"\\nProtein structural motifs and surfaces\\nProtein structure analysis\\nProtein targeting and localisation\\nProtein variants\\nProteins\\nProteogenomics\\nProteomics\\nPsychiatry\\nPublic health and epidemiology\\nQuality affairs\\nQuantitative genetics\\nRNA\\nRNA splicing\\nRare diseases\\nRegenerative medicine\\nRegulatory affairs\\nReproductive health\\nRespiratory medicine\\nRibosome Profiling\\nSafety sciences\\nSample collections\\nSequence analysis\\nSequence assembly\\n\"Sequence composition, complexity and repeats\"\\n\"Sequence sites, features and motifs\"\\nSmall molecules\\nSoftware engineering\\nStructural biology\\nStructural genomics\\nStructural variation\\nStructure analysis\\nStructure prediction\\nSurgery\\nSynthetic biology\\nSynthetic chemistry\\nSystems biology\\nSystems medicine\\nTaxonomy\\nToxicology\\nTranscription factors and regulatory sites\\nTranscriptomics\\nTranslational medicine\\nTrauma medicine\\nTropical medicine\\nUrology and nephrology\\nVaccinology\\nVeterinary medicine\\nVirology\\nWorkflows\\nX-ray diffraction\\nZoology\\n\\nPlease refrain from providing explanations. Take a moment and answer to the best of your ability.\\n'"
      ]
     },
     "execution_count": 14,
     "metadata": {},
     "output_type": "execute_result"
    }
   ],
   "source": [
    "prompt = template.replace('<abstract>', random_sample['Abstract'].values[0])\n",
    "prompt\n"
   ]
  },
  {
   "cell_type": "code",
   "execution_count": null,
   "metadata": {},
   "outputs": [],
   "source": [
    "model_inputs = tokenizer(template, padding=True, return_tensors=\"pt\")"
   ]
  },
  {
   "cell_type": "code",
   "execution_count": null,
   "metadata": {},
   "outputs": [],
   "source": [
    "model_inputs"
   ]
  },
  {
   "cell_type": "code",
   "execution_count": null,
   "metadata": {},
   "outputs": [],
   "source": [
    "outputs = model(**model_inputs)"
   ]
  },
  {
   "cell_type": "code",
   "execution_count": null,
   "metadata": {},
   "outputs": [],
   "source": [
    "predicted_label_classes = outputs.logits.argmax(-1)\n",
    "predicted_label_classes"
   ]
  },
  {
   "cell_type": "code",
   "execution_count": null,
   "metadata": {},
   "outputs": [],
   "source": [
    "tokenizer.decode(outputs)"
   ]
  },
  {
   "cell_type": "markdown",
   "metadata": {},
   "source": [
    "## Inference API\n",
    "\n",
    "Using huggingface inference API"
   ]
  },
  {
   "cell_type": "code",
   "execution_count": 135,
   "metadata": {},
   "outputs": [],
   "source": [
    "import requests"
   ]
  },
  {
   "cell_type": "code",
   "execution_count": 149,
   "metadata": {},
   "outputs": [],
   "source": [
    "with open('templates/prompt_template copy.txt', 'r') as template_file:\n",
    "    template = template_file.read()\n",
    "\n",
    "formatted_topics = \"\\n\".join(full_edam_topics)\n",
    "template = template.replace(\"<topics>\", formatted_topics)\n"
   ]
  },
  {
   "cell_type": "code",
   "execution_count": 150,
   "metadata": {},
   "outputs": [
    {
     "data": {
      "text/html": [
       "<div>\n",
       "<style scoped>\n",
       "    .dataframe tbody tr th:only-of-type {\n",
       "        vertical-align: middle;\n",
       "    }\n",
       "\n",
       "    .dataframe tbody tr th {\n",
       "        vertical-align: top;\n",
       "    }\n",
       "\n",
       "    .dataframe thead th {\n",
       "        text-align: right;\n",
       "    }\n",
       "</style>\n",
       "<table border=\"1\" class=\"dataframe\">\n",
       "  <thead>\n",
       "    <tr style=\"text-align: right;\">\n",
       "      <th></th>\n",
       "      <th>PMID</th>\n",
       "      <th>Description</th>\n",
       "      <th>Abstract</th>\n",
       "      <th>MeSH Terms</th>\n",
       "      <th>Filtered MeSH Terms</th>\n",
       "      <th>EDAM Topics</th>\n",
       "    </tr>\n",
       "  </thead>\n",
       "  <tbody>\n",
       "    <tr>\n",
       "      <th>2478</th>\n",
       "      <td>28115466</td>\n",
       "      <td>Expression analysis of wt and maternal Trim28 ...</td>\n",
       "      <td>Global DNA demethylation is a hallmark of embr...</td>\n",
       "      <td>['Animals', 'Cells, Cultured', 'Cellular Repro...</td>\n",
       "      <td>['Animals', 'Cells', 'Cellular Reprogramming',...</td>\n",
       "      <td>['Zoology', 'Developmental biology', 'Gene exp...</td>\n",
       "    </tr>\n",
       "  </tbody>\n",
       "</table>\n",
       "</div>"
      ],
      "text/plain": [
       "          PMID                                        Description  \\\n",
       "2478  28115466  Expression analysis of wt and maternal Trim28 ...   \n",
       "\n",
       "                                               Abstract  \\\n",
       "2478  Global DNA demethylation is a hallmark of embr...   \n",
       "\n",
       "                                             MeSH Terms  \\\n",
       "2478  ['Animals', 'Cells, Cultured', 'Cellular Repro...   \n",
       "\n",
       "                                    Filtered MeSH Terms  \\\n",
       "2478  ['Animals', 'Cells', 'Cellular Reprogramming',...   \n",
       "\n",
       "                                            EDAM Topics  \n",
       "2478  ['Zoology', 'Developmental biology', 'Gene exp...  "
      ]
     },
     "execution_count": 150,
     "metadata": {},
     "output_type": "execute_result"
    }
   ],
   "source": [
    "random_sample = dataset.sample(n=1)\n",
    "random_sample"
   ]
  },
  {
   "cell_type": "code",
   "execution_count": 151,
   "metadata": {},
   "outputs": [
    {
     "data": {
      "text/plain": [
       "'An abstract associated with a scientific dataset is quoted below:\\n\\n\"Global DNA demethylation is a hallmark of embryonic epigenetic reprogramming. However, embryos engage noncanonical DNA methylation maintenance mechanisms to ensure inheritance of exceptional epigenetic germline features to the soma. Besides the paradigmatic genomic imprints, these exceptions remain ill-defined, and the mechanisms ensuring demethylation resistance in the light of global reprogramming remain poorly understood. Here we show that the Y-linked gene Rbmy1a1 is highly methylated in mature sperm and resists DNA demethylation post-fertilization. Aberrant hypomethylation of the Rbmy1a1 promoter results in its ectopic activation, causing male-specific peri-implantation lethality. Rbmy1a1 is a novel target of the TRIM28 complex, which is required to protect its repressive epigenetic state during embryonic epigenetic reprogramming.\"\\n\\nA subset of the following list of EDAM topics are assigned to the abstract as a comma-separated list.\\n\\nAcoustics\\nAgricultural science\\n\"Allergy, clinical immunology and immunotherapeutics\"\\nAnaesthesiology\\nAnalytical chemistry\\nAnatomy\\nAnimal study\\nAntimicrobial Resistance\\nBiobank\\nBiochemistry\\nBiodiversity\\nBioengineering\\nBioinformatics\\nBiology\\nBiomarkers\\nBiomaterials\\nBiomedical science\\nBiomolecular simulation\\nBiophysics\\nBiosciences\\nBiotechnology\\nBiotherapeutics\\nCarbohydrates\\nCarbon cycle\\nCardiology\\nCell biology\\nCell culture collection\\nChemical biology\\nCheminformatics\\nChemistry\\nChemometrics\\nCladistics\\nClone library\\nComparative genomics\\nComplementary medicine\\nCompound libraries and screening\\nComputational biology\\nComputational chemistry\\nComputer science\\nCopy number variation\\nCritical care medicine\\nCryogenic electron microscopy\\nCytogenetics\\nDNA\\nDNA binding sites\\nDNA mutation\\nDNA packaging\\nDNA polymorphism\\nDNA replication and recombination\\nData acquisition\\n\"Data architecture, analysis and design\"\\nData governance\\nData identity and mapping\\nData integration and warehousing\\nData management\\nData mining\\nData quality management\\nData rescue\\nData security\\n\"Data submission, annotation, and curation\"\\nData visualisation\\nDatabase management\\nDentistry\\nDermatology\\nDevelopmental biology\\nDrug development\\nDrug discovery\\nDrug metabolism\\n\"Ear, nose and throat medicine\"\\nEcology\\nElectrocardiography\\nElectroencephalography\\nElectron microscopy\\nEmbryology\\nEndocrinology and metabolism\\nEnvironmental sciences\\nEnzymes\\nEpigenetics\\nEpigenomics\\nEpistasis\\nEvolutionary biology\\nFAIR data\\nFluxomics\\nFreshwater biology\\nFunction analysis\\nFunctional genomics\\n\"Functional, regulatory and non-coding RNA\"\\nGastroenterology\\nGender medicine\\nGene and protein families\\nGene expression\\nGene regulation\\nGene structure\\nGene transcripts\\nGenetic engineering\\nGenetic variation\\nGenetics\\nGenomic imprinting\\nGenomics\\nGenotype and phenotype\\nGeriatric medicine\\nGynaecology and obstetrics\\nHaematology\\nHepatic and biliary medicine\\nHuman biology\\nHuman genetics\\nImmunogenetics\\nImmunoinformatics\\nImmunology\\nImmunomics\\nImmunoproteins and antigens\\nInfectious disease\\nInformatics\\nLaboratory animal science\\nLaboratory information management\\nLipids\\nMachine learning\\nMapping\\nMarine biology\\nMedical biotechnology\\nMedical informatics\\nMedical toxicology\\nMedicinal chemistry\\nMedicine\\nMedicines research and development\\nMembrane and lipoproteins\\nMetabarcoding\\nMetabolic engineering\\nMetabolomics\\nMetagenomics\\nMetatranscriptomics\\nMicrobial collection\\nMicrobial ecology\\nMicrobiology\\nMicrofluidics\\nMobile genetic elements\\nModel organisms\\nMolecular biology\\nMolecular dynamics\\nMolecular evolution\\nMolecular genetics\\n\"Molecular interactions, pathways and networks\"\\nMolecular medicine\\nMolecular modelling\\nMouse clinic\\nMultiomics\\nMusculoskeletal medicine\\nNMR\\nNatural language processing\\nNeurobiology\\nNeurology\\nNeutron diffraction\\n\"Nucleic acid sites, features and motifs\"\\nNucleic acid structure analysis\\nNucleic acids\\nNutritional science\\nOmics\\nOncology\\nOntology and terminology\\nOpen science\\nOphthalmology\\nPaediatrics\\nPain medicine\\nPaleogenomics\\nParasitology\\nPathology\\nPersonalised medicine\\nPharmacogenomics\\nPharmacology\\nPharmacovigilance\\nPhenomics\\nPhylogenetics\\nPhylogenomics\\nPhylogeny\\nPhysics\\nPhysiology\\nPlant biology\\nPopulation genetics\\nPopulation genomics\\nPreclinical and clinical studies\\nProbes and primers\\nProtein binding sites\\nProtein disordered structure\\nProtein expression\\n\"Protein folding, stability and design\"\\nProtein folds and structural domains\\nProtein interactions\\nProtein modifications\\nProtein properties\\nProtein secondary structure\\n\"Protein sites, features and motifs\"\\nProtein structural motifs and surfaces\\nProtein structure analysis\\nProtein targeting and localisation\\nProtein variants\\nProteins\\nProteogenomics\\nProteomics\\nPsychiatry\\nPublic health and epidemiology\\nQuality affairs\\nQuantitative genetics\\nRNA\\nRNA splicing\\nRare diseases\\nRegenerative medicine\\nRegulatory affairs\\nReproductive health\\nRespiratory medicine\\nRibosome Profiling\\nSafety sciences\\nSample collections\\nSequence analysis\\nSequence assembly\\n\"Sequence composition, complexity and repeats\"\\n\"Sequence sites, features and motifs\"\\nSmall molecules\\nSoftware engineering\\nStructural biology\\nStructural genomics\\nStructural variation\\nStructure analysis\\nStructure prediction\\nSurgery\\nSynthetic biology\\nSynthetic chemistry\\nSystems biology\\nSystems medicine\\nTaxonomy\\nToxicology\\nTranscription factors and regulatory sites\\nTranscriptomics\\nTranslational medicine\\nTrauma medicine\\nTropical medicine\\nUrology and nephrology\\nVaccinology\\nVeterinary medicine\\nVirology\\nWorkflows\\nX-ray diffraction\\nZoology\\n\\nThe topics from the list above assigned to the abstract are: '"
      ]
     },
     "execution_count": 151,
     "metadata": {},
     "output_type": "execute_result"
    }
   ],
   "source": [
    "prompt = template.replace('<abstract>', random_sample['Abstract'].values[0])\n",
    "prompt = prompt.replace('<num_terms>', '5')\n",
    "prompt\n"
   ]
  },
  {
   "cell_type": "code",
   "execution_count": 152,
   "metadata": {},
   "outputs": [],
   "source": [
    "headers = {\"Authorization\": f\"Bearer {hf_token}\"}\n",
    "\n",
    "def query(api_url, payload):\n",
    "    response = requests.post(api_url, headers=headers, json=payload)\n",
    "    return response.json()"
   ]
  },
  {
   "cell_type": "code",
   "execution_count": 153,
   "metadata": {},
   "outputs": [],
   "source": [
    "# deepset/roberta-base-squad2\n",
    "\n",
    "# Falconsai/medical_summarization\n",
    "\n",
    "# HuggingFaceH4/zephyr-7b-beta\n",
    "# mistralai/Mistral-7B-v0.1\n",
    "\n",
    "API_URL = \"https://api-inference.huggingface.co/models/mistralai/Mistral-7B-v0.1\""
   ]
  },
  {
   "cell_type": "code",
   "execution_count": 154,
   "metadata": {},
   "outputs": [
    {
     "data": {
      "text/plain": [
       "[{'generated_text': 'An abstract associated with a scientific dataset is quoted below:\\n\\n\"Global DNA demethylation is a hallmark of embryonic epigenetic reprogramming. However, embryos engage noncanonical DNA methylation maintenance mechanisms to ensure inheritance of exceptional epigenetic germline features to the soma. Besides the paradigmatic genomic imprints, these exceptions remain ill-defined, and the mechanisms ensuring demethylation resistance in the light of global reprogramming remain poorly understood. Here we show that the Y-linked gene Rbmy1a1 is highly methylated in mature sperm and resists DNA demethylation post-fertilization. Aberrant hypomethylation of the Rbmy1a1 promoter results in its ectopic activation, causing male-specific peri-implantation lethality. Rbmy1a1 is a novel target of the TRIM28 complex, which is required to protect its repressive epigenetic state during embryonic epigenetic reprogramming.\"\\n\\nA subset of the following list of EDAM topics are assigned to the abstract as a comma-separated list.\\n\\nAcoustics\\nAgricultural science\\n\"Allergy, clinical immunology and immunotherapeutics\"\\nAnaesthesiology\\nAnalytical chemistry\\nAnatomy\\nAnimal study\\nAntimicrobial Resistance\\nBiobank\\nBiochemistry\\nBiodiversity\\nBioengineering\\nBioinformatics\\nBiology\\nBiomarkers\\nBiomaterials\\nBiomedical science\\nBiomolecular simulation\\nBiophysics\\nBiosciences\\nBiotechnology\\nBiotherapeutics\\nCarbohydrates\\nCarbon cycle\\nCardiology\\nCell biology\\nCell culture collection\\nChemical biology\\nCheminformatics\\nChemistry\\nChemometrics\\nCladistics\\nClone library\\nComparative genomics\\nComplementary medicine\\nCompound libraries and screening\\nComputational biology\\nComputational chemistry\\nComputer science\\nCopy number variation\\nCritical care medicine\\nCryogenic electron microscopy\\nCytogenetics\\nDNA\\nDNA binding sites\\nDNA mutation\\nDNA packaging\\nDNA polymorphism\\nDNA replication and recombination\\nData acquisition\\n\"Data architecture, analysis and design\"\\nData governance\\nData identity and mapping\\nData integration and warehousing\\nData management\\nData mining\\nData quality management\\nData rescue\\nData security\\n\"Data submission, annotation, and curation\"\\nData visualisation\\nDatabase management\\nDentistry\\nDermatology\\nDevelopmental biology\\nDrug development\\nDrug discovery\\nDrug metabolism\\n\"Ear, nose and throat medicine\"\\nEcology\\nElectrocardiography\\nElectroencephalography\\nElectron microscopy\\nEmbryology\\nEndocrinology and metabolism\\nEnvironmental sciences\\nEnzymes\\nEpigenetics\\nEpigenomics\\nEpistasis\\nEvolutionary biology\\nFAIR data\\nFluxomics\\nFreshwater biology\\nFunction analysis\\nFunctional genomics\\n\"Functional, regulatory and non-coding RNA\"\\nGastroenterology\\nGender medicine\\nGene and protein families\\nGene expression\\nGene regulation\\nGene structure\\nGene transcripts\\nGenetic engineering\\nGenetic variation\\nGenetics\\nGenomic imprinting\\nGenomics\\nGenotype and phenotype\\nGeriatric medicine\\nGynaecology and obstetrics\\nHaematology\\nHepatic and biliary medicine\\nHuman biology\\nHuman genetics\\nImmunogenetics\\nImmunoinformatics\\nImmunology\\nImmunomics\\nImmunoproteins and antigens\\nInfectious disease\\nInformatics\\nLaboratory animal science\\nLaboratory information management\\nLipids\\nMachine learning\\nMapping\\nMarine biology\\nMedical biotechnology\\nMedical informatics\\nMedical toxicology\\nMedicinal chemistry\\nMedicine\\nMedicines research and development\\nMembrane and lipoproteins\\nMetabarcoding\\nMetabolic engineering\\nMetabolomics\\nMetagenomics\\nMetatranscriptomics\\nMicrobial collection\\nMicrobial ecology\\nMicrobiology\\nMicrofluidics\\nMobile genetic elements\\nModel organisms\\nMolecular biology\\nMolecular dynamics\\nMolecular evolution\\nMolecular genetics\\n\"Molecular interactions, pathways and networks\"\\nMolecular medicine\\nMolecular modelling\\nMouse clinic\\nMultiomics\\nMusculoskeletal medicine\\nNMR\\nNatural language processing\\nNeurobiology\\nNeurology\\nNeutron diffraction\\n\"Nucleic acid sites, features and motifs\"\\nNucleic acid structure analysis\\nNucleic acids\\nNutritional science\\nOmics\\nOncology\\nOntology and terminology\\nOpen science\\nOphthalmology\\nPaediatrics\\nPain medicine\\nPaleogenomics\\nParasitology\\nPathology\\nPersonalised medicine\\nPharmacogenomics\\nPharmacology\\nPharmacovigilance\\nPhenomics\\nPhylogenetics\\nPhylogenomics\\nPhylogeny\\nPhysics\\nPhysiology\\nPlant biology\\nPopulation genetics\\nPopulation genomics\\nPreclinical and clinical studies\\nProbes and primers\\nProtein binding sites\\nProtein disordered structure\\nProtein expression\\n\"Protein folding, stability and design\"\\nProtein folds and structural domains\\nProtein interactions\\nProtein modifications\\nProtein properties\\nProtein secondary structure\\n\"Protein sites, features and motifs\"\\nProtein structural motifs and surfaces\\nProtein structure analysis\\nProtein targeting and localisation\\nProtein variants\\nProteins\\nProteogenomics\\nProteomics\\nPsychiatry\\nPublic health and epidemiology\\nQuality affairs\\nQuantitative genetics\\nRNA\\nRNA splicing\\nRare diseases\\nRegenerative medicine\\nRegulatory affairs\\nReproductive health\\nRespiratory medicine\\nRibosome Profiling\\nSafety sciences\\nSample collections\\nSequence analysis\\nSequence assembly\\n\"Sequence composition, complexity and repeats\"\\n\"Sequence sites, features and motifs\"\\nSmall molecules\\nSoftware engineering\\nStructural biology\\nStructural genomics\\nStructural variation\\nStructure analysis\\nStructure prediction\\nSurgery\\nSynthetic biology\\nSynthetic chemistry\\nSystems biology\\nSystems medicine\\nTaxonomy\\nToxicology\\nTranscription factors and regulatory sites\\nTranscriptomics\\nTranslational medicine\\nTrauma medicine\\nTropical medicine\\nUrology and nephrology\\nVaccinology\\nVeterinary medicine\\nVirology\\nWorkflows\\nX-ray diffraction\\nZoology\\n\\nThe topics from the list above assigned to the abstract are: 1) \"Allergy, clinical immunology and immunotherapeutics\", 2) \"Ear, nose and throat medicine\", 3) \"Gastroenterology\", 4) \"Haematology\", 5) \"Immunogenetics\", 6) \"Immunology\", 7) \"Immunomics\", 8) \"Immunoproteins and antigens\", 9) \"Infectious disease\", 10)'}]"
      ]
     },
     "execution_count": 154,
     "metadata": {},
     "output_type": "execute_result"
    }
   ],
   "source": [
    "data = query(API_URL, {\"inputs\": f\"{prompt}\"})\n",
    "data"
   ]
  },
  {
   "cell_type": "code",
   "execution_count": 155,
   "metadata": {},
   "outputs": [
    {
     "name": "stdout",
     "output_type": "stream",
     "text": [
      "An abstract associated with a scientific dataset is quoted below:\n",
      "\n",
      "\"Global DNA demethylation is a hallmark of embryonic epigenetic reprogramming. However, embryos engage noncanonical DNA methylation maintenance mechanisms to ensure inheritance of exceptional epigenetic germline features to the soma. Besides the paradigmatic genomic imprints, these exceptions remain ill-defined, and the mechanisms ensuring demethylation resistance in the light of global reprogramming remain poorly understood. Here we show that the Y-linked gene Rbmy1a1 is highly methylated in mature sperm and resists DNA demethylation post-fertilization. Aberrant hypomethylation of the Rbmy1a1 promoter results in its ectopic activation, causing male-specific peri-implantation lethality. Rbmy1a1 is a novel target of the TRIM28 complex, which is required to protect its repressive epigenetic state during embryonic epigenetic reprogramming.\"\n",
      "\n",
      "A subset of the following list of EDAM topics are assigned to the abstract as a comma-separated list.\n",
      "\n",
      "Acoustics\n",
      "Agricultural science\n",
      "\"Allergy, clinical immunology and immunotherapeutics\"\n",
      "Anaesthesiology\n",
      "Analytical chemistry\n",
      "Anatomy\n",
      "Animal study\n",
      "Antimicrobial Resistance\n",
      "Biobank\n",
      "Biochemistry\n",
      "Biodiversity\n",
      "Bioengineering\n",
      "Bioinformatics\n",
      "Biology\n",
      "Biomarkers\n",
      "Biomaterials\n",
      "Biomedical science\n",
      "Biomolecular simulation\n",
      "Biophysics\n",
      "Biosciences\n",
      "Biotechnology\n",
      "Biotherapeutics\n",
      "Carbohydrates\n",
      "Carbon cycle\n",
      "Cardiology\n",
      "Cell biology\n",
      "Cell culture collection\n",
      "Chemical biology\n",
      "Cheminformatics\n",
      "Chemistry\n",
      "Chemometrics\n",
      "Cladistics\n",
      "Clone library\n",
      "Comparative genomics\n",
      "Complementary medicine\n",
      "Compound libraries and screening\n",
      "Computational biology\n",
      "Computational chemistry\n",
      "Computer science\n",
      "Copy number variation\n",
      "Critical care medicine\n",
      "Cryogenic electron microscopy\n",
      "Cytogenetics\n",
      "DNA\n",
      "DNA binding sites\n",
      "DNA mutation\n",
      "DNA packaging\n",
      "DNA polymorphism\n",
      "DNA replication and recombination\n",
      "Data acquisition\n",
      "\"Data architecture, analysis and design\"\n",
      "Data governance\n",
      "Data identity and mapping\n",
      "Data integration and warehousing\n",
      "Data management\n",
      "Data mining\n",
      "Data quality management\n",
      "Data rescue\n",
      "Data security\n",
      "\"Data submission, annotation, and curation\"\n",
      "Data visualisation\n",
      "Database management\n",
      "Dentistry\n",
      "Dermatology\n",
      "Developmental biology\n",
      "Drug development\n",
      "Drug discovery\n",
      "Drug metabolism\n",
      "\"Ear, nose and throat medicine\"\n",
      "Ecology\n",
      "Electrocardiography\n",
      "Electroencephalography\n",
      "Electron microscopy\n",
      "Embryology\n",
      "Endocrinology and metabolism\n",
      "Environmental sciences\n",
      "Enzymes\n",
      "Epigenetics\n",
      "Epigenomics\n",
      "Epistasis\n",
      "Evolutionary biology\n",
      "FAIR data\n",
      "Fluxomics\n",
      "Freshwater biology\n",
      "Function analysis\n",
      "Functional genomics\n",
      "\"Functional, regulatory and non-coding RNA\"\n",
      "Gastroenterology\n",
      "Gender medicine\n",
      "Gene and protein families\n",
      "Gene expression\n",
      "Gene regulation\n",
      "Gene structure\n",
      "Gene transcripts\n",
      "Genetic engineering\n",
      "Genetic variation\n",
      "Genetics\n",
      "Genomic imprinting\n",
      "Genomics\n",
      "Genotype and phenotype\n",
      "Geriatric medicine\n",
      "Gynaecology and obstetrics\n",
      "Haematology\n",
      "Hepatic and biliary medicine\n",
      "Human biology\n",
      "Human genetics\n",
      "Immunogenetics\n",
      "Immunoinformatics\n",
      "Immunology\n",
      "Immunomics\n",
      "Immunoproteins and antigens\n",
      "Infectious disease\n",
      "Informatics\n",
      "Laboratory animal science\n",
      "Laboratory information management\n",
      "Lipids\n",
      "Machine learning\n",
      "Mapping\n",
      "Marine biology\n",
      "Medical biotechnology\n",
      "Medical informatics\n",
      "Medical toxicology\n",
      "Medicinal chemistry\n",
      "Medicine\n",
      "Medicines research and development\n",
      "Membrane and lipoproteins\n",
      "Metabarcoding\n",
      "Metabolic engineering\n",
      "Metabolomics\n",
      "Metagenomics\n",
      "Metatranscriptomics\n",
      "Microbial collection\n",
      "Microbial ecology\n",
      "Microbiology\n",
      "Microfluidics\n",
      "Mobile genetic elements\n",
      "Model organisms\n",
      "Molecular biology\n",
      "Molecular dynamics\n",
      "Molecular evolution\n",
      "Molecular genetics\n",
      "\"Molecular interactions, pathways and networks\"\n",
      "Molecular medicine\n",
      "Molecular modelling\n",
      "Mouse clinic\n",
      "Multiomics\n",
      "Musculoskeletal medicine\n",
      "NMR\n",
      "Natural language processing\n",
      "Neurobiology\n",
      "Neurology\n",
      "Neutron diffraction\n",
      "\"Nucleic acid sites, features and motifs\"\n",
      "Nucleic acid structure analysis\n",
      "Nucleic acids\n",
      "Nutritional science\n",
      "Omics\n",
      "Oncology\n",
      "Ontology and terminology\n",
      "Open science\n",
      "Ophthalmology\n",
      "Paediatrics\n",
      "Pain medicine\n",
      "Paleogenomics\n",
      "Parasitology\n",
      "Pathology\n",
      "Personalised medicine\n",
      "Pharmacogenomics\n",
      "Pharmacology\n",
      "Pharmacovigilance\n",
      "Phenomics\n",
      "Phylogenetics\n",
      "Phylogenomics\n",
      "Phylogeny\n",
      "Physics\n",
      "Physiology\n",
      "Plant biology\n",
      "Population genetics\n",
      "Population genomics\n",
      "Preclinical and clinical studies\n",
      "Probes and primers\n",
      "Protein binding sites\n",
      "Protein disordered structure\n",
      "Protein expression\n",
      "\"Protein folding, stability and design\"\n",
      "Protein folds and structural domains\n",
      "Protein interactions\n",
      "Protein modifications\n",
      "Protein properties\n",
      "Protein secondary structure\n",
      "\"Protein sites, features and motifs\"\n",
      "Protein structural motifs and surfaces\n",
      "Protein structure analysis\n",
      "Protein targeting and localisation\n",
      "Protein variants\n",
      "Proteins\n",
      "Proteogenomics\n",
      "Proteomics\n",
      "Psychiatry\n",
      "Public health and epidemiology\n",
      "Quality affairs\n",
      "Quantitative genetics\n",
      "RNA\n",
      "RNA splicing\n",
      "Rare diseases\n",
      "Regenerative medicine\n",
      "Regulatory affairs\n",
      "Reproductive health\n",
      "Respiratory medicine\n",
      "Ribosome Profiling\n",
      "Safety sciences\n",
      "Sample collections\n",
      "Sequence analysis\n",
      "Sequence assembly\n",
      "\"Sequence composition, complexity and repeats\"\n",
      "\"Sequence sites, features and motifs\"\n",
      "Small molecules\n",
      "Software engineering\n",
      "Structural biology\n",
      "Structural genomics\n",
      "Structural variation\n",
      "Structure analysis\n",
      "Structure prediction\n",
      "Surgery\n",
      "Synthetic biology\n",
      "Synthetic chemistry\n",
      "Systems biology\n",
      "Systems medicine\n",
      "Taxonomy\n",
      "Toxicology\n",
      "Transcription factors and regulatory sites\n",
      "Transcriptomics\n",
      "Translational medicine\n",
      "Trauma medicine\n",
      "Tropical medicine\n",
      "Urology and nephrology\n",
      "Vaccinology\n",
      "Veterinary medicine\n",
      "Virology\n",
      "Workflows\n",
      "X-ray diffraction\n",
      "Zoology\n",
      "\n",
      "The topics from the list above assigned to the abstract are: 1) \"Allergy, clinical immunology and immunotherapeutics\", 2) \"Ear, nose and throat medicine\", 3) \"Gastroenterology\", 4) \"Haematology\", 5) \"Immunogenetics\", 6) \"Immunology\", 7) \"Immunomics\", 8) \"Immunoproteins and antigens\", 9) \"Infectious disease\", 10)\n"
     ]
    }
   ],
   "source": [
    "print(data[0]['generated_text'])"
   ]
  },
  {
   "cell_type": "code",
   "execution_count": null,
   "metadata": {},
   "outputs": [],
   "source": []
  },
  {
   "cell_type": "code",
   "execution_count": null,
   "metadata": {},
   "outputs": [],
   "source": []
  }
 ],
 "metadata": {
  "kernelspec": {
   "display_name": "nde_gpt",
   "language": "python",
   "name": "python3"
  },
  "language_info": {
   "codemirror_mode": {
    "name": "ipython",
    "version": 3
   },
   "file_extension": ".py",
   "mimetype": "text/x-python",
   "name": "python",
   "nbconvert_exporter": "python",
   "pygments_lexer": "ipython3",
   "version": "3.10.13"
  }
 },
 "nbformat": 4,
 "nbformat_minor": 2
}
