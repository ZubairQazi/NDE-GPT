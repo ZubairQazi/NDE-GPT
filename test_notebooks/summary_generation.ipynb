{
 "cells": [
  {
   "cell_type": "code",
   "execution_count": 1,
   "metadata": {},
   "outputs": [],
   "source": [
    "import pandas as pd\n",
    "import numpy as np\n",
    "import os\n",
    "import json"
   ]
  },
  {
   "cell_type": "markdown",
   "metadata": {},
   "source": [
    "### Load new records"
   ]
  },
  {
   "cell_type": "code",
   "execution_count": 2,
   "metadata": {},
   "outputs": [],
   "source": [
    "json_data = pd.read_json('nde_hub_src.clinepidb.json')"
   ]
  },
  {
   "cell_type": "code",
   "execution_count": 3,
   "metadata": {},
   "outputs": [],
   "source": [
    "json_data.rename(columns={'name': 'Name', 'description': 'Description'}, inplace=True)"
   ]
  },
  {
   "cell_type": "code",
   "execution_count": 4,
   "metadata": {},
   "outputs": [],
   "source": [
    "data = pd.read_csv('../datasets/nde_prod/ClinEpiDB.csv', lineterminator='\\n')"
   ]
  },
  {
   "cell_type": "code",
   "execution_count": 5,
   "metadata": {},
   "outputs": [],
   "source": [
    "data['_id'] = data['_id'].str.lower()"
   ]
  },
  {
   "cell_type": "code",
   "execution_count": 6,
   "metadata": {},
   "outputs": [
    {
     "data": {
      "text/html": [
       "<div>\n",
       "<style scoped>\n",
       "    .dataframe tbody tr th:only-of-type {\n",
       "        vertical-align: middle;\n",
       "    }\n",
       "\n",
       "    .dataframe tbody tr th {\n",
       "        vertical-align: top;\n",
       "    }\n",
       "\n",
       "    .dataframe thead th {\n",
       "        text-align: right;\n",
       "    }\n",
       "</style>\n",
       "<table border=\"1\" class=\"dataframe\">\n",
       "  <thead>\n",
       "    <tr style=\"text-align: right;\">\n",
       "      <th></th>\n",
       "      <th>_id</th>\n",
       "      <th>Name</th>\n",
       "      <th>Description</th>\n",
       "    </tr>\n",
       "  </thead>\n",
       "  <tbody>\n",
       "    <tr>\n",
       "      <th>2</th>\n",
       "      <td>clinepidb_ds_03d6476c6d</td>\n",
       "      <td>NECTAR2 Randomized Controlled Trial</td>\n",
       "      <td>&lt;b&gt;Related studies:&lt;/b&gt; \\n    &lt;blockquote&gt;\\n  ...</td>\n",
       "    </tr>\n",
       "    <tr>\n",
       "      <th>9</th>\n",
       "      <td>clinepidb_ds_17191d35b9</td>\n",
       "      <td>PRISM2 ICEMR Border Cohort</td>\n",
       "      <td>&lt;![CDATA[\\n      &lt;b&gt;Related studies:&lt;/b&gt; \\n   ...</td>\n",
       "    </tr>\n",
       "    <tr>\n",
       "      <th>13</th>\n",
       "      <td>clinepidb_ds_24e941b30f</td>\n",
       "      <td>PERCH Thailand Case Control</td>\n",
       "      <td>Nine sites in seven countries participated in ...</td>\n",
       "    </tr>\n",
       "    <tr>\n",
       "      <th>15</th>\n",
       "      <td>clinepidb_ds_2cf32ab2f0</td>\n",
       "      <td>PERCH Kenya Case Control</td>\n",
       "      <td>Nine sites in seven countries participated in ...</td>\n",
       "    </tr>\n",
       "    <tr>\n",
       "      <th>28</th>\n",
       "      <td>clinepidb_ds_59bedf2966</td>\n",
       "      <td>PERCH The Gambia Case Control</td>\n",
       "      <td>Nine sites in seven countries participated in ...</td>\n",
       "    </tr>\n",
       "    <tr>\n",
       "      <th>30</th>\n",
       "      <td>clinepidb_ds_624583e93e</td>\n",
       "      <td>LLINEUP2 Cluster Randomized Trial</td>\n",
       "      <td>&lt;b&gt;Related studies:&lt;/b&gt; \\n    &lt;blockquote&gt;\\n  ...</td>\n",
       "    </tr>\n",
       "    <tr>\n",
       "      <th>36</th>\n",
       "      <td>clinepidb_ds_7b47eb7469</td>\n",
       "      <td>NECTAR1 Randomized Controlled Trial</td>\n",
       "      <td>&lt;b&gt;Related studies:&lt;/b&gt; \\n    &lt;blockquote&gt;\\n  ...</td>\n",
       "    </tr>\n",
       "    <tr>\n",
       "      <th>39</th>\n",
       "      <td>clinepidb_ds_861ea66681</td>\n",
       "      <td>NECTAR4 Randomized Controlled Trial</td>\n",
       "      <td>&lt;b&gt;Related studies:&lt;/b&gt; \\n    &lt;blockquote&gt;\\n  ...</td>\n",
       "    </tr>\n",
       "    <tr>\n",
       "      <th>40</th>\n",
       "      <td>clinepidb_ds_86424e44ce</td>\n",
       "      <td>PERCH South Africa Case Control</td>\n",
       "      <td>Nine sites in seven countries participated in ...</td>\n",
       "    </tr>\n",
       "    <tr>\n",
       "      <th>46</th>\n",
       "      <td>clinepidb_ds_a83d9defbb</td>\n",
       "      <td>Southern Africa ICEMR Cross-sectional</td>\n",
       "      <td>&lt;b&gt;Objectives:&lt;/b&gt;\\n      &lt;p /&gt;\\n      &lt;blockq...</td>\n",
       "    </tr>\n",
       "    <tr>\n",
       "      <th>49</th>\n",
       "      <td>clinepidb_ds_c3035a108d</td>\n",
       "      <td>PERCH Mali Case Control</td>\n",
       "      <td>Nine sites in seven countries participated in ...</td>\n",
       "    </tr>\n",
       "    <tr>\n",
       "      <th>53</th>\n",
       "      <td>clinepidb_ds_d00683a135</td>\n",
       "      <td>NECTAR3 Randomized Controlled Trial</td>\n",
       "      <td>&lt;b&gt;Related studies:&lt;/b&gt; \\n    &lt;blockquote&gt;\\n  ...</td>\n",
       "    </tr>\n",
       "    <tr>\n",
       "      <th>54</th>\n",
       "      <td>clinepidb_ds_d40f5f723f</td>\n",
       "      <td>PERCH Zambia Case Control</td>\n",
       "      <td>Nine sites in seven countries participated in ...</td>\n",
       "    </tr>\n",
       "    <tr>\n",
       "      <th>58</th>\n",
       "      <td>clinepidb_ds_e4ba48125a</td>\n",
       "      <td>PERCH Bangladesh Case Control</td>\n",
       "      <td>Nine sites in seven countries participated in ...</td>\n",
       "    </tr>\n",
       "    <tr>\n",
       "      <th>62</th>\n",
       "      <td>clinepidb_ds_f71667fc7f</td>\n",
       "      <td>LEDoxy Randomized Controlled Trial</td>\n",
       "      <td>&lt;b&gt;Background:&lt;/b&gt; Current treatment practices...</td>\n",
       "    </tr>\n",
       "  </tbody>\n",
       "</table>\n",
       "</div>"
      ],
      "text/plain": [
       "                        _id                                   Name  \\\n",
       "2   clinepidb_ds_03d6476c6d    NECTAR2 Randomized Controlled Trial   \n",
       "9   clinepidb_ds_17191d35b9             PRISM2 ICEMR Border Cohort   \n",
       "13  clinepidb_ds_24e941b30f            PERCH Thailand Case Control   \n",
       "15  clinepidb_ds_2cf32ab2f0               PERCH Kenya Case Control   \n",
       "28  clinepidb_ds_59bedf2966          PERCH The Gambia Case Control   \n",
       "30  clinepidb_ds_624583e93e      LLINEUP2 Cluster Randomized Trial   \n",
       "36  clinepidb_ds_7b47eb7469    NECTAR1 Randomized Controlled Trial   \n",
       "39  clinepidb_ds_861ea66681    NECTAR4 Randomized Controlled Trial   \n",
       "40  clinepidb_ds_86424e44ce        PERCH South Africa Case Control   \n",
       "46  clinepidb_ds_a83d9defbb  Southern Africa ICEMR Cross-sectional   \n",
       "49  clinepidb_ds_c3035a108d                PERCH Mali Case Control   \n",
       "53  clinepidb_ds_d00683a135    NECTAR3 Randomized Controlled Trial   \n",
       "54  clinepidb_ds_d40f5f723f              PERCH Zambia Case Control   \n",
       "58  clinepidb_ds_e4ba48125a          PERCH Bangladesh Case Control   \n",
       "62  clinepidb_ds_f71667fc7f     LEDoxy Randomized Controlled Trial   \n",
       "\n",
       "                                          Description  \n",
       "2   <b>Related studies:</b> \\n    <blockquote>\\n  ...  \n",
       "9   <![CDATA[\\n      <b>Related studies:</b> \\n   ...  \n",
       "13  Nine sites in seven countries participated in ...  \n",
       "15  Nine sites in seven countries participated in ...  \n",
       "28  Nine sites in seven countries participated in ...  \n",
       "30  <b>Related studies:</b> \\n    <blockquote>\\n  ...  \n",
       "36  <b>Related studies:</b> \\n    <blockquote>\\n  ...  \n",
       "39  <b>Related studies:</b> \\n    <blockquote>\\n  ...  \n",
       "40  Nine sites in seven countries participated in ...  \n",
       "46  <b>Objectives:</b>\\n      <p />\\n      <blockq...  \n",
       "49  Nine sites in seven countries participated in ...  \n",
       "53  <b>Related studies:</b> \\n    <blockquote>\\n  ...  \n",
       "54  Nine sites in seven countries participated in ...  \n",
       "58  Nine sites in seven countries participated in ...  \n",
       "62  <b>Background:</b> Current treatment practices...  "
      ]
     },
     "execution_count": 6,
     "metadata": {},
     "output_type": "execute_result"
    }
   ],
   "source": [
    "new_ids = json_data[~json_data['_id'].isin(data['_id'])]\n",
    "new_ids"
   ]
  },
  {
   "cell_type": "code",
   "execution_count": 16,
   "metadata": {},
   "outputs": [],
   "source": [
    "system_prompt = \"\"\"\n",
    "Generate a summary of a dataset entry based on its provided name and description. The summary should be concise, with a maximum of 170 words, and include a separate section with 1-2 sentences describing the method and experimental conditions used, if such details are available.\n",
    "\n",
    "# Steps\n",
    "\n",
    "    Identify Key Information: Extract the essential details from the dataset's name and description. Focus on the purpose, contents, and any significant features of the dataset.\n",
    "\n",
    "    Describe Methods and Conditions (separate section): If available, include a brief description of the methods used to collect data and any relevant experimental conditions.\n",
    "\n",
    "    Compose Summary: Organize the extracted information into a cohesive summary, ensuring it remains within the 170-word limit.\n",
    "\n",
    "# Output Format\n",
    "\n",
    "    A paragraph of up to 170 words.\n",
    "    A separate section for methods and experimental conditions if available.\n",
    "\n",
    "# Examples\n",
    "\n",
    "Input:\n",
    "\n",
    "    Name: \"Urban Traffic Flow Dataset\"\n",
    "    Description: \"This dataset includes hourly traffic flows recorded from multiple sensors installed in the city's main roads. Data were collected over a year, capturing peak and off-peak hours. Used for urban planning and congestion management.\"\n",
    "\n",
    "Output: \n",
    "\n",
    "Methods and Experimental Conditions:\n",
    "Data collection methods involve the use of state-of-the-art sensors strategically placed to ensure comprehensive coverage and accuracy.\n",
    "\n",
    "Summary:\n",
    "The Urban Traffic Flow Dataset comprises data from multiple sensors installed across the city's main roads, recording traffic flows hourly. It covers a full year, capturing patterns during both peak and off-peak hours. This dataset is particularly useful for urban planning and congestion management efforts.\n",
    "\n",
    "Note: Real examples should include more detailed technical or methodological information if available, while keeping within the word limit.\n",
    "\"\"\""
   ]
  },
  {
   "cell_type": "code",
   "execution_count": 17,
   "metadata": {},
   "outputs": [],
   "source": [
    "template = \"\"\"\n",
    "Name: \\\"{name}\\\"\n",
    "Description: \\\"{description}\\\"\n",
    "\"\"\""
   ]
  },
  {
   "cell_type": "code",
   "execution_count": 18,
   "metadata": {},
   "outputs": [],
   "source": [
    "queries = []\n",
    "for idx, row in new_ids.iterrows():\n",
    "    \n",
    "    prompt = template.format(name=row['Name'], description=row['Description'])\n",
    "\n",
    "    query = {\n",
    "        \"custom_id\": f\"request-{idx}-{row['_id']}\", \n",
    "        \"method\": \"POST\", \n",
    "        \"url\": \"/v1/chat/completions\", \n",
    "        \"body\": {\n",
    "            \"model\": \"gpt-4o-mini\", \n",
    "            \"messages\": [{\"role\": \"system\", \"content\": system_prompt},{\"role\": \"user\", \"content\": prompt}],\n",
    "            \"max_tokens\": 2048,\n",
    "        }\n",
    "    }\n",
    "\n",
    "    queries.append(query)"
   ]
  },
  {
   "cell_type": "code",
   "execution_count": 19,
   "metadata": {},
   "outputs": [
    {
     "data": {
      "text/plain": [
       "{'custom_id': 'request-2-clinepidb_ds_03d6476c6d',\n",
       " 'method': 'POST',\n",
       " 'url': '/v1/chat/completions',\n",
       " 'body': {'model': 'gpt-4o-mini',\n",
       "  'messages': [{'role': 'system',\n",
       "    'content': '\\nGenerate a summary of a dataset entry based on its provided name and description. The summary should be concise, with a maximum of 170 words, and include a separate section with 1-2 sentences describing the method and experimental conditions used, if such details are available.\\n\\n# Steps\\n\\n    Identify Key Information: Extract the essential details from the dataset\\'s name and description. Focus on the purpose, contents, and any significant features of the dataset.\\n\\n    Describe Methods and Conditions (separate section): If available, include a brief description of the methods used to collect data and any relevant experimental conditions.\\n\\n    Compose Summary: Organize the extracted information into a cohesive summary, ensuring it remains within the 170-word limit.\\n\\n# Output Format\\n\\n    A paragraph of up to 170 words.\\n    A separate section for methods and experimental conditions if available.\\n\\n# Examples\\n\\nInput:\\n\\n    Name: \"Urban Traffic Flow Dataset\"\\n    Description: \"This dataset includes hourly traffic flows recorded from multiple sensors installed in the city\\'s main roads. Data were collected over a year, capturing peak and off-peak hours. Used for urban planning and congestion management.\"\\n\\nOutput: \\n\\nMethods and Experimental Conditions:\\nData collection methods involve the use of state-of-the-art sensors strategically placed to ensure comprehensive coverage and accuracy.\\n\\nSummary:\\nThe Urban Traffic Flow Dataset comprises data from multiple sensors installed across the city\\'s main roads, recording traffic flows hourly. It covers a full year, capturing patterns during both peak and off-peak hours. This dataset is particularly useful for urban planning and congestion management efforts.\\n\\nNote: Real examples should include more detailed technical or methodological information if available, while keeping within the word limit.\\n'},\n",
       "   {'role': 'user',\n",
       "    'content': '\\nName: \"NECTAR2 Randomized Controlled Trial\"\\nDescription: \"<b>Related studies:</b>\\xa0\\n    <blockquote>\\n    <ul>\\n   <li><a target=_blank href=\"https://clinepidb.org/ce/app/workspace/analyses/DS_7b47eb7469/new\">NECTAR1</a></li>\\n   <li><a target=_blank href=\"https://clinepidb.org/ce/app/workspace/analyses/DS_d00683a135/new\">NECTAR3</a></li>\\n   <li><a target=_blank href=\"https://clinepidb.org/ce/app/workspace/analyses/DS_861ea66681/new\">NECTAR4</a></li>\\n    </ul>\\n    </blockquote>\\n    <p />     \\n    <b>Background</b>: Tafenoquine was recently approved as a prophylaxis and radical cure for <i>Plasmodium vivax</i> infection, but its <i>Plasmodium falciparum</i> transmission-blocking efficacy is unclear. We aimed to establish the efficacy and safety of three single low doses of tafenoquine in combination with dihydroartemisinin–piperaquine for reducing gametocyte density and transmission to mosquitoes.\\n      <p />\\n      <b>Objectives:</b>\\n      <p />\\n      <b>Primary objective:</b> Assess the change of infectivity of gametocytes following the administration of different doses of tafenoquine (TQ) combined with dihydroartemisinin-piperaquine (DP) in children and adults without G6PD deficiency at day 2 post-treatment compared to pre-treatment (day 0)\\n    <p />\\n    <b>Secondary objectives:</b>\\n    <ul>\\n    <li>Assess the safety (AE frequency, median drop in Hb) of different doses of TQ combined with DP in children and adults without G6PD deficiency</li>\\n    <li>Assess the change of infectivity of gametocytes following the administration of different doses of TQ combined with DP in children and adults without G6PD deficiency at day 7 post treatment compared to pre-treatment (day 0)</li>\\n    <li>Assess the change of gametocyte carriage and density following the administration of different doses of TQ combined with DP in children and adults without G6PD deficiency compared to pre-treatment (day 0)</li>\\n    <li>Assess the difference in gametocytocidal activity (assessed as gametocyte area under the curve) between study arms</li>\\n    <li>Assess the difference in safety outcomes (AE frequency, median drop in Hb) between study arms</li>\\n    <li>Assess the difference in infectivity (prevalence and density of oocysts at day 2, 7 and 14 compared to baseline) between study arms</li>\\n    </ul>\\n      <p />\\n      <b>Methodology:</b>\\n      <blockquote>\\n          <b>Geographic Location/Study Sites:</b>: The field site of Ouelessebougou and Malaria Research and Training Centre (MRTC) in Bamako, Mali\\n          <p />\\n          <b>Dates of Data Collection:</b> From Oct 29 to Nov 25, 2020, 1091 individuals were screened for eligibility. The final follow-up visit was on Dec 23, 2020\\n          <p />\\n          <b>Study Design:</b> Four-arm, single-blind, phase 2, randomised controlled trial with follow-up up to 28 days after receiving the first dose of the study drugs\\n          <p />\\n          <b>Eligibility Criteria:</b> Before the commencement of screening, our study team of clinicians and technicians met with community leaders, village health workers, and heads of households from each village to explain the study and obtain approval to conduct the study. Village health workers then used a door-to-door approach to inform households of the date and location where consenting and screening would take place. Participants were included in the trial if they met the following criteria: positive for <i>P. falciparum</i> gametocytes by microscopy (ie, ≥1 gametocytes recorded in a thick film against 500 white blood cells, equating to 16 gametocytes per μL with a standard conversion of 8000 white blood cells per μL blood); absence of other non-P falciparum species on blood film; haemoglobin density of 10 g/dL or more; normal G6PD (male >4 IU/g haemoglobin, female >6 IU/g haemoglobin); aged between 12–50 years; bodyweight 80 kg or less; no clinical signs of malaria defined by fever (≥37·5°C); no signs of acute, severe, or chronic disease; no allergies to any study drugs; reported no use of antimalarial drugs over the past week; consistent with the long half-life of tafenoquine, use of effective contraception for five half-lives (3 months) after the end of tafenoquine treatment. Exclusion criteria included pregnancy (tested at enrolment by urine and serum test) or lactation, use of other medication (except for paracetamol or aspirin), family history of congenital prolongation of the corrected QT interval, current or recent treatment with drugs known to extend the corrected QT interval, and blood transfusion in the past 90 days.\\n          <p />\\n          <b>Data Collection:</b> Participants received a full clinical and parasitological examination on days 1, 2, 7, 14, 21, and 28 after receiving the first dose of the study drugs. Additional venous blood samples were taken for biochemical and infectivity assessments on days 0, 2, 7, and 14 in all treatment groups. For each assessment of infectivity, approximately 75 locally reared Anopheles gambiae were allowed to feed for 15–20 min on venous blood samples through a prewarmed glass membrane feeder system. All surviving mosquitoes were dissected on the seventh day after the feeding assay; midguts were stained in 1% mercurochrome and examined for the presence and density of oocysts by expert microscopists.\\n          <p />\\n      </blockquote>\\n      <p />\\n      <b>ClinEpiDB Data Integration:</b> Data files were provided to ClinEpiDB as excel files. These datasets were merged by unique ID and redundant or administrative columns were dropped from presentation on ClinEpiDB.org. All dates were obfuscated per participant through the application of a random number algorithm that shifted dates no more than seven days to comply with the ethical conduct of human subjects research.\\n      <p />\\n      <b>Acknowledgements:</b> Tafenoquine tablets were kindly donated by 60° Pharmaceuticals, USA. We thank Judith Meta, Maria Luisa Simoes, and Marta Moreno Leirana for the abstract translations. We thank the local safety monitor, members of the data safety and monitoring board, and all MRTC study staff for their assistance. Finally, we thank the study participants and the population of Ouelessebougou, Mali, for their cooperation.\\n      <p />\\n      <b>Financial Support:</b> This work was supported by the Bill & Melinda Gates Foundation (#INV-002098). JB is supported by an award jointly funded by the UK Medical Research Council (MRC) and the UK Foreign, Commonwealth and Development Office (FCDO) under the MRC/FCDO Concordat agreement, which is also part of the EDCTP2 programme supported by the EU (MR/R010161/1). TB is further supported by a fellowship from The Netherlands Organisation for Scientific Research (Vidi fellowship NWO project number 016.158.306) and a European Research Council-Consolidator Grant (ERC-CoG 864180; QUANTUM). WS is supported by a Sir Henry Wellcome fellowship (218676/Z/19/Z).\\n      <p />\\n      <b>Ethics Statement:</b> Ethical approval was granted by the Ethics Committee of the Faculty of Medicine, Pharmacy, and Dentistry of the University of Science, Techniques, and Technologies of Bamako (Bamako, Mali), and the Research Ethics Committee of the London School of Hygiene & Tropical Medicine (London, UK).\\n      <p />\\n      <b>Last Updated:</b> July 14, 2023The NECTAR2 trial evaluated single low dose tafenoquine to reduce <i>P. falciparum</i> transmission in Mali.\"\\n'}],\n",
       "  'max_tokens': 2048}}"
      ]
     },
     "execution_count": 19,
     "metadata": {},
     "output_type": "execute_result"
    }
   ],
   "source": [
    "queries[0]"
   ]
  },
  {
   "cell_type": "code",
   "execution_count": 22,
   "metadata": {},
   "outputs": [],
   "source": [
    "import math\n",
    "num_files = math.ceil(len(queries) / 50000)\n",
    "\n",
    "# Split the queries into multiple lists\n",
    "query_lists = [queries[i:i+50000] for i in range(0, len(queries), 50000)]\n",
    "\n",
    "# Write each list of queries to a separate file\n",
    "for i, query_list in enumerate(query_lists):\n",
    "    filename = f'summary_queries/queries_{i}.jsonl'\n",
    "    with open(filename, 'w') as f:\n",
    "        for query in query_list:\n",
    "            json.dump(query, f)\n",
    "            f.write('\\n')\n"
   ]
  },
  {
   "cell_type": "code",
   "execution_count": 27,
   "metadata": {},
   "outputs": [],
   "source": [
    "# Check if number of requessts are within the limit"
   ]
  },
  {
   "cell_type": "code",
   "execution_count": 23,
   "metadata": {},
   "outputs": [
    {
     "name": "stdout",
     "output_type": "stream",
     "text": [
      "31899\n",
      "3663\n",
      "2126.6\n"
     ]
    }
   ],
   "source": [
    "# Check if token count is within the maximum limit\n",
    "\n",
    "import tiktoken\n",
    "enc = tiktoken.get_encoding(\"o200k_base\")\n",
    "tokens = []\n",
    "\n",
    "for query in queries:\n",
    "    content = query['body']['messages'][1]['content']\n",
    "    token_count = len(enc.encode(content))\n",
    "    tokens.append(token_count)\n",
    "\n",
    "print(sum(tokens), max(tokens), sum(tokens)/len(tokens), sep='\\n')"
   ]
  },
  {
   "cell_type": "code",
   "execution_count": 24,
   "metadata": {},
   "outputs": [
    {
     "name": "stdout",
     "output_type": "stream",
     "text": [
      "Total Cost: $0.0023924249999999997\n"
     ]
    }
   ],
   "source": [
    "## Batch API pricing\n",
    "\n",
    "cost = (sum(tokens) / 1000000) * 0.075\n",
    "\n",
    "print(f'Total Cost: ${cost}')"
   ]
  },
  {
   "cell_type": "code",
   "execution_count": 8,
   "metadata": {},
   "outputs": [],
   "source": [
    "from openai import OpenAI"
   ]
  },
  {
   "cell_type": "code",
   "execution_count": 9,
   "metadata": {},
   "outputs": [],
   "source": [
    "with open(\"../config.json\", \"r\") as config_file:\n",
    "    config = json.load(config_file)\n",
    "\n",
    "openai_api_key = config[\"api_keys\"][\"openai\"]\n",
    "\n",
    "client = OpenAI(api_key=openai_api_key)"
   ]
  },
  {
   "cell_type": "code",
   "execution_count": 27,
   "metadata": {},
   "outputs": [],
   "source": [
    "filename = f'summary_queries/queries_0.jsonl'\n",
    "\n",
    "batch_input_file = client.files.create(\n",
    "  file=open(filename, \"rb\"),\n",
    "  purpose=\"batch\"\n",
    ")"
   ]
  },
  {
   "cell_type": "code",
   "execution_count": 28,
   "metadata": {},
   "outputs": [
    {
     "name": "stdout",
     "output_type": "stream",
     "text": [
      "Batch(id='batch_671024538954819080c51cca701b6458', completion_window='24h', created_at=1729111123, endpoint='/v1/chat/completions', input_file_id='file-PG9wNlx2rJRAezm0rBDm24Y4', object='batch', status='validating', cancelled_at=None, cancelling_at=None, completed_at=None, error_file_id=None, errors=None, expired_at=None, expires_at=1729197523, failed_at=None, finalizing_at=None, in_progress_at=None, metadata={'description': 'NDE GPT Summary Generation (ClinEpiDB)'}, output_file_id=None, request_counts=BatchRequestCounts(completed=0, failed=0, total=0))\n"
     ]
    }
   ],
   "source": [
    "batch_input_file_id = batch_input_file.id\n",
    "\n",
    "batch_info = client.batches.create(\n",
    "    input_file_id=batch_input_file_id,\n",
    "    endpoint=\"/v1/chat/completions\",\n",
    "    completion_window=\"24h\",\n",
    "    metadata={\n",
    "      \"description\": \"NDE GPT Summary Generation (ClinEpiDB)\"\n",
    "    }\n",
    ")\n",
    "\n",
    "print(batch_info)"
   ]
  },
  {
   "cell_type": "code",
   "execution_count": 29,
   "metadata": {},
   "outputs": [
    {
     "name": "stdout",
     "output_type": "stream",
     "text": [
      "Batch ID: batch_671024538954819080c51cca701b6458\n",
      "File ID: file-PG9wNlx2rJRAezm0rBDm24Y4\n"
     ]
    }
   ],
   "source": [
    "print(f\"Batch ID: {batch_info.id}\")\n",
    "print(f\"File ID: {batch_info.input_file_id}\")"
   ]
  },
  {
   "cell_type": "code",
   "execution_count": 10,
   "metadata": {},
   "outputs": [],
   "source": [
    "# Retrieve results\n",
    "\n",
    "out_files = []\n",
    "for batch in ['batch_671024538954819080c51cca701b6458']:\n",
    "    out_file = client.batches.retrieve(batch).output_file_id\n",
    "    out_files.append(out_file)"
   ]
  },
  {
   "cell_type": "code",
   "execution_count": 11,
   "metadata": {},
   "outputs": [
    {
     "name": "stdout",
     "output_type": "stream",
     "text": [
      "{\"id\": \"batch_req_671026d8b8d88190be87cfb32593b6e6\", \"custom_id\": \"request-2-clinepidb_ds_03d6476c6d\", \"response\": {\"status_code\": 200, \"request_id\": \"6ff925ddfff1e8c780ebdce27b216d9e\", \"body\": {\"id\": \"chatcmpl-AJ55u5fl9NjgvqGZs02NMgyJfY1Q4\", \"object\": \"chat.completion\", \"created\": 1729111178, \"model\": \"gpt-4o-mini-2024-07-18\", \"choices\": [{\"index\": 0, \"message\": {\"role\": \"assistant\", \"content\": \"**Methods and Experimental Conditions:**  \\nThe NECTAR2 trial was a four-arm, single-blind, phase 2 randomized controlled trial conducted between October 29 and December 23, 2020, in Ouelessebougou and the Malaria Research and Training Centre in Bamako, Mali. The study involved a thorough eligibility screening of 1,091 individuals, with data collected on clinical and parasitological parameters at multiple follow-up points up to 28 days post-treatment.\\n\\n**Summary:**  \\nThe NECTAR2 Randomized Controlled Trial investigated the efficacy and safety of single low doses of tafenoquine combined with dihydroartemisinin-piperaquine to reduce gametocyte density and subsequent transmission of *Plasmodium falciparum* in a cohort of children and adults in Mali. The primary objective focused on assessing changes in infectivity 48 hours after treatment, while secondary objectives included evaluating safety, gametocyte carriage, and infectivity at various time points. The trial combined robust clinical examinations with biochemical assessments, employing locally reared Anopheles mosquitoes to evaluate transmission potential. Ethical oversight was obtained from relevant committees to ensure compliance with research standards.\", \"refusal\": null}, \"logprobs\": null, \"finish_reason\": \"stop\"}], \"usage\": {\"prompt_tokens\": 2129, \"completion_tokens\": 240, \"total_tokens\": 2369, \"prompt_tokens_details\": {\"cached_tokens\": 0}, \"completion_tokens_details\": {\"reasoning_tokens\": 0}}, \"system_fingerprint\": \"fp_e2bde53e6e\"}}, \"error\": null}\n",
      "{\"id\": \"batch_req_671026d8c72081908da7bea9b8647c06\", \"custom_id\": \"request-9-clinepidb_ds_17191d35b9\", \"response\": {\"status_code\": 200, \"request_id\": \"4090de89a9d723a06816277c10d6df12\", \"body\": {\"id\": \"chatcmpl-AJ56SPyzjNfMShjsxMLszhYjpTKcw\", \"object\": \"chat.completion\", \"created\": 1729111212, \"model\": \"gpt-4o-mini-2024-07-18\", \"choices\": [{\"index\": 0, \"message\": {\"role\": \"assistant\", \"content\": \"Methods and Experimental Conditions:\\nThe PRISM2 ICEMR Border Cohort is a dynamic prospective cohort study conducted in Tororo and Busia Districts, Uganda, from August 2020 to September 2023. Eligibility criteria included households with at least two members under five years of age, and participants underwent regular medical evaluations, blood collections, and mosquito trapping every two weeks to assess malaria metrics and entomological factors.\\n\\nSummary:\\nThe PRISM2 ICEMR Border Cohort aims to investigate the resurgence of malaria in Tororo District, Uganda, following previous interventions with long-lasting insecticidal nets (LLINs) and indoor residual spraying (IRS). The study enrolled 667 residents and compared malaria incidence and prevalence between September 2020 and September 2023. Factors such as the impact of the shift back to organophosphate IRS (Actellic) in March 2023 were also evaluated. Initial data highlighted significant decreases in malaria metrics from prior interventions, but a resurgence was noted in 2020. This cohort study sheds light on the complex dynamics of malaria transmission and vector control efficacy in high-burden areas.\", \"refusal\": null}, \"logprobs\": null, \"finish_reason\": \"stop\"}], \"usage\": {\"prompt_tokens\": 4007, \"completion_tokens\": 229, \"total_tokens\": 4236, \"prompt_tokens_details\": {\"cached_tokens\": 0}, \"completion_tokens_details\": {\"reasoning_tokens\": 0}}, \"system_fingerprint\": \"fp_e2bde53e6e\"}}, \"error\": null}\n",
      "{\"id\": \"batch_req_671026d8e1608190a24226d8d3fcfac6\", \"custom_id\": \"request-13-clinepidb_ds_24e941b30f\", \"response\": {\"status_code\": 200, \"request_id\": \"d9a95ba47df71bc5cf4af50bc4492adf\", \"body\": {\"id\": \"chatcmpl-AJ56bLT2qRP0a5NcHDcw1okYArIrF\", \"object\": \"chat.completion\", \"created\": 1729111221, \"model\": \"gpt-4o-mini-2024-07-18\", \"choices\": [{\"index\": 0, \"message\": {\"role\": \"assistant\", \"content\": \"Methods and Experimental Conditions:  \\nThe PERCH Thailand Case Control dataset was created through a prospective, multi-center, case-control study conducted between August 2011 and February 2014. It involved children aged 1-59 months hospitalized with severe pneumonia, with controls randomly selected from the community to match the age distribution. Multiple specimens were collected from each participant to test for various pathogens.\\n\\nSummary:  \\nThe PERCH Thailand Case Control dataset encompasses epidemiological data collected from two sites in Thailand\\u2014Nakhon Phanom and Sa Kaeo\\u2014as part of a broader study involving nine sites across seven countries. It focuses on understanding the etiologies of pneumonia in children, particularly in light of the changing landscape of vaccinations and environmental factors. The dataset features data on clinical symptoms, medical history, and various risk factors while integrating results from multiple specimens to ascertain pneumonia causation. The study serves as a critical resource for future treatment and prevention strategies for childhood pneumonia and is a vital addition to the current epidemiological knowledge.\", \"refusal\": null}, \"logprobs\": null, \"finish_reason\": \"stop\"}], \"usage\": {\"prompt_tokens\": 2285, \"completion_tokens\": 201, \"total_tokens\": 2486, \"prompt_tokens_details\": {\"cached_tokens\": 0}, \"completion_tokens_details\": {\"reasoning_tokens\": 0}}, \"system_fingerprint\": \"fp_e2bde53e6e\"}}, \"error\": null}\n",
      "{\"id\": \"batch_req_671026d901b0819087d3b8af0bc592e4\", \"custom_id\": \"request-15-clinepidb_ds_2cf32ab2f0\", \"response\": {\"status_code\": 200, \"request_id\": \"02ddf9d23f5b7ab82441c91fa47fb3eb\", \"body\": {\"id\": \"chatcmpl-AJ56jFDGoLTYd8hEi2SEDSoG79nHx\", \"object\": \"chat.completion\", \"created\": 1729111229, \"model\": \"gpt-4o-mini-2024-07-18\", \"choices\": [{\"index\": 0, \"message\": {\"role\": \"assistant\", \"content\": \"Methods and Experimental Conditions:\\nData for the PERCH Kenya Case Control study were collected between August 2011 and February 2014 in Kilifi, Kenya. The study employed a case-control design, with cases defined as children aged 1-59 months hospitalized with severe or very severe pneumonia, and controls randomly selected from the community. Multiple specimens were tested for over 30 pathogens, and comprehensive data on clinical signs, treatment, and risk factors were collected.\\n\\nSummary:\\nThe \\\"PERCH Kenya Case Control\\\" dataset features epidemiological data from a multi-center study investigating pneumonia in children aged 1-59 months. Conducted across various sites in Africa and Asia, this particular dataset focuses on children hospitalized with severe pneumonia in Kilifi, Kenya. It aims to identify pneumonia etiology, assess the attribution of pathogens, and evaluate associated risk factors. Data were meticulously gathered over a multi-year period, utilizing a case-control framework to ensure the inclusion of both clinical and demographic information, making it a vital resource for understanding childhood pneumonia and its causes.\", \"refusal\": null}, \"logprobs\": null, \"finish_reason\": \"stop\"}], \"usage\": {\"prompt_tokens\": 2265, \"completion_tokens\": 208, \"total_tokens\": 2473, \"prompt_tokens_details\": {\"cached_tokens\": 0}, \"completion_tokens_details\": {\"reasoning_tokens\": 0}}, \"system_fingerprint\": \"fp_e2bde53e6e\"}}, \"error\": null}\n",
      "{\"id\": \"batch_req_671026d911a48190acd901ee80e23cff\", \"custom_id\": \"request-28-clinepidb_ds_59bedf2966\", \"response\": {\"status_code\": 200, \"request_id\": \"50bdd7f751e65c0d9648cb906bb16876\", \"body\": {\"id\": \"chatcmpl-AJ57R7fOLlZqlzCVUxPRoSdRdfjrw\", \"object\": \"chat.completion\", \"created\": 1729111273, \"model\": \"gpt-4o-mini-2024-07-18\", \"choices\": [{\"index\": 0, \"message\": {\"role\": \"assistant\", \"content\": \"Methods and Experimental Conditions:\\nThe data was collected from August 2011 to February 2014 at Basse, The Gambia, using a case-control study design. Cases included children aged 1-59 months with WHO-defined severe pneumonia, while controls were randomly selected from the community to match the age distribution of cases. Multiple specimens were collected and tested for over 30 pathogens, alongside clinical, demographic, and environmental data.\\n\\nSummary:\\nThe \\\"PERCH The Gambia Case Control\\\" dataset provides epidemiological data from Basse, The Gambia, as part of a multi-center study designed to elucidate the etiologies of pneumonia in children aged 1-59 months. This dataset, collected over two and a half years, focuses on cases of severe pneumonia, comparing them to age-matched controls drawn from the community. The objectives of the study include identifying the causative pathogens responsible for pediatric pneumonia and assessing associated risk factors. The dataset is part of a larger initiative involving sites across seven countries, with additional datasets available for specific countries. This research provides valuable insights necessary for informing treatment and preventive strategies against pneumonia.\", \"refusal\": null}, \"logprobs\": null, \"finish_reason\": \"stop\"}], \"usage\": {\"prompt_tokens\": 2276, \"completion_tokens\": 224, \"total_tokens\": 2500, \"prompt_tokens_details\": {\"cached_tokens\": 0}, \"completion_tokens_details\": {\"reasoning_tokens\": 0}}, \"system_fingerprint\": \"fp_e2bde53e6e\"}}, \"error\": null}\n",
      "{\"id\": \"batch_req_671026d920608190839ed314e731f542\", \"custom_id\": \"request-30-clinepidb_ds_624583e93e\", \"response\": {\"status_code\": 200, \"request_id\": \"ea1abef1094bcba69fc7df555335f66f\", \"body\": {\"id\": \"chatcmpl-AJ57TbeXUqQBhhdCQDQrFjcPiKCr9\", \"object\": \"chat.completion\", \"created\": 1729111275, \"model\": \"gpt-4o-mini-2024-07-18\", \"choices\": [{\"index\": 0, \"message\": {\"role\": \"assistant\", \"content\": \"**Methods and Experimental Conditions:**  \\nThe LLINEUP2 trial employed a cluster randomized controlled design across 64 clusters in 32 districts of Uganda. Data collection occurred from November 2021 to March 2023, with community surveys conducted at 12 and 24 months post LLIN distribution. Households with children aged 2-10 years were randomly sampled within defined catchment areas of Malaria Reference Centers.\\n\\n**Summary:**  \\nThe LLINEUP2 Cluster Randomized Trial aims to evaluate the efficacy of long-lasting insecticidal nets (LLINs) treated with a pyrethroid plus pyriproxyfen (PPF) against those treated with pyrethroid plus piperonyl butoxide (PBO) in reducing malaria incidence in Uganda. This pragmatic trial was embedded in the 2020-2021 nationwide LLIN distribution campaign, with the primary objective to compare malaria incidence rates between intervention and control clusters. In addition to primary outcomes, secondary objectives include assessing the impact on parasite prevalence, anemia, vector density, durability, and cost-effectiveness of the two LLIN types. The trial also seeks to understand the implications of COVID-19 on malaria management and incidence across the region, providing insights for future public health strategies.\", \"refusal\": null}, \"logprobs\": null, \"finish_reason\": \"stop\"}], \"usage\": {\"prompt_tokens\": 3108, \"completion_tokens\": 251, \"total_tokens\": 3359, \"prompt_tokens_details\": {\"cached_tokens\": 0}, \"completion_tokens_details\": {\"reasoning_tokens\": 0}}, \"system_fingerprint\": \"fp_e2bde53e6e\"}}, \"error\": null}\n",
      "{\"id\": \"batch_req_671026d92ea48190b07815580f50061f\", \"custom_id\": \"request-36-clinepidb_ds_7b47eb7469\", \"response\": {\"status_code\": 200, \"request_id\": \"fec4808e4c0323a1cc13362cea498052\", \"body\": {\"id\": \"chatcmpl-AJ580Us9snAB1zWp1tkbEcy0OyvY5\", \"object\": \"chat.completion\", \"created\": 1729111308, \"model\": \"gpt-4o-mini-2024-07-18\", \"choices\": [{\"index\": 0, \"message\": {\"role\": \"assistant\", \"content\": \"**Methods and Experimental Conditions:**\\nThe NECTAR1 Randomized Controlled Trial was a four-arm, single-blind, phase 2/3 study conducted in Ouelessebougou, Mali, from September 10 to November 19, 2019. The trial involved screening 1,044 individuals for eligibility and included clinical and parasitological examinations over a 49-day follow-up period. Participants aged 5-50 with asymptomatic Plasmodium falciparum malaria were administered different treatment combinations and assessed for infectivity at multiple time points.\\n\\n**Summary:**\\nThe NECTAR1 trial investigated the effectiveness of pyronaridine\\u2013artesunate (PA) and dihydroartemisinin\\u2013piperaquine (DP) with or without single low-dose primaquine in reducing gametocyte density and malaria transmission to mosquitoes in Mali. The primary objective was to assess changes in infectivity post-treatment in malaria-infected patients at 2 and 7 days. Secondary objectives included examining the duration of infectivity, safety profiles, and associations with gametocyte density and serological markers. With close monitoring and a strong ethical framework, the study contributes valuable insights toward optimizing malaria treatment strategies in elimination efforts.\", \"refusal\": null}, \"logprobs\": null, \"finish_reason\": \"stop\"}], \"usage\": {\"prompt_tokens\": 2255, \"completion_tokens\": 249, \"total_tokens\": 2504, \"prompt_tokens_details\": {\"cached_tokens\": 0}, \"completion_tokens_details\": {\"reasoning_tokens\": 0}}, \"system_fingerprint\": \"fp_e2bde53e6e\"}}, \"error\": null}\n",
      "{\"id\": \"batch_req_671026d93d04819092f693725e4de6bd\", \"custom_id\": \"request-39-clinepidb_ds_861ea66681\", \"response\": {\"status_code\": 200, \"request_id\": \"e55652171efc84a9336fc3449e894ccc\", \"body\": {\"id\": \"chatcmpl-AJ588XKcPslB3ERavWlft35Fk6zAt\", \"object\": \"chat.completion\", \"created\": 1729111316, \"model\": \"gpt-4o-mini-2024-07-18\", \"choices\": [{\"index\": 0, \"message\": {\"role\": \"assistant\", \"content\": \"**Methods and Experimental Conditions:**\\nThe NECTAR4 trial was a five-arm, single-blind, phase 2 randomized controlled trial conducted in Ouelessebougou and the Malaria Research and Training Centre in Bamako, Mali. Data were collected between October 17 and December 28, 2022, with participants followed for up to 28 days post-treatment. Blood samples were taken at multiple timepoints for parasitology, genetic, hematology, and biochemistry analyses. Membrane feeding assays were performed to assess mosquito infectivity and gametocyte enrichment utilizing magnetic-activated cell sorting.\\n\\n**Summary:**\\nThe NECTAR4 Randomized Controlled Trial aimed to assess the transmission-reducing efficacy of artesunate-amodiaquine (ASAQ) and artemether-lumefantrine (AL) with and without a single low dose of primaquine (PQ) among individuals with uncomplicated malaria caused by *Plasmodium falciparum*. The primary objective was to measure the reduction of gametocyte infectivity within individuals on day 2 post-treatment. Secondary objectives focused on mosquito infectivity parameters, safety, and biochemical assessment. Exploratory goals included evaluating genomic variations in both parasites and humans. This study is crucial in addressing malaria transmission dynamics and potential drug resistance.\", \"refusal\": null}, \"logprobs\": null, \"finish_reason\": \"stop\"}], \"usage\": {\"prompt_tokens\": 2549, \"completion_tokens\": 263, \"total_tokens\": 2812, \"prompt_tokens_details\": {\"cached_tokens\": 0}, \"completion_tokens_details\": {\"reasoning_tokens\": 0}}, \"system_fingerprint\": \"fp_e2bde53e6e\"}}, \"error\": null}\n",
      "{\"id\": \"batch_req_671026d94d9c8190b9e15dd4aba1857b\", \"custom_id\": \"request-40-clinepidb_ds_86424e44ce\", \"response\": {\"status_code\": 200, \"request_id\": \"842a1c60a2167687821f3ec2ba14b2bc\", \"body\": {\"id\": \"chatcmpl-AJ55DNPCxk7NNpYQ0HAzIBx45CTPq\", \"object\": \"chat.completion\", \"created\": 1729111135, \"model\": \"gpt-4o-mini-2024-07-18\", \"choices\": [{\"index\": 0, \"message\": {\"role\": \"assistant\", \"content\": \"**Methods and Experimental Conditions:**  \\nThe PERCH South Africa dataset was collected from August 2011 to February 2014 as part of a multi-center case-control study. Children aged 1-59 months with severe pneumonia were recruited from hospitals, while randomly selected community controls were matched by age. Data on clinical signs, demographic factors, and laboratory results were systematically collected and analyzed.\\n\\n**Summary:**  \\nThe PERCH South Africa Case Control dataset includes comprehensive epidemiological data focused on understanding the etiologies of pneumonia in children aged 1-59 months. This dataset is part of a broader effort spanning nine sites across seven countries, aimed at addressing gaps in knowledge regarding pneumonia pathogens and risk factors, particularly in light of the introduction of vaccines. It includes detailed information on cases of pneumonia, including over 30 pathogens tested through multiple specimens, clinical assessments, and demographic and environmental risk factors. The findings from the study are intended to guide treatment and prevention strategies for childhood pneumonia that reflect current socio-environmental contexts.\", \"refusal\": null}, \"logprobs\": null, \"finish_reason\": \"stop\"}], \"usage\": {\"prompt_tokens\": 2270, \"completion_tokens\": 202, \"total_tokens\": 2472, \"prompt_tokens_details\": {\"cached_tokens\": 0}, \"completion_tokens_details\": {\"reasoning_tokens\": 0}}, \"system_fingerprint\": \"fp_e2bde53e6e\"}}, \"error\": null}\n",
      "{\"id\": \"batch_req_671026d95c80819094640a61f360e834\", \"custom_id\": \"request-46-clinepidb_ds_a83d9defbb\", \"response\": {\"status_code\": 200, \"request_id\": \"f6018eb0f6f31b978859320ea3a480b8\", \"body\": {\"id\": \"chatcmpl-AJ55xQ2XtuYpfUZqTJmX1vkdoTlcC\", \"object\": \"chat.completion\", \"created\": 1729111181, \"model\": \"gpt-4o-mini-2024-07-18\", \"choices\": [{\"index\": 0, \"message\": {\"role\": \"assistant\", \"content\": \"**Methods and Experimental Conditions:**\\nThe study utilized high-resolution satellite images to randomly select households for a cross-sectional survey conducted between March 2012 and the present. Participants were required to provide consent, and data were collected through interviews and blood samples across three study sites in Zambia and Zimbabwe.\\n\\n**Summary:**\\nThe \\\"Southern Africa ICEMR Cross-sectional\\\" dataset focuses on malaria control challenges in Southern and Central Africa. It aims to identify barriers to malaria management, such as insecticide resistance and cross-border transmission, while investigating vector exposure and genetic diversity of malaria parasites. The dataset stems from extensive surveys conducted in Zambia (Choma and Nchelenge Districts) and Zimbabwe (Mutasa District), targeting various transmission settings. Data collection involved interviewing residents about malaria knowledge and behaviors, alongside medical sampling for parasite detection. This research is intended to inform tailored interventions and strategies in areas with moderate to high malaria transmission, assisting in both malaria elimination and sustained control efforts. Ethical approvals and collaborations with local health authorities ensure the study's integrity and relevance.\", \"refusal\": null}, \"logprobs\": null, \"finish_reason\": \"stop\"}], \"usage\": {\"prompt_tokens\": 2007, \"completion_tokens\": 208, \"total_tokens\": 2215, \"prompt_tokens_details\": {\"cached_tokens\": 0}, \"completion_tokens_details\": {\"reasoning_tokens\": 0}}, \"system_fingerprint\": \"fp_e2bde53e6e\"}}, \"error\": null}\n",
      "{\"id\": \"batch_req_671026d96b308190818fd31835fc8c2f\", \"custom_id\": \"request-49-clinepidb_ds_c3035a108d\", \"response\": {\"status_code\": 200, \"request_id\": \"d384da4a28760646c4d72ec52f4f469b\", \"body\": {\"id\": \"chatcmpl-AJ564Cz4xKiNbF8mH7eh8mc0m3Mh3\", \"object\": \"chat.completion\", \"created\": 1729111188, \"model\": \"gpt-4o-mini-2024-07-18\", \"choices\": [{\"index\": 0, \"message\": {\"role\": \"assistant\", \"content\": \"**Methods and Experimental Conditions:**\\nThe PERCH Mali Case Control study conducted data collection between August 2011 and February 2014. Children aged 1-59 months hospitalized with WHO-defined severe pneumonia were designated as cases, while age-matched community controls were selected. Multiple specimens from both groups were tested for over 30 pathogens, along with a comprehensive collection of clinical and demographic data.\\n\\n**Summary:**\\nThe PERCH Mali Case Control dataset encompasses epidemiological data derived from a multi-center study exploring the etiology of childhood pneumonia. Conducted in Bamako, Mali, it included children aged 1-59 months from August 2011 to February 2014, with severe pneumonia cases recruited from hospitals and matched controls from the community. Data were assembled from diverse specimens and clinical assessments, focusing on over 30 pathogens, risk factors, and treatment outcomes. A crucial aim of this research is to generate updated insights into pneumonia causes, given the advancements in vaccines and the differing host and environmental conditions compared to past decades. This dataset contributes to the larger PERCH initiative, which spans multiple countries and offers separate datasets for a comprehensive analysis of pediatric respiratory diseases.\", \"refusal\": null}, \"logprobs\": null, \"finish_reason\": \"stop\"}], \"usage\": {\"prompt_tokens\": 2271, \"completion_tokens\": 233, \"total_tokens\": 2504, \"prompt_tokens_details\": {\"cached_tokens\": 0}, \"completion_tokens_details\": {\"reasoning_tokens\": 0}}, \"system_fingerprint\": \"fp_e2bde53e6e\"}}, \"error\": null}\n",
      "{\"id\": \"batch_req_671026d97bd081909cef44085b916b9f\", \"custom_id\": \"request-53-clinepidb_ds_d00683a135\", \"response\": {\"status_code\": 200, \"request_id\": \"a51c4056a9afba7f86862f087064d8a0\", \"body\": {\"id\": \"chatcmpl-AJ55Alm6a7zKpjdrrWTUlsdszRhne\", \"object\": \"chat.completion\", \"created\": 1729111132, \"model\": \"gpt-4o-mini-2024-07-18\", \"choices\": [{\"index\": 0, \"message\": {\"role\": \"assistant\", \"content\": \"**Methods and Experimental Conditions:**\\nThe NECTAR3 data was collected through a phase 2, four-arm, single-blind randomized controlled trial conducted in Ouelessebougou, Mali. From October 13 to December 16, 2021, 1,290 participants were screened for eligibility, focusing on individuals aged 10-50 years with confirmed malaria infection. Participants received clinical and parasitological assessments on specified days following treatment, complemented by mosquito infectivity assessments through controlled feeding.\\n\\n**Summary:**\\nNECTAR3 is a randomized controlled trial designed to evaluate the efficacy of artemether-lumefantrine (AL) combined with or without primaquine (PQ) and sulfadoxine-pyrimethamine (SPAQ) or amodiaquine (SPAQ-TQ) to reduce the transmission of *Plasmodium falciparum*. The study focuses on measuring gametocyte density and infectivity to mosquitoes at various time points post-treatment. The primary objective assesses the reduction of gametocyte infectivity by comparing pre-treatment and post-treatment metrics. Secondary objectives include various mosquito infectivity and gametocyte parameter assessments, while exploratory objectives investigate genetic variations and the carbon footprint of trial components. This trial offers valuable insights into malaria transmission dynamics and treatment efficacy in children and adults without G6PD deficiency.\", \"refusal\": null}, \"logprobs\": null, \"finish_reason\": \"stop\"}], \"usage\": {\"prompt_tokens\": 2422, \"completion_tokens\": 269, \"total_tokens\": 2691, \"prompt_tokens_details\": {\"cached_tokens\": 0}, \"completion_tokens_details\": {\"reasoning_tokens\": 0}}, \"system_fingerprint\": \"fp_e2bde53e6e\"}}, \"error\": null}\n",
      "{\"id\": \"batch_req_671026d98f7c8190ad276dd54cf2c8e5\", \"custom_id\": \"request-54-clinepidb_ds_d40f5f723f\", \"response\": {\"status_code\": 200, \"request_id\": \"e6fbfe06ecdc6b0f5169e6e1b2421bcd\", \"body\": {\"id\": \"chatcmpl-AJ55w50Z9UwvhkrSJuHx9mCZuqM6n\", \"object\": \"chat.completion\", \"created\": 1729111180, \"model\": \"gpt-4o-mini-2024-07-18\", \"choices\": [{\"index\": 0, \"message\": {\"role\": \"assistant\", \"content\": \"Methods and Experimental Conditions:\\nData were collected between August 2011 and February 2014 from children aged 1-59 months in Lusaka, Zambia, through a case-control study design. Cases were defined as children hospitalized with severe pneumonia, while controls were randomly selected from the community. Multiple specimens were tested for over 30 pathogens, along with comprehensive data on clinical signs, medical history, and risk factors.\\n\\nSummary:\\nThe \\\"PERCH Zambia Case Control\\\" dataset is part of the Pneumonia Etiology Research for Child Health (PERCH) study, which explores the causes of pneumonia in children across multiple global sites, including India, Africa, and Asia. This dataset specifically includes epidemiological data collected from Lusaka, Zambia, highlighting the burden of severe pneumonia in children aged 1-59 months. The study aims to determine the etiology of pneumonia by analyzing specimens from both cases and control subjects while assessing various risk factors. By integrating diverse data sources, the study seeks to provide a modern evidence base to inform treatment and prevention strategies against childhood pneumonia.\", \"refusal\": null}, \"logprobs\": null, \"finish_reason\": \"stop\"}], \"usage\": {\"prompt_tokens\": 2266, \"completion_tokens\": 213, \"total_tokens\": 2479, \"prompt_tokens_details\": {\"cached_tokens\": 0}, \"completion_tokens_details\": {\"reasoning_tokens\": 0}}, \"system_fingerprint\": \"fp_e2bde53e6e\"}}, \"error\": null}\n",
      "{\"id\": \"batch_req_671026d9a190819080642d5591e5eb44\", \"custom_id\": \"request-58-clinepidb_ds_e4ba48125a\", \"response\": {\"status_code\": 200, \"request_id\": \"2903ce14fa13ef448c356a5a85965341\", \"body\": {\"id\": \"chatcmpl-AJ55YQ83df5KXZ60gZPdsCNyiMOBT\", \"object\": \"chat.completion\", \"created\": 1729111156, \"model\": \"gpt-4o-mini-2024-07-18\", \"choices\": [{\"index\": 0, \"message\": {\"role\": \"assistant\", \"content\": \"**Methods and Experimental Conditions:**\\nThe PERCH study utilized a case-control design, collecting data from children aged 1-59 months diagnosed with severe pneumonia in Matlab and Dhaka, Bangladesh, between August 2011 and February 2014. Cases were hospitalized children, while controls were randomly selected from the community, matched by age. Multiple specimens were tested for over 30 pathogens, and various clinical, demographic, and environmental data were recorded.\\n\\n**Summary:**\\nThe \\\"PERCH Bangladesh Case Control\\\" dataset contains important epidemiological data from the Pneumonia Etiology Research for Child Health (PERCH) study, which aimed to determine the causes of pneumonia in children and assess relevant risk factors. Conducted in Matlab and Dhaka, Bangladesh, the study involved children aged 1-59 months, hospitalized with severe pneumonia, and matched community controls. Data capture included clinical signs, medical histories, lab results, and more, contributing to a larger understanding of pneumonia's etiologies influenced by modern vaccines and environmental factors. This dataset is part of a broader multi-country effort to provide updated evidence for pneumonia treatment and prevention strategies, with related datasets available separately for other participating countries.\", \"refusal\": null}, \"logprobs\": null, \"finish_reason\": \"stop\"}], \"usage\": {\"prompt_tokens\": 2280, \"completion_tokens\": 236, \"total_tokens\": 2516, \"prompt_tokens_details\": {\"cached_tokens\": 0}, \"completion_tokens_details\": {\"reasoning_tokens\": 0}}, \"system_fingerprint\": \"fp_e2bde53e6e\"}}, \"error\": null}\n",
      "{\"id\": \"batch_req_671026d9af948190b3a02c272f38fade\", \"custom_id\": \"request-62-clinepidb_ds_f71667fc7f\", \"response\": {\"status_code\": 200, \"request_id\": \"52712992b81269bba1f4ad0af7446458\", \"body\": {\"id\": \"chatcmpl-AJ55en3HXqqUqiBVU40xblVkWy81B\", \"object\": \"chat.completion\", \"created\": 1729111162, \"model\": \"gpt-4o-mini-2024-07-18\", \"choices\": [{\"index\": 0, \"message\": {\"role\": \"assistant\", \"content\": \"**Methods and Experimental Conditions:**\\nThe study employed a randomized controlled trial design across multiple sites in Sri Lanka, Mali, and India. It included patients aged 14-65 with grades 1-6 lymphedema, focusing on the effects of a six-week doxycycline regimen alongside standard limb hygiene practices. Data collection involved various clinical measurements and participant surveys conducted at multiple time points over 24 months.\\n\\n**Summary:**\\nThe LEDoxy Randomized Controlled Trial aims to assess the efficacy of a six-week doxycycline treatment in individuals with lymphedema stages 1-3, regardless of active filarial infections. The trial is conducted in Sri Lanka, Mali, and India and seeks to confirm previous findings that doxycycline can reduce lymphedema severity and acute attacks while monitoring tolerability and safety. Participants will be randomized into placebo and doxycycline arms, with measurements of limb circumference, volume, and skin thickness taken at numerous intervals. This research holds potential for enhancing lymphatic filariasis morbidity management programs through the integration of doxycycline as a novel treatment approach.\", \"refusal\": null}, \"logprobs\": null, \"finish_reason\": \"stop\"}], \"usage\": {\"prompt_tokens\": 2669, \"completion_tokens\": 219, \"total_tokens\": 2888, \"prompt_tokens_details\": {\"cached_tokens\": 0}, \"completion_tokens_details\": {\"reasoning_tokens\": 0}}, \"system_fingerprint\": \"fp_e2bde53e6e\"}}, \"error\": null}\n",
      "\n"
     ]
    }
   ],
   "source": [
    "full_response = ''\n",
    "for out_file in out_files:\n",
    "    file_response = client.files.content(out_file)\n",
    "    print(file_response.text)\n",
    "    full_response += file_response.text"
   ]
  },
  {
   "cell_type": "code",
   "execution_count": 12,
   "metadata": {},
   "outputs": [
    {
     "name": "stdout",
     "output_type": "stream",
     "text": [
      "Number of outputs: 15\n"
     ]
    }
   ],
   "source": [
    "file_lines = full_response.split('\\n')[:-1]\n",
    "print('Number of outputs:', len(file_lines))"
   ]
  },
  {
   "cell_type": "code",
   "execution_count": 13,
   "metadata": {},
   "outputs": [],
   "source": [
    "json_lines = [json.loads(line) for line in file_lines]"
   ]
  },
  {
   "cell_type": "code",
   "execution_count": 27,
   "metadata": {},
   "outputs": [],
   "source": [
    "responses = []\n",
    "\n",
    "for line in json_lines:\n",
    "    model_out = line['response']['body']['choices'][0]['message']['content']\n",
    "    _id = line['custom_id'].split('-')[-1]\n",
    "    responses.append((_id, model_out))\n"
   ]
  },
  {
   "cell_type": "code",
   "execution_count": 28,
   "metadata": {},
   "outputs": [
    {
     "data": {
      "text/plain": [
       "[('clinepidb_ds_03d6476c6d',\n",
       "  '**Methods and Experimental Conditions:**  \\nThe NECTAR2 trial was a four-arm, single-blind, phase 2 randomized controlled trial conducted between October 29 and December 23, 2020, in Ouelessebougou and the Malaria Research and Training Centre in Bamako, Mali. The study involved a thorough eligibility screening of 1,091 individuals, with data collected on clinical and parasitological parameters at multiple follow-up points up to 28 days post-treatment.\\n\\n**Summary:**  \\nThe NECTAR2 Randomized Controlled Trial investigated the efficacy and safety of single low doses of tafenoquine combined with dihydroartemisinin-piperaquine to reduce gametocyte density and subsequent transmission of *Plasmodium falciparum* in a cohort of children and adults in Mali. The primary objective focused on assessing changes in infectivity 48 hours after treatment, while secondary objectives included evaluating safety, gametocyte carriage, and infectivity at various time points. The trial combined robust clinical examinations with biochemical assessments, employing locally reared Anopheles mosquitoes to evaluate transmission potential. Ethical oversight was obtained from relevant committees to ensure compliance with research standards.'),\n",
       " ('clinepidb_ds_17191d35b9',\n",
       "  'Methods and Experimental Conditions:\\nThe PRISM2 ICEMR Border Cohort is a dynamic prospective cohort study conducted in Tororo and Busia Districts, Uganda, from August 2020 to September 2023. Eligibility criteria included households with at least two members under five years of age, and participants underwent regular medical evaluations, blood collections, and mosquito trapping every two weeks to assess malaria metrics and entomological factors.\\n\\nSummary:\\nThe PRISM2 ICEMR Border Cohort aims to investigate the resurgence of malaria in Tororo District, Uganda, following previous interventions with long-lasting insecticidal nets (LLINs) and indoor residual spraying (IRS). The study enrolled 667 residents and compared malaria incidence and prevalence between September 2020 and September 2023. Factors such as the impact of the shift back to organophosphate IRS (Actellic) in March 2023 were also evaluated. Initial data highlighted significant decreases in malaria metrics from prior interventions, but a resurgence was noted in 2020. This cohort study sheds light on the complex dynamics of malaria transmission and vector control efficacy in high-burden areas.'),\n",
       " ('clinepidb_ds_24e941b30f',\n",
       "  'Methods and Experimental Conditions:  \\nThe PERCH Thailand Case Control dataset was created through a prospective, multi-center, case-control study conducted between August 2011 and February 2014. It involved children aged 1-59 months hospitalized with severe pneumonia, with controls randomly selected from the community to match the age distribution. Multiple specimens were collected from each participant to test for various pathogens.\\n\\nSummary:  \\nThe PERCH Thailand Case Control dataset encompasses epidemiological data collected from two sites in Thailand—Nakhon Phanom and Sa Kaeo—as part of a broader study involving nine sites across seven countries. It focuses on understanding the etiologies of pneumonia in children, particularly in light of the changing landscape of vaccinations and environmental factors. The dataset features data on clinical symptoms, medical history, and various risk factors while integrating results from multiple specimens to ascertain pneumonia causation. The study serves as a critical resource for future treatment and prevention strategies for childhood pneumonia and is a vital addition to the current epidemiological knowledge.'),\n",
       " ('clinepidb_ds_2cf32ab2f0',\n",
       "  'Methods and Experimental Conditions:\\nData for the PERCH Kenya Case Control study were collected between August 2011 and February 2014 in Kilifi, Kenya. The study employed a case-control design, with cases defined as children aged 1-59 months hospitalized with severe or very severe pneumonia, and controls randomly selected from the community. Multiple specimens were tested for over 30 pathogens, and comprehensive data on clinical signs, treatment, and risk factors were collected.\\n\\nSummary:\\nThe \"PERCH Kenya Case Control\" dataset features epidemiological data from a multi-center study investigating pneumonia in children aged 1-59 months. Conducted across various sites in Africa and Asia, this particular dataset focuses on children hospitalized with severe pneumonia in Kilifi, Kenya. It aims to identify pneumonia etiology, assess the attribution of pathogens, and evaluate associated risk factors. Data were meticulously gathered over a multi-year period, utilizing a case-control framework to ensure the inclusion of both clinical and demographic information, making it a vital resource for understanding childhood pneumonia and its causes.'),\n",
       " ('clinepidb_ds_59bedf2966',\n",
       "  'Methods and Experimental Conditions:\\nThe data was collected from August 2011 to February 2014 at Basse, The Gambia, using a case-control study design. Cases included children aged 1-59 months with WHO-defined severe pneumonia, while controls were randomly selected from the community to match the age distribution of cases. Multiple specimens were collected and tested for over 30 pathogens, alongside clinical, demographic, and environmental data.\\n\\nSummary:\\nThe \"PERCH The Gambia Case Control\" dataset provides epidemiological data from Basse, The Gambia, as part of a multi-center study designed to elucidate the etiologies of pneumonia in children aged 1-59 months. This dataset, collected over two and a half years, focuses on cases of severe pneumonia, comparing them to age-matched controls drawn from the community. The objectives of the study include identifying the causative pathogens responsible for pediatric pneumonia and assessing associated risk factors. The dataset is part of a larger initiative involving sites across seven countries, with additional datasets available for specific countries. This research provides valuable insights necessary for informing treatment and preventive strategies against pneumonia.'),\n",
       " ('clinepidb_ds_624583e93e',\n",
       "  '**Methods and Experimental Conditions:**  \\nThe LLINEUP2 trial employed a cluster randomized controlled design across 64 clusters in 32 districts of Uganda. Data collection occurred from November 2021 to March 2023, with community surveys conducted at 12 and 24 months post LLIN distribution. Households with children aged 2-10 years were randomly sampled within defined catchment areas of Malaria Reference Centers.\\n\\n**Summary:**  \\nThe LLINEUP2 Cluster Randomized Trial aims to evaluate the efficacy of long-lasting insecticidal nets (LLINs) treated with a pyrethroid plus pyriproxyfen (PPF) against those treated with pyrethroid plus piperonyl butoxide (PBO) in reducing malaria incidence in Uganda. This pragmatic trial was embedded in the 2020-2021 nationwide LLIN distribution campaign, with the primary objective to compare malaria incidence rates between intervention and control clusters. In addition to primary outcomes, secondary objectives include assessing the impact on parasite prevalence, anemia, vector density, durability, and cost-effectiveness of the two LLIN types. The trial also seeks to understand the implications of COVID-19 on malaria management and incidence across the region, providing insights for future public health strategies.'),\n",
       " ('clinepidb_ds_7b47eb7469',\n",
       "  '**Methods and Experimental Conditions:**\\nThe NECTAR1 Randomized Controlled Trial was a four-arm, single-blind, phase 2/3 study conducted in Ouelessebougou, Mali, from September 10 to November 19, 2019. The trial involved screening 1,044 individuals for eligibility and included clinical and parasitological examinations over a 49-day follow-up period. Participants aged 5-50 with asymptomatic Plasmodium falciparum malaria were administered different treatment combinations and assessed for infectivity at multiple time points.\\n\\n**Summary:**\\nThe NECTAR1 trial investigated the effectiveness of pyronaridine–artesunate (PA) and dihydroartemisinin–piperaquine (DP) with or without single low-dose primaquine in reducing gametocyte density and malaria transmission to mosquitoes in Mali. The primary objective was to assess changes in infectivity post-treatment in malaria-infected patients at 2 and 7 days. Secondary objectives included examining the duration of infectivity, safety profiles, and associations with gametocyte density and serological markers. With close monitoring and a strong ethical framework, the study contributes valuable insights toward optimizing malaria treatment strategies in elimination efforts.'),\n",
       " ('clinepidb_ds_861ea66681',\n",
       "  '**Methods and Experimental Conditions:**\\nThe NECTAR4 trial was a five-arm, single-blind, phase 2 randomized controlled trial conducted in Ouelessebougou and the Malaria Research and Training Centre in Bamako, Mali. Data were collected between October 17 and December 28, 2022, with participants followed for up to 28 days post-treatment. Blood samples were taken at multiple timepoints for parasitology, genetic, hematology, and biochemistry analyses. Membrane feeding assays were performed to assess mosquito infectivity and gametocyte enrichment utilizing magnetic-activated cell sorting.\\n\\n**Summary:**\\nThe NECTAR4 Randomized Controlled Trial aimed to assess the transmission-reducing efficacy of artesunate-amodiaquine (ASAQ) and artemether-lumefantrine (AL) with and without a single low dose of primaquine (PQ) among individuals with uncomplicated malaria caused by *Plasmodium falciparum*. The primary objective was to measure the reduction of gametocyte infectivity within individuals on day 2 post-treatment. Secondary objectives focused on mosquito infectivity parameters, safety, and biochemical assessment. Exploratory goals included evaluating genomic variations in both parasites and humans. This study is crucial in addressing malaria transmission dynamics and potential drug resistance.'),\n",
       " ('clinepidb_ds_86424e44ce',\n",
       "  '**Methods and Experimental Conditions:**  \\nThe PERCH South Africa dataset was collected from August 2011 to February 2014 as part of a multi-center case-control study. Children aged 1-59 months with severe pneumonia were recruited from hospitals, while randomly selected community controls were matched by age. Data on clinical signs, demographic factors, and laboratory results were systematically collected and analyzed.\\n\\n**Summary:**  \\nThe PERCH South Africa Case Control dataset includes comprehensive epidemiological data focused on understanding the etiologies of pneumonia in children aged 1-59 months. This dataset is part of a broader effort spanning nine sites across seven countries, aimed at addressing gaps in knowledge regarding pneumonia pathogens and risk factors, particularly in light of the introduction of vaccines. It includes detailed information on cases of pneumonia, including over 30 pathogens tested through multiple specimens, clinical assessments, and demographic and environmental risk factors. The findings from the study are intended to guide treatment and prevention strategies for childhood pneumonia that reflect current socio-environmental contexts.'),\n",
       " ('clinepidb_ds_a83d9defbb',\n",
       "  '**Methods and Experimental Conditions:**\\nThe study utilized high-resolution satellite images to randomly select households for a cross-sectional survey conducted between March 2012 and the present. Participants were required to provide consent, and data were collected through interviews and blood samples across three study sites in Zambia and Zimbabwe.\\n\\n**Summary:**\\nThe \"Southern Africa ICEMR Cross-sectional\" dataset focuses on malaria control challenges in Southern and Central Africa. It aims to identify barriers to malaria management, such as insecticide resistance and cross-border transmission, while investigating vector exposure and genetic diversity of malaria parasites. The dataset stems from extensive surveys conducted in Zambia (Choma and Nchelenge Districts) and Zimbabwe (Mutasa District), targeting various transmission settings. Data collection involved interviewing residents about malaria knowledge and behaviors, alongside medical sampling for parasite detection. This research is intended to inform tailored interventions and strategies in areas with moderate to high malaria transmission, assisting in both malaria elimination and sustained control efforts. Ethical approvals and collaborations with local health authorities ensure the study\\'s integrity and relevance.'),\n",
       " ('clinepidb_ds_c3035a108d',\n",
       "  '**Methods and Experimental Conditions:**\\nThe PERCH Mali Case Control study conducted data collection between August 2011 and February 2014. Children aged 1-59 months hospitalized with WHO-defined severe pneumonia were designated as cases, while age-matched community controls were selected. Multiple specimens from both groups were tested for over 30 pathogens, along with a comprehensive collection of clinical and demographic data.\\n\\n**Summary:**\\nThe PERCH Mali Case Control dataset encompasses epidemiological data derived from a multi-center study exploring the etiology of childhood pneumonia. Conducted in Bamako, Mali, it included children aged 1-59 months from August 2011 to February 2014, with severe pneumonia cases recruited from hospitals and matched controls from the community. Data were assembled from diverse specimens and clinical assessments, focusing on over 30 pathogens, risk factors, and treatment outcomes. A crucial aim of this research is to generate updated insights into pneumonia causes, given the advancements in vaccines and the differing host and environmental conditions compared to past decades. This dataset contributes to the larger PERCH initiative, which spans multiple countries and offers separate datasets for a comprehensive analysis of pediatric respiratory diseases.'),\n",
       " ('clinepidb_ds_d00683a135',\n",
       "  '**Methods and Experimental Conditions:**\\nThe NECTAR3 data was collected through a phase 2, four-arm, single-blind randomized controlled trial conducted in Ouelessebougou, Mali. From October 13 to December 16, 2021, 1,290 participants were screened for eligibility, focusing on individuals aged 10-50 years with confirmed malaria infection. Participants received clinical and parasitological assessments on specified days following treatment, complemented by mosquito infectivity assessments through controlled feeding.\\n\\n**Summary:**\\nNECTAR3 is a randomized controlled trial designed to evaluate the efficacy of artemether-lumefantrine (AL) combined with or without primaquine (PQ) and sulfadoxine-pyrimethamine (SPAQ) or amodiaquine (SPAQ-TQ) to reduce the transmission of *Plasmodium falciparum*. The study focuses on measuring gametocyte density and infectivity to mosquitoes at various time points post-treatment. The primary objective assesses the reduction of gametocyte infectivity by comparing pre-treatment and post-treatment metrics. Secondary objectives include various mosquito infectivity and gametocyte parameter assessments, while exploratory objectives investigate genetic variations and the carbon footprint of trial components. This trial offers valuable insights into malaria transmission dynamics and treatment efficacy in children and adults without G6PD deficiency.'),\n",
       " ('clinepidb_ds_d40f5f723f',\n",
       "  'Methods and Experimental Conditions:\\nData were collected between August 2011 and February 2014 from children aged 1-59 months in Lusaka, Zambia, through a case-control study design. Cases were defined as children hospitalized with severe pneumonia, while controls were randomly selected from the community. Multiple specimens were tested for over 30 pathogens, along with comprehensive data on clinical signs, medical history, and risk factors.\\n\\nSummary:\\nThe \"PERCH Zambia Case Control\" dataset is part of the Pneumonia Etiology Research for Child Health (PERCH) study, which explores the causes of pneumonia in children across multiple global sites, including India, Africa, and Asia. This dataset specifically includes epidemiological data collected from Lusaka, Zambia, highlighting the burden of severe pneumonia in children aged 1-59 months. The study aims to determine the etiology of pneumonia by analyzing specimens from both cases and control subjects while assessing various risk factors. By integrating diverse data sources, the study seeks to provide a modern evidence base to inform treatment and prevention strategies against childhood pneumonia.'),\n",
       " ('clinepidb_ds_e4ba48125a',\n",
       "  '**Methods and Experimental Conditions:**\\nThe PERCH study utilized a case-control design, collecting data from children aged 1-59 months diagnosed with severe pneumonia in Matlab and Dhaka, Bangladesh, between August 2011 and February 2014. Cases were hospitalized children, while controls were randomly selected from the community, matched by age. Multiple specimens were tested for over 30 pathogens, and various clinical, demographic, and environmental data were recorded.\\n\\n**Summary:**\\nThe \"PERCH Bangladesh Case Control\" dataset contains important epidemiological data from the Pneumonia Etiology Research for Child Health (PERCH) study, which aimed to determine the causes of pneumonia in children and assess relevant risk factors. Conducted in Matlab and Dhaka, Bangladesh, the study involved children aged 1-59 months, hospitalized with severe pneumonia, and matched community controls. Data capture included clinical signs, medical histories, lab results, and more, contributing to a larger understanding of pneumonia\\'s etiologies influenced by modern vaccines and environmental factors. This dataset is part of a broader multi-country effort to provide updated evidence for pneumonia treatment and prevention strategies, with related datasets available separately for other participating countries.'),\n",
       " ('clinepidb_ds_f71667fc7f',\n",
       "  '**Methods and Experimental Conditions:**\\nThe study employed a randomized controlled trial design across multiple sites in Sri Lanka, Mali, and India. It included patients aged 14-65 with grades 1-6 lymphedema, focusing on the effects of a six-week doxycycline regimen alongside standard limb hygiene practices. Data collection involved various clinical measurements and participant surveys conducted at multiple time points over 24 months.\\n\\n**Summary:**\\nThe LEDoxy Randomized Controlled Trial aims to assess the efficacy of a six-week doxycycline treatment in individuals with lymphedema stages 1-3, regardless of active filarial infections. The trial is conducted in Sri Lanka, Mali, and India and seeks to confirm previous findings that doxycycline can reduce lymphedema severity and acute attacks while monitoring tolerability and safety. Participants will be randomized into placebo and doxycycline arms, with measurements of limb circumference, volume, and skin thickness taken at numerous intervals. This research holds potential for enhancing lymphatic filariasis morbidity management programs through the integration of doxycycline as a novel treatment approach.')]"
      ]
     },
     "execution_count": 28,
     "metadata": {},
     "output_type": "execute_result"
    }
   ],
   "source": [
    "responses"
   ]
  },
  {
   "cell_type": "code",
   "execution_count": 37,
   "metadata": {},
   "outputs": [],
   "source": [
    "df = pd.DataFrame(responses, columns=['_id', 'Summary'])"
   ]
  },
  {
   "cell_type": "code",
   "execution_count": 38,
   "metadata": {},
   "outputs": [],
   "source": [
    "df.to_csv('clinepidb_missing_summaries.csv', index=False)"
   ]
  },
  {
   "cell_type": "code",
   "execution_count": 35,
   "metadata": {},
   "outputs": [],
   "source": [
    "df = pd.read_csv('clinepidb_missing_summaries.csv')"
   ]
  },
  {
   "cell_type": "code",
   "execution_count": 41,
   "metadata": {},
   "outputs": [],
   "source": [
    "# merged_df = df.merge(data[['Name', 'Description', '_id']], on='_id', how='left')\n",
    "merged_df = df.merge(new_ids[['Name', 'Description', '_id']], on='_id', how='left')"
   ]
  },
  {
   "cell_type": "code",
   "execution_count": 42,
   "metadata": {},
   "outputs": [],
   "source": [
    "merged_df.to_csv('clinepidb_missing_summaries.csv', index=False)"
   ]
  },
  {
   "cell_type": "code",
   "execution_count": 43,
   "metadata": {},
   "outputs": [
    {
     "data": {
      "text/plain": [
       "'PRISM2 ICEMR Border Cohort'"
      ]
     },
     "execution_count": 43,
     "metadata": {},
     "output_type": "execute_result"
    }
   ],
   "source": [
    "merged_df.iloc[1]['Name']"
   ]
  },
  {
   "cell_type": "code",
   "execution_count": 44,
   "metadata": {},
   "outputs": [
    {
     "data": {
      "text/plain": [
       "'<![CDATA[\\n      <b>Related studies:</b> \\n      <blockquote>\\n      <ul>\\n      <li><a target=\"_blank\" href=\"https://clinepidb.org/ce/app/workspace/analyses/DS_51b40fe2e2/new\">PRISM2 ICEMR Cohort</a></li>\\n      <li><a target=_blank href=\"https://clinepidb.org/ce/app/workspace/analyses/DS_0ad509829e/new\">PRISM ICEMR Cohort</a></li>\\n      </ul>\\n      </blockquote>\\n      <p />\\n      <b>Background:</b> \\n      <p />\\n      Uganda is emblematic of other high burden African countries, where progress in reducing the burden of malaria has been slow and difficult to sustain despite the scale up of proven control\\n      interventions. Uganda was the first country to implement universal distribution of free long lasting insecticidal nets (LLINs) starting in 2014, with repeated campaigns every 3-4 years. Uganda \\n      also has one of the largest indoor residual spraying of insecticide (IRS) programs, focusing on selected high transmission districts using different formulations of insecticides rotated every few years. \\n      <p />\\n      The success of this intensive approach to vector control has been well documented in Tororo District, a historically high transmission area of southeastern Uganda. IRS was first implemented in Tororo \\n      District in December 2014, initially using a carbamate (Bendiocarb), then switching to an organophosphate (Actellic) in 2016. Comparing key malaria indicators measured from 2011-2014 (prior to IRS) \\n      with indicators in 2017-2019 (after two rounds of universal LLIN distribution and 5 years of sustained IRS), a 500-fold decrease in malaria transmission intensity, a 60-fold decrease in \\n      the incidence of symptomatic malaria, and a 5-fold decrease in parasite prevalence among children 0.5 to 10 years of age were documented. In addition, over this time frame there was a marked shift in the predominant \\n      vector species from <i>An. gambiae s.s.</i> to <i>An. arabiensis</i>. \\n      <p />\\n      However, a marked resurgence of malaria cases in 2020 was documented using health facility-based data from 5 districts of Uganda (including Tororo), reaching pre-IRS levels within 1-2 years. \\n      This coincided with a change to clothianidin-based formulations of IRS (Fludora Fusion/SumiShield) in 2019-2020.\\n      <p />\\n      To quantify the magnitude of the resurgence, investigate causes, and evaluate the impact of a shift back to IRS with Actellic in 2023, the PRISM Border\\n      Cohort study assessed changes in malaria metrics in regions within and near Tororo District.\\n      <p />\\n      <b>Objectives:</b> To better quantify the magnitude of the malaria resurgence in Tororo and to investigate potential causes, the PRISM Border Cohort compared temporal changes in malaria incidence, \\n      prevalence, and entomological measures between September 2020 and September 2023 in a cohort of 667 residents living in two areas within Tororo District and in neighboring Busia District, \\n      where IRS has never been implemented. In addition, the study assessed changes after the formulation of IRS in Tororo District was shifted back to an organophosphate (Actellic) in March 2023. \\n      <p />\\n      <b>Methodology:</b>\\n      <blockquote>\\n      <b>Geographic Location/Study Sites:</b> Tororo and Busia Districts, Uganda\\n      <p />\\n      <img width=\"800px\" src=\"/documents/icemr_prism2_border_cohort/MAP_cross sectional survey households.png\" />\\n      <p />\\n      <b>Dates of Data Collection:</b> August 2020 – September 2023\\n      <p />\\n      <b>Study Design:</b> Prospective cohort study\\n      <p />\\n      <b>Eligibility Criteria:</b> \\n      <p />\\n      Households were randomly selected from an enumeration list for screening and enrolled if they met the following criteria: \\n      <blockquote>\\n      <ul>\\n        <li>At least two members aged 5 years or younger reside in the household</li>\\n        <li>No more than 7 permanent residents currently reside in the household</li>\\n        <li>The household has no plans to move from the study catchment area in the next 2 years</li>\\n        <li>The household expressed willingness to participate in entomological surveillance studies</li>\\n      </ul>\\n      </blockquote>\\n      <p />\\n      All permanent residents from enrolled households were screened and enrolled in the cohort study if they met the following criteria: \\n      <blockquote>\\n      <ul>\\n        <li>The selected household was considered their primary residence</li>\\n        <li>The resident agreed to come to the study clinic for any febrile illness and scheduled routine visits</li>\\n        <li>The resident agreed to avoid antimalarial medications outside the study</li>\\n        <li>The resident (for parent or guardian in the case of children) provided written informed consent</li>\\n      </ul>\\n      </blockquote>\\n      <p />\\n      <b>Data Collection:</b> \\n      At enrollment, a baseline evaluation was conducted including a detailed medical history, focused physical examination, and blood collection by venipuncture for hemoglobin measurement, \\n      thick blood smear, and storage for future molecular studies. A household survey was conducted to collect information on characteristics of the household and LLIN ownership; all household \\n      members were provided access to an LLIN after the survey. A wealth index was generated for each household using principal components analysis based on common assets and categorized into tertiles. \\n      <p />\\n      The cohort was dynamic, such that over the course of the study any permanent residents that joined a household were screened for enrollment. Cohort study participants were encouraged to come to \\n      a dedicated study clinic open 7 days per week for all their medical care. \\n      <p />\\n      Routine visits were conducted every 4 weeks and included a standardized evaluation and collection of blood by finger prick/heel stick (if < 6 months of age) or venipuncture (if aged 6 months and older) \\n      for thick blood smear, hemoglobin measurement (every 12 weeks), and storage for future molecular studies. Study participants who missed their scheduled routine visits were visited at home and requested \\n      to come to the study clinic as soon as possible.\\n      <p />\\n      Study participants found to have a fever (tympanic temperature > 38.0˚C) or history of fever in the previous 24 hours at the time of any clinic visit had a thick blood smear read immediately. \\n      If the thick blood smear was positive by light microscopy, the patient was diagnosed with malaria and managed according to national guidelines. \\n      <p />\\n      All enrolled participants were followed through September 30th, 2023 unless they were prematurely withdrawn. Participants were withdrawn if they: 1) moved out of the cohort household; \\n      2) were unable to be located for > 4 months; 3) withdrew informed consent; or 4) were unable to comply with the study schedule and procedures. \\n      <p />\\n      Mosquito collections were conducted every 2 weeks in all rooms of study houses where cohort study participants slept using CDC light traps positioned 1 m above the floor. \\n      Traps were set at 7 PM and contents collected at 7 AM the following morning. Entomology technicians assessed whether cohort study participants reported sleeping under an LLIN each morning \\n      when trap contents were collected.\\n      <p />\\n      <b>Study Documentation:</b> \\n      <p />\\n      <blockquote>\\n      <ul>\\n      <li><b>Study protocol:</b>\\n        <ul>\\n        <li><a target=_blank href=\"/documents/icemr_prism2_border_cohort/PRISM Border Cohort Study Protocol version_10.pdf\">PRISM2 Border Cohort Study Protocol</a></li>\\n        </ul>\\n      </li>\\n      <li><b>Data collection forms:</b> (used to collect raw data)\\n        <ul>\\n        <li><a target=_blank href=\"/documents/icemr_prism2_border_cohort/Household Screening CRF_FINAL.pdf\">PRISM2 Border Cohort Household Screening CRF</a></li>\\n        <li><a target=_blank href=\"/documents/icemr_prism2_border_cohort/Individual Screening CRF_FINAL.pdf\">PRISM2 Border Cohort Individual Screening CRF</a></li>\\n        <li><a target=_blank href=\"/documents/icemr_prism2_border_cohort/Enrollment CRF_FINAL.pdf\">PRISM2 Border Cohort Enrollment CRF</a></li>\\n        <li><a target=_blank href=\"/documents/icemr_prism2_border_cohort/Clinic Visit CRF_4.pdf\">PRISM2 Border Cohort Clinical Visit CRF</a></li>\\n        <li><a target=_blank href=\"/documents/icemr_prism2_border_cohort/Hospitalization CRF_FINAL.pdf\">PRISM2 Border Cohort Hospitalization CRF</a></li>\\n        <li><a target=_blank href=\"/documents/icemr_prism2_border_cohort/Subject Withdrwal CRF_FINAL.pdf\">PRISM2 Border Cohort Subject Withdrawal CRF</a></li>\\n        <li><a target=_blank href=\"/documents/icemr_prism2_border_cohort/Subject Death CRF_FINAL.pdf\">PRISM2 Border Cohort Subject Death CRF</a></li>\\n        <li><a target=_blank href=\"/documents/icemr_prism2_border_cohort/Travel CRF FINAL.pdf\">PRISM2 Border Cohort Travel CRF</a></li>\\n        <li><a target=_blank href=\"/documents/icemr_prism2_border_cohort/Entomology biweekly collections CRF_FINAL.pdf\">PRISM2 Border Cohort Mosquito Collection & LLIN Adherence CRF</a></li>\\n        <li><a target=_blank href=\"/documents/icemr_prism2_border_cohort/Entomology HLC CRF_FINAL_2.pdf\">PRISM2 Border Cohort Human Landing Catches CRF</a></li>\\n        <li><a target=_blank href=\"/documents/icemr_prism2_border_cohort/DBS from blood fed mosquitoes CRF_FINAL.pdf\">PRISM2 Border Cohort DBS from Bloodfed Mosquitoes CRF</a></li>\\n        <li><a target=_blank href=\"/documents/icemr_prism2_border_cohort/Oocyst detection CRF_FINAL.pdf\">PRISM2 Border Cohort Oocyst Detection CRF</a></li>\\n        <li><a target=_blank href=\"/documents/icemr_prism2_border_cohort/Membrane feeding CRF_FINAL.pdf\">PRISM2 Border Cohort Membrane feeding CRF</a></li>\\n        <li><a target=_blank href=\"/documents/icemr_prism2_border_cohort/Visitors CRF FINAL.pdf\">PRISM2 Border Cohort Visitor CRF</a></li>\\n        </ul>\\n      </li>\\n      <li><b>Data Dictionaries:</b>\\n       <ul>\\n        <li><a target=_blank href=\"/documents/icemr_prism2_border_cohort/Cross sectional survey_data dictionary.xlsx\">PRISM2 Border Cohort Cross-sectional survey Data Dictionary</a></li>\\n        <li><a target=_blank href=\"/documents/icemr_prism2_border_cohort/Household questionnaire_data dictionary.xlsx\">PRISM2 Border Cohort Household Questionnaire Data Dictionary</a></li>\\n        <li><a target=_blank href=\"/documents/icemr_prism2_border_cohort/HSF_household screening data dictionary.xlsx\">PRISM2 Border Cohort Household Screening Data Dictionary (HSF)</a></li>\\n        <li><a target=_blank href=\"/documents/icemr_prism2_border_cohort/ISF_individual screening data dictionary.xlsx\">PRISM2 Border Cohort Individual Screening Data Dictionary (ISF)</a></li>\\n        <li><a target=_blank href=\"/documents/icemr_prism2_border_cohort/ENR_enrollment data dictionary.xlsx\">PRISM2 Border Cohort Enrollment Data Dictionary (ENR)</a></li>\\n        <li><a target=_blank href=\"/documents/icemr_prism2_border_cohort/CVF_clinical visit data dictionary.xlsx\">PRISM2 Border Cohort Clinical Visit Data Dictionary (CVF)</a></li>\\n        <li><a target=_blank href=\"/documents/icemr_prism2_border_cohort/HAF_hospitalization data dictionary.xlsx\">PRISM2 Border Cohort Hospitalization Data Dictionary (HAF)</a></li>\\n        <li><a target=_blank href=\"/documents/icemr_prism2_border_cohort/SWF_subject withdrawal data dictionary.xlsx\">PRISM2 Border Cohort Subject Withdrawal Data Dictionary (SWF)</a></li>\\n        <li><a target=_blank href=\"/documents/icemr_prism2_border_cohort/SDR_subject death data dictionary.xlsx\">PRISM2 Border Cohort Subject Death Data Dictionary (SDR)</a></li>\\n        <li><a target=_blank href=\"/documents/icemr_prism2_border_cohort/TF_travel data dictionary.xlsx\">PRISM2 Border Cohort Travel Data Dictionary (TF)</a></li>\\n        <li><a target=_blank href=\"/documents/icemr_prism2_border_cohort/LAF_mosquito collection and LLIN adherence data dictionary.xlsx\">PRISM2 Border Cohort Mosquito Collection & LLIN Adherence Data Dictionary (LAF)</a></li>\\n        <li><a target=_blank href=\"/documents/icemr_prism2_border_cohort/HLC_human landing catches data dictionary.xlsx\">PRISM2 Border Cohort Human Landing Catches Data Dictionary (HLC)</a></li>\\n        <li><a target=_blank href=\"/documents/icemr_prism2_border_cohort/DBS_dbs from bloodfed mosquitoes data dictionary.xlsx\">PRISM2 Border Cohort DBS from Bloodfed Mosquitoes Data Dictionary (DBS)</a></li>\\n        <li><a target=_blank href=\"/documents/icemr_prism2_border_cohort/ODF_oocyst detection data dictionary.xlsx\">PRISM2 Border Cohort Oocyst Detection Data Dictionary (ODF)</a></li>\\n        <li><a target=_blank href=\"/documents/icemr_prism2_border_cohort/MFF_membrane feeding data dictionary.xlsx\">PRISM2 Border Cohort Membrane feeding Data Dictionary (MMF)</a></li>\\n        <li><a target=_blank href=\"/documents/icemr_prism2_border_cohort/VF_visitor data dictionary.xlsx\">PRISM2 Border Cohort Visitor Data Dictionary (VF)</a></li>\\n        </ul>\\n      </li>\\n      </ul>\\n      </blockquote>\\n      <p />\\n      </blockquote>\\n      <b>ClinEpiDB Data Integration:</b> Data files were provided to ClinEpiDB as .dta files. All dates were obfuscated through the application of a random number algorithm \\n      that shifted dates no more than seven days to comply with the ethical conduct of human subjects research.\\n      <p />\\n      <b>Acknowledgements:</b> We thank all the study team members for successfully conducting the PRISM studies over the years and the Tororo and Busia district \\n      administrations for their support. We are grateful to the study participants who participated in this study and their families.\\n      <p />\\n      <b>Financial Support:</b> The PRISM2 Border Cohort study was funded by the US National Institutes of Health as part of the International Centers of Excellence \\n      in Malaria Research (ICEMR) program (U19AI089674). The funders played no role in the design of the study; in the collection, analyses, and interpretation of data; \\n      in the writing of the manuscript; or in the decision to submit the manuscript for publication. \\n      <p />\\n      <b>Ethics Statement:</b> Ethical approval was obtained from the Makerere University School of Medicine Research and Ethics Committee (REF 2019–134), \\n      the Uganda National Council for Science and Technology (HS 2700), the London School of Hygiene & Tropical Medicine Ethics Committee (17777), and the \\n      University of California, San Francisco Committee on Human Research (257790). Written informed consent was obtained for all participants prior to \\n      enrollment into the cohort study.\\n      <p />\\n      <b>Last Updated:</b> July 11, 2024The Program for Resistance, Immunology, Surveillance and Modeling of Malaria in Uganda 2 (PRISM2) Border Cohort is a dynamic prospective cohort study. Households were recruited if they had at least \\n      2 members under the age of 5, no more than 7 residents, and no plans to move in the next 2 years. Mosquito collections were performed every 2 weeks, routine clinic visits occurred every 4 weeks, \\n      and participants attended a study clinic any time they became ill.'"
      ]
     },
     "execution_count": 44,
     "metadata": {},
     "output_type": "execute_result"
    }
   ],
   "source": [
    "merged_df.iloc[1]['Description']"
   ]
  },
  {
   "cell_type": "code",
   "execution_count": 45,
   "metadata": {},
   "outputs": [],
   "source": [
    "merged_df = pd.read_csv('clinepidb_missing_summaries.csv')"
   ]
  },
  {
   "cell_type": "code",
   "execution_count": 46,
   "metadata": {},
   "outputs": [
    {
     "data": {
      "text/html": [
       "<div>\n",
       "<style scoped>\n",
       "    .dataframe tbody tr th:only-of-type {\n",
       "        vertical-align: middle;\n",
       "    }\n",
       "\n",
       "    .dataframe tbody tr th {\n",
       "        vertical-align: top;\n",
       "    }\n",
       "\n",
       "    .dataframe thead th {\n",
       "        text-align: right;\n",
       "    }\n",
       "</style>\n",
       "<table border=\"1\" class=\"dataframe\">\n",
       "  <thead>\n",
       "    <tr style=\"text-align: right;\">\n",
       "      <th></th>\n",
       "      <th>_id</th>\n",
       "      <th>Summary</th>\n",
       "      <th>Name</th>\n",
       "      <th>Description</th>\n",
       "    </tr>\n",
       "  </thead>\n",
       "  <tbody>\n",
       "    <tr>\n",
       "      <th>0</th>\n",
       "      <td>clinepidb_ds_03d6476c6d</td>\n",
       "      <td>**Methods and Experimental Conditions:**  \\nTh...</td>\n",
       "      <td>NECTAR2 Randomized Controlled Trial</td>\n",
       "      <td>&lt;b&gt;Related studies:&lt;/b&gt; \\n    &lt;blockquote&gt;\\n  ...</td>\n",
       "    </tr>\n",
       "    <tr>\n",
       "      <th>1</th>\n",
       "      <td>clinepidb_ds_17191d35b9</td>\n",
       "      <td>Methods and Experimental Conditions:\\nThe PRIS...</td>\n",
       "      <td>PRISM2 ICEMR Border Cohort</td>\n",
       "      <td>&lt;![CDATA[\\n      &lt;b&gt;Related studies:&lt;/b&gt; \\n   ...</td>\n",
       "    </tr>\n",
       "    <tr>\n",
       "      <th>2</th>\n",
       "      <td>clinepidb_ds_24e941b30f</td>\n",
       "      <td>Methods and Experimental Conditions:  \\nThe PE...</td>\n",
       "      <td>PERCH Thailand Case Control</td>\n",
       "      <td>Nine sites in seven countries participated in ...</td>\n",
       "    </tr>\n",
       "    <tr>\n",
       "      <th>3</th>\n",
       "      <td>clinepidb_ds_2cf32ab2f0</td>\n",
       "      <td>Methods and Experimental Conditions:\\nData for...</td>\n",
       "      <td>PERCH Kenya Case Control</td>\n",
       "      <td>Nine sites in seven countries participated in ...</td>\n",
       "    </tr>\n",
       "    <tr>\n",
       "      <th>4</th>\n",
       "      <td>clinepidb_ds_59bedf2966</td>\n",
       "      <td>Methods and Experimental Conditions:\\nThe data...</td>\n",
       "      <td>PERCH The Gambia Case Control</td>\n",
       "      <td>Nine sites in seven countries participated in ...</td>\n",
       "    </tr>\n",
       "  </tbody>\n",
       "</table>\n",
       "</div>"
      ],
      "text/plain": [
       "                       _id                                            Summary  \\\n",
       "0  clinepidb_ds_03d6476c6d  **Methods and Experimental Conditions:**  \\nTh...   \n",
       "1  clinepidb_ds_17191d35b9  Methods and Experimental Conditions:\\nThe PRIS...   \n",
       "2  clinepidb_ds_24e941b30f  Methods and Experimental Conditions:  \\nThe PE...   \n",
       "3  clinepidb_ds_2cf32ab2f0  Methods and Experimental Conditions:\\nData for...   \n",
       "4  clinepidb_ds_59bedf2966  Methods and Experimental Conditions:\\nThe data...   \n",
       "\n",
       "                                  Name  \\\n",
       "0  NECTAR2 Randomized Controlled Trial   \n",
       "1           PRISM2 ICEMR Border Cohort   \n",
       "2          PERCH Thailand Case Control   \n",
       "3             PERCH Kenya Case Control   \n",
       "4        PERCH The Gambia Case Control   \n",
       "\n",
       "                                         Description  \n",
       "0  <b>Related studies:</b> \\n    <blockquote>\\n  ...  \n",
       "1  <![CDATA[\\n      <b>Related studies:</b> \\n   ...  \n",
       "2  Nine sites in seven countries participated in ...  \n",
       "3  Nine sites in seven countries participated in ...  \n",
       "4  Nine sites in seven countries participated in ...  "
      ]
     },
     "execution_count": 46,
     "metadata": {},
     "output_type": "execute_result"
    }
   ],
   "source": [
    "merged_df.head()\n"
   ]
  },
  {
   "cell_type": "code",
   "execution_count": 47,
   "metadata": {},
   "outputs": [],
   "source": [
    "merged_df['Summary'] = merged_df['Summary'].str.replace('[*#]', '', regex=True)"
   ]
  },
  {
   "cell_type": "code",
   "execution_count": 48,
   "metadata": {},
   "outputs": [
    {
     "data": {
      "text/html": [
       "<div>\n",
       "<style scoped>\n",
       "    .dataframe tbody tr th:only-of-type {\n",
       "        vertical-align: middle;\n",
       "    }\n",
       "\n",
       "    .dataframe tbody tr th {\n",
       "        vertical-align: top;\n",
       "    }\n",
       "\n",
       "    .dataframe thead th {\n",
       "        text-align: right;\n",
       "    }\n",
       "</style>\n",
       "<table border=\"1\" class=\"dataframe\">\n",
       "  <thead>\n",
       "    <tr style=\"text-align: right;\">\n",
       "      <th></th>\n",
       "      <th>_id</th>\n",
       "      <th>Summary</th>\n",
       "      <th>Name</th>\n",
       "      <th>Description</th>\n",
       "    </tr>\n",
       "  </thead>\n",
       "  <tbody>\n",
       "    <tr>\n",
       "      <th>0</th>\n",
       "      <td>clinepidb_ds_03d6476c6d</td>\n",
       "      <td>Methods and Experimental Conditions:  \\nThe NE...</td>\n",
       "      <td>NECTAR2 Randomized Controlled Trial</td>\n",
       "      <td>&lt;b&gt;Related studies:&lt;/b&gt; \\n    &lt;blockquote&gt;\\n  ...</td>\n",
       "    </tr>\n",
       "    <tr>\n",
       "      <th>1</th>\n",
       "      <td>clinepidb_ds_17191d35b9</td>\n",
       "      <td>Methods and Experimental Conditions:\\nThe PRIS...</td>\n",
       "      <td>PRISM2 ICEMR Border Cohort</td>\n",
       "      <td>&lt;![CDATA[\\n      &lt;b&gt;Related studies:&lt;/b&gt; \\n   ...</td>\n",
       "    </tr>\n",
       "    <tr>\n",
       "      <th>2</th>\n",
       "      <td>clinepidb_ds_24e941b30f</td>\n",
       "      <td>Methods and Experimental Conditions:  \\nThe PE...</td>\n",
       "      <td>PERCH Thailand Case Control</td>\n",
       "      <td>Nine sites in seven countries participated in ...</td>\n",
       "    </tr>\n",
       "    <tr>\n",
       "      <th>3</th>\n",
       "      <td>clinepidb_ds_2cf32ab2f0</td>\n",
       "      <td>Methods and Experimental Conditions:\\nData for...</td>\n",
       "      <td>PERCH Kenya Case Control</td>\n",
       "      <td>Nine sites in seven countries participated in ...</td>\n",
       "    </tr>\n",
       "    <tr>\n",
       "      <th>4</th>\n",
       "      <td>clinepidb_ds_59bedf2966</td>\n",
       "      <td>Methods and Experimental Conditions:\\nThe data...</td>\n",
       "      <td>PERCH The Gambia Case Control</td>\n",
       "      <td>Nine sites in seven countries participated in ...</td>\n",
       "    </tr>\n",
       "    <tr>\n",
       "      <th>5</th>\n",
       "      <td>clinepidb_ds_624583e93e</td>\n",
       "      <td>Methods and Experimental Conditions:  \\nThe LL...</td>\n",
       "      <td>LLINEUP2 Cluster Randomized Trial</td>\n",
       "      <td>&lt;b&gt;Related studies:&lt;/b&gt; \\n    &lt;blockquote&gt;\\n  ...</td>\n",
       "    </tr>\n",
       "    <tr>\n",
       "      <th>6</th>\n",
       "      <td>clinepidb_ds_7b47eb7469</td>\n",
       "      <td>Methods and Experimental Conditions:\\nThe NECT...</td>\n",
       "      <td>NECTAR1 Randomized Controlled Trial</td>\n",
       "      <td>&lt;b&gt;Related studies:&lt;/b&gt; \\n    &lt;blockquote&gt;\\n  ...</td>\n",
       "    </tr>\n",
       "    <tr>\n",
       "      <th>7</th>\n",
       "      <td>clinepidb_ds_861ea66681</td>\n",
       "      <td>Methods and Experimental Conditions:\\nThe NECT...</td>\n",
       "      <td>NECTAR4 Randomized Controlled Trial</td>\n",
       "      <td>&lt;b&gt;Related studies:&lt;/b&gt; \\n    &lt;blockquote&gt;\\n  ...</td>\n",
       "    </tr>\n",
       "    <tr>\n",
       "      <th>8</th>\n",
       "      <td>clinepidb_ds_86424e44ce</td>\n",
       "      <td>Methods and Experimental Conditions:  \\nThe PE...</td>\n",
       "      <td>PERCH South Africa Case Control</td>\n",
       "      <td>Nine sites in seven countries participated in ...</td>\n",
       "    </tr>\n",
       "    <tr>\n",
       "      <th>9</th>\n",
       "      <td>clinepidb_ds_a83d9defbb</td>\n",
       "      <td>Methods and Experimental Conditions:\\nThe stud...</td>\n",
       "      <td>Southern Africa ICEMR Cross-sectional</td>\n",
       "      <td>&lt;b&gt;Objectives:&lt;/b&gt;\\n      &lt;p /&gt;\\n      &lt;blockq...</td>\n",
       "    </tr>\n",
       "    <tr>\n",
       "      <th>10</th>\n",
       "      <td>clinepidb_ds_c3035a108d</td>\n",
       "      <td>Methods and Experimental Conditions:\\nThe PERC...</td>\n",
       "      <td>PERCH Mali Case Control</td>\n",
       "      <td>Nine sites in seven countries participated in ...</td>\n",
       "    </tr>\n",
       "    <tr>\n",
       "      <th>11</th>\n",
       "      <td>clinepidb_ds_d00683a135</td>\n",
       "      <td>Methods and Experimental Conditions:\\nThe NECT...</td>\n",
       "      <td>NECTAR3 Randomized Controlled Trial</td>\n",
       "      <td>&lt;b&gt;Related studies:&lt;/b&gt; \\n    &lt;blockquote&gt;\\n  ...</td>\n",
       "    </tr>\n",
       "    <tr>\n",
       "      <th>12</th>\n",
       "      <td>clinepidb_ds_d40f5f723f</td>\n",
       "      <td>Methods and Experimental Conditions:\\nData wer...</td>\n",
       "      <td>PERCH Zambia Case Control</td>\n",
       "      <td>Nine sites in seven countries participated in ...</td>\n",
       "    </tr>\n",
       "    <tr>\n",
       "      <th>13</th>\n",
       "      <td>clinepidb_ds_e4ba48125a</td>\n",
       "      <td>Methods and Experimental Conditions:\\nThe PERC...</td>\n",
       "      <td>PERCH Bangladesh Case Control</td>\n",
       "      <td>Nine sites in seven countries participated in ...</td>\n",
       "    </tr>\n",
       "    <tr>\n",
       "      <th>14</th>\n",
       "      <td>clinepidb_ds_f71667fc7f</td>\n",
       "      <td>Methods and Experimental Conditions:\\nThe stud...</td>\n",
       "      <td>LEDoxy Randomized Controlled Trial</td>\n",
       "      <td>&lt;b&gt;Background:&lt;/b&gt; Current treatment practices...</td>\n",
       "    </tr>\n",
       "  </tbody>\n",
       "</table>\n",
       "</div>"
      ],
      "text/plain": [
       "                        _id  \\\n",
       "0   clinepidb_ds_03d6476c6d   \n",
       "1   clinepidb_ds_17191d35b9   \n",
       "2   clinepidb_ds_24e941b30f   \n",
       "3   clinepidb_ds_2cf32ab2f0   \n",
       "4   clinepidb_ds_59bedf2966   \n",
       "5   clinepidb_ds_624583e93e   \n",
       "6   clinepidb_ds_7b47eb7469   \n",
       "7   clinepidb_ds_861ea66681   \n",
       "8   clinepidb_ds_86424e44ce   \n",
       "9   clinepidb_ds_a83d9defbb   \n",
       "10  clinepidb_ds_c3035a108d   \n",
       "11  clinepidb_ds_d00683a135   \n",
       "12  clinepidb_ds_d40f5f723f   \n",
       "13  clinepidb_ds_e4ba48125a   \n",
       "14  clinepidb_ds_f71667fc7f   \n",
       "\n",
       "                                              Summary  \\\n",
       "0   Methods and Experimental Conditions:  \\nThe NE...   \n",
       "1   Methods and Experimental Conditions:\\nThe PRIS...   \n",
       "2   Methods and Experimental Conditions:  \\nThe PE...   \n",
       "3   Methods and Experimental Conditions:\\nData for...   \n",
       "4   Methods and Experimental Conditions:\\nThe data...   \n",
       "5   Methods and Experimental Conditions:  \\nThe LL...   \n",
       "6   Methods and Experimental Conditions:\\nThe NECT...   \n",
       "7   Methods and Experimental Conditions:\\nThe NECT...   \n",
       "8   Methods and Experimental Conditions:  \\nThe PE...   \n",
       "9   Methods and Experimental Conditions:\\nThe stud...   \n",
       "10  Methods and Experimental Conditions:\\nThe PERC...   \n",
       "11  Methods and Experimental Conditions:\\nThe NECT...   \n",
       "12  Methods and Experimental Conditions:\\nData wer...   \n",
       "13  Methods and Experimental Conditions:\\nThe PERC...   \n",
       "14  Methods and Experimental Conditions:\\nThe stud...   \n",
       "\n",
       "                                     Name  \\\n",
       "0     NECTAR2 Randomized Controlled Trial   \n",
       "1              PRISM2 ICEMR Border Cohort   \n",
       "2             PERCH Thailand Case Control   \n",
       "3                PERCH Kenya Case Control   \n",
       "4           PERCH The Gambia Case Control   \n",
       "5       LLINEUP2 Cluster Randomized Trial   \n",
       "6     NECTAR1 Randomized Controlled Trial   \n",
       "7     NECTAR4 Randomized Controlled Trial   \n",
       "8         PERCH South Africa Case Control   \n",
       "9   Southern Africa ICEMR Cross-sectional   \n",
       "10                PERCH Mali Case Control   \n",
       "11    NECTAR3 Randomized Controlled Trial   \n",
       "12              PERCH Zambia Case Control   \n",
       "13          PERCH Bangladesh Case Control   \n",
       "14     LEDoxy Randomized Controlled Trial   \n",
       "\n",
       "                                          Description  \n",
       "0   <b>Related studies:</b> \\n    <blockquote>\\n  ...  \n",
       "1   <![CDATA[\\n      <b>Related studies:</b> \\n   ...  \n",
       "2   Nine sites in seven countries participated in ...  \n",
       "3   Nine sites in seven countries participated in ...  \n",
       "4   Nine sites in seven countries participated in ...  \n",
       "5   <b>Related studies:</b> \\n    <blockquote>\\n  ...  \n",
       "6   <b>Related studies:</b> \\n    <blockquote>\\n  ...  \n",
       "7   <b>Related studies:</b> \\n    <blockquote>\\n  ...  \n",
       "8   Nine sites in seven countries participated in ...  \n",
       "9   <b>Objectives:</b>\\n      <p />\\n      <blockq...  \n",
       "10  Nine sites in seven countries participated in ...  \n",
       "11  <b>Related studies:</b> \\n    <blockquote>\\n  ...  \n",
       "12  Nine sites in seven countries participated in ...  \n",
       "13  Nine sites in seven countries participated in ...  \n",
       "14  <b>Background:</b> Current treatment practices...  "
      ]
     },
     "execution_count": 48,
     "metadata": {},
     "output_type": "execute_result"
    }
   ],
   "source": [
    "merged_df"
   ]
  },
  {
   "cell_type": "code",
   "execution_count": 49,
   "metadata": {},
   "outputs": [
    {
     "name": "stdout",
     "output_type": "stream",
     "text": [
      "The PRISM2 ICEMR Border Cohort aims to investigate the resurgence of malaria in Tororo District, Uganda, following previous interventions with long-lasting insecticidal nets (LLINs) and indoor residual spraying (IRS). The study enrolled 667 residents and compared malaria incidence and prevalence between September 2020 and September 2023. Factors such as the impact of the shift back to organophosphate IRS (Actellic) in March 2023 were also evaluated. Initial data highlighted significant decreases in malaria metrics from prior interventions, but a resurgence was noted in 2020. This cohort study sheds light on the complex dynamics of malaria transmission and vector control efficacy in high-burden areas. The PRISM2 ICEMR Border Cohort is a dynamic prospective cohort study conducted in Tororo and Busia Districts, Uganda, from August 2020 to September 2023. Eligibility criteria included households with at least two members under five years of age, and participants underwent regular medical evaluations, blood collections, and mosquito trapping every two weeks to assess malaria metrics and entomological factors.\n",
      "\n"
     ]
    }
   ],
   "source": [
    "import re\n",
    "\n",
    "pattern = r'(Methods and Experimental Conditions:|Summary:)'\n",
    "\n",
    "sections = re.split(pattern, merged_df.iloc[1]['Summary'])\n",
    "\n",
    "sections = [section.strip() for section in sections if section.strip()]\n",
    "\n",
    "content_sections = sections[1::2]\n",
    "\n",
    "summary = content_sections[1] + ' ' + content_sections[0]\n",
    "\n",
    "print(f\"{summary}\\n\")"
   ]
  },
  {
   "cell_type": "code",
   "execution_count": 50,
   "metadata": {},
   "outputs": [
    {
     "data": {
      "text/html": [
       "<div>\n",
       "<style scoped>\n",
       "    .dataframe tbody tr th:only-of-type {\n",
       "        vertical-align: middle;\n",
       "    }\n",
       "\n",
       "    .dataframe tbody tr th {\n",
       "        vertical-align: top;\n",
       "    }\n",
       "\n",
       "    .dataframe thead th {\n",
       "        text-align: right;\n",
       "    }\n",
       "</style>\n",
       "<table border=\"1\" class=\"dataframe\">\n",
       "  <thead>\n",
       "    <tr style=\"text-align: right;\">\n",
       "      <th></th>\n",
       "      <th>Summary</th>\n",
       "      <th>Processed Summary</th>\n",
       "    </tr>\n",
       "  </thead>\n",
       "  <tbody>\n",
       "    <tr>\n",
       "      <th>0</th>\n",
       "      <td>Methods and Experimental Conditions:  \\nThe NE...</td>\n",
       "      <td>The NECTAR2 Randomized Controlled Trial invest...</td>\n",
       "    </tr>\n",
       "    <tr>\n",
       "      <th>1</th>\n",
       "      <td>Methods and Experimental Conditions:\\nThe PRIS...</td>\n",
       "      <td>The PRISM2 ICEMR Border Cohort aims to investi...</td>\n",
       "    </tr>\n",
       "    <tr>\n",
       "      <th>2</th>\n",
       "      <td>Methods and Experimental Conditions:  \\nThe PE...</td>\n",
       "      <td>The PERCH Thailand Case Control dataset encomp...</td>\n",
       "    </tr>\n",
       "    <tr>\n",
       "      <th>3</th>\n",
       "      <td>Methods and Experimental Conditions:\\nData for...</td>\n",
       "      <td>The \"PERCH Kenya Case Control\" dataset feature...</td>\n",
       "    </tr>\n",
       "    <tr>\n",
       "      <th>4</th>\n",
       "      <td>Methods and Experimental Conditions:\\nThe data...</td>\n",
       "      <td>The \"PERCH The Gambia Case Control\" dataset pr...</td>\n",
       "    </tr>\n",
       "    <tr>\n",
       "      <th>5</th>\n",
       "      <td>Methods and Experimental Conditions:  \\nThe LL...</td>\n",
       "      <td>The LLINEUP2 Cluster Randomized Trial aims to ...</td>\n",
       "    </tr>\n",
       "    <tr>\n",
       "      <th>6</th>\n",
       "      <td>Methods and Experimental Conditions:\\nThe NECT...</td>\n",
       "      <td>The NECTAR1 trial investigated the effectivene...</td>\n",
       "    </tr>\n",
       "    <tr>\n",
       "      <th>7</th>\n",
       "      <td>Methods and Experimental Conditions:\\nThe NECT...</td>\n",
       "      <td>The NECTAR4 Randomized Controlled Trial aimed ...</td>\n",
       "    </tr>\n",
       "    <tr>\n",
       "      <th>8</th>\n",
       "      <td>Methods and Experimental Conditions:  \\nThe PE...</td>\n",
       "      <td>The PERCH South Africa Case Control dataset in...</td>\n",
       "    </tr>\n",
       "    <tr>\n",
       "      <th>9</th>\n",
       "      <td>Methods and Experimental Conditions:\\nThe stud...</td>\n",
       "      <td>The \"Southern Africa ICEMR Cross-sectional\" da...</td>\n",
       "    </tr>\n",
       "    <tr>\n",
       "      <th>10</th>\n",
       "      <td>Methods and Experimental Conditions:\\nThe PERC...</td>\n",
       "      <td>The PERCH Mali Case Control dataset encompasse...</td>\n",
       "    </tr>\n",
       "    <tr>\n",
       "      <th>11</th>\n",
       "      <td>Methods and Experimental Conditions:\\nThe NECT...</td>\n",
       "      <td>NECTAR3 is a randomized controlled trial desig...</td>\n",
       "    </tr>\n",
       "    <tr>\n",
       "      <th>12</th>\n",
       "      <td>Methods and Experimental Conditions:\\nData wer...</td>\n",
       "      <td>The \"PERCH Zambia Case Control\" dataset is par...</td>\n",
       "    </tr>\n",
       "    <tr>\n",
       "      <th>13</th>\n",
       "      <td>Methods and Experimental Conditions:\\nThe PERC...</td>\n",
       "      <td>The \"PERCH Bangladesh Case Control\" dataset co...</td>\n",
       "    </tr>\n",
       "    <tr>\n",
       "      <th>14</th>\n",
       "      <td>Methods and Experimental Conditions:\\nThe stud...</td>\n",
       "      <td>The LEDoxy Randomized Controlled Trial aims to...</td>\n",
       "    </tr>\n",
       "  </tbody>\n",
       "</table>\n",
       "</div>"
      ],
      "text/plain": [
       "                                              Summary  \\\n",
       "0   Methods and Experimental Conditions:  \\nThe NE...   \n",
       "1   Methods and Experimental Conditions:\\nThe PRIS...   \n",
       "2   Methods and Experimental Conditions:  \\nThe PE...   \n",
       "3   Methods and Experimental Conditions:\\nData for...   \n",
       "4   Methods and Experimental Conditions:\\nThe data...   \n",
       "5   Methods and Experimental Conditions:  \\nThe LL...   \n",
       "6   Methods and Experimental Conditions:\\nThe NECT...   \n",
       "7   Methods and Experimental Conditions:\\nThe NECT...   \n",
       "8   Methods and Experimental Conditions:  \\nThe PE...   \n",
       "9   Methods and Experimental Conditions:\\nThe stud...   \n",
       "10  Methods and Experimental Conditions:\\nThe PERC...   \n",
       "11  Methods and Experimental Conditions:\\nThe NECT...   \n",
       "12  Methods and Experimental Conditions:\\nData wer...   \n",
       "13  Methods and Experimental Conditions:\\nThe PERC...   \n",
       "14  Methods and Experimental Conditions:\\nThe stud...   \n",
       "\n",
       "                                    Processed Summary  \n",
       "0   The NECTAR2 Randomized Controlled Trial invest...  \n",
       "1   The PRISM2 ICEMR Border Cohort aims to investi...  \n",
       "2   The PERCH Thailand Case Control dataset encomp...  \n",
       "3   The \"PERCH Kenya Case Control\" dataset feature...  \n",
       "4   The \"PERCH The Gambia Case Control\" dataset pr...  \n",
       "5   The LLINEUP2 Cluster Randomized Trial aims to ...  \n",
       "6   The NECTAR1 trial investigated the effectivene...  \n",
       "7   The NECTAR4 Randomized Controlled Trial aimed ...  \n",
       "8   The PERCH South Africa Case Control dataset in...  \n",
       "9   The \"Southern Africa ICEMR Cross-sectional\" da...  \n",
       "10  The PERCH Mali Case Control dataset encompasse...  \n",
       "11  NECTAR3 is a randomized controlled trial desig...  \n",
       "12  The \"PERCH Zambia Case Control\" dataset is par...  \n",
       "13  The \"PERCH Bangladesh Case Control\" dataset co...  \n",
       "14  The LEDoxy Randomized Controlled Trial aims to...  "
      ]
     },
     "execution_count": 50,
     "metadata": {},
     "output_type": "execute_result"
    }
   ],
   "source": [
    "def process_summary(summary):\n",
    "    pattern = r'(Methods and Experimental Conditions:|Summary:)'\n",
    "    sections = re.split(pattern, summary)\n",
    "    sections = [section.strip() for section in sections if section.strip()]\n",
    "    content_sections = sections[1::2]\n",
    "    if len(content_sections) == 2:\n",
    "        return content_sections[1] + ' ' + content_sections[0]\n",
    "    return summary  # Return the original summary if the expected sections are not found\n",
    "\n",
    "# Apply the function to the entire Summary column\n",
    "merged_df['Processed Summary'] = merged_df['Summary'].apply(process_summary)\n",
    "\n",
    "# Print the DataFrame with the new column\n",
    "merged_df[['Summary', 'Processed Summary']]"
   ]
  },
  {
   "cell_type": "code",
   "execution_count": 51,
   "metadata": {},
   "outputs": [],
   "source": [
    "merged_df.to_csv('clinepidb_missing_summaries_processed.csv', index=False)"
   ]
  },
  {
   "cell_type": "code",
   "execution_count": 52,
   "metadata": {},
   "outputs": [
    {
     "name": "stdout",
     "output_type": "stream",
     "text": [
      "The PRISM2 ICEMR Border Cohort aims to investigate the resurgence of malaria in Tororo District, Uganda, following previous interventions with long-lasting insecticidal nets (LLINs) and indoor residual spraying (IRS). The study enrolled 667 residents and compared malaria incidence and prevalence between September 2020 and September 2023. Factors such as the impact of the shift back to organophosphate IRS (Actellic) in March 2023 were also evaluated. Initial data highlighted significant decreases in malaria metrics from prior interventions, but a resurgence was noted in 2020. This cohort study sheds light on the complex dynamics of malaria transmission and vector control efficacy in high-burden areas. The PRISM2 ICEMR Border Cohort is a dynamic prospective cohort study conducted in Tororo and Busia Districts, Uganda, from August 2020 to September 2023. Eligibility criteria included households with at least two members under five years of age, and participants underwent regular medical evaluations, blood collections, and mosquito trapping every two weeks to assess malaria metrics and entomological factors.\n"
     ]
    }
   ],
   "source": [
    "print(merged_df.iloc[1]['Processed Summary'])"
   ]
  },
  {
   "cell_type": "code",
   "execution_count": null,
   "metadata": {},
   "outputs": [],
   "source": []
  }
 ],
 "metadata": {
  "kernelspec": {
   "display_name": "nde_gpt",
   "language": "python",
   "name": "python3"
  },
  "language_info": {
   "codemirror_mode": {
    "name": "ipython",
    "version": 3
   },
   "file_extension": ".py",
   "mimetype": "text/x-python",
   "name": "python",
   "nbconvert_exporter": "python",
   "pygments_lexer": "ipython3",
   "version": "3.10.12"
  }
 },
 "nbformat": 4,
 "nbformat_minor": 2
}
