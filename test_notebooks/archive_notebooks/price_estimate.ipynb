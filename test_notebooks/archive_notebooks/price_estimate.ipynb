{
 "cells": [
  {
   "cell_type": "code",
   "execution_count": 2,
   "metadata": {},
   "outputs": [],
   "source": [
    "import pandas as pd\n",
    "import tiktoken"
   ]
  },
  {
   "cell_type": "code",
   "execution_count": 75,
   "metadata": {},
   "outputs": [],
   "source": [
    "# https://openai.com/pricing\n",
    "\n",
    "PRICE_PER_TOKEN = 0.0005 / 1000\n",
    "NUM_SAMPLES = 3000000\n",
    "NUM_OUTPUT_TOPICS = 3"
   ]
  },
  {
   "cell_type": "code",
   "execution_count": 76,
   "metadata": {},
   "outputs": [],
   "source": [
    "enc = tiktoken.get_encoding(\"cl100k_base\")"
   ]
  },
  {
   "cell_type": "code",
   "execution_count": 77,
   "metadata": {},
   "outputs": [],
   "source": [
    "with open('../templates/prompt_template.txt', 'r') as template_file:\n",
    "    template = template_file.read()\n",
    "\n",
    "num_tokens_template = len(enc.encode(template))"
   ]
  },
  {
   "cell_type": "code",
   "execution_count": 78,
   "metadata": {},
   "outputs": [],
   "source": [
    "with open('../EDAM/edam_topics.txt', 'r') as edam_file:\n",
    "    full_edam_topics = edam_file.readlines()\n",
    "\n",
    "avg_topic_tokens = sum([len(enc.encode(topic)) for topic in full_edam_topics]) / len(full_edam_topics)\n",
    "\n",
    "full_edam_topics = '\\n'.join([topic.strip() for topic in full_edam_topics])\n",
    "num_tokens_topics = len(enc.encode(full_edam_topics))"
   ]
  },
  {
   "cell_type": "code",
   "execution_count": 79,
   "metadata": {},
   "outputs": [],
   "source": [
    "dataset = pd.read_csv('../datasets/staging_test_set.csv')\n",
    "abstracts = dataset['Abstract'].tolist()"
   ]
  },
  {
   "cell_type": "code",
   "execution_count": 80,
   "metadata": {},
   "outputs": [
    {
     "data": {
      "text/plain": [
       "1449"
      ]
     },
     "execution_count": 80,
     "metadata": {},
     "output_type": "execute_result"
    }
   ],
   "source": [
    "total_tokens = 0\n",
    "num_abstracts = len(abstracts)\n",
    "\n",
    "for abstract in abstracts:\n",
    "    tokens = enc.encode(abstract)\n",
    "    total_tokens += len(tokens)\n",
    "\n",
    "average_tokens = total_tokens / num_abstracts\n",
    "\n",
    "total_tokens_per_abs = round(average_tokens + num_tokens_topics + num_tokens_template + (avg_topic_tokens * NUM_OUTPUT_TOPICS))\n",
    "total_tokens_per_abs"
   ]
  },
  {
   "cell_type": "code",
   "execution_count": 81,
   "metadata": {},
   "outputs": [
    {
     "name": "stdout",
     "output_type": "stream",
     "text": [
      "Price per abstract: $0.0007245\n",
      "Total Cost (approx.) for 3000000 samples: $2173.5\n"
     ]
    }
   ],
   "source": [
    "# Price is not including failed API calls, except some margin\n",
    "\n",
    "print(f'Price per abstract: ${PRICE_PER_TOKEN * total_tokens_per_abs}')\n",
    "print(f'Total Cost (approx.) for {NUM_SAMPLES} samples: ${PRICE_PER_TOKEN * total_tokens_per_abs * NUM_SAMPLES}')"
   ]
  }
 ],
 "metadata": {
  "kernelspec": {
   "display_name": "nde_gpt",
   "language": "python",
   "name": "python3"
  },
  "language_info": {
   "codemirror_mode": {
    "name": "ipython",
    "version": 3
   },
   "file_extension": ".py",
   "mimetype": "text/x-python",
   "name": "python",
   "nbconvert_exporter": "python",
   "pygments_lexer": "ipython3",
   "version": "3.10.13"
  }
 },
 "nbformat": 4,
 "nbformat_minor": 2
}
