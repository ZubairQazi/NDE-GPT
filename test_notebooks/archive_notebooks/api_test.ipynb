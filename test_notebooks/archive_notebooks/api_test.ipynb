{
 "cells": [
  {
   "cell_type": "code",
   "execution_count": 2,
   "metadata": {},
   "outputs": [],
   "source": [
    "import requests\n",
    "\n",
    "import numpy as np\n",
    "import pandas as pd\n",
    "\n",
    "from tqdm.notebook import tqdm"
   ]
  },
  {
   "cell_type": "code",
   "execution_count": 3,
   "metadata": {},
   "outputs": [],
   "source": [
    "results = requests.get(\"https://api-staging.data.niaid.nih.gov/v1/query?=&q=*pmid*&extra_filter=&size=1000&from=0&sort=_score&use_metadata_score=true\")"
   ]
  },
  {
   "cell_type": "code",
   "execution_count": 4,
   "metadata": {},
   "outputs": [],
   "source": [
    "data = results.json()"
   ]
  },
  {
   "cell_type": "code",
   "execution_count": 5,
   "metadata": {},
   "outputs": [],
   "source": [
    "pmids = []\n",
    "descriptions = []"
   ]
  },
  {
   "cell_type": "code",
   "execution_count": 6,
   "metadata": {},
   "outputs": [],
   "source": [
    "for idx,hits in enumerate(data['hits']):\n",
    "    if 'citation' in hits:\n",
    "        if type(hits['citation']) is list and 'pmid' in hits['citation'][0]:\n",
    "            pmids.append(hits['citation'][0]['pmid'])\n",
    "            descriptions.append(hits['description'])"
   ]
  },
  {
   "cell_type": "code",
   "execution_count": 7,
   "metadata": {},
   "outputs": [],
   "source": [
    "results = requests.get(\"https://api-staging.data.niaid.nih.gov/v1/query?=&q=*pmid*&extra_filter=&size=1000&from=1001&sort=_score&use_metadata_score=true\")"
   ]
  },
  {
   "cell_type": "code",
   "execution_count": 8,
   "metadata": {},
   "outputs": [],
   "source": [
    "data = results.json()\n",
    "\n",
    "for idx,hits in enumerate(data['hits']):\n",
    "    if 'citation' in hits:\n",
    "        if type(hits['citation']) is list and 'pmid' in hits['citation'][0]:\n",
    "            pmids.append(hits['citation'][0]['pmid'])\n",
    "            descriptions.append(hits['description'])\n"
   ]
  },
  {
   "cell_type": "code",
   "execution_count": 9,
   "metadata": {},
   "outputs": [
    {
     "name": "stdout",
     "output_type": "stream",
     "text": [
      "1573\n",
      "1573\n"
     ]
    }
   ],
   "source": [
    "print(len(pmids))\n",
    "print(len(descriptions))"
   ]
  },
  {
   "cell_type": "code",
   "execution_count": 11,
   "metadata": {},
   "outputs": [
    {
     "name": "stdout",
     "output_type": "stream",
     "text": [
      "Filtered List: 1528\n",
      "Filtered Corresponding List: 1528\n"
     ]
    }
   ],
   "source": [
    "# Remove duplicate PMIDs\n",
    "\n",
    "# Use a set to track unique elements\n",
    "unique_set = set()\n",
    "\n",
    "# Create new lists without duplicates and corresponding indices\n",
    "filtered_list = []\n",
    "filtered_corresponding_list = []\n",
    "\n",
    "for item, corresponding_item in zip(pmids, descriptions):\n",
    "    if item not in unique_set:\n",
    "        # Add the item to the set to track uniqueness\n",
    "        unique_set.add(item)\n",
    "        \n",
    "        # Append to the new lists\n",
    "        filtered_list.append(item)\n",
    "        filtered_corresponding_list.append(corresponding_item)\n",
    "\n",
    "# Print the result\n",
    "print(\"Filtered List:\", len(filtered_list))\n",
    "print(\"Filtered Corresponding List:\", len(filtered_corresponding_list))"
   ]
  },
  {
   "cell_type": "code",
   "execution_count": 12,
   "metadata": {},
   "outputs": [],
   "source": [
    "pmids = filtered_list\n",
    "descriptions = filtered_corresponding_list"
   ]
  },
  {
   "cell_type": "markdown",
   "metadata": {},
   "source": [
    "## GPT"
   ]
  },
  {
   "cell_type": "code",
   "execution_count": null,
   "metadata": {},
   "outputs": [],
   "source": []
  }
 ],
 "metadata": {
  "kernelspec": {
   "display_name": "Python 3",
   "language": "python",
   "name": "python3"
  },
  "language_info": {
   "codemirror_mode": {
    "name": "ipython",
    "version": 3
   },
   "file_extension": ".py",
   "mimetype": "text/x-python",
   "name": "python",
   "nbconvert_exporter": "python",
   "pygments_lexer": "ipython3",
   "version": "3.11.6"
  }
 },
 "nbformat": 4,
 "nbformat_minor": 2
}
