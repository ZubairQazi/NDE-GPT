{
 "cells": [
  {
   "cell_type": "code",
   "execution_count": 3,
   "metadata": {},
   "outputs": [],
   "source": [
    "import requests"
   ]
  },
  {
   "cell_type": "code",
   "execution_count": 4,
   "metadata": {},
   "outputs": [],
   "source": [
    "response = requests.get(\"https://api.nde-dev.biothings.io/v1/query?&q=includedInDataCatalog.name:%22VDJServer%22&size=100\")"
   ]
  },
  {
   "cell_type": "code",
   "execution_count": 5,
   "metadata": {},
   "outputs": [],
   "source": [
    "response_json = response.json()"
   ]
  },
  {
   "cell_type": "code",
   "execution_count": 10,
   "metadata": {},
   "outputs": [
    {
     "data": {
      "text/plain": [
       "'Purpose: This phase II clinical trial evaluated whether tumor antigen presentation by stereotactic ablative radiotherapy (SAbR) improves the objective response rate (ORR) to high-dose IL-2 (HD-IL-2), an approved immunotherapy, in metastatic kidney cancer (mRCC).\\n\\nPatients and Methods: Patients with pathologic evidence of clear cell RCC and radiographic evidence of metastasis were enrolled in this single arm phase II trial and were treated with SAbR in single or three treatments, followed by HD-IL-2. Correlative studies involved whole exome and transcriptome sequencing, T cell receptor (TCR) sequencing, cytokine analysis, and mass cytometry on patient samples and correlated the results with clinical outcomes.\\n\\nResults: Thirty mRCC patients were enrolled. A median of 2 (range 1-3) metastases were treated with SAbR. ORR of non-irradiated lesions was 16%; 8% showed complete response. Median overall survival (OS) was 16 months. All 30 patients developed treatment-related, reversible adverse events (AEs), including 22 (73%) grade ≥3 and no grade 5 AEs. Although SAbR did not improve the ORR to HD-IL-2, SAbR to lung metastases correlated with higher progression-free survival (p=0.0165). Correlative studies indicate increased frameshift mutational loads and mast cells with decreased circulating tumor-associated T-cell clones and T-cell clonal expansion in the group that benefited clinically. Patients with higher regulatory T-cell (Tregs)/CD8+ T-cell ratios in both baseline tumor and periphery did not benefit from this regimen.\\n\\nConclusions: Adding SAbR did not improve the response rate to HD-IL-2 in patients with mRCC. Tissue analyses suggest a possible correlation between frameshift mutation and tumor immune infiltrates, and clinical outcomes.\\n Patients were eligible if they were ≥18 years old, could give informed consent, had an Eastern Cooperative Oncology Group (ECOG) performance status of 0 or 1, and showed pathologic evidence of clear cell RCC and radiographic evidence of metastatic disease with at least two lesions with a combined diameter of >1.5 cm that were amenable to SAbR (minimum gross target volume ≥2 cm3). Patients who had received prior oncologic treatments had to be >14 days from their most recent surgery, radiation, immunotherapy, or any targeted agent. Adequate cardiac, pulmonary, renal, and hematologic organ function were required. Patients were excluded if they had any form of immunosuppression. Patients with brain metastases were allowed if the metastases had all been adequately treated with surgery or radiation.\\n Clinigen Inc. (formerly Prometheus Laboratories) grant\\nNational Institutes of Health (NIH) grant CCSG 5P30CA142543 (TW)\\nCancer Prevention Research Institute of Texas grant CPRIT RP190208 (TW)\\nSimmons Cancer Center DSSR, UT Southwestern Medical Center 5P30CA142543(TW) National Cancer Institute (NCI) SPORE grant P50CA196516 (AC, CA, PK, KC, IP, TA, VM, JB)\\nNIH grant 5RO1CA154475 (PK, IP)\\nNIH grant U01CA207091 (IP)\\nAmerican Cancer Society grant RSG-16-004-01-CCE (RH)\\nCPRIT MIRA RP180725 (RH)'"
      ]
     },
     "execution_count": 10,
     "metadata": {},
     "output_type": "execute_result"
    }
   ],
   "source": [
    "response_json['hits'][0]['description']"
   ]
  },
  {
   "cell_type": "code",
   "execution_count": 16,
   "metadata": {},
   "outputs": [
    {
     "data": {
      "text/plain": [
       "'Outcome and Immune Correlates of a Phase II Trial of High-Dose Interleukin-2 and Stereotactic Ablative Radiotherapy for Metastatic Renal Cell Carcinoma'"
      ]
     },
     "execution_count": 16,
     "metadata": {},
     "output_type": "execute_result"
    }
   ],
   "source": [
    "response_json['hits'][0]['name']"
   ]
  },
  {
   "cell_type": "code",
   "execution_count": 23,
   "metadata": {},
   "outputs": [
    {
     "name": "stderr",
     "output_type": "stream",
     "text": [
      "/var/folders/2s/m_y5ncrj7wv6_6bqg4l26hq00000gn/T/ipykernel_31898/3601564235.py:11: MarkupResemblesLocatorWarning: The input looks more like a filename than markup. You may want to open this file and pass the filehandle into Beautiful Soup.\n",
      "  soup = BeautifulSoup(description, 'html.parser')\n"
     ]
    }
   ],
   "source": [
    "import pandas as pd\n",
    "from bs4 import BeautifulSoup\n",
    "\n",
    "names,descriptions = [], []\n",
    "\n",
    "for hit in response_json['hits']:\n",
    "    names.append(hit['name'].strip())\n",
    "    description = hit['description']\n",
    "    \n",
    "    # Parse HTML characters and remove extra whitespaces\n",
    "    soup = BeautifulSoup(description, 'html.parser')\n",
    "    clean_description = ' '.join(soup.get_text().split())\n",
    "    \n",
    "    descriptions.append(clean_description)\n",
    "\n",
    "# Create a DataFrame from the extracted data\n",
    "df = pd.DataFrame({'Name': names, 'Description': descriptions})\n"
   ]
  },
  {
   "cell_type": "code",
   "execution_count": 24,
   "metadata": {},
   "outputs": [],
   "source": [
    "df.to_csv('../datasets/VDJServer.csv', index=False)"
   ]
  },
  {
   "cell_type": "code",
   "execution_count": 12,
   "metadata": {},
   "outputs": [],
   "source": [
    "with open('../outputs/responses.txt', 'r') as file:\n",
    "    response_list = file.readlines()\n",
    "response_list = [response.strip() for response in response_list]"
   ]
  },
  {
   "cell_type": "code",
   "execution_count": 15,
   "metadata": {},
   "outputs": [
    {
     "data": {
      "text/plain": [
       "['Immunology, Oncology, Genetics',\n",
       " 'Immunology, Machine learning, Oncology',\n",
       " 'Immunology\", \"Biology\", \"Biochemistry',\n",
       " 'Immunology, Infectious disease, Genetics',\n",
       " 'Biology, Immunology, Genomics',\n",
       " 'Immunology, Genetics, Animal study',\n",
       " 'Immunology, Genetics, Infectious disease',\n",
       " 'Bioinformatics, Genomics, Immunology',\n",
       " 'Immunology, Pediatrics, Cancer Study',\n",
       " 'Immuno genomics, Immunology, Vaccinology',\n",
       " 'Immunology, Oncology, Biomedical science',\n",
       " 'Immunology, Cancer study, Bioinformatics',\n",
       " 'Immunology, Oncology, Multiomics',\n",
       " 'Immunology, Oncology, Bioinformatics',\n",
       " 'Cancer study, Immunology, Genetics',\n",
       " 'Immunology, Biotechnology, Infectious disease',\n",
       " 'Immunology, Genetics, Oncology',\n",
       " 'Bioengineering,Biotechnology,Biology',\n",
       " 'Immunology, Infectious disease, Gene expression',\n",
       " 'Biochemistry, Biotechnology, Data integration and warehousing',\n",
       " 'Immunology, Genetics, Infectious disease',\n",
       " 'Genetics, Immunology, Oncology',\n",
       " 'Immunology, Neurology, Multiple Sclerosis',\n",
       " 'Immunology, Genetics, Genomics',\n",
       " 'Cancer study, Immunology, Oncology',\n",
       " 'Bioinformatics, Computational biology, Immunology',\n",
       " 'Immunology, Genetics, Molecular biology',\n",
       " 'Immunology, Genetics, Gastroenterology',\n",
       " 'Immunology, Infectious disease, Genetics',\n",
       " 'Genetics, Immunology, Data integration and warehousing',\n",
       " 'Immunology, Infectious disease, Respiratory medicine',\n",
       " 'Immunology, Infectious disease, Genomics',\n",
       " 'Immunology, Female Reproductive Health, Infectious Disease',\n",
       " 'Genetics, Immunology, Cancer Study',\n",
       " 'Bioengineering, Biotechnology, Drug development',\n",
       " 'Immunology, Genetics, Genomics',\n",
       " 'Allergy, clinical immunology and immunotherapeutics\", \"Immunology\", \"Genetics',\n",
       " 'Bioengineering, Biotechnology, Data architecture, analysis and design',\n",
       " 'Immunology,Biomarkers,Oncology',\n",
       " 'Immunology, Genetics, Genomics',\n",
       " 'Immunology, Infectious disease, Genomics',\n",
       " 'Immunology, Infectious disease, Genetics',\n",
       " 'Immunogenetics, Immunology, Infectious disease',\n",
       " 'Immunology, Infectious disease, Bioinformatics',\n",
       " 'Bioinformatics, Immunology, Infectious disease',\n",
       " 'Immunology, Infectious disease, Omics',\n",
       " 'Immunology, Genetics, Sequencing',\n",
       " 'Immunology, Infectious disease, Vaccinology',\n",
       " 'Immunology\", \"Biomedical science\", \"DNA',\n",
       " 'Immunology, Neurology, Neuroscience',\n",
       " 'Immunology, Genetics, Infectious disease',\n",
       " 'Immunology, Genetics, Evolutionary biology',\n",
       " 'Immunology, Infectious disease, Vaccinology',\n",
       " 'Animal study, Immunology, Genetics',\n",
       " 'Cell biology, Cancer Study, Immunology',\n",
       " 'Immunology, Oncology, Multiomics',\n",
       " 'Immunology, Genetics, Bioinformatics',\n",
       " 'Immunoinformatics, Immunology, Vaccinology',\n",
       " 'Immunology, Oncology, Transcriptomics',\n",
       " 'Immunology, Infectious disease, Biomarkers']"
      ]
     },
     "execution_count": 15,
     "metadata": {},
     "output_type": "execute_result"
    }
   ],
   "source": [
    "response_list = [response.strip('\"') if response.startswith('\"') else response for response in response_list]\n",
    "response_list"
   ]
  },
  {
   "cell_type": "code",
   "execution_count": 16,
   "metadata": {},
   "outputs": [],
   "source": [
    "with open('../outputs/responses.txt', 'w') as file:\n",
    "    for response in response_list:\n",
    "        file.write(response + '\\n')"
   ]
  },
  {
   "cell_type": "code",
   "execution_count": 18,
   "metadata": {},
   "outputs": [],
   "source": [
    "import pandas as pd\n",
    "import csv"
   ]
  },
  {
   "cell_type": "code",
   "execution_count": 37,
   "metadata": {},
   "outputs": [],
   "source": [
    "output_df = pd.read_csv('../outputs/h6kvhea7.csv')"
   ]
  },
  {
   "cell_type": "code",
   "execution_count": 41,
   "metadata": {},
   "outputs": [],
   "source": [
    "output_df['Predictions'] = output_df['Predictions'].apply(lambda response: response.strip('\"') if response.startswith('\"') else response)"
   ]
  },
  {
   "cell_type": "code",
   "execution_count": 45,
   "metadata": {},
   "outputs": [],
   "source": [
    "with open(\"../EDAM/edam_topics.txt\", \"r\") as edam_file:\n",
    "        full_edam_topics = edam_file.readlines()\n",
    "full_edam_topics = [topic.strip() for topic in full_edam_topics]"
   ]
  },
  {
   "cell_type": "code",
   "execution_count": 52,
   "metadata": {},
   "outputs": [],
   "source": [
    "output_df[\"Filtered Predictions\"] = (\n",
    "        output_df[\"Predictions\"]\n",
    "        .apply(lambda preds: set(map(str.strip, next(csv.reader([preds])))))\n",
    "        .apply(\n",
    "            lambda preds: \", \".join(\n",
    "                [pred for pred in preds if pred in full_edam_topics]\n",
    "            )\n",
    "        )\n",
    "    )"
   ]
  },
  {
   "cell_type": "code",
   "execution_count": 53,
   "metadata": {},
   "outputs": [],
   "source": [
    "output_df.to_csv('../outputs/h6kvhea7.csv', index=False)"
   ]
  },
  {
   "cell_type": "code",
   "execution_count": 62,
   "metadata": {},
   "outputs": [],
   "source": [
    "\n",
    "output_df[\"Ground Truth\"] =  [\"Immunoproteins and antigens, Immunoinformatics, Structure analysis\"] *len(output_df)"
   ]
  },
  {
   "cell_type": "code",
   "execution_count": 65,
   "metadata": {},
   "outputs": [],
   "source": [
    "output_df[['Name', 'Description', 'Ground Truth', 'Predictions', 'Filtered Predictions']].to_csv('../outputs/h6kvhea7.csv', index=False)"
   ]
  }
 ],
 "metadata": {
  "kernelspec": {
   "display_name": "nde_gpt",
   "language": "python",
   "name": "python3"
  },
  "language_info": {
   "codemirror_mode": {
    "name": "ipython",
    "version": 3
   },
   "file_extension": ".py",
   "mimetype": "text/x-python",
   "name": "python",
   "nbconvert_exporter": "python",
   "pygments_lexer": "ipython3",
   "version": "3.10.13"
  }
 },
 "nbformat": 4,
 "nbformat_minor": 2
}
