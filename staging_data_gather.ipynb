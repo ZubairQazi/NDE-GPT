{
 "cells": [
  {
   "cell_type": "markdown",
   "metadata": {},
   "source": [
    "# Test Set Gathering\n",
    "\n",
    "Note: This is for the staging API of niad"
   ]
  },
  {
   "cell_type": "code",
   "execution_count": 62,
   "metadata": {},
   "outputs": [],
   "source": [
    "import requests\n",
    "\n",
    "import numpy as np\n",
    "import pandas as pd\n",
    "\n",
    "from tqdm.notebook import tqdm"
   ]
  },
  {
   "cell_type": "code",
   "execution_count": 44,
   "metadata": {},
   "outputs": [
    {
     "name": "stdout",
     "output_type": "stream",
     "text": [
      "Total Number of Results with PMID: 99342\n"
     ]
    }
   ],
   "source": [
    "total_results = requests.get(\"https://api-staging.data.niaid.nih.gov/v1/query?&q=_exists_:citation.pmid&extra_filter=-_exists_:date&facet_size=0&size=0\").json()['total']\n",
    "\n",
    "print('Total Number of Results with PMID:', total_results)"
   ]
  },
  {
   "cell_type": "code",
   "execution_count": null,
   "metadata": {},
   "outputs": [],
   "source": [
    "PAGE_SIZE = 1000\n",
    "NUM_PAGES = 3"
   ]
  },
  {
   "cell_type": "code",
   "execution_count": 46,
   "metadata": {},
   "outputs": [
    {
     "name": "stdout",
     "output_type": "stream",
     "text": [
      "Filtered List: 1337\n",
      "Filtered Corresponding List: 1337\n"
     ]
    }
   ],
   "source": [
    "pmids = []\n",
    "descriptions = []\n",
    "for i in range(NUM_PAGES):\n",
    "    results = requests.get(f\"https://api-staging.data.niaid.nih.gov/v1/query?&q=_exists_:citation.pmid&extra_filter=-_exists_:date&facet_size=0&size={PAGE_SIZE}&from={i * PAGE_SIZE}\")\n",
    "    data = results.json()\n",
    "\n",
    "    for idx,hits in enumerate(data['hits']):\n",
    "        if 'citation' in hits:\n",
    "            if type(hits['citation']) is list and 'pmid' in hits['citation'][0]:\n",
    "                pmids.append(hits['citation'][0]['pmid'])\n",
    "                descriptions.append(hits['description'])\n",
    "\n",
    "# Remove duplicate PMIDs\n",
    "\n",
    "# Use a set to track unique elements\n",
    "unique_set = set()\n",
    "\n",
    "# Create new lists without duplicates and corresponding indices\n",
    "filtered_list = []\n",
    "filtered_corresponding_list = []\n",
    "\n",
    "for item, corresponding_item in zip(pmids, descriptions):\n",
    "    if item not in unique_set:\n",
    "        # Add the item to the set to track uniqueness\n",
    "        unique_set.add(item)\n",
    "        \n",
    "        # Append to the new lists\n",
    "        filtered_list.append(item)\n",
    "        filtered_corresponding_list.append(corresponding_item)\n",
    "\n",
    "# Print the result\n",
    "print(\"Filtered List:\", len(filtered_list))\n",
    "print(\"Filtered Corresponding List:\", len(filtered_corresponding_list))\n",
    "\n",
    "pmids = filtered_list\n",
    "descriptions = filtered_corresponding_list"
   ]
  },
  {
   "cell_type": "markdown",
   "metadata": {},
   "source": [
    "## Getting MeSH Terms"
   ]
  },
  {
   "cell_type": "code",
   "execution_count": 49,
   "metadata": {},
   "outputs": [
    {
     "data": {
      "application/vnd.jupyter.widget-view+json": {
       "model_id": "d41a7667814d4c0e854b07cc1db93103",
       "version_major": 2,
       "version_minor": 0
      },
      "text/plain": [
       "  0%|          | 0/1337 [00:00<?, ?it/s]"
      ]
     },
     "metadata": {},
     "output_type": "display_data"
    },
    {
     "name": "stdout",
     "output_type": "stream",
     "text": [
      "Failed to retrieve MeSH terms for PMID 29355227.\n",
      "Failed to retrieve MeSH terms for PMID 34988373.\n",
      "Failed to retrieve MeSH terms for PMID 27379119.\n",
      "Failed to retrieve MeSH terms for PMID 31239396.\n",
      "Failed to retrieve MeSH terms for PMID 34909793.\n",
      "Failed to retrieve MeSH terms for PMID 32994287.\n",
      "Failed to retrieve MeSH terms for PMID 27602409.\n",
      "Failed to retrieve Abstract for PMID 29055911.\n",
      "Failed to retrieve MeSH terms for PMID 21564833.\n",
      "Failed to retrieve MeSH terms for PMID 28421042.\n",
      "Failed to retrieve MeSH terms for PMID 29577086.\n",
      "Failed to retrieve MeSH terms for PMID 24995004.\n",
      "Failed to retrieve MeSH terms for PMID 26229982.\n",
      "Failed to retrieve MeSH terms for PMID 26819854.\n",
      "Failed to retrieve MeSH terms for PMID 25324835.\n",
      "Failed to retrieve MeSH terms for PMID 30619992.\n",
      "Failed to retrieve MeSH terms for PMID 27822543.\n",
      "Failed to retrieve MeSH terms for PMID 30832316.\n",
      "Failed to retrieve MeSH terms for PMID 25013457.\n",
      "Failed to retrieve MeSH terms for PMID 25681390.\n",
      "Failed to retrieve MeSH terms for PMID 18822150.\n",
      "Failed to retrieve MeSH terms for PMID 28607540.\n",
      "Failed to retrieve MeSH terms for PMID 31963137.\n",
      "Failed to retrieve Abstract for PMID 19796614.\n",
      "Failed to retrieve MeSH terms for PMID 28794860.\n",
      "Failed to retrieve MeSH terms for PMID 30148051.\n",
      "Failed to retrieve MeSH terms for PMID 30619545.\n",
      "Failed to retrieve MeSH terms for PMID 32536908.\n",
      "Failed to retrieve MeSH terms for PMID 12498619.\n",
      "Failed to retrieve MeSH terms for PMID 25642247.\n",
      "Failed to retrieve MeSH terms for PMID 34771516.\n",
      "Failed to retrieve MeSH terms for PMID 19732436.\n",
      "Failed to retrieve MeSH terms for PMID 27148456.\n",
      "Failed to retrieve Abstract for PMID 5648716.\n",
      "Failed to retrieve MeSH terms for PMID 34178007.\n",
      "Failed to retrieve MeSH terms for PMID 12582900.\n",
      "Failed to retrieve MeSH terms for PMID 27667981.\n",
      "Failed to retrieve MeSH terms for PMID 25105010.\n",
      "Failed to retrieve MeSH terms for PMID 23469342.\n",
      "Failed to retrieve MeSH terms for PMID 25685699.\n",
      "Failed to retrieve MeSH terms for PMID 23765928.\n",
      "Failed to retrieve MeSH terms for PMID 27917412.\n",
      "Failed to retrieve Abstract for PMID 28522579.\n",
      "Failed to retrieve MeSH terms for PMID 27242831.\n",
      "Failed to retrieve MeSH terms for PMID 23945606.\n",
      "Failed to retrieve MeSH terms for PMID 27722090.\n",
      "Failed to retrieve MeSH terms for PMID 33364917.\n",
      "Failed to retrieve MeSH terms for PMID 31608089.\n",
      "Failed to retrieve MeSH terms for PMID 24568099.\n",
      "Failed to retrieve MeSH terms for PMID 33289106.\n",
      "Failed to retrieve MeSH terms for PMID 22162981.\n",
      "Failed to retrieve MeSH terms for PMID 17029867.\n",
      "Failed to retrieve MeSH terms for PMID 32585557.\n",
      "Failed to retrieve Abstract for PMID 18983962.\n",
      "Failed to retrieve MeSH terms for PMID 15972109.\n",
      "Failed to retrieve MeSH terms for PMID 26889208.\n",
      "Failed to retrieve MeSH terms for PMID 18284694.\n",
      "Failed to retrieve MeSH terms for PMID 22078230.\n",
      "Failed to retrieve MeSH terms for PMID 33240309.\n",
      "Failed to retrieve MeSH terms for PMID 21974968.\n",
      "Failed to retrieve MeSH terms for PMID 27148588.\n",
      "Failed to retrieve MeSH terms for PMID 23344648.\n",
      "Failed to retrieve Abstract for PMID 5182193.\n",
      "Failed to retrieve MeSH terms for PMID 27148585.\n",
      "Failed to retrieve MeSH terms for PMID 32219006.\n"
     ]
    }
   ],
   "source": [
    "from Bio import Entrez, Medline\n",
    "\n",
    "Entrez.email = \"zqazi@scripps.edu\"\n",
    "\n",
    "dataset = pd.DataFrame(columns=['PMID', 'Description', 'Abstract', 'MeSH Terms'])\n",
    "\n",
    "def get_mesh_terms(pmid):\n",
    "\n",
    "    try:\n",
    "        handle = Entrez.efetch(db=\"pubmed\", id=pmid, rettype='medline', retmode=\"text\")\n",
    "        article_data = Medline.parse(handle)\n",
    "\n",
    "        mesh_terms = []\n",
    "        abstract = None\n",
    "        for record in article_data:\n",
    "            mesh_terms = record.get('MH', [])\n",
    "            abstract = record.get('AB', None)\n",
    "\n",
    "        return abstract, mesh_terms\n",
    "\n",
    "    except Exception as e:\n",
    "        print(f\"Error: {e}\")\n",
    "        return None\n",
    "\n",
    "\n",
    "for idx, pmid_to_query in enumerate(tqdm(pmids)):\n",
    "\n",
    "    # Get MeSH terms for the specified PMID\n",
    "    abstract, mesh_terms = get_mesh_terms(pmid_to_query)\n",
    "\n",
    "    if mesh_terms and abstract:\n",
    "        # print(f\"MeSH terms for PMID {pmid_to_query}:\\n\")\n",
    "        # for term in mesh_terms_result:\n",
    "        #     print(term)\n",
    "        \n",
    "        # {'PMID': pmid_to_query, 'Abstract': str(abstract), 'MeSH Terms': [str(term) for term in mesh_terms]}\n",
    "        dataset.loc[len(dataset.index)] = [pmid_to_query, descriptions[idx], abstract, [str(term) for term in np.unique(mesh_terms)]]\n",
    "\n",
    "    if not mesh_terms and not abstract:\n",
    "        print(f\"Failed to retrieve MeSH terms AND Abstract for PMID {pmid_to_query}.\")\n",
    "    elif not mesh_terms:\n",
    "        print(f\"Failed to retrieve MeSH terms for PMID {pmid_to_query}.\")\n",
    "    elif not abstract:\n",
    "        print(f\"Failed to retrieve Abstract for PMID {pmid_to_query}.\")\n",
    "    \n"
   ]
  },
  {
   "cell_type": "code",
   "execution_count": 50,
   "metadata": {},
   "outputs": [],
   "source": [
    "def split_strings(lst):\n",
    "    new_list = []\n",
    "    for string in lst:\n",
    "        filtered_str = string.replace('*', '')\n",
    "        if '/' in filtered_str:\n",
    "            new_list.extend([str.strip() for str in filtered_str.split('/')])\n",
    "        elif ',' in filtered_str:\n",
    "            new_list.extend([str.strip() for str in filtered_str.split(',')])\n",
    "        else:\n",
    "            new_list.append(filtered_str)\n",
    "    return np.unique(new_list).tolist()\n",
    "\n",
    "dataset['Filtered MeSH Terms'] = dataset['MeSH Terms'].apply(split_strings)"
   ]
  },
  {
   "cell_type": "code",
   "execution_count": 53,
   "metadata": {},
   "outputs": [
    {
     "data": {
      "text/html": [
       "<div>\n",
       "<style scoped>\n",
       "    .dataframe tbody tr th:only-of-type {\n",
       "        vertical-align: middle;\n",
       "    }\n",
       "\n",
       "    .dataframe tbody tr th {\n",
       "        vertical-align: top;\n",
       "    }\n",
       "\n",
       "    .dataframe thead th {\n",
       "        text-align: right;\n",
       "    }\n",
       "</style>\n",
       "<table border=\"1\" class=\"dataframe\">\n",
       "  <thead>\n",
       "    <tr style=\"text-align: right;\">\n",
       "      <th></th>\n",
       "      <th>PMID</th>\n",
       "      <th>Description</th>\n",
       "      <th>Abstract</th>\n",
       "      <th>MeSH Terms</th>\n",
       "      <th>Filtered MeSH Terms</th>\n",
       "    </tr>\n",
       "  </thead>\n",
       "  <tbody>\n",
       "    <tr>\n",
       "      <th>0</th>\n",
       "      <td>18270564</td>\n",
       "      <td>Comparative expression analysis on Plasmodium ...</td>\n",
       "      <td>A fundamental problem in systems biology and w...</td>\n",
       "      <td>[*Gene Expression Profiling, *Genome, Protozoa...</td>\n",
       "      <td>[Animals, Computational Biology, Gene Expressi...</td>\n",
       "    </tr>\n",
       "    <tr>\n",
       "      <th>1</th>\n",
       "      <td>31959989</td>\n",
       "      <td>The BONUS study that was conducted during regu...</td>\n",
       "      <td>Most infants with cystic fibrosis (CF) have pa...</td>\n",
       "      <td>[Body Size, Case-Control Studies, Cystic Fibro...</td>\n",
       "      <td>[Body Size, Case-Control Studies, Cystic Fibro...</td>\n",
       "    </tr>\n",
       "    <tr>\n",
       "      <th>2</th>\n",
       "      <td>31296739</td>\n",
       "      <td>Thirty-six members of a birth cohort with cons...</td>\n",
       "      <td>Characterizing the organization of the human g...</td>\n",
       "      <td>[*Diet, *Germ-Free Life, Animals, Bacteria/*cl...</td>\n",
       "      <td>[Animal, Animals, Bacteria, Bangladesh, Bottle...</td>\n",
       "    </tr>\n",
       "    <tr>\n",
       "      <th>3</th>\n",
       "      <td>29884786</td>\n",
       "      <td>The microbiome of 2684 fecal specimens collect...</td>\n",
       "      <td>The human gut microbiota plays a vital role in...</td>\n",
       "      <td>[*Gastrointestinal Microbiome, Bacteria/classi...</td>\n",
       "      <td>[Bacteria, Bifidobacterium, Feces, Female, Fir...</td>\n",
       "    </tr>\n",
       "    <tr>\n",
       "      <th>4</th>\n",
       "      <td>22699609</td>\n",
       "      <td>This HMP production phase includes untargeted ...</td>\n",
       "      <td>Studies of the human microbiome have revealed ...</td>\n",
       "      <td>[*Biodiversity, *Health, *Metagenome, Adolesce...</td>\n",
       "      <td>[Adolescent, Adult, Bacteria, Biodiversity, Ec...</td>\n",
       "    </tr>\n",
       "  </tbody>\n",
       "</table>\n",
       "</div>"
      ],
      "text/plain": [
       "       PMID                                        Description  \\\n",
       "0  18270564  Comparative expression analysis on Plasmodium ...   \n",
       "1  31959989  The BONUS study that was conducted during regu...   \n",
       "2  31296739  Thirty-six members of a birth cohort with cons...   \n",
       "3  29884786  The microbiome of 2684 fecal specimens collect...   \n",
       "4  22699609  This HMP production phase includes untargeted ...   \n",
       "\n",
       "                                            Abstract  \\\n",
       "0  A fundamental problem in systems biology and w...   \n",
       "1  Most infants with cystic fibrosis (CF) have pa...   \n",
       "2  Characterizing the organization of the human g...   \n",
       "3  The human gut microbiota plays a vital role in...   \n",
       "4  Studies of the human microbiome have revealed ...   \n",
       "\n",
       "                                          MeSH Terms  \\\n",
       "0  [*Gene Expression Profiling, *Genome, Protozoa...   \n",
       "1  [Body Size, Case-Control Studies, Cystic Fibro...   \n",
       "2  [*Diet, *Germ-Free Life, Animals, Bacteria/*cl...   \n",
       "3  [*Gastrointestinal Microbiome, Bacteria/classi...   \n",
       "4  [*Biodiversity, *Health, *Metagenome, Adolesce...   \n",
       "\n",
       "                                 Filtered MeSH Terms  \n",
       "0  [Animals, Computational Biology, Gene Expressi...  \n",
       "1  [Body Size, Case-Control Studies, Cystic Fibro...  \n",
       "2  [Animal, Animals, Bacteria, Bangladesh, Bottle...  \n",
       "3  [Bacteria, Bifidobacterium, Feces, Female, Fir...  \n",
       "4  [Adolescent, Adult, Bacteria, Biodiversity, Ec...  "
      ]
     },
     "execution_count": 53,
     "metadata": {},
     "output_type": "execute_result"
    }
   ],
   "source": [
    "dataset.head()"
   ]
  },
  {
   "cell_type": "markdown",
   "metadata": {},
   "source": [
    "## Mapping MeSH terms to EDAM ontology\n",
    "\n",
    "First, a proof of concept..."
   ]
  },
  {
   "cell_type": "code",
   "execution_count": 1,
   "metadata": {},
   "outputs": [
    {
     "name": "stderr",
     "output_type": "stream",
     "text": [
      "/Users/zubairqazi/miniconda3/envs/nde_gpt/lib/python3.10/site-packages/pydantic/_internal/_config.py:321: UserWarning: Valid config keys have changed in V2:\n",
      "* 'underscore_attrs_are_private' has been removed\n",
      "  warnings.warn(message, UserWarning)\n"
     ]
    }
   ],
   "source": [
    "import text2term"
   ]
  },
  {
   "cell_type": "code",
   "execution_count": null,
   "metadata": {},
   "outputs": [],
   "source": [
    "edam_ontology = text2term.cache_ontology(\"https://data.bioontology.org/ontologies/EDAM/submissions/44/download?apikey=8b5b7825-538d-40e0-9e9e-5ab9274a9aeb\", \"EDAM\")"
   ]
  },
  {
   "cell_type": "code",
   "execution_count": null,
   "metadata": {},
   "outputs": [],
   "source": [
    "mapped_terms = text2term.map_terms([str(term) for term in dataset.iloc[0]['Filtered MeSH Terms']], \"EDAM\", use_cache=True)\n",
    "mapped_terms[['Source Term', 'Mapped Term Label']].head()"
   ]
  },
  {
   "cell_type": "markdown",
   "metadata": {},
   "source": [
    "### Map All MeSH Terms"
   ]
  },
  {
   "cell_type": "code",
   "execution_count": null,
   "metadata": {},
   "outputs": [],
   "source": [
    "def convert_mesh_to_edam(mesh_terms):\n",
    "    mapped_terms = text2term.map_terms(mesh_terms, \"EDAM\", use_cache=True)\n",
    "\n",
    "    # Remove any EDAM mappings that are not a 'TOPIC'\n",
    "    mapped_terms = mapped_terms[mapped_terms['Mapped Term IRI'].str.contains('topic')]\n",
    "\n",
    "    return mapped_terms['Mapped Term Label'].unique().tolist()\n",
    "\n",
    "dataset['EDAM Topics'] = dataset['Filtered MeSH Terms'].apply(lambda terms: convert_mesh_to_edam(terms))"
   ]
  },
  {
   "cell_type": "code",
   "execution_count": null,
   "metadata": {},
   "outputs": [],
   "source": [
    "dataset[['MeSH Terms', 'EDAM Topics']]"
   ]
  },
  {
   "cell_type": "code",
   "execution_count": null,
   "metadata": {},
   "outputs": [],
   "source": [
    "print(\"Any unmapped MeSH Terms?: \", dataset['EDAM Topics'].isna().any())"
   ]
  },
  {
   "cell_type": "code",
   "execution_count": null,
   "metadata": {},
   "outputs": [],
   "source": [
    "# text2term.clear_cache(\"EDAM\")"
   ]
  },
  {
   "cell_type": "markdown",
   "metadata": {},
   "source": [
    "## Checking the validity of EDAM topics\n",
    "Based on the OpenAI API input token limit, we can't pass in every EDAM term. "
   ]
  },
  {
   "cell_type": "code",
   "execution_count": null,
   "metadata": {},
   "outputs": [],
   "source": [
    "with open('EDAM/edam_topics.txt', 'r') as edam_file:\n",
    "    edam_topics = edam_file.readlines()\n",
    "\n",
    "edam_topics = [topic.strip() for topic in edam_topics]"
   ]
  },
  {
   "cell_type": "code",
   "execution_count": null,
   "metadata": {},
   "outputs": [],
   "source": [
    "indices_true = dataset.loc[dataset['EDAM Topics'].apply(lambda edam_list: not all(term in edam_topics for term in edam_list))].index\n",
    "\n",
    "for index in indices_true:\n",
    "    edam_list = dataset.loc[index, 'EDAM Topics']\n",
    "    terms_not_in_edam_topics = [term for term in edam_list if term not in edam_topics]\n",
    "    \n",
    "    print(f\"Index {index}: Terms not in edam_topics: {terms_not_in_edam_topics}\")"
   ]
  },
  {
   "cell_type": "code",
   "execution_count": null,
   "metadata": {},
   "outputs": [],
   "source": [
    "## Uncomment and use this line to remove the rows if necessary (GPT.ipynb will filter out the terms from each list anyways)\n",
    "# dataset.drop(index=indices_true, axis = 0, inplace=True)"
   ]
  },
  {
   "cell_type": "markdown",
   "metadata": {},
   "source": [
    "## Save Testing Set"
   ]
  },
  {
   "cell_type": "code",
   "execution_count": null,
   "metadata": {},
   "outputs": [],
   "source": [
    "print(\"Check for N/A values:\")\n",
    "\n",
    "dataset.isna().any()"
   ]
  },
  {
   "cell_type": "code",
   "execution_count": null,
   "metadata": {},
   "outputs": [],
   "source": [
    "print('Empty Descriptions:', len(dataset[dataset[\"Description\"].str.len() == 0]))\n",
    "print('Empty Abstracts:', len(dataset[dataset[\"Abstract\"].str.len() == 0]))\n",
    "\n",
    "print(\"\\nNumber of entries: \", len(dataset))"
   ]
  },
  {
   "cell_type": "code",
   "execution_count": null,
   "metadata": {},
   "outputs": [],
   "source": [
    "# Remove HTML\n",
    "dataset = dataset[~dataset['Description'].str.startswith(('<b>', 'b>'))]"
   ]
  },
  {
   "cell_type": "code",
   "execution_count": null,
   "metadata": {},
   "outputs": [],
   "source": [
    "dataset.to_csv(input(\"Enter file path and name: \"), index=False)"
   ]
  }
 ],
 "metadata": {
  "kernelspec": {
   "display_name": "Python 3",
   "language": "python",
   "name": "python3"
  },
  "language_info": {
   "codemirror_mode": {
    "name": "ipython",
    "version": 3
   },
   "file_extension": ".py",
   "mimetype": "text/x-python",
   "name": "python",
   "nbconvert_exporter": "python",
   "pygments_lexer": "ipython3",
   "version": "3.10.13"
  }
 },
 "nbformat": 4,
 "nbformat_minor": 2
}
